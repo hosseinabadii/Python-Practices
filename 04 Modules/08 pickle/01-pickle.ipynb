{
 "cells": [
  {
   "attachments": {},
   "cell_type": "markdown",
   "metadata": {},
   "source": [
    "## `pickel` module"
   ]
  },
  {
   "cell_type": "code",
   "execution_count": 7,
   "metadata": {},
   "outputs": [],
   "source": [
    "import pickle"
   ]
  },
  {
   "attachments": {},
   "cell_type": "markdown",
   "metadata": {},
   "source": [
    "### `pickle.dumps()` : dump to 'str'\n",
    "### `pickle.loads()`: load from 'str' "
   ]
  },
  {
   "cell_type": "code",
   "execution_count": 8,
   "metadata": {},
   "outputs": [
    {
     "name": "stdout",
     "output_type": "stream",
     "text": [
      "<class 'bytes'>\n",
      "b'\\x80\\x04\\x95\\x15\\x00\\x00\\x00\\x00\\x00\\x00\\x00]\\x94(\\x8c\\x04name\\x94\\x8c\\x03age\\x94M\\xd0\\x07e.'\n",
      "==================================================\n",
      "<class 'list'>\n",
      "['name', 'age', 2000]\n"
     ]
    }
   ],
   "source": [
    "data = [\n",
    "    \"name\", \"age\", 2000,\n",
    "]\n",
    "encoded = pickle.dumps(data)\n",
    "print(type(encoded))\n",
    "print(encoded)\n",
    "print(\"=\" * 50)\n",
    "\n",
    "decoded = pickle.loads(encoded)\n",
    "print(type(decoded))\n",
    "print(decoded)"
   ]
  },
  {
   "cell_type": "code",
   "execution_count": 12,
   "metadata": {},
   "outputs": [],
   "source": [
    "data = {\n",
    "    \"students\": [\n",
    "        {\n",
    "            \"Name\": \"Ali\",\n",
    "            \"Grade\": (14.0, 20),\n",
    "        },\n",
    "        {\n",
    "            \"Name\": \"Masoud\",\n",
    "            \"Grade\": None,\n",
    "            \"is_in_class\": True\n",
    "        }\n",
    "    ]\n",
    "}"
   ]
  },
  {
   "cell_type": "code",
   "execution_count": 13,
   "metadata": {},
   "outputs": [
    {
     "name": "stdout",
     "output_type": "stream",
     "text": [
      "<class 'bytes'>\n",
      "b'\\x80\\x04\\x95Z\\x00\\x00\\x00\\x00\\x00\\x00\\x00}\\x94\\x8c\\x08students\\x94]\\x94(}\\x94(\\x8c\\x04Name\\x94\\x8c\\x03Ali\\x94\\x8c\\x05Grade\\x94G@,\\x00\\x00\\x00\\x00\\x00\\x00K\\x14\\x86\\x94u}\\x94(h\\x04\\x8c\\x06Masoud\\x94h\\x06N\\x8c\\x0bis_in_class\\x94\\x88ues.'\n",
      "==================================================\n",
      "<class 'dict'>\n",
      "{'students': [{'Name': 'Ali', 'Grade': (14.0, 20)}, {'Name': 'Masoud', 'Grade': None, 'is_in_class': True}]}\n",
      "==================================================\n"
     ]
    }
   ],
   "source": [
    "encoded = pickle.dumps(data)  # encode to json, then convert to 'bytes', you can decode it to the original object.\n",
    "print(type(encoded))\n",
    "print(encoded)\n",
    "print(\"=\" * 50)\n",
    "\n",
    "decoded = pickle.loads(encoded) # convert the encoded 'bytes' to the original type 'dict'\n",
    "print(type(decoded))\n",
    "print(decoded)\n",
    "print(\"=\" * 50)"
   ]
  },
  {
   "cell_type": "markdown",
   "metadata": {},
   "source": [
    "---"
   ]
  },
  {
   "attachments": {},
   "cell_type": "markdown",
   "metadata": {},
   "source": [
    "### `pickle.dump()` : dump to file\n",
    "### `pickle.load()`: load from file "
   ]
  },
  {
   "cell_type": "code",
   "execution_count": 15,
   "metadata": {},
   "outputs": [
    {
     "name": "stdout",
     "output_type": "stream",
     "text": [
      "<class 'dict'>\n",
      "{'students': [{'Name': 'Ali', 'Grade': (14.0, 20)}, {'Name': 'Masoud', 'Grade': None, 'is_in_class': True}]}\n"
     ]
    }
   ],
   "source": [
    "with open(\"data/encoded_data.pkl\", \"wb\") as f:\n",
    "    pickle.dump(data, f)    # encode to json, then write to a file.\n",
    "\n",
    "    \n",
    "with open(\"data/encoded_data.pkl\", \"rb\") as f:\n",
    "    output = pickle.load(f)    # read file and convert it to the original type 'dict'\n",
    "\n",
    "print(type(output))\n",
    "print(output)"
   ]
  },
  {
   "cell_type": "markdown",
   "metadata": {},
   "source": [
    "---"
   ]
  },
  {
   "attachments": {},
   "cell_type": "markdown",
   "metadata": {},
   "source": [
    "## Pay attention"
   ]
  },
  {
   "attachments": {},
   "cell_type": "markdown",
   "metadata": {},
   "source": [
    "### Picklable and Unpicklable Types\n",
    "Python `pickle` module can serialize many more types than the json module includes user-defined objects. However, not everything is picklable. The list of unpicklable objects includes lambda functions, database connections, opened network sockets, running threads, and others."
   ]
  },
  {
   "attachments": {},
   "cell_type": "markdown",
   "metadata": {},
   "source": [
    "### Security Concerns With the Python pickle Module\n",
    "The rule of thumb is to never unpickle data that comes from an untrusted source or is transmitted over an insecure network."
   ]
  }
 ],
 "metadata": {
  "kernelspec": {
   "display_name": "py310",
   "language": "python",
   "name": "python3"
  },
  "language_info": {
   "codemirror_mode": {
    "name": "ipython",
    "version": 3
   },
   "file_extension": ".py",
   "mimetype": "text/x-python",
   "name": "python",
   "nbconvert_exporter": "python",
   "pygments_lexer": "ipython3",
   "version": "3.10.12"
  },
  "orig_nbformat": 4
 },
 "nbformat": 4,
 "nbformat_minor": 2
}
