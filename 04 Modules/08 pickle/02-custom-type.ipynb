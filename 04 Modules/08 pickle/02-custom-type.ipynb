{
 "cells": [
  {
   "attachments": {},
   "cell_type": "markdown",
   "metadata": {},
   "source": [
    "## Encoding and Decoding custom type objects"
   ]
  },
  {
   "cell_type": "code",
   "execution_count": 1,
   "metadata": {},
   "outputs": [],
   "source": [
    "import pickle\n",
    "import numpy as np\n",
    "from dataclasses import dataclass"
   ]
  },
  {
   "cell_type": "code",
   "execution_count": 2,
   "metadata": {},
   "outputs": [],
   "source": [
    "@dataclass\n",
    "class Order:\n",
    "    name: str\n",
    "    age: int\n",
    "    weight: int\n",
    "\n",
    "data = [\n",
    "    \"data of Class Order\",\n",
    "    Order(\"Kamran\", 20, 65),\n",
    "    Order(\"Mahtab\", 22, 70),\n",
    "    np.array([500, 600, 700]),\n",
    "]"
   ]
  },
  {
   "cell_type": "code",
   "execution_count": 3,
   "metadata": {},
   "outputs": [
    {
     "name": "stdout",
     "output_type": "stream",
     "text": [
      "type of original: <class 'list'>\n",
      "['data of Class Order', Order(name='Kamran', age=20, weight=65), Order(name='Mahtab', age=22, weight=70), array([500, 600, 700])]\n",
      "==================================================\n",
      "type of encoded: <class 'bytes'>\n",
      "b'\\x80\\x04\\x95\\x17\\x01\\x00\\x00\\x00\\x00\\x00\\x00]\\x94(\\x8c\\x13data of Class Order\\x94\\x8c\\x08__main__\\x94\\x8c\\x05Order\\x94\\x93\\x94)\\x81\\x94}\\x94(\\x8c\\x04name\\x94\\x8c\\x06Kamran\\x94\\x8c\\x03age\\x94K\\x14\\x8c\\x06weight\\x94KAubh\\x04)\\x81\\x94}\\x94(h\\x07\\x8c\\x06Mahtab\\x94h\\tK\\x16h\\nKFub\\x8c\\x15numpy.core.multiarray\\x94\\x8c\\x0c_reconstruct\\x94\\x93\\x94\\x8c\\x05numpy\\x94\\x8c\\x07ndarray\\x94\\x93\\x94K\\x00\\x85\\x94C\\x01b\\x94\\x87\\x94R\\x94(K\\x01K\\x03\\x85\\x94h\\x11\\x8c\\x05dtype\\x94\\x93\\x94\\x8c\\x02i8\\x94\\x89\\x88\\x87\\x94R\\x94(K\\x03\\x8c\\x01<\\x94NNNJ\\xff\\xff\\xff\\xffJ\\xff\\xff\\xff\\xffK\\x00t\\x94b\\x89C\\x18\\xf4\\x01\\x00\\x00\\x00\\x00\\x00\\x00X\\x02\\x00\\x00\\x00\\x00\\x00\\x00\\xbc\\x02\\x00\\x00\\x00\\x00\\x00\\x00\\x94t\\x94be.'\n",
      "==================================================\n",
      "type of decoded: <class 'list'>\n",
      "['data of Class Order', Order(name='Kamran', age=20, weight=65), Order(name='Mahtab', age=22, weight=70), array([500, 600, 700])]\n",
      "==================================================\n"
     ]
    }
   ],
   "source": [
    "print(f\"type of original: {type(data)}\")\n",
    "print(data)\n",
    "print(\"=\" * 50)\n",
    "\n",
    "encoded = pickle.dumps(data)\n",
    "print(f\"type of encoded: {type(encoded)}\")\n",
    "print(encoded)\n",
    "print(\"=\" * 50)\n",
    "\n",
    "decoded = pickle.loads(encoded)\n",
    "print(f\"type of decoded: {type(decoded)}\")\n",
    "print(decoded)\n",
    "print(\"=\" * 50)"
   ]
  },
  {
   "attachments": {},
   "cell_type": "markdown",
   "metadata": {},
   "source": [
    "### Important\n",
    "When you want to use `pickle.load()` or `pickle.loads()` you must have access to the implementation of the objects that is used when dumping. In the the above example you must have access to the `Order` class and `numpy` library."
   ]
  }
 ],
 "metadata": {
  "kernelspec": {
   "display_name": "py310",
   "language": "python",
   "name": "python3"
  },
  "language_info": {
   "codemirror_mode": {
    "name": "ipython",
    "version": 3
   },
   "file_extension": ".py",
   "mimetype": "text/x-python",
   "name": "python",
   "nbconvert_exporter": "python",
   "pygments_lexer": "ipython3",
   "version": "3.10.12"
  },
  "orig_nbformat": 4
 },
 "nbformat": 4,
 "nbformat_minor": 2
}
