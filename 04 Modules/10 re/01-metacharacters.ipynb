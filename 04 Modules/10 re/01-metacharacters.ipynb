{
 "cells": [
  {
   "cell_type": "markdown",
   "metadata": {},
   "source": [
    "## Metacharacters Supported by the `re` Module"
   ]
  },
  {
   "cell_type": "markdown",
   "metadata": {},
   "source": [
    "The following table briefly summarizes all the metacharacters supported by the `re` module. Some characters serve more than one purpose:"
   ]
  },
  {
   "cell_type": "markdown",
   "metadata": {},
   "source": [
    "|Character(s)|Meaning|\n",
    "|:--|:--|\n",
    "|`.`|Matches any single character except newline|\n",
    "|`^`|∙ Anchors a match at the start of a string <br />∙ Complements a character class <br />|\n",
    "|`$`|Anchors a match at the end of a string|\n",
    "|`*`|Matches zero or more repetitions|\n",
    "|`+`|Matches one or more repetitions|\n",
    "|`?`|∙ Matches zero or one repetition  <br />∙ Specifies the non-greedy versions of `*`, `+`, and `?`  <br />∙ Introduces a lookahead or lookbehind assertion  <br />∙ Creates a named group|\n",
    "|`{}`|Matches an explicitly specified number of repetitions|\n",
    "|`\\`|∙ Escapes a metacharacter of its special meaning  <br />∙ Introduces a special character class  <br />∙ Introduces a grouping backreference|\n",
    "|`[]`|Specifies a character class|\n",
    "|`\\|`|Designates alternation|\n",
    "|`()`|Creates a group|\n",
    "|`:`  <br />`#`  <br />`=`  <br />`!`|Designate a specialized group|\n",
    "|`<>`|Creates a named group|\n"
   ]
  },
  {
   "cell_type": "markdown",
   "metadata": {},
   "source": [
    "## Identifiers"
   ]
  },
  {
   "cell_type": "markdown",
   "metadata": {},
   "source": [
    "<img src=\"./images/re-identifier.png\" width=800>"
   ]
  },
  {
   "cell_type": "markdown",
   "metadata": {},
   "source": [
    "## Quantifires"
   ]
  },
  {
   "cell_type": "markdown",
   "metadata": {},
   "source": [
    "<img src=\"./images/re-quantifier.png\" width=800>"
   ]
  }
 ],
 "metadata": {
  "language_info": {
   "name": "python"
  },
  "orig_nbformat": 4
 },
 "nbformat": 4,
 "nbformat_minor": 2
}
