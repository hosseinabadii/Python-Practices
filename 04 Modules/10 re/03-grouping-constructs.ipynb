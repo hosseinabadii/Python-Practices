{
 "cells": [
  {
   "cell_type": "markdown",
   "metadata": {},
   "source": [
    "## Grouping Constructs"
   ]
  },
  {
   "cell_type": "code",
   "execution_count": 1,
   "metadata": {},
   "outputs": [],
   "source": [
    "import re"
   ]
  },
  {
   "attachments": {},
   "cell_type": "markdown",
   "metadata": {},
   "source": [
    "---"
   ]
  },
  {
   "attachments": {},
   "cell_type": "markdown",
   "metadata": {},
   "source": [
    "### `(<regex>)`: group with index"
   ]
  },
  {
   "cell_type": "code",
   "execution_count": 3,
   "metadata": {},
   "outputs": [
    {
     "name": "stdout",
     "output_type": "stream",
     "text": [
      "('foo', 'quux', 'baz')\n",
      "match.group(1) = foo\n",
      "match.group(2) = quux\n",
      "match.group(3) = baz\n"
     ]
    }
   ],
   "source": [
    "match = re.search(r'(\\w+)--(\\w+)--(\\w+)', 'foo--quux--baz')\n",
    "if match:\n",
    "    print(match.groups())\n",
    "    print(f\"match.group(1) = {match.group(1)}\")\n",
    "    print(f\"match.group(2) = {match.group(2)}\")\n",
    "    print(f\"match.group(3) = {match.group(3)}\")"
   ]
  },
  {
   "cell_type": "markdown",
   "metadata": {},
   "source": [
    "---"
   ]
  },
  {
   "attachments": {},
   "cell_type": "markdown",
   "metadata": {},
   "source": [
    "### `(?P<name><regex>)`: group with name"
   ]
  },
  {
   "cell_type": "code",
   "execution_count": 9,
   "metadata": {},
   "outputs": [
    {
     "name": "stdout",
     "output_type": "stream",
     "text": [
      "('khosro.h2011', 'gmail.com')\n",
      "match.group('name')   = khosro.h2011\n",
      "match.group('domain') = gmail.com\n"
     ]
    }
   ],
   "source": [
    "match = re.search(r'(?P<name>[a-zA-Z0-9.-_]+)@(?P<domain>[a-z.]+)', 'khosro.h2011@gmail.com')\n",
    "if match:\n",
    "    print(match.groups())\n",
    "    print(f\"match.group('name')   = {match.group('name')}\")\n",
    "    print(f\"match.group('domain') = {match.group('domain')}\")"
   ]
  },
  {
   "cell_type": "code",
   "execution_count": 10,
   "metadata": {},
   "outputs": [
    {
     "name": "stdout",
     "output_type": "stream",
     "text": [
      "('foo', 'quux', 'baz')\n",
      "match.group('word1') = foo\n",
      "match.group('word2') = quux\n",
      "match.group('word3') = baz\n"
     ]
    }
   ],
   "source": [
    "match = re.search(r'(?P<word1>\\w+)--(?P<word2>\\w+)--(?P<word3>\\w+)', 'foo--quux--baz')\n",
    "if match:\n",
    "    print(match.groups())\n",
    "    print(f\"match.group('word1') = {match.group('word1')}\")\n",
    "    print(f\"match.group('word2') = {match.group('word2')}\")\n",
    "    print(f\"match.group('word3') = {match.group('word3')}\")"
   ]
  },
  {
   "attachments": {},
   "cell_type": "markdown",
   "metadata": {},
   "source": [
    "---"
   ]
  },
  {
   "attachments": {},
   "cell_type": "markdown",
   "metadata": {},
   "source": [
    "### `(?P=<name>)`: repeated name group"
   ]
  },
  {
   "cell_type": "code",
   "execution_count": 13,
   "metadata": {},
   "outputs": [
    {
     "name": "stdout",
     "output_type": "stream",
     "text": [
      "<re.Match object; span=(0, 11), match='food---food'>\n",
      "match.group()        = food---food\n",
      "match.group('word1') = food\n"
     ]
    }
   ],
   "source": [
    "match = re.search(r'(?P<word1>\\w+)---(?P=word1)', 'food---food')\n",
    "if match:\n",
    "    print(match)\n",
    "    print(f\"match.group()        = {match.group()}\")\n",
    "    print(f\"match.group('word1') = {match.group('word1')}\")\n"
   ]
  },
  {
   "attachments": {},
   "cell_type": "markdown",
   "metadata": {},
   "source": [
    "---"
   ]
  },
  {
   "attachments": {},
   "cell_type": "markdown",
   "metadata": {},
   "source": [
    "### `(?:<regex>)`: non-capturing parentheses"
   ]
  },
  {
   "cell_type": "code",
   "execution_count": 14,
   "metadata": {},
   "outputs": [
    {
     "name": "stdout",
     "output_type": "stream",
     "text": [
      "('foo', 'baz')\n",
      "match.group(1) = foo\n",
      "match.group(2) = baz\n"
     ]
    }
   ],
   "source": [
    "match = re.search(r'(\\w+)--(?:\\w+)--(\\w+)', 'foo--quux--baz')\n",
    "if match:\n",
    "    print(match.groups())  # quux is inside non-capturing parentheses, so is not captured!\n",
    "    print(f\"match.group(1) = {match.group(1)}\")\n",
    "    print(f\"match.group(2) = {match.group(2)}\")"
   ]
  }
 ],
 "metadata": {
  "kernelspec": {
   "display_name": "py310",
   "language": "python",
   "name": "python3"
  },
  "language_info": {
   "codemirror_mode": {
    "name": "ipython",
    "version": 3
   },
   "file_extension": ".py",
   "mimetype": "text/x-python",
   "name": "python",
   "nbconvert_exporter": "python",
   "pygments_lexer": "ipython3",
   "version": "3.11.9"
  },
  "orig_nbformat": 4
 },
 "nbformat": 4,
 "nbformat_minor": 2
}
