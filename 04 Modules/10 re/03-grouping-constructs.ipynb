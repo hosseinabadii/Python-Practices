{
 "cells": [
  {
   "cell_type": "markdown",
   "metadata": {},
   "source": [
    "## Grouping Constructs"
   ]
  },
  {
   "cell_type": "code",
   "execution_count": 3,
   "metadata": {},
   "outputs": [],
   "source": [
    "import re"
   ]
  },
  {
   "attachments": {},
   "cell_type": "markdown",
   "metadata": {},
   "source": [
    "---"
   ]
  },
  {
   "attachments": {},
   "cell_type": "markdown",
   "metadata": {},
   "source": [
    "### `(<regex>)`: group with index"
   ]
  },
  {
   "cell_type": "code",
   "execution_count": 32,
   "metadata": {},
   "outputs": [
    {
     "name": "stdout",
     "output_type": "stream",
     "text": [
      "('foo', 'quux', 'baz')\n",
      "m.group(1) = foo\n",
      "m.group(2) = quux\n",
      "m.group(3) = baz\n"
     ]
    }
   ],
   "source": [
    "m = re.search(r'(\\w+)--(\\w+)--(\\w+)', 'foo--quux--baz')\n",
    "print(m.groups())\n",
    "print(f\"m.group(1) = {m.group(1)}\")\n",
    "print(f\"m.group(2) = {m.group(2)}\")\n",
    "print(f\"m.group(3) = {m.group(3)}\")"
   ]
  },
  {
   "cell_type": "markdown",
   "metadata": {},
   "source": [
    "---"
   ]
  },
  {
   "attachments": {},
   "cell_type": "markdown",
   "metadata": {},
   "source": [
    "### `(?P<name><regex>)`: group with name"
   ]
  },
  {
   "cell_type": "code",
   "execution_count": 27,
   "metadata": {},
   "outputs": [
    {
     "name": "stdout",
     "output_type": "stream",
     "text": [
      "('foo', 'quux', 'baz')\n",
      "m.group('word1') = foo\n",
      "m.group('word2') = quux\n",
      "m.group('word3') = baz\n"
     ]
    }
   ],
   "source": [
    "m = re.search(r'(?P<word1>\\w+)--(?P<word2>\\w+)--(?P<word3>\\w+)', 'foo--quux--baz')\n",
    "print(m.groups())\n",
    "print(f\"m.group('word1') = {m.group('word1')}\")\n",
    "print(f\"m.group('word2') = {m.group('word2')}\")\n",
    "print(f\"m.group('word3') = {m.group('word3')}\")"
   ]
  },
  {
   "attachments": {},
   "cell_type": "markdown",
   "metadata": {},
   "source": [
    "---"
   ]
  },
  {
   "attachments": {},
   "cell_type": "markdown",
   "metadata": {},
   "source": [
    "### `(?P=<name>)`: repeated name group"
   ]
  },
  {
   "cell_type": "code",
   "execution_count": 30,
   "metadata": {},
   "outputs": [
    {
     "name": "stdout",
     "output_type": "stream",
     "text": [
      "<re.Match object; span=(0, 11), match='food---food'>\n",
      "m.group() = food---food\n",
      "m.group('word1') = food\n"
     ]
    }
   ],
   "source": [
    "m = re.search(r'(?P<word1>\\w+)---(?P=word1)', 'food---food')\n",
    "print(m)\n",
    "print(f\"m.group() = {m.group()}\")\n",
    "print(f\"m.group('word1') = {m.group('word1')}\")\n"
   ]
  },
  {
   "attachments": {},
   "cell_type": "markdown",
   "metadata": {},
   "source": [
    "---"
   ]
  },
  {
   "attachments": {},
   "cell_type": "markdown",
   "metadata": {},
   "source": [
    "### `(?:<regex>)`: non-capturing parentheses"
   ]
  },
  {
   "cell_type": "code",
   "execution_count": 24,
   "metadata": {},
   "outputs": [
    {
     "name": "stdout",
     "output_type": "stream",
     "text": [
      "('foo', 'baz')\n",
      "m.group(1) = foo\n",
      "m.group(2) = baz\n"
     ]
    }
   ],
   "source": [
    "m = re.search(r'(\\w+)--(?:\\w+)--(\\w+)', 'foo--quux--baz')\n",
    "print(m.groups())  # quux is inside non-capturing parentheses, so is not captured!\n",
    "print(f\"m.group(1) = {m.group(1)}\")\n",
    "print(f\"m.group(2) = {m.group(2)}\")"
   ]
  }
 ],
 "metadata": {
  "kernelspec": {
   "display_name": "py310",
   "language": "python",
   "name": "python3"
  },
  "language_info": {
   "codemirror_mode": {
    "name": "ipython",
    "version": 3
   },
   "file_extension": ".py",
   "mimetype": "text/x-python",
   "name": "python",
   "nbconvert_exporter": "python",
   "pygments_lexer": "ipython3",
   "version": "3.10.12"
  },
  "orig_nbformat": 4
 },
 "nbformat": 4,
 "nbformat_minor": 2
}
