{
 "cells": [
  {
   "attachments": {},
   "cell_type": "markdown",
   "metadata": {},
   "source": [
    "## Lookahead and Lookbehind Assertions"
   ]
  },
  {
   "cell_type": "code",
   "execution_count": 1,
   "metadata": {},
   "outputs": [],
   "source": [
    "import re"
   ]
  },
  {
   "cell_type": "markdown",
   "metadata": {},
   "source": [
    "### `(?=<lookahead_regex>)` lookahead"
   ]
  },
  {
   "cell_type": "code",
   "execution_count": 2,
   "metadata": {},
   "outputs": [
    {
     "name": "stdout",
     "output_type": "stream",
     "text": [
      "m1 = <re.Match object; span=(0, 3), match='foo'>\n",
      "m2 = <re.Match object; span=(0, 4), match='foob'>\n",
      "m3 = None\n"
     ]
    }
   ],
   "source": [
    "m1 = re.search('foo(?=[a-z])', 'foobar') # 'foo' is matched\n",
    "m2 = re.search('foo([a-z])', 'foobar')   # 'foob' is matched\n",
    "m3 = re.search('foo(?=[a-z])', 'foo123')\n",
    "print(f\"m1 = {m1}\")\n",
    "print(f\"m2 = {m2}\")\n",
    "print(f\"m3 = {m3}\")"
   ]
  },
  {
   "cell_type": "markdown",
   "metadata": {},
   "source": [
    "### `(?!<lookahead_regex>)` : not lookahead"
   ]
  },
  {
   "cell_type": "code",
   "execution_count": 5,
   "metadata": {},
   "outputs": [
    {
     "name": "stdout",
     "output_type": "stream",
     "text": [
      "m1 = <re.Match object; span=(0, 3), match='foo'>\n",
      "m2 = None\n",
      "m3 = None\n",
      "m4 = <re.Match object; span=(0, 3), match='foo'>\n"
     ]
    }
   ],
   "source": [
    "m1 = re.search(r'foo(?=[a-z])', 'foobar')\n",
    "m2 = re.search(r'foo(?![a-z])', 'foobar')\n",
    "m3 = re.search(r'foo(?=[a-z])', 'foo123')\n",
    "m4 = re.search(r'foo(?![a-z])', 'foo123')\n",
    "print(f\"m1 = {m1}\")\n",
    "print(f\"m2 = {m2}\")\n",
    "print(f\"m3 = {m3}\")\n",
    "print(f\"m4 = {m4}\")"
   ]
  },
  {
   "cell_type": "markdown",
   "metadata": {},
   "source": [
    "### `(?<=<lookbehind_regex>)` :  lookbehind"
   ]
  },
  {
   "cell_type": "code",
   "execution_count": null,
   "metadata": {},
   "outputs": [
    {
     "name": "stdout",
     "output_type": "stream",
     "text": [
      "m1 = <re.Match object; span=(3, 6), match='bar'>\n",
      "m2 = None\n",
      "m3 = <re.Match object; span=(3, 6), match='def'>\n"
     ]
    }
   ],
   "source": [
    "m1 = re.search('(?<=foo)bar', 'foobar')\n",
    "m2 = re.search('(?<=qux)bar', 'foobar')\n",
    "m3 = re.search('(?<=a{3})def', 'aaadef') # this is correct\n",
    "# m = re.search('(?<=a+)def', 'aaadef') # raise error(must specify a match of fixed length)\n",
    "print(f\"m1 = {m1}\")\n",
    "print(f\"m2 = {m2}\")\n",
    "print(f\"m3 = {m3}\")"
   ]
  },
  {
   "cell_type": "markdown",
   "metadata": {},
   "source": [
    "### `(?<!<lookbehind_regex>)` :  not lookbehind"
   ]
  },
  {
   "cell_type": "code",
   "execution_count": null,
   "metadata": {},
   "outputs": [
    {
     "name": "stdout",
     "output_type": "stream",
     "text": [
      "m1 = None\n",
      "m2 = <re.Match object; span=(3, 6), match='bar'>\n",
      "m3 = <re.Match object; span=(3, 6), match='def'>\n"
     ]
    }
   ],
   "source": [
    "m1 = re.search('(?<!foo)bar', 'foobar')\n",
    "m2 = re.search('(?<!qux)bar', 'foobar')\n",
    "m3 = re.search('(?<!b{3})def', 'aaadef') # this is correct\n",
    "# m = re.search('(?<!a+)def', 'aaadef') # raise error(must specify a match of fixed length)\n",
    "print(f\"m1 = {m1}\")\n",
    "print(f\"m2 = {m2}\")\n",
    "print(f\"m3 = {m3}\")"
   ]
  }
 ],
 "metadata": {
  "kernelspec": {
   "display_name": "py310",
   "language": "python",
   "name": "python3"
  },
  "language_info": {
   "codemirror_mode": {
    "name": "ipython",
    "version": 3
   },
   "file_extension": ".py",
   "mimetype": "text/x-python",
   "name": "python",
   "nbconvert_exporter": "python",
   "pygments_lexer": "ipython3",
   "version": "3.10.13"
  },
  "orig_nbformat": 4
 },
 "nbformat": 4,
 "nbformat_minor": 2
}
