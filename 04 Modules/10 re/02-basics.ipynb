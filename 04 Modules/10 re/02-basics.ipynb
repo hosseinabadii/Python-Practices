{
 "cells": [
  {
   "cell_type": "code",
   "execution_count": 1,
   "id": "9b3364ac-6111-491a-9b5b-90726d8d37d1",
   "metadata": {},
   "outputs": [],
   "source": [
    "import re\n",
    "# re.search()    -> returns a match object\n",
    "# re.findall()   -> returns a list object of all matches value\n",
    "# re.finditer()  -> returns an match iterator object\n",
    "# match.group()  -> returns the value of match object"
   ]
  },
  {
   "cell_type": "markdown",
   "id": "8901813e-5e3c-44e2-b9a3-37619551320a",
   "metadata": {},
   "source": [
    "## No grouping"
   ]
  },
  {
   "cell_type": "code",
   "execution_count": 14,
   "id": "6b76c1e9-3768-4702-af37-6274b68186f4",
   "metadata": {},
   "outputs": [
    {
     "data": {
      "text/plain": [
       "'415-555-5874'"
      ]
     },
     "execution_count": 14,
     "metadata": {},
     "output_type": "execute_result"
    }
   ],
   "source": [
    "text = 'This is the text with 415-555-5874 please seach in it.'\n",
    "pattern = r'\\d{3}-\\d{3}-\\d{4}'\n",
    "match = re.search(pattern, text)\n",
    "match.group()"
   ]
  },
  {
   "cell_type": "markdown",
   "id": "a1058492-8f5d-440e-9044-9a474ae24fb1",
   "metadata": {},
   "source": [
    "## grouping with ()"
   ]
  },
  {
   "cell_type": "code",
   "execution_count": 9,
   "id": "b26fc68e-f1e3-4d6b-b61c-ed2a201100a6",
   "metadata": {},
   "outputs": [
    {
     "name": "stdout",
     "output_type": "stream",
     "text": [
      "<re.Match object; span=(22, 34), match='415-555-5874'>\n",
      "match.group()  => 415-555-5874\n",
      "match.group(0) => 415-555-5874\n",
      "match.group(1) => 415\n",
      "match.group(2) => 555-5874\n"
     ]
    }
   ],
   "source": [
    "text = 'This is the text with 415-555-5874 please seach in it.'\n",
    "pattern = r'(\\d{3})-(\\d{3}-\\d{4})'\n",
    "match = re.search(pattern, text)\n",
    "print(match)\n",
    "print('match.group()  =>', match.group())\n",
    "print('match.group(0) =>', match.group(0))\n",
    "print('match.group(1) =>', match.group(1))\n",
    "print('match.group(2) =>', match.group(2))"
   ]
  },
  {
   "cell_type": "markdown",
   "id": "a70f82a8-ac43-445a-8080-9c58149e6296",
   "metadata": {},
   "source": [
    "## pipe with |"
   ]
  },
  {
   "cell_type": "code",
   "execution_count": 3,
   "id": "acd33a3d-d8e1-49ab-a921-3ee7aebeee01",
   "metadata": {},
   "outputs": [
    {
     "name": "stdout",
     "output_type": "stream",
     "text": [
      "Batman\n",
      "Batwoman\n"
     ]
    }
   ],
   "source": [
    "text = 'This is the text: Batman and Batwoman are in the text'\n",
    "pattern = r'Bat(man|woman|mobile)'\n",
    "matches = re.finditer(pattern, text)\n",
    "for match in matches:\n",
    "    print(match.group())"
   ]
  },
  {
   "cell_type": "markdown",
   "id": "7f45df33-8fc9-4094-9f3d-db92609e4f31",
   "metadata": {},
   "source": [
    "## ?  zero or one"
   ]
  },
  {
   "cell_type": "code",
   "execution_count": 13,
   "id": "7f7429ab-31d8-4005-9d35-04fa7f9700fb",
   "metadata": {},
   "outputs": [
    {
     "name": "stdout",
     "output_type": "stream",
     "text": [
      "Batman\n",
      "Batwoman\n"
     ]
    }
   ],
   "source": [
    "text = 'This is the text with: Batman Batwoman Batwowoman Batwowowoman'\n",
    "pattern = r'Bat(wo)?man'\n",
    "matches = re.finditer(pattern, text)\n",
    "for match in matches:\n",
    "    print(match.group())"
   ]
  },
  {
   "cell_type": "markdown",
   "id": "05c2a8fe-add7-4128-8fd0-4f45c40741e5",
   "metadata": {},
   "source": [
    "## *   zero or more"
   ]
  },
  {
   "cell_type": "code",
   "execution_count": 8,
   "id": "1cfb6756-8eb6-4977-b114-5f61ffd4ae7c",
   "metadata": {},
   "outputs": [
    {
     "name": "stdout",
     "output_type": "stream",
     "text": [
      "Batman\n",
      "Batwoman\n",
      "Batwowoman\n",
      "Batwowowoman\n"
     ]
    }
   ],
   "source": [
    "text = 'Batman Batwoman Batwowoman Batwowowoman'\n",
    "pattern = r'Bat(wo)*man'\n",
    "matches = re.finditer(pattern, text)\n",
    "for match in matches:\n",
    "    print(match.group())"
   ]
  },
  {
   "cell_type": "markdown",
   "id": "420bbe6a-3345-4572-bc61-cb444403c2ee",
   "metadata": {},
   "source": [
    "## +  one or more"
   ]
  },
  {
   "cell_type": "code",
   "execution_count": 9,
   "id": "45a34d4d-9aca-445b-b2c4-aaa0741b5223",
   "metadata": {},
   "outputs": [
    {
     "name": "stdout",
     "output_type": "stream",
     "text": [
      "Batwoman\n",
      "Batwowoman\n",
      "Batwowowoman\n"
     ]
    }
   ],
   "source": [
    "text = 'Batman Batwoman Batwowoman Batwowowoman'\n",
    "pattern = r'Bat(wo)+man'\n",
    "matches = re.finditer(pattern, text)\n",
    "for match in matches:\n",
    "    print(match.group())"
   ]
  },
  {
   "cell_type": "markdown",
   "id": "d09d54da-4445-494e-b87c-777618288b7f",
   "metadata": {},
   "source": [
    "## {min, max}"
   ]
  },
  {
   "cell_type": "code",
   "execution_count": 4,
   "id": "97ab547b-4c35-4de2-80e9-63af88f8d2b8",
   "metadata": {},
   "outputs": [
    {
     "name": "stdout",
     "output_type": "stream",
     "text": [
      "When  you  have  long  sente  nse  and  you  want  find  all  lette  "
     ]
    }
   ],
   "source": [
    "text = 'When you have a long sentense and you want to find all 3-5 letters.'\n",
    "pattern = r'\\w{3,5}' # greedy match the longest (default)\n",
    "matches = re.finditer(pattern, text)\n",
    "for match in matches:\n",
    "    print(match.group(), end='  ')"
   ]
  },
  {
   "cell_type": "code",
   "execution_count": 5,
   "id": "d4775e1a-b307-4aae-93b5-8ace73ab5d29",
   "metadata": {},
   "outputs": [
    {
     "name": "stdout",
     "output_type": "stream",
     "text": [
      "Whe   you   hav   lon   sen   ten   and   you   wan   fin   all   let   ter   "
     ]
    }
   ],
   "source": [
    "text = 'When you have a long sentense and you want to find all 3-5 letters.'\n",
    "pattern = r'\\w{3,5}?' # non-greedy match the shortest\n",
    "matches = re.finditer(pattern, text)\n",
    "for match in matches:\n",
    "    print(match.group(), end=\"   \")"
   ]
  },
  {
   "cell_type": "code",
   "execution_count": 6,
   "id": "ceb44051-5b5a-4152-9d5f-d7be06a081a3",
   "metadata": {},
   "outputs": [
    {
     "name": "stdout",
     "output_type": "stream",
     "text": [
      "When  you  have  long  sentense  and  want  find  all  letters  "
     ]
    }
   ],
   "source": [
    "text = 'When you have a long sentense and we want to find all 3-5 letters.'\n",
    "pattern = r'\\w{3,}' # more than 3\n",
    "matches = re.finditer(pattern, text)\n",
    "for match in matches:\n",
    "    print(match.group(), end=\"  \")"
   ]
  },
  {
   "cell_type": "code",
   "execution_count": 7,
   "id": "70a50ee7-a73b-47fa-8351-ba8ffbe7e297",
   "metadata": {},
   "outputs": [
    {
     "name": "stdout",
     "output_type": "stream",
     "text": [
      "Whe   you   hav   lon   senten   and   wan   fin   all   letter   "
     ]
    }
   ],
   "source": [
    "text = 'When you have a long sentense and we wanto to find all 3-5 letters.'\n",
    "pattern = r'(\\w{3})+' # more than 3\n",
    "matches = re.finditer(pattern, text)\n",
    "for match in matches:\n",
    "    print(match.group(), end=\"   \")"
   ]
  },
  {
   "cell_type": "markdown",
   "id": "1fe74e87-f8c5-4ab7-ba7c-83b0f8b5f432",
   "metadata": {},
   "source": [
    "## example"
   ]
  },
  {
   "cell_type": "code",
   "execution_count": 23,
   "id": "2035bbdf-13d1-4905-b231-2646c79302bd",
   "metadata": {},
   "outputs": [
    {
     "name": "stdout",
     "output_type": "stream",
     "text": [
      "['1 name', '2 family', '10 class', '236 yard']\n"
     ]
    }
   ],
   "source": [
    "text = 'There are some patters in the text: 1 name 2 family 10 class 236 yard please find them all.'\n",
    "pattern = r'\\d+\\s\\w+'\n",
    "match_list = re.findall(pattern, text)\n",
    "print(match_list)"
   ]
  },
  {
   "attachments": {},
   "cell_type": "markdown",
   "id": "29df90d2-8f99-44e8-9ba4-c0f33b624511",
   "metadata": {},
   "source": [
    "## User defined pattern `[]`"
   ]
  },
  {
   "cell_type": "code",
   "execution_count": 24,
   "id": "7e5e6993-ccaf-4fb7-beb2-96df22e01455",
   "metadata": {},
   "outputs": [
    {
     "name": "stdout",
     "output_type": "stream",
     "text": [
      "['T', 'h', 'e', 'r', 'e', 'a', 'r', 'e', 's', 'o', 'm', 'e', 'p', 'a', 't', 't', 'e', 'r', 's', 'i', 'n', 't', 'h', 'e', 't', 'e', 'x', 't', 'n', 'a', 'm', 'e', 'f', 'a', 'm', 'i', 'l', 'y', 'c', 'l', 'a', 's', 's', 'y', 'a', 'r', 'd', 'p', 'l', 'e', 'a', 's', 'e', 'f', 'i', 'n', 'd', 't', 'h', 'e', 'm', 'a', 'l', 'l']\n"
     ]
    }
   ],
   "source": [
    "text = 'There are some patters in the text: 1 name 2 family 10 class 236 yard please find them all.'\n",
    "pattern = r'[a-zA-Z]'\n",
    "match_list = re.findall(pattern, text)\n",
    "print(match_list)"
   ]
  },
  {
   "cell_type": "code",
   "execution_count": 25,
   "id": "b9a1d880-3dea-43c9-b5e8-3eda5df9da03",
   "metadata": {},
   "outputs": [
    {
     "name": "stdout",
     "output_type": "stream",
     "text": [
      "['e', 'e', 'a', 'e', 'o', 'e', 'a', 'e', 'i', 'e', 'e', 'a', 'e', 'a', 'i', 'a', 'a', 'e', 'a', 'e', 'i', 'e', 'a']\n"
     ]
    }
   ],
   "source": [
    "text = 'There are some patters in the text: 1 name 2 family 10 class 236 yard please find them all.'\n",
    "pattern = r'[aeiouAEIOU]'\n",
    "match_list = re.findall(pattern, text)\n",
    "print(match_list)"
   ]
  },
  {
   "attachments": {},
   "cell_type": "markdown",
   "id": "70a92789-61a7-46ff-8275-348a7b87445d",
   "metadata": {},
   "source": [
    "## Negative pattern `[^]`"
   ]
  },
  {
   "cell_type": "code",
   "execution_count": 26,
   "id": "0a8be91a-d4fb-40d3-a184-622b8e27f0f9",
   "metadata": {},
   "outputs": [
    {
     "name": "stdout",
     "output_type": "stream",
     "text": [
      "['T', 'h', 'r', ' ', 'r', ' ', 's', 'm', ' ', 'p', 't', 't', 'r', 's', ' ', 'n', ' ', 't', 'h', ' ', 't', 'x', 't', ':', ' ', '1', ' ', 'n', 'm', ' ', '2', ' ', 'f', 'm', 'l', 'y', ' ', '1', '0', ' ', 'c', 'l', 's', 's', ' ', '2', '3', '6', ' ', 'y', 'r', 'd', ' ', 'p', 'l', 's', ' ', 'f', 'n', 'd', ' ', 't', 'h', 'm', ' ', 'l', 'l', '.']\n"
     ]
    }
   ],
   "source": [
    "text = 'There are some patters in the text: 1 name 2 family 10 class 236 yard please find them all.'\n",
    "pattern = r'[^aeiouAEIOU]'\n",
    "match_list = re.findall(pattern, text)\n",
    "print(match_list)"
   ]
  },
  {
   "attachments": {},
   "cell_type": "markdown",
   "id": "4b8297cd-4a72-48ab-965d-9f28a50564c7",
   "metadata": {},
   "source": [
    "## start with `^`"
   ]
  },
  {
   "cell_type": "code",
   "execution_count": 31,
   "id": "2d04a71a-757a-4497-8bab-39022ab8a5ab",
   "metadata": {},
   "outputs": [
    {
     "name": "stdout",
     "output_type": "stream",
     "text": [
      "pattern:  \\d\n",
      "01 file\n",
      "No match found\n",
      "02 file\n",
      "file 03\n",
      "------------------------------\n",
      "pattern:  ^\\d\n",
      "01 file\n",
      "No match found\n",
      "02 file\n",
      "No match found\n",
      "------------------------------\n"
     ]
    }
   ],
   "source": [
    "textlist = ['01 file', 'file', '02 file', 'file 03']\n",
    "patterns = [r'\\d', r'^\\d']\n",
    "for pattern in patterns:\n",
    "    print('pattern: ',pattern)\n",
    "    for text in textlist:\n",
    "        match = re.search(pattern, text)\n",
    "        if match:\n",
    "            print(text)\n",
    "        else:\n",
    "            print('No match found')\n",
    "    print('-'*30)"
   ]
  },
  {
   "attachments": {},
   "cell_type": "markdown",
   "id": "583728ab-6da4-41a3-a0f5-92cf04e02919",
   "metadata": {},
   "source": [
    "## end with `$`"
   ]
  },
  {
   "cell_type": "code",
   "execution_count": 29,
   "id": "1a3d61de-ae66-4011-8fa7-12851d1659b5",
   "metadata": {},
   "outputs": [
    {
     "name": "stdout",
     "output_type": "stream",
     "text": [
      "pattern:  \\.py\n",
      "main.py\n",
      "No match found\n",
      "run.py\n",
      "hello.pynb\n",
      "------------------------------\n",
      "pattern:  \\.py$\n",
      "main.py\n",
      "No match found\n",
      "run.py\n",
      "No match found\n",
      "------------------------------\n"
     ]
    }
   ],
   "source": [
    "textlist = ['main.py', 'text.txt', 'run.py', 'hello.pynb']\n",
    "patterns = [r'\\.py', r'\\.py$']  # \\ is for scaping dot\n",
    "for pattern in patterns:\n",
    "    print('pattern: ',pattern)\n",
    "    for text in textlist:\n",
    "        match = re.search(pattern, text)\n",
    "        if match:\n",
    "            print(text)\n",
    "        else:\n",
    "            print('No match found')\n",
    "    print('-'*30)"
   ]
  },
  {
   "attachments": {},
   "cell_type": "markdown",
   "id": "afd4cf80-826e-44cf-84d6-3010c594a122",
   "metadata": {},
   "source": [
    "## start wiht `^` and end with `$` "
   ]
  },
  {
   "cell_type": "code",
   "execution_count": 32,
   "id": "fcea6f91-d6a7-4739-8034-5733eda083af",
   "metadata": {},
   "outputs": [
    {
     "name": "stdout",
     "output_type": "stream",
     "text": [
      "pattern:  ^\\d\\s\\w+\n",
      "No match found\n",
      "No match found\n",
      "No match found\n",
      "No match found\n",
      "No match found\n",
      "------------------------------\n",
      "pattern:  ^\\d+\\s\\w+\n",
      "01 file\n",
      "No match found\n",
      "02 file\n",
      "No match found\n",
      "04 filenames\n",
      "------------------------------\n",
      "pattern:  ^\\d+\\s\\w+e$\n",
      "01 file\n",
      "No match found\n",
      "02 file\n",
      "No match found\n",
      "No match found\n",
      "------------------------------\n"
     ]
    }
   ],
   "source": [
    "textlist = ['01 file', 'file', '02 file', 'file 03', '04 filenames']\n",
    "patterns = [r'^\\d\\s\\w+', r'^\\d+\\s\\w+', r'^\\d+\\s\\w+e$']\n",
    "for pattern in patterns:\n",
    "    print('pattern: ',pattern)\n",
    "    for text in textlist:\n",
    "        match = re.search(pattern, text)\n",
    "        if match:\n",
    "            print(match.group())\n",
    "        else:\n",
    "            print('No match found')\n",
    "    print('-'*30)"
   ]
  },
  {
   "attachments": {},
   "cell_type": "markdown",
   "id": "e1ca3924-8136-4764-b967-f3a6f44421f9",
   "metadata": {},
   "source": [
    "## using `.` anything except newline"
   ]
  },
  {
   "cell_type": "code",
   "execution_count": 34,
   "id": "12fa83b2-670b-495a-a3c2-ff44f9d31ef4",
   "metadata": {},
   "outputs": [
    {
     "name": "stdout",
     "output_type": "stream",
     "text": [
      "pattern:  .*\n",
      "main.py\n",
      "\n",
      "run py\n",
      "  \n",
      "hello friends\n"
     ]
    }
   ],
   "source": [
    "textlist = ['main.py', '\\n', 'run py', '  ', 'hello friends']\n",
    "pattern = r'.*'\n",
    "print('pattern: ',pattern)\n",
    "for text in textlist:\n",
    "    match = re.search(pattern, text)\n",
    "    if match:\n",
    "        print(match.group())\n",
    "    else:\n",
    "        print('Not match found')"
   ]
  },
  {
   "cell_type": "code",
   "execution_count": 36,
   "id": "e70ec83b-2b30-48d1-ac14-d84ae9dbe238",
   "metadata": {},
   "outputs": [
    {
     "name": "stdout",
     "output_type": "stream",
     "text": [
      "pattern:  .*\n",
      "Hello my name is Ali \n"
     ]
    }
   ],
   "source": [
    "text = 'Hello my name is Ali \\nI am from Iran.'\n",
    "pattern = r'.*'\n",
    "print('pattern: ',pattern)\n",
    "match = re.search(pattern, text)\n",
    "if match:\n",
    "    print(match.group())\n",
    "else:\n",
    "    print('Not match found')"
   ]
  },
  {
   "cell_type": "code",
   "execution_count": 89,
   "id": "c4fbd9ad-e1a5-4142-a071-b255be91f220",
   "metadata": {},
   "outputs": [
    {
     "name": "stdout",
     "output_type": "stream",
     "text": [
      "pattern:  <.*>\n",
      "['<Ali> and <Hossein> end with>']\n",
      "------------------------------\n",
      "pattern:  <.*?>\n",
      "['<Ali>', '<Hossein>']\n",
      "------------------------------\n",
      "pattern:  <\\w+>\n",
      "['<Ali>', '<Hossein>']\n",
      "------------------------------\n"
     ]
    }
   ],
   "source": [
    "text = 'Everythins that is <Ali> and <Hossein> end with> and to continue'\n",
    "patterns = [r'<.*>', r'<.*?>', r'<\\w+>']\n",
    "for pattern in patterns:\n",
    "    print('pattern: ',pattern)\n",
    "    match = re.findall(pattern, text)\n",
    "    if match:\n",
    "        print(match)\n",
    "    else:\n",
    "        print('No match found')\n",
    "    print('-'*30)"
   ]
  },
  {
   "cell_type": "markdown",
   "id": "752b1fd3",
   "metadata": {},
   "source": [
    "## escape all special characters with `\\`"
   ]
  },
  {
   "attachments": {},
   "cell_type": "markdown",
   "id": "79e3213f-fdf5-4f0c-8391-44df905f42f9",
   "metadata": {},
   "source": [
    "### escape `()`"
   ]
  },
  {
   "cell_type": "code",
   "execution_count": 55,
   "id": "06a5e5ec-4294-4b68-b76f-7561dcc947d4",
   "metadata": {},
   "outputs": [
    {
     "name": "stdout",
     "output_type": "stream",
     "text": [
      "<re.Match object; span=(0, 14), match='(415) 555-5874'>\n",
      "index=0 => (415) 555-5874\n",
      "index=1 => (415)\n",
      "index=2 => 555-5874\n"
     ]
    }
   ],
   "source": [
    "text = '(415) 555-5874'\n",
    "pattern = r'(\\(\\d{3}\\)) (\\d{3}-\\d{4})'\n",
    "match = re.search(pattern, text)\n",
    "print(match)\n",
    "print('index=0 =>', match.group(0))\n",
    "print('index=1 =>', match.group(1))\n",
    "print('index=2 =>', match.group(2))"
   ]
  },
  {
   "attachments": {},
   "cell_type": "markdown",
   "id": "3007d721-4de2-4308-b040-bffa3a9b0de3",
   "metadata": {
    "tags": []
   },
   "source": [
    "### escape `?`"
   ]
  },
  {
   "cell_type": "code",
   "execution_count": 40,
   "id": "49154a2f-9ec0-4421-bb6d-f18be3fdfb2b",
   "metadata": {
    "tags": []
   },
   "outputs": [
    {
     "name": "stdout",
     "output_type": "stream",
     "text": [
      "['and?', 'are?']\n"
     ]
    }
   ],
   "source": [
    "text = 'Batman and? Batwoman are? in the text'\n",
    "pattern = r'\\w{3}\\?'\n",
    "matches = re.findall(pattern, text)\n",
    "print(matches)"
   ]
  },
  {
   "attachments": {},
   "cell_type": "markdown",
   "id": "7d1f54b0",
   "metadata": {},
   "source": [
    "## `re.sub()` -> returns a new string"
   ]
  },
  {
   "cell_type": "code",
   "execution_count": null,
   "id": "9189550e",
   "metadata": {},
   "outputs": [
    {
     "name": "stdout",
     "output_type": "stream",
     "text": [
      "['person one', 'person twe']\n",
      "*** give *** a number\n"
     ]
    }
   ],
   "source": [
    "text = 'person one give person twe a number'\n",
    "pattern = r'person \\w+'\n",
    "print(re.findall(pattern, text))\n",
    "print(re.sub(pattern, '***', text))"
   ]
  },
  {
   "cell_type": "code",
   "execution_count": null,
   "id": "53a6e7f5",
   "metadata": {},
   "outputs": [
    {
     "name": "stdout",
     "output_type": "stream",
     "text": [
      "[('K', 'o'), ('H', 'n')]\n",
      "person K****o give person H****n a number\n"
     ]
    }
   ],
   "source": [
    "text = 'person Khosro give person Hossein a number'\n",
    "pattern = r'person (\\w)\\w*(\\w)'\n",
    "print(re.findall(pattern, text))\n",
    "print(re.sub(pattern, r'person \\1****\\2', text)) # scape group 1 and 2"
   ]
  },
  {
   "cell_type": "code",
   "execution_count": null,
   "id": "edcf68ef",
   "metadata": {},
   "outputs": [
    {
     "name": "stdout",
     "output_type": "stream",
     "text": [
      "['0936741', '0915789', '0912654']\n",
      "The winner phone numbers are 09367415689, 09157894512, 09126547414\n",
      "The winner phone numbers are 0936741****, 0915789****, 0912654****\n"
     ]
    }
   ],
   "source": [
    "text = 'The winner phone numbers are 09367415689, 09157894512, 09126547414'\n",
    "pattern = r'(\\d{7})\\d{4}'\n",
    "print(re.findall(pattern, text))\n",
    "print(text)\n",
    "print(re.sub(pattern, r'\\1****', text)) # scape group 1"
   ]
  },
  {
   "attachments": {},
   "cell_type": "markdown",
   "id": "4f458c9f",
   "metadata": {},
   "source": [
    "## example of cleaning a text"
   ]
  },
  {
   "cell_type": "code",
   "execution_count": null,
   "id": "62fa3a4e",
   "metadata": {},
   "outputs": [
    {
     "data": {
      "text/plain": [
       "'I dont want numbers & puctuations & multiple spaces in this text '"
      ]
     },
     "metadata": {},
     "output_type": "display_data"
    }
   ],
   "source": [
    "x = \"I dont /*want 123  8//8$%^# 155 numbers-=@# 47 and 874 puctuations ()== and multiple +-*5   spaces in this text 2 \"\n",
    "x = re.sub(r'[^a-zA-Z ]', ' ', x) # replace everything that is not an alphabet with a space\n",
    "x = re.sub(r'\\s+', ' ', x)        # replace multiple spaces with one space\n",
    "x = re.sub(r'and', '&', x)        # replace and with &\n",
    "x"
   ]
  }
 ],
 "metadata": {
  "kernelspec": {
   "display_name": "Python 3 (ipykernel)",
   "language": "python",
   "name": "python3"
  },
  "language_info": {
   "codemirror_mode": {
    "name": "ipython",
    "version": 3
   },
   "file_extension": ".py",
   "mimetype": "text/x-python",
   "name": "python",
   "nbconvert_exporter": "python",
   "pygments_lexer": "ipython3",
   "version": "3.10.12"
  }
 },
 "nbformat": 4,
 "nbformat_minor": 5
}
