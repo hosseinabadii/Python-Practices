{
 "cells": [
  {
   "attachments": {},
   "cell_type": "markdown",
   "id": "27143dbd",
   "metadata": {},
   "source": [
    "## Modified Regular Expression Matching With Flags"
   ]
  },
  {
   "cell_type": "code",
   "execution_count": 1,
   "id": "4ac729f4",
   "metadata": {},
   "outputs": [],
   "source": [
    "import re"
   ]
  },
  {
   "attachments": {},
   "cell_type": "markdown",
   "id": "aed4604f",
   "metadata": {},
   "source": [
    "### Supported Regular Expression Flags"
   ]
  },
  {
   "cell_type": "markdown",
   "id": "49615bca",
   "metadata": {},
   "source": [
    "|Short Name|Long Name|Effect|\n",
    "|:--|:--|:--|\n",
    "|`re.I`|`re.IGNORECASE`|Makes matching of alphabetic characters case-insensitive|\n",
    "|`re.M`|`re.MULTILINE`|Causes start-of-string and end-of-string anchors to match embedded newlines|\n",
    "|`re.S`|`re.DOTALL`|Causes the dot metacharacter to match a newline|\n",
    "|`re.X`|`re.VERBOSE`|Allows inclusion of whitespace and comments within a regular expression|\n",
    "|`----`|`re.DEBUG`|Causes the regex parser to display debugging information to the console|\n",
    "|`re.A`|`re.ASCII`|Specifies ASCII encoding for character classification|\n",
    "|`re.U`|`re.UNICODE`|Specifies Unicode encoding for character classification|\n",
    "|`re.L`                            |`re.LOCALE`|Specifies encoding for character classification based on the current locale|\n"
   ]
  },
  {
   "attachments": {},
   "cell_type": "markdown",
   "id": "da5fc957",
   "metadata": {},
   "source": [
    "---"
   ]
  },
  {
   "attachments": {},
   "cell_type": "markdown",
   "id": "9b28eb04",
   "metadata": {},
   "source": [
    "### `re.I` or `re.IGNORECASE`"
   ]
  },
  {
   "cell_type": "code",
   "execution_count": 17,
   "id": "e4b86013",
   "metadata": {},
   "outputs": [
    {
     "name": "stdout",
     "output_type": "stream",
     "text": [
      "m1 = <re.Match object; span=(0, 3), match='aaa'>\n",
      "m2 = <re.Match object; span=(3, 6), match='AAA'>\n",
      "m3 = <re.Match object; span=(0, 6), match='aaaAAA'>\n",
      "m4 = <re.Match object; span=(0, 6), match='aaaAAA'>\n",
      "m5 = <re.Match object; span=(0, 5), match='aerwt'>\n",
      "m6 = <re.Match object; span=(0, 10), match='aerwtBcDeF'>\n"
     ]
    }
   ],
   "source": [
    "m1 = re.search('a+', 'aaaAAA')\n",
    "m2 = re.search('A+', 'aaaAAA')\n",
    "m3 = re.search('a+', 'aaaAAA', re.I)\n",
    "m4 = re.search('A+', 'aaaAAA', re.IGNORECASE)\n",
    "m5 = re.search('[a-z]+', 'aerwtBcDeF')\n",
    "m6 = re.search('[a-z]+', 'aerwtBcDeF', re.I)\n",
    "print(f\"m1 = {m1}\")\n",
    "print(f\"m2 = {m2}\")\n",
    "print(f\"m3 = {m3}\")\n",
    "print(f\"m4 = {m4}\")\n",
    "print(f\"m5 = {m5}\")\n",
    "print(f\"m6 = {m6}\")"
   ]
  },
  {
   "attachments": {},
   "cell_type": "markdown",
   "id": "e45ba904",
   "metadata": {},
   "source": [
    "---"
   ]
  },
  {
   "attachments": {},
   "cell_type": "markdown",
   "id": "3626b20b",
   "metadata": {},
   "source": [
    "### `re.M` or `re.MULTILINE`"
   ]
  },
  {
   "cell_type": "code",
   "execution_count": 18,
   "id": "dda3c49b",
   "metadata": {},
   "outputs": [
    {
     "name": "stdout",
     "output_type": "stream",
     "text": [
      "m1 = <re.Match object; span=(0, 3), match='foo'>\n",
      "m2 = None\n",
      "m3 = None\n",
      "m4 = None\n",
      "m5 = None\n",
      "m6 = <re.Match object; span=(8, 11), match='baz'>\n"
     ]
    }
   ],
   "source": [
    "s = 'foo\\nbar\\nbaz'\n",
    "\n",
    "m1 = re.search('^foo', s)\n",
    "m2 = re.search('^bar', s)\n",
    "m3 = re.search('^baz', s)\n",
    "m4 = re.search('foo$', s)\n",
    "m5 = re.search('bar$', s)\n",
    "m6 = re.search('baz$', s)\n",
    "print(f\"m1 = {m1}\")\n",
    "print(f\"m2 = {m2}\")\n",
    "print(f\"m3 = {m3}\")\n",
    "print(f\"m4 = {m4}\")\n",
    "print(f\"m5 = {m5}\")\n",
    "print(f\"m6 = {m6}\")"
   ]
  },
  {
   "cell_type": "code",
   "execution_count": 19,
   "id": "334977c7",
   "metadata": {},
   "outputs": [
    {
     "name": "stdout",
     "output_type": "stream",
     "text": [
      "m1 = <re.Match object; span=(0, 3), match='foo'>\n",
      "m2 = <re.Match object; span=(4, 7), match='bar'>\n",
      "m3 = <re.Match object; span=(8, 11), match='baz'>\n",
      "m4 = <re.Match object; span=(0, 3), match='foo'>\n",
      "m5 = <re.Match object; span=(4, 7), match='bar'>\n",
      "m6 = <re.Match object; span=(8, 11), match='baz'>\n"
     ]
    }
   ],
   "source": [
    "s = 'foo\\nbar\\nbaz'\n",
    "\n",
    "m1 = re.search('^foo', s, re.M)\n",
    "m2 = re.search('^bar', s, re.M)\n",
    "m3 = re.search('^baz', s, re.M)\n",
    "m4 = re.search('foo$', s, re.M)\n",
    "m5 = re.search('bar$', s, re.M)\n",
    "m6 = re.search('baz$', s, re.M)\n",
    "print(f\"m1 = {m1}\")\n",
    "print(f\"m2 = {m2}\")\n",
    "print(f\"m3 = {m3}\")\n",
    "print(f\"m4 = {m4}\")\n",
    "print(f\"m5 = {m5}\")\n",
    "print(f\"m6 = {m6}\")"
   ]
  },
  {
   "attachments": {},
   "cell_type": "markdown",
   "id": "7859f526",
   "metadata": {},
   "source": [
    "---"
   ]
  },
  {
   "attachments": {},
   "cell_type": "markdown",
   "id": "bc618034",
   "metadata": {},
   "source": [
    "### `re.S` or `re.DOTALL`"
   ]
  },
  {
   "cell_type": "code",
   "execution_count": 21,
   "id": "41e6c272",
   "metadata": {},
   "outputs": [
    {
     "name": "stdout",
     "output_type": "stream",
     "text": [
      "m1 = None\n",
      "m2 = <re.Match object; span=(0, 7), match='foo\\nbar'>\n",
      "m3 = <re.Match object; span=(0, 7), match='foo\\nbar'>\n"
     ]
    }
   ],
   "source": [
    "m1 = re.search('foo.bar', 'foo\\nbar')\n",
    "m2 = re.search('foo.bar', 'foo\\nbar', re.DOTALL)\n",
    "m3 = re.search('foo.bar', 'foo\\nbar', re.S)\n",
    "print(f\"m1 = {m1}\")\n",
    "print(f\"m2 = {m2}\")\n",
    "print(f\"m3 = {m3}\")"
   ]
  },
  {
   "attachments": {},
   "cell_type": "markdown",
   "id": "9a7eeffd",
   "metadata": {},
   "source": [
    "---"
   ]
  },
  {
   "attachments": {},
   "cell_type": "markdown",
   "id": "c9733d86",
   "metadata": {},
   "source": [
    "### `re.X` or `re.VERBOSE`"
   ]
  },
  {
   "cell_type": "code",
   "execution_count": 22,
   "id": "0194bee9",
   "metadata": {},
   "outputs": [
    {
     "name": "stdout",
     "output_type": "stream",
     "text": [
      "m1 = None\n",
      "m2 = <re.Match object; span=(0, 8), match='414-9229'>\n",
      "m3 = None\n",
      "m4 = <re.Match object; span=(0, 14), match='(712) 414-9229'>\n"
     ]
    }
   ],
   "source": [
    "# regex = r'^(\\(\\d{3}\\))?\\s*\\d{3}[-.]\\d{4}$' \n",
    "# instead of using above regex, use the following:\n",
    "regex = r'''\n",
    "^               # Start of string\n",
    "(\\(\\d{3}\\))?    # Optional area code\n",
    "\\s*             # Optional whitespace\n",
    "\\d{3}           # Three-digit prefix\n",
    "[-.]            # Separator character\n",
    "\\d{4}           # Four-digit line number\n",
    "$               # Anchor at end of string\n",
    "'''\n",
    "m1 = re.search(regex, '414.9229')\n",
    "m2 = re.search(regex, '414-9229', re.VERBOSE)\n",
    "m3 = re.search(regex, '(712)414-9229')\n",
    "m4 = re.search(regex, '(712) 414-9229', re.VERBOSE)\n",
    "print(f\"m1 = {m1}\")\n",
    "print(f\"m2 = {m2}\")\n",
    "print(f\"m3 = {m3}\")\n",
    "print(f\"m4 = {m4}\")"
   ]
  }
 ],
 "metadata": {
  "kernelspec": {
   "display_name": "Python 3",
   "language": "python",
   "name": "python3"
  },
  "language_info": {
   "codemirror_mode": {
    "name": "ipython",
    "version": 3
   },
   "file_extension": ".py",
   "mimetype": "text/x-python",
   "name": "python",
   "nbconvert_exporter": "python",
   "pygments_lexer": "ipython3",
   "version": "3.11.9"
  }
 },
 "nbformat": 4,
 "nbformat_minor": 5
}
