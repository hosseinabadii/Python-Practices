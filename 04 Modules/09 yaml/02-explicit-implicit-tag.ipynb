{
 "cells": [
  {
   "attachments": {},
   "cell_type": "markdown",
   "metadata": {},
   "source": [
    "## Explicit and Implicit Tags"
   ]
  },
  {
   "cell_type": "code",
   "execution_count": 1,
   "metadata": {},
   "outputs": [],
   "source": [
    "import yaml"
   ]
  },
  {
   "cell_type": "markdown",
   "metadata": {},
   "source": [
    "Plain scalars without explicitly defined tags are subject to implicit tag resolution. The scalar value is checked against a set of regular expressions and if one of them matches, the corresponding tag is assigned to the scalar. PyYAML allows an application to add custom implicit tag resolvers."
   ]
  },
  {
   "attachments": {},
   "cell_type": "markdown",
   "metadata": {},
   "source": [
    "---"
   ]
  },
  {
   "attachments": {},
   "cell_type": "markdown",
   "metadata": {},
   "source": [
    "### implicit tags"
   ]
  },
  {
   "cell_type": "code",
   "execution_count": 34,
   "metadata": {},
   "outputs": [
    {
     "name": "stdout",
     "output_type": "stream",
     "text": [
      "<class 'list'>: ['this is text', 123, 45.12, [12, 13, 14], [12, 13, 14], {'a': 100, 'b': 200, 'c': 300}, {'a': 100, 'b': 200, 'c': 300}, [datetime.date(2025, 1, 20), datetime.datetime(2025, 1, 20, 18, 20, 30)]]\n",
      "<class 'str'>: this is text\n",
      "<class 'int'>: 123\n",
      "<class 'float'>: 45.12\n",
      "<class 'list'>: [12, 13, 14]\n",
      "<class 'list'>: [12, 13, 14]\n",
      "<class 'dict'>: {'a': 100, 'b': 200, 'c': 300}\n",
      "<class 'dict'>: {'a': 100, 'b': 200, 'c': 300}\n",
      "<class 'list'>: [datetime.date(2025, 1, 20), datetime.datetime(2025, 1, 20, 18, 20, 30)]\n"
     ]
    }
   ],
   "source": [
    "x = yaml.safe_load(\n",
    "'''\n",
    "- this is text\n",
    "- 123\n",
    "- 45.12\n",
    "\n",
    "# list\n",
    "- [12, 13, 14]\n",
    "\n",
    "# or\n",
    "- - 12\n",
    "  - 13\n",
    "  - 14\n",
    "\n",
    "# dict\n",
    "- {a: 100, b: 200, c: 300}\n",
    "\n",
    "# or\n",
    "- a: 100\n",
    "  b: 200\n",
    "  c: 300\n",
    "\n",
    "# datatime\n",
    "\n",
    "- [2025-01-20, 2025-01-20 18:20:30]\n",
    "'''\n",
    ")\n",
    "\n",
    "print(f\"{type(x)}: {x}\")\n",
    "for item in x:\n",
    "    print(f\"{type(item)}: {item}\")\n",
    "\n"
   ]
  },
  {
   "attachments": {},
   "cell_type": "markdown",
   "metadata": {},
   "source": [
    "---"
   ]
  },
  {
   "attachments": {},
   "cell_type": "markdown",
   "metadata": {},
   "source": [
    "### explicit tags"
   ]
  },
  {
   "attachments": {},
   "cell_type": "markdown",
   "metadata": {},
   "source": [
    "**Standard YAML tags:**\n",
    "\n",
    "|YAML tag | Python tag\t\n",
    "|-- |--\n",
    "|!!null |None\n",
    "|!!bool\t|bool\n",
    "|!!int\t|int\n",
    "|!!float\t|float\n",
    "|!!binary\t|bytes\n",
    "|!!timestamp\t|datetime.datetime\n",
    "|!!omap, !!pairs |list of pairs\n",
    "|!!set\t|set\n",
    "|!!str\t|str or unicode (str in Python 3)\n",
    "|!!seq\t|list\n",
    "|!!map\t|dict\n",
    "\n",
    "**Python-specific tags:**\t\n",
    "|YAML tag | Python tag\t\n",
    "|-- |--\n",
    "|!!python/none\t|None\n",
    "|!!python/bool\t|bool\n",
    "|!!python/bytes\t|bytes\n",
    "|!!python/str\t|str\n",
    "|!!python/unicode\t|unicode\n",
    "|!!python/int\t|int\n",
    "|!!python/float\t|float\n",
    "|!!python/complex\t|complex\n",
    "|!!python/list\t|list\n",
    "|!!python/tuple |tuple\n",
    "|!!python/dict\t|dict\n",
    "\n",
    "**Complex Python tags:**\n",
    "|YAML tag | Python tag\t\n",
    "|-- |--\n",
    "|!!python/name:module.name\t|module.name\n",
    "|!!python/module:package.module\t|package.module\n",
    "|!!python/object:module.cls\t|module.cls instance\n",
    "|!!python/object/new:module.cls\t|module.cls instance\n",
    "|!!python/object/apply:module.f\t|value of f(...)\n"
   ]
  },
  {
   "cell_type": "code",
   "execution_count": 28,
   "metadata": {},
   "outputs": [
    {
     "name": "stdout",
     "output_type": "stream",
     "text": [
      "<class 'list'>: ['12345.56', (12, 13, 14), 36000]\n",
      "<class 'str'>: 12345.56\n",
      "<class 'tuple'>: (12, 13, 14)\n",
      "<class 'int'>: 36000\n"
     ]
    }
   ],
   "source": [
    "x = yaml.full_load(\n",
    "'''\n",
    "# numbers as str\n",
    "- !!python/str 12345.56\n",
    "\n",
    "# tuple\n",
    "- !!python/tuple [12, 13, 14]\n",
    "\n",
    "# datetime\n",
    "- 10:00:00\n",
    "'''\n",
    ")\n",
    "\n",
    "print(f\"{type(x)}: {x}\")\n",
    "for item in x:\n",
    "    print(f\"{type(item)}: {item}\")\n"
   ]
  }
 ],
 "metadata": {
  "kernelspec": {
   "display_name": "py310",
   "language": "python",
   "name": "python3"
  },
  "language_info": {
   "codemirror_mode": {
    "name": "ipython",
    "version": 3
   },
   "file_extension": ".py",
   "mimetype": "text/x-python",
   "name": "python",
   "nbconvert_exporter": "python",
   "pygments_lexer": "ipython3",
   "version": "3.10.12"
  },
  "orig_nbformat": 4
 },
 "nbformat": 4,
 "nbformat_minor": 2
}
