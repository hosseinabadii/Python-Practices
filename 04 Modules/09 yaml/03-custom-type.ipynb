{
 "cells": [
  {
   "attachments": {},
   "cell_type": "markdown",
   "metadata": {},
   "source": [
    "## Encoding and Decoding custom type objects"
   ]
  },
  {
   "cell_type": "code",
   "execution_count": 2,
   "metadata": {},
   "outputs": [],
   "source": [
    "import yaml\n",
    "import numpy as np\n",
    "from dataclasses import dataclass"
   ]
  },
  {
   "cell_type": "code",
   "execution_count": 4,
   "metadata": {},
   "outputs": [],
   "source": [
    "@dataclass\n",
    "class Order:\n",
    "    name: str\n",
    "    age: int\n",
    "    weight: int\n",
    "\n",
    "data = [\n",
    "    \"data of Class Order\",\n",
    "    Order(\"Kamran\", 20, 65),\n",
    "    Order(\"Mahtab\", 22, 70),\n",
    "    np.array([500, 600, 700]),\n",
    "]"
   ]
  },
  {
   "cell_type": "code",
   "execution_count": 7,
   "metadata": {},
   "outputs": [
    {
     "name": "stdout",
     "output_type": "stream",
     "text": [
      "type of original: <class 'list'>\n",
      "['data of Class Order', Order(name='Kamran', age=20, weight=65), Order(name='Mahtab', age=22, weight=70), array([500, 600, 700])]\n",
      "==================================================\n",
      "type of encoded: <class 'str'>\n",
      "- data of Class Order\n",
      "- !!python/object:__main__.Order\n",
      "  age: 20\n",
      "  name: Kamran\n",
      "  weight: 65\n",
      "- !!python/object:__main__.Order\n",
      "  age: 22\n",
      "  name: Mahtab\n",
      "  weight: 70\n",
      "- !!python/object/apply:numpy.core.multiarray._reconstruct\n",
      "  args:\n",
      "  - !!python/name:numpy.ndarray ''\n",
      "  - !!python/tuple\n",
      "    - 0\n",
      "  - !!binary |\n",
      "    Yg==\n",
      "  state: !!python/tuple\n",
      "  - 1\n",
      "  - !!python/tuple\n",
      "    - 3\n",
      "  - !!python/object/apply:numpy.dtype\n",
      "    args:\n",
      "    - i8\n",
      "    - false\n",
      "    - true\n",
      "    state: !!python/tuple\n",
      "    - 3\n",
      "    - <\n",
      "    - null\n",
      "    - null\n",
      "    - null\n",
      "    - -1\n",
      "    - -1\n",
      "    - 0\n",
      "  - false\n",
      "  - !!binary |\n",
      "    9AEAAAAAAABYAgAAAAAAALwCAAAAAAAA\n",
      "\n",
      "==================================================\n",
      "type of decoded: <class 'list'>\n",
      "['data of Class Order', Order(name='Kamran', age=20, weight=65), Order(name='Mahtab', age=22, weight=70), array([500, 600, 700])]\n",
      "==================================================\n"
     ]
    }
   ],
   "source": [
    "print(f\"type of original: {type(data)}\")\n",
    "print(data)\n",
    "print(\"=\" * 50)\n",
    "\n",
    "encoded = yaml.dump(data)\n",
    "print(f\"type of encoded: {type(encoded)}\")\n",
    "print(encoded)\n",
    "print(\"=\" * 50)\n",
    "\n",
    "decoded = yaml.unsafe_load(encoded)\n",
    "print(f\"type of decoded: {type(decoded)}\")\n",
    "print(decoded)\n",
    "print(\"=\" * 50)"
   ]
  }
 ],
 "metadata": {
  "kernelspec": {
   "display_name": "py310",
   "language": "python",
   "name": "python3"
  },
  "language_info": {
   "codemirror_mode": {
    "name": "ipython",
    "version": 3
   },
   "file_extension": ".py",
   "mimetype": "text/x-python",
   "name": "python",
   "nbconvert_exporter": "python",
   "pygments_lexer": "ipython3",
   "version": "3.10.12"
  },
  "orig_nbformat": 4
 },
 "nbformat": 4,
 "nbformat_minor": 2
}
