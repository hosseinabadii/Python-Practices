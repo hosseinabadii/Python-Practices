{
 "cells": [
  {
   "attachments": {},
   "cell_type": "markdown",
   "metadata": {},
   "source": [
    "## `YAML` : YAML Ain't Markup Language"
   ]
  },
  {
   "cell_type": "code",
   "execution_count": 1,
   "metadata": {},
   "outputs": [],
   "source": [
    "import yaml"
   ]
  },
  {
   "attachments": {},
   "cell_type": "markdown",
   "metadata": {},
   "source": [
    "---"
   ]
  },
  {
   "attachments": {},
   "cell_type": "markdown",
   "metadata": {},
   "source": [
    "### List of yaml loaders"
   ]
  },
  {
   "attachments": {},
   "cell_type": "markdown",
   "metadata": {},
   "source": [
    "1. SafeLoader: This loader is the safest option, as it only constructs Python objects from a subset of the YAML language. It doesn't allow the execution of arbitrary code, making it suitable for loading untrusted input. However, it is also the least powerful loader and may not be able to load all valid YAML documents.\n",
    "\n",
    "2. BaseLoader: This loader is a bit less restrictive than the SafeLoader, as it can load all valid YAML documents, but it still doesn't allow the execution of arbitrary code.\n",
    "\n",
    "3. FullLoader: This loader can load all valid YAML documents and also supports some additional features, such as custom constructors and merge keys. However, it allows the execution of arbitrary code, so it should only be used with trusted input.\n",
    "\n",
    "4. UnsafeLoader: This loader is the least safe option, as it allows the execution of arbitrary code and should only be used with trusted input. It can load all valid YAML documents and supports all the features of the FullLoader."
   ]
  },
  {
   "cell_type": "code",
   "execution_count": 2,
   "metadata": {},
   "outputs": [
    {
     "name": "stdout",
     "output_type": "stream",
     "text": [
      "this is test\n",
      "this is test\n",
      "this is test\n"
     ]
    }
   ],
   "source": [
    "safe_loader = yaml.safe_load(\"this is test\")\n",
    "unsafe_loader = yaml.unsafe_load(\"this is test\")\n",
    "full_loader = yaml.full_load(\"this is test\")\n",
    "\n",
    "# safe_loader = yaml.load(\"this is test\", Loader=yaml.SafeLoader)\n",
    "# unsafe_loader = yaml.load(\"this is test\", Loader=yaml.UnsafeLoader)\n",
    "# full_loader = yaml.load(\"this is test\", Loader=yaml.FullLoader)\n",
    "# base_loader = yaml.load(\"this is test\", Loader=yaml.BaseLoader)\n",
    "\n",
    "print(full_loader)\n",
    "print(safe_loader)\n",
    "print(unsafe_loader)"
   ]
  },
  {
   "attachments": {},
   "cell_type": "markdown",
   "metadata": {},
   "source": [
    "---"
   ]
  },
  {
   "attachments": {},
   "cell_type": "markdown",
   "metadata": {},
   "source": [
    "### Long Texts with `|` and `>`"
   ]
  },
  {
   "cell_type": "code",
   "execution_count": 3,
   "metadata": {},
   "outputs": [
    {
     "name": "stdout",
     "output_type": "stream",
     "text": [
      "This is a long text.  I go to next line but yaml does not consider the new line.\n",
      "\n",
      "This is a long text. \n",
      "I go to next line\n",
      "and yaml consider\n",
      "the new line.\n",
      "\n"
     ]
    }
   ],
   "source": [
    "x = yaml.safe_load(\n",
    "\"\"\" \n",
    "text1: > \n",
    "  This is a long text. \n",
    "  I go to next line\n",
    "  but yaml does not consider\n",
    "  the new line.\n",
    "\n",
    "text2: | \n",
    "  This is a long text. \n",
    "  I go to next line\n",
    "  and yaml consider\n",
    "  the new line.\n",
    "\"\"\"\n",
    ")\n",
    "for item in x.values():\n",
    "    print(item)"
   ]
  },
  {
   "attachments": {},
   "cell_type": "markdown",
   "metadata": {},
   "source": [
    "---"
   ]
  },
  {
   "cell_type": "markdown",
   "metadata": {},
   "source": [
    "### numbers"
   ]
  },
  {
   "cell_type": "code",
   "execution_count": 4,
   "metadata": {},
   "outputs": [
    {
     "name": "stdout",
     "output_type": "stream",
     "text": [
      "<class 'int'> 12345\n",
      "<class 'int'> 12\n",
      "<class 'int'> 12\n"
     ]
    }
   ],
   "source": [
    "# integers\n",
    "x = yaml.safe_load(\n",
    "\"\"\"\n",
    "canonical: 12345\n",
    "octal: 014\n",
    "hexadecimal: 0xC\n",
    "\"\"\"\n",
    ")\n",
    "for value in x.values():\n",
    "    print(type(value), value)"
   ]
  },
  {
   "cell_type": "code",
   "execution_count": 5,
   "metadata": {},
   "outputs": [
    {
     "name": "stdout",
     "output_type": "stream",
     "text": [
      "<class 'float'> 1230.15\n",
      "<class 'float'> 1230.15\n",
      "<class 'float'> -inf\n",
      "<class 'float'> nan\n"
     ]
    }
   ],
   "source": [
    "# floats\n",
    "x = yaml.safe_load(\n",
    "\"\"\"\n",
    "canonical: 1.23015e+3\n",
    "exponential: 12.3015e+02\n",
    "negative infinity: -.inf\n",
    "not a number: .NaN\n",
    "\"\"\"\n",
    ")\n",
    "for value in x.values():\n",
    "    print(type(value), value)"
   ]
  },
  {
   "attachments": {},
   "cell_type": "markdown",
   "metadata": {},
   "source": [
    "---"
   ]
  },
  {
   "attachments": {},
   "cell_type": "markdown",
   "metadata": {},
   "source": [
    "### Boolean"
   ]
  },
  {
   "cell_type": "code",
   "execution_count": 6,
   "metadata": {},
   "outputs": [
    {
     "name": "stdout",
     "output_type": "stream",
     "text": [
      "<class 'bool'> True\n",
      "<class 'bool'> True\n",
      "<class 'bool'> False\n",
      "<class 'bool'> False\n"
     ]
    }
   ],
   "source": [
    "x = yaml.safe_load(\n",
    "\"\"\"\n",
    "- True\n",
    "- true\n",
    "\n",
    "- False\n",
    "- false\n",
    "\"\"\"\n",
    ")\n",
    "for item in x:\n",
    "    print(type(item), item)"
   ]
  },
  {
   "attachments": {},
   "cell_type": "markdown",
   "metadata": {},
   "source": [
    "---"
   ]
  },
  {
   "cell_type": "markdown",
   "metadata": {},
   "source": [
    "### reference"
   ]
  },
  {
   "cell_type": "code",
   "execution_count": 7,
   "metadata": {},
   "outputs": [
    {
     "name": "stdout",
     "output_type": "stream",
     "text": [
      "<class 'dict'> {'pi': 3.14, 'e': 2.7, 'x': 120, 'y': 800}\n"
     ]
    }
   ],
   "source": [
    "x = yaml.safe_load(\n",
    "\"\"\"\n",
    "CONSTANTS: &ref\n",
    "  pi: 3.14\n",
    "  e: 2.7\n",
    "\n",
    "calcution:\n",
    "  <<: *ref\n",
    "  x: 120\n",
    "  y: 800\n",
    "\"\"\"\n",
    ")\n",
    "item = x[\"calcution\"]\n",
    "print(type(item), item)"
   ]
  },
  {
   "attachments": {},
   "cell_type": "markdown",
   "metadata": {},
   "source": [
    "---"
   ]
  },
  {
   "attachments": {},
   "cell_type": "markdown",
   "metadata": {},
   "source": [
    "### `yaml.dump()` : dump to 'str' or to a file\n",
    "### `yaml.safe_load()`: load from 'str' or to a file"
   ]
  },
  {
   "cell_type": "code",
   "execution_count": 8,
   "metadata": {},
   "outputs": [
    {
     "name": "stdout",
     "output_type": "stream",
     "text": [
      "<class 'str'>\n",
      "- name\n",
      "- age\n",
      "- 2000\n",
      "\n",
      "==================================================\n",
      "<class 'list'>\n",
      "['name', 'age', 2000]\n"
     ]
    }
   ],
   "source": [
    "data = [\n",
    "    \"name\", \"age\", 2000,\n",
    "]\n",
    "encoded = yaml.dump(data)\n",
    "print(type(encoded))\n",
    "print(encoded)\n",
    "print(\"=\" * 50)\n",
    "\n",
    "decoded = yaml.safe_load(encoded)\n",
    "print(type(decoded))\n",
    "print(decoded)"
   ]
  },
  {
   "cell_type": "code",
   "execution_count": 9,
   "metadata": {},
   "outputs": [],
   "source": [
    "data = {\n",
    "    \"students\": [\n",
    "        {\n",
    "            \"Name\": \"Ali\",\n",
    "            \"Grade\": [14.0, 20],\n",
    "        },\n",
    "        {\n",
    "            \"Name\": \"Masoud\",\n",
    "            \"Grade\": None,\n",
    "            \"is_in_class\": True\n",
    "        }\n",
    "    ]\n",
    "}"
   ]
  },
  {
   "cell_type": "code",
   "execution_count": 10,
   "metadata": {},
   "outputs": [
    {
     "name": "stdout",
     "output_type": "stream",
     "text": [
      "<class 'str'>\n",
      "students:\n",
      "- Grade:\n",
      "  - 14.0\n",
      "  - 20\n",
      "  Name: Ali\n",
      "- Grade: null\n",
      "  Name: Masoud\n",
      "  is_in_class: true\n",
      "\n",
      "==================================================\n",
      "<class 'dict'>\n",
      "{'students': [{'Grade': [14.0, 20], 'Name': 'Ali'}, {'Grade': None, 'Name': 'Masoud', 'is_in_class': True}]}\n",
      "==================================================\n"
     ]
    }
   ],
   "source": [
    "encoded = yaml.dump(data)  # encode to json, then convert to 'str', you can decode it to the original object.\n",
    "print(type(encoded))\n",
    "print(encoded)\n",
    "print(\"=\" * 50)\n",
    "\n",
    "decoded = yaml.safe_load(encoded) # convert the encoded 'str' to the original type 'dict'\n",
    "print(type(decoded))\n",
    "print(decoded)\n",
    "print(\"=\" * 50)"
   ]
  },
  {
   "cell_type": "code",
   "execution_count": 11,
   "metadata": {},
   "outputs": [
    {
     "name": "stdout",
     "output_type": "stream",
     "text": [
      "<class 'dict'>\n",
      "{'students': [{'Grade': [14.0, 20], 'Name': 'Ali'}, {'Grade': None, 'Name': 'Masoud', 'is_in_class': True}]}\n"
     ]
    }
   ],
   "source": [
    "with open(\"data/encoded_data.yaml\", \"w\") as f:\n",
    "    yaml.dump(data, f, indent=2)    # encode to json, then write to a file.\n",
    "\n",
    "    \n",
    "with open(\"data/encoded_data.yaml\", \"r\") as f:\n",
    "    output = yaml.safe_load(f)    # read file and convert it to the original type 'dict'\n",
    "\n",
    "print(type(output))\n",
    "print(output)"
   ]
  },
  {
   "cell_type": "code",
   "execution_count": 12,
   "metadata": {},
   "outputs": [
    {
     "data": {
      "text/plain": [
       "'this is test'"
      ]
     },
     "execution_count": 12,
     "metadata": {},
     "output_type": "execute_result"
    }
   ],
   "source": [
    "yaml.load(\"this is test\", Loader=yaml.SafeLoader)"
   ]
  },
  {
   "attachments": {},
   "cell_type": "markdown",
   "metadata": {},
   "source": [
    "## Parsing files with multiple YAML documents"
   ]
  },
  {
   "cell_type": "code",
   "execution_count": 13,
   "metadata": {},
   "outputs": [
    {
     "name": "stdout",
     "output_type": "stream",
     "text": [
      "docs = <generator object load_all at 0x7f92a2586a40>\n",
      "{'names': 1, 'name': 'Erik'}\n",
      "{'configs': 2, 'name': 'config'}\n",
      "{'emails': 'abcd@gmail.com', 'name': 'Patric'}\n"
     ]
    }
   ],
   "source": [
    "with open('data/multi_doc.yaml', 'r') as file:\n",
    "    docs = yaml.safe_load_all(file)\n",
    "    print(f\"docs = {docs}\")\n",
    "    # docs is a generator object and file has to be opened\n",
    "    for doc in docs:\n",
    "        print(doc)\n"
   ]
  },
  {
   "attachments": {},
   "cell_type": "markdown",
   "metadata": {},
   "source": [
    "## Writing (or dumping) YAML to a file"
   ]
  },
  {
   "cell_type": "code",
   "execution_count": 14,
   "metadata": {},
   "outputs": [
    {
     "name": "stdout",
     "output_type": "stream",
     "text": [
      "- Eric\n",
      "- Justin\n",
      "- Mary Kate\n",
      "\n"
     ]
    }
   ],
   "source": [
    "names_yaml = \"\"\"\n",
    "- 'Eric'\n",
    "- 'Justin'\n",
    "- 'Mary Kate'\n",
    "\"\"\"\n",
    "names = yaml.safe_load(names_yaml)\n",
    "\n",
    "with open('data/names.yaml', 'w') as file:\n",
    "    yaml.dump(names, file)\n",
    "\n",
    "with open('data/names.yaml') as file:\n",
    "    print(file.read()) "
   ]
  }
 ],
 "metadata": {
  "kernelspec": {
   "display_name": "Python 3",
   "language": "python",
   "name": "python3"
  },
  "language_info": {
   "codemirror_mode": {
    "name": "ipython",
    "version": 3
   },
   "file_extension": ".py",
   "mimetype": "text/x-python",
   "name": "python",
   "nbconvert_exporter": "python",
   "pygments_lexer": "ipython3",
   "version": "3.10.12"
  },
  "orig_nbformat": 4
 },
 "nbformat": 4,
 "nbformat_minor": 2
}
