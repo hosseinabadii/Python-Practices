{
 "cells": [
  {
   "cell_type": "markdown",
   "metadata": {},
   "source": [
    "## JSON : JavaScript Object Notation"
   ]
  },
  {
   "cell_type": "code",
   "execution_count": 1,
   "metadata": {},
   "outputs": [],
   "source": [
    "import json"
   ]
  },
  {
   "attachments": {},
   "cell_type": "markdown",
   "metadata": {},
   "source": [
    "Simple Python objects are translated to JSON according to a fairly intuitive conversion.  "
   ]
  },
  {
   "attachments": {},
   "cell_type": "markdown",
   "metadata": {},
   "source": [
    "|`Python`|`JSON`|\n",
    "|:--|:--|\n",
    "|`dict`|`object`|\n",
    "|`list tuple`|`array`|\n",
    "|`str`|`string`|\n",
    "|`int float `|`number`|\n",
    "|`True`|`true`|\n",
    "|`False`|`false`|\n",
    "|`None`|`null`|"
   ]
  },
  {
   "attachments": {},
   "cell_type": "markdown",
   "metadata": {},
   "source": [
    "---"
   ]
  },
  {
   "attachments": {},
   "cell_type": "markdown",
   "metadata": {},
   "source": [
    "### `json.dumps()` : dump to 'str'\n",
    "### `json.loads()`: load from 'str' "
   ]
  },
  {
   "cell_type": "code",
   "execution_count": 2,
   "metadata": {},
   "outputs": [
    {
     "name": "stdout",
     "output_type": "stream",
     "text": [
      "<class 'str'>\n",
      "[\"name\", \"age\", 2000]\n",
      "==================================================\n",
      "<class 'list'>\n",
      "['name', 'age', 2000]\n"
     ]
    }
   ],
   "source": [
    "data = [\n",
    "    \"name\", \"age\", 2000,\n",
    "]\n",
    "encoded = json.dumps(data)\n",
    "print(type(encoded))\n",
    "print(encoded)\n",
    "print(\"=\" * 50)\n",
    "\n",
    "decoded = json.loads(encoded)\n",
    "print(type(decoded))\n",
    "print(decoded)"
   ]
  },
  {
   "cell_type": "code",
   "execution_count": 3,
   "metadata": {},
   "outputs": [],
   "source": [
    "data = {\n",
    "    \"students\": [\n",
    "        {\n",
    "            \"Name\": \"Ali\",\n",
    "            \"Grade\": (14.0, 20),\n",
    "        },\n",
    "        {\n",
    "            \"Name\": \"Masoud\",\n",
    "            \"Grade\": None,\n",
    "            \"is_in_class\": True\n",
    "        }\n",
    "    ]\n",
    "}"
   ]
  },
  {
   "cell_type": "code",
   "execution_count": 4,
   "metadata": {},
   "outputs": [
    {
     "name": "stdout",
     "output_type": "stream",
     "text": [
      "<class 'str'>\n",
      "{\n",
      "  \"students\": [\n",
      "    {\n",
      "      \"Name\": \"Ali\",\n",
      "      \"Grade\": [\n",
      "        14.0,\n",
      "        20\n",
      "      ]\n",
      "    },\n",
      "    {\n",
      "      \"Name\": \"Masoud\",\n",
      "      \"Grade\": null,\n",
      "      \"is_in_class\": true\n",
      "    }\n",
      "  ]\n",
      "}\n",
      "==================================================\n",
      "<class 'dict'>\n",
      "{'students': [{'Name': 'Ali', 'Grade': [14.0, 20]}, {'Name': 'Masoud', 'Grade': None, 'is_in_class': True}]}\n",
      "==================================================\n"
     ]
    }
   ],
   "source": [
    "encoded = json.dumps(data, indent=2)  # encode to json, then convert to 'str', you can decode it to the original object.\n",
    "print(type(encoded))\n",
    "print(encoded)\n",
    "print(\"=\" * 50)\n",
    "\n",
    "decoded = json.loads(encoded) # convert the encoded 'str' to the original type 'dict'\n",
    "print(type(decoded))\n",
    "print(decoded)\n",
    "print(\"=\" * 50)"
   ]
  },
  {
   "attachments": {},
   "cell_type": "markdown",
   "metadata": {},
   "source": [
    "---"
   ]
  },
  {
   "attachments": {},
   "cell_type": "markdown",
   "metadata": {},
   "source": [
    "### `json.dump()` : dump to file\n",
    "### `json.load()`: load from file "
   ]
  },
  {
   "cell_type": "code",
   "execution_count": 5,
   "metadata": {},
   "outputs": [
    {
     "name": "stdout",
     "output_type": "stream",
     "text": [
      "<class 'dict'>\n",
      "{'students': [{'Name': 'Ali', 'Grade': [14.0, 20]}, {'Name': 'Masoud', 'Grade': None, 'is_in_class': True}]}\n"
     ]
    }
   ],
   "source": [
    "with open(\"data/encoded_data.json\", \"w\") as f:\n",
    "    json.dump(data, f, indent=2)    # encode to json, then write to a file.\n",
    "\n",
    "    \n",
    "with open(\"data/encoded_data.json\", \"r\") as f:\n",
    "    output = json.load(f)    # read file and convert it to the original type 'dict'\n",
    "\n",
    "print(type(output))\n",
    "print(output)"
   ]
  },
  {
   "cell_type": "markdown",
   "metadata": {},
   "source": [
    "---"
   ]
  },
  {
   "attachments": {},
   "cell_type": "markdown",
   "metadata": {},
   "source": [
    "## Pay attention\n",
    "In json \"name\" is acceptable not 'name' and the last element must don't have camma `,`"
   ]
  },
  {
   "attachments": {},
   "cell_type": "markdown",
   "metadata": {},
   "source": [
    "```python\n",
    "with open(\"data/test1.json\") as f:\n",
    "    output = json.load(f)\n",
    "```\n",
    "`JSONDecodeError`: Expecting property name enclosed in double quotes: line 2 column 5 (char 6)\n",
    "```python\n",
    "with open(\"data/test2.json\") as f:\n",
    "    output = json.load(f)\n",
    "```\n",
    "`JSONDecodeError`: Expecting property name enclosed in double quotes: line 4 column 1 (char 36)\n"
   ]
  },
  {
   "attachments": {},
   "cell_type": "markdown",
   "metadata": {},
   "source": [
    "---"
   ]
  }
 ],
 "metadata": {
  "kernelspec": {
   "display_name": "py310",
   "language": "python",
   "name": "python3"
  },
  "language_info": {
   "codemirror_mode": {
    "name": "ipython",
    "version": 3
   },
   "file_extension": ".py",
   "mimetype": "text/x-python",
   "name": "python",
   "nbconvert_exporter": "python",
   "pygments_lexer": "ipython3",
   "version": "3.10.12"
  },
  "orig_nbformat": 4
 },
 "nbformat": 4,
 "nbformat_minor": 2
}
