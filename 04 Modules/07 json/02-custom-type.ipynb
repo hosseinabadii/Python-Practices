{
 "cells": [
  {
   "attachments": {},
   "cell_type": "markdown",
   "metadata": {},
   "source": [
    "## Encoding and Decoding custom type objects"
   ]
  },
  {
   "cell_type": "code",
   "execution_count": 1,
   "metadata": {},
   "outputs": [],
   "source": [
    "import json\n",
    "import numpy as np\n",
    "from dataclasses import dataclass"
   ]
  },
  {
   "cell_type": "code",
   "execution_count": 2,
   "metadata": {},
   "outputs": [],
   "source": [
    "@dataclass\n",
    "class Order:\n",
    "    name: str\n",
    "    age: int\n",
    "    weight: int\n",
    "\n",
    "data = [\n",
    "    \"data of Class Order\",\n",
    "    Order(\"Kamran\", 20, 65),\n",
    "    Order(\"Mahtab\", 22, 70),\n",
    "    np.array([500, 600, 700]),\n",
    "]\n",
    "# encoded = json.dumps(data)\n",
    "# TypeError: Object of type Order is not JSON serializable"
   ]
  },
  {
   "cell_type": "code",
   "execution_count": 3,
   "metadata": {},
   "outputs": [],
   "source": [
    "# when json wants to raise the above error, call this function\n",
    "def custom_encoder(obj):\n",
    "    if isinstance(obj, Order):\n",
    "        return {\n",
    "            \"__order__\":{\n",
    "                \"name\": obj.name,\n",
    "                \"age\": obj.age,\n",
    "                \"weight\": obj.weight,\n",
    "            }\n",
    "        }\n",
    "    if isinstance(obj, np.ndarray):\n",
    "        return {\"__numpy__\": obj.tolist()}\n",
    "\n",
    "def custom_decoder(obj):\n",
    "    if \"__order__\" in obj:\n",
    "        order = obj[\"__order__\"]\n",
    "        return Order(order[\"name\"], order[\"age\"], order[\"weight\"])\n",
    "    if \"__numpy__\" in obj:\n",
    "        numpy_obj = obj[\"__numpy__\"]\n",
    "        return np.array(numpy_obj)\n",
    "    return obj"
   ]
  },
  {
   "cell_type": "code",
   "execution_count": 4,
   "metadata": {},
   "outputs": [
    {
     "name": "stdout",
     "output_type": "stream",
     "text": [
      "type of original: <class 'list'>\n",
      "['data of Class Order', Order(name='Kamran', age=20, weight=65), Order(name='Mahtab', age=22, weight=70), array([500, 600, 700])]\n",
      "==================================================\n",
      "type of encoded: <class 'str'>\n",
      "[\"data of Class Order\", {\"__order__\": {\"name\": \"Kamran\", \"age\": 20, \"weight\": 65}}, {\"__order__\": {\"name\": \"Mahtab\", \"age\": 22, \"weight\": 70}}, {\"__numpy__\": [500, 600, 700]}]\n",
      "==================================================\n",
      "type of decoded: <class 'list'>\n",
      "['data of Class Order', Order(name='Kamran', age=20, weight=65), Order(name='Mahtab', age=22, weight=70), array([500, 600, 700])]\n",
      "==================================================\n"
     ]
    }
   ],
   "source": [
    "print(f\"type of original: {type(data)}\")\n",
    "print(data)\n",
    "print(\"=\" * 50)\n",
    "\n",
    "encoded = json.dumps(data, default=custom_encoder)\n",
    "print(f\"type of encoded: {type(encoded)}\")\n",
    "print(encoded)\n",
    "print(\"=\" * 50)\n",
    "\n",
    "decoded = json.loads(encoded, object_hook=custom_decoder)\n",
    "print(f\"type of decoded: {type(decoded)}\")\n",
    "print(decoded)\n",
    "print(\"=\" * 50)"
   ]
  }
 ],
 "metadata": {
  "kernelspec": {
   "display_name": "py310",
   "language": "python",
   "name": "python3"
  },
  "language_info": {
   "codemirror_mode": {
    "name": "ipython",
    "version": 3
   },
   "file_extension": ".py",
   "mimetype": "text/x-python",
   "name": "python",
   "nbconvert_exporter": "python",
   "pygments_lexer": "ipython3",
   "version": "3.10.12"
  },
  "orig_nbformat": 4
 },
 "nbformat": 4,
 "nbformat_minor": 2
}
