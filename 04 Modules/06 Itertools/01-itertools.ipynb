{
 "cells": [
  {
   "cell_type": "code",
   "execution_count": 1,
   "id": "c2c8b734-9b0d-4cdc-89a5-0bd17638afcd",
   "metadata": {},
   "outputs": [],
   "source": [
    "import itertools as it\n",
    "%load_ext memory_profiler"
   ]
  },
  {
   "attachments": {},
   "cell_type": "markdown",
   "id": "34e614d2",
   "metadata": {},
   "source": [
    "---\n",
    "## `grouper()` function\n",
    "Write a function with iterators, and use itertools recipes can use memory efficiently."
   ]
  },
  {
   "cell_type": "code",
   "execution_count": 37,
   "id": "033cb0bf-d3db-4610-9bc1-4a1896879822",
   "metadata": {},
   "outputs": [],
   "source": [
    "def naive_grouper(inputs, n):\n",
    "    num_groups = len(inputs) // n\n",
    "    return [tuple(inputs[i*n:(i+1)*n]) for i in range(num_groups)]\n",
    "\n",
    "\n",
    "def better_grouper(inputs, n):\n",
    "    iterator = iter(inputs)\n",
    "    num_groups = len(inputs) // n\n",
    "    for _ in range(num_groups):\n",
    "        group = []\n",
    "        for _ in range(n):\n",
    "            group.append(next(iterator))\n",
    "        yield tuple(group)\n",
    "\n",
    "\n",
    "def best_grouper(inputs, n):\n",
    "    iters = [iter(inputs)] * n\n",
    "    return zip(*iters)"
   ]
  },
  {
   "cell_type": "code",
   "execution_count": 38,
   "id": "d29c6598",
   "metadata": {},
   "outputs": [
    {
     "name": "stdout",
     "output_type": "stream",
     "text": [
      "naive_grouper:\n",
      "(0, 1, 2), (3, 4, 5), (6, 7, 8), (9, 10, 11), (12, 13, 14), (15, 16, 17), \n",
      "better grouper:\n",
      "(0, 1, 2), (3, 4, 5), (6, 7, 8), (9, 10, 11), (12, 13, 14), (15, 16, 17), \n",
      "best grouper:\n",
      "(0, 1, 2), (3, 4, 5), (6, 7, 8), (9, 10, 11), (12, 13, 14), (15, 16, 17), "
     ]
    }
   ],
   "source": [
    "print(\"naive_grouper:\")\n",
    "for item in naive_grouper(range(20), 3):\n",
    "    print(item, end=\", \")\n",
    "\n",
    "print(\"\\nbetter grouper:\")\n",
    "for item in better_grouper(range(20), 3):\n",
    "    print(item, end=\", \")\n",
    "\n",
    "print(\"\\nbest grouper:\")\n",
    "for item in best_grouper(range(20), 3):\n",
    "    print(item, end=\", \")"
   ]
  },
  {
   "cell_type": "code",
   "execution_count": 39,
   "id": "33abf008-f5eb-4429-9507-69be922d8415",
   "metadata": {},
   "outputs": [
    {
     "name": "stdout",
     "output_type": "stream",
     "text": [
      "peak memory: 971.20 MiB, increment: 884.52 MiB\n"
     ]
    }
   ],
   "source": [
    "%%memit\n",
    "# this is neither memory efficient, nor cpu efficient.\n",
    "groups = naive_grouper(range(20_000_000), 10)\n",
    "for _ in groups:\n",
    "    pass"
   ]
  },
  {
   "cell_type": "code",
   "execution_count": 41,
   "id": "e66667e5",
   "metadata": {},
   "outputs": [
    {
     "name": "stdout",
     "output_type": "stream",
     "text": [
      "peak memory: 99.95 MiB, increment: 0.00 MiB\n"
     ]
    }
   ],
   "source": [
    "%%memit\n",
    "# this is memory efficient, but it's not cpu efficient.\n",
    "groups = better_grouper(range(20_000_000), 10)\n",
    "for _ in groups:\n",
    "    pass"
   ]
  },
  {
   "cell_type": "code",
   "execution_count": 44,
   "id": "dd68e1b1",
   "metadata": {},
   "outputs": [
    {
     "name": "stdout",
     "output_type": "stream",
     "text": [
      "peak memory: 99.95 MiB, increment: 0.00 MiB\n"
     ]
    }
   ],
   "source": [
    "%%memit\n",
    "# this is not only memory efficient, but also is cpu efficient.\n",
    "groups = best_grouper(range(20_000_000), 10)\n",
    "for _ in groups:\n",
    "    pass"
   ]
  },
  {
   "attachments": {},
   "cell_type": "markdown",
   "id": "6bdeba65-a213-41d2-b8c7-709fe1b36281",
   "metadata": {},
   "source": [
    "---\n",
    "## `it.zip_longest()`"
   ]
  },
  {
   "cell_type": "code",
   "execution_count": 52,
   "id": "ae5039d9-d1b1-4d6c-9981-7eca2b0b2ac8",
   "metadata": {},
   "outputs": [
    {
     "data": {
      "text/plain": [
       "[(10, 100), (20, 200), ('OK', 300)]"
      ]
     },
     "execution_count": 52,
     "metadata": {},
     "output_type": "execute_result"
    }
   ],
   "source": [
    "x = [10, 20]\n",
    "y = [100, 200, 300]\n",
    "list(it.zip_longest(x, y, fillvalue='OK'))"
   ]
  },
  {
   "attachments": {},
   "cell_type": "markdown",
   "id": "f566c432-90e5-4e64-a921-f80b4dee7b1f",
   "metadata": {},
   "source": [
    "---\n",
    "## `it.combinations()`\n",
    "\n",
    "The number of elements is fixed. In the following example:\n",
    "- number of 20: 3\n",
    "- number of 10: 5\n",
    "- number of 5 : 2\n",
    "- number of 1 : 5"
   ]
  },
  {
   "cell_type": "code",
   "execution_count": 195,
   "id": "3f34e88a-bbb7-4243-bbe0-2bd7b17ca84f",
   "metadata": {},
   "outputs": [
    {
     "name": "stdout",
     "output_type": "stream",
     "text": [
      "{(20, 20, 20, 10, 10, 10, 5, 1, 1, 1, 1, 1), (20, 20, 10, 10, 10, 10, 10, 5, 1, 1, 1, 1, 1), (20, 20, 10, 10, 10, 10, 10, 5, 5), (20, 20, 20, 10, 10, 10, 5, 5), (20, 20, 20, 10, 10, 10, 10)}\n"
     ]
    }
   ],
   "source": [
    "bills = [20, 20, 20, 10, 10, 10, 10, 10, 5, 5, 1, 1, 1, 1, 1]\n",
    "make_100 = []\n",
    "for n in range(1,len(bills) + 1):\n",
    "    for comb in it.combinations(bills, n):\n",
    "        if sum(comb) == 100:\n",
    "            make_100.append(comb)\n",
    "        \n",
    "print(set(make_100))"
   ]
  },
  {
   "attachments": {},
   "cell_type": "markdown",
   "id": "b79f5efb-c522-4074-8b70-965f4b404c32",
   "metadata": {},
   "source": [
    "---\n",
    "## `it.combinations_with_replacement()`\n",
    "Suppose that infinite number of each element exist. In the following example:\n",
    "- number of 10: inf\n",
    "- number of 20: inf\n",
    "- number of 30: inf"
   ]
  },
  {
   "cell_type": "code",
   "execution_count": 53,
   "id": "fba91b10-5420-4742-a5d0-4ee4e0488c14",
   "metadata": {},
   "outputs": [
    {
     "data": {
      "text/plain": [
       "[(10, 10, 10),\n",
       " (10, 10, 20),\n",
       " (10, 10, 30),\n",
       " (10, 20, 20),\n",
       " (10, 20, 30),\n",
       " (10, 30, 30),\n",
       " (20, 20, 20),\n",
       " (20, 20, 30),\n",
       " (20, 30, 30),\n",
       " (30, 30, 30)]"
      ]
     },
     "execution_count": 53,
     "metadata": {},
     "output_type": "execute_result"
    }
   ],
   "source": [
    "list(it.combinations_with_replacement([10, 20, 30], 3))"
   ]
  },
  {
   "attachments": {},
   "cell_type": "markdown",
   "id": "174a97e0-4f00-4e08-b5f0-568be4921b2c",
   "metadata": {},
   "source": [
    "---\n",
    "## `it.permutations()`"
   ]
  },
  {
   "cell_type": "code",
   "execution_count": null,
   "id": "5adde9a1",
   "metadata": {},
   "outputs": [
    {
     "data": {
      "text/plain": [
       "[('a', 'b', 'c'),\n",
       " ('a', 'c', 'b'),\n",
       " ('b', 'a', 'c'),\n",
       " ('b', 'c', 'a'),\n",
       " ('c', 'a', 'b'),\n",
       " ('c', 'b', 'a')]"
      ]
     },
     "metadata": {},
     "output_type": "display_data"
    }
   ],
   "source": [
    "list(it.permutations(['a', 'b', 'c']))"
   ]
  }
 ],
 "metadata": {
  "kernelspec": {
   "display_name": "Python 3 (ipykernel)",
   "language": "python",
   "name": "python3"
  },
  "language_info": {
   "codemirror_mode": {
    "name": "ipython",
    "version": 3
   },
   "file_extension": ".py",
   "mimetype": "text/x-python",
   "name": "python",
   "nbconvert_exporter": "python",
   "pygments_lexer": "ipython3",
   "version": "3.9.16"
  }
 },
 "nbformat": 4,
 "nbformat_minor": 5
}
