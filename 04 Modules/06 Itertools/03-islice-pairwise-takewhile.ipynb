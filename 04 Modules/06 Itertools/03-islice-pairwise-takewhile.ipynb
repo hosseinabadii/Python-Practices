{
 "cells": [
  {
   "cell_type": "markdown",
   "metadata": {},
   "source": [
    "## islice function"
   ]
  },
  {
   "cell_type": "code",
   "execution_count": 25,
   "metadata": {},
   "outputs": [
    {
     "name": "stdout",
     "output_type": "stream",
     "text": [
      "Using 'for' loop:\n",
      "line1  line2  line3  line4  line5  \n",
      "\n",
      "Using 'islice':\n",
      "line1  line2  line3  line4  line5  "
     ]
    }
   ],
   "source": [
    "lines = [\"line1\", \"line2\", \"line3\", \"line4\", \"line5\",\n",
    "        \"line6\", \"line7\", \"line8\", \"line9\", \"line10\",\n",
    "        ]\n",
    "\n",
    "print(\"Using 'for' loop:\")\n",
    "for i, line in enumerate(lines):\n",
    "    if i >= 5:\n",
    "        break\n",
    "    print(line, end=\"  \")\n",
    "print()\n",
    "\n",
    "print(\"\\nUsing 'islice':\")\n",
    "from itertools import islice\n",
    "\n",
    "first_five_line = islice(lines, 5)  # returns an iterator\n",
    "for line in first_five_line:\n",
    "    print(line, end=\"  \")"
   ]
  },
  {
   "attachments": {},
   "cell_type": "markdown",
   "metadata": {},
   "source": [
    "## pairwise function"
   ]
  },
  {
   "cell_type": "code",
   "execution_count": 30,
   "metadata": {},
   "outputs": [
    {
     "name": "stdout",
     "output_type": "stream",
     "text": [
      "Using 'for' loop:\n",
      "('A', 'B')  ('B', 'C')  ('C', 'D')  ('D', 'E')  ('E', 'F')  ('F', 'G')  ('G', 'H')  ('H', 'I')  \n",
      "\n",
      "Using 'pairwise':\n",
      "('A', 'B')  ('B', 'C')  ('C', 'D')  ('D', 'E')  ('E', 'F')  ('F', 'G')  ('G', 'H')  ('H', 'I')  "
     ]
    }
   ],
   "source": [
    "data = \"ABCDEFGHI\"\n",
    "\n",
    "print(\"Using 'for' loop:\")\n",
    "for i in range (len(data) - 1):\n",
    "    pair = (data[i], data[i+1])\n",
    "    print(pair, end=\"  \")\n",
    "print()\n",
    "\n",
    "print(\"\\nUsing 'pairwise':\")\n",
    "from itertools import pairwise\n",
    "\n",
    "for pair in pairwise(data):\n",
    "    print(pair, end=\"  \")"
   ]
  },
  {
   "cell_type": "markdown",
   "metadata": {},
   "source": [
    "## takewhile function"
   ]
  },
  {
   "cell_type": "code",
   "execution_count": 3,
   "metadata": {},
   "outputs": [
    {
     "name": "stdout",
     "output_type": "stream",
     "text": [
      "Using 'for' loop:\n",
      "1  2  4  10  \n",
      "\n",
      "Using 'takewhile':\n",
      "1  2  4  10  "
     ]
    }
   ],
   "source": [
    "items = [1, 2, 4, 10, -1, 11, 15]\n",
    "\n",
    "print(\"Using 'for' loop:\")\n",
    "for item in items:\n",
    "    if item >= 0:\n",
    "        print(item, end=\"  \")\n",
    "    else:\n",
    "        break\n",
    "print()\n",
    "\n",
    "print(\"\\nUsing 'takewhile':\")\n",
    "from itertools import takewhile\n",
    "new_items = takewhile(lambda x: x >= 0, items)\n",
    "for item in new_items:\n",
    "    print(item, end=\"  \")"
   ]
  }
 ],
 "metadata": {
  "kernelspec": {
   "display_name": "py310",
   "language": "python",
   "name": "python3"
  },
  "language_info": {
   "codemirror_mode": {
    "name": "ipython",
    "version": 3
   },
   "file_extension": ".py",
   "mimetype": "text/x-python",
   "name": "python",
   "nbconvert_exporter": "python",
   "pygments_lexer": "ipython3",
   "version": "3.10.12"
  },
  "orig_nbformat": 4
 },
 "nbformat": 4,
 "nbformat_minor": 2
}
