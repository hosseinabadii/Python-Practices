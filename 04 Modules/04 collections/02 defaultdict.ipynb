{
 "cells": [
  {
   "cell_type": "markdown",
   "id": "ef402bf7-bee2-4c7e-8b8c-fa6a27179901",
   "metadata": {},
   "source": [
    "## `defaultdict`"
   ]
  },
  {
   "cell_type": "code",
   "execution_count": 42,
   "id": "b657f881-fed8-4fa4-b6c3-5db6182319f4",
   "metadata": {},
   "outputs": [],
   "source": [
    "from collections import defaultdict\n",
    "#\n",
    "# defaultdict(default_factory=None, /, [...]) --> dict with default factory\n",
    "\n",
    "# The default factory is called without arguments \n",
    "# to produce a new value when a key is not present, in __getitem__ only. \n",
    "# A defaultdict compares equal to a dict with the same items. \n",
    "# All remaining arguments are treated the same as if they were passed to the dict constructor, \n",
    "# including keyword arguments."
   ]
  },
  {
   "cell_type": "code",
   "execution_count": 51,
   "id": "206bba52",
   "metadata": {},
   "outputs": [
    {
     "name": "stdout",
     "output_type": "stream",
     "text": [
      "for the key 'item 1' produce an integer value 0\n",
      "for the key 'item 1' produce an string  value ''\n",
      "for the key 'item 1' produce an float   value 0.0  \n",
      "\n",
      ".get() method doesn't produce an integer value, it just returns None\n",
      ".get() method doesn't produce an string  value, it just returns None\n",
      ".get() method doesn't produce an float   value, it just returns None  \n"
     ]
    }
   ],
   "source": [
    "integers = defaultdict(int)\n",
    "strings = defaultdict(str)\n",
    "floats = defaultdict(float)\n",
    "\n",
    "print(f\"for the key 'item 1' produce an integer value {integers['item 1']!r}\")\n",
    "print(f\"for the key 'item 1' produce an string  value {strings['item 1']!r}\")\n",
    "print(f\"for the key 'item 1' produce an float   value {floats['item 1']!r}  \")\n",
    "print()\n",
    "print(f\".get() method doesn't produce an integer value, it just returns {integers.get('item 2')!r}\")\n",
    "print(f\".get() method doesn't produce an string  value, it just returns {strings.get('item 2')!r}\")\n",
    "print(f\".get() method doesn't produce an float   value, it just returns {floats.get('item 2')!r}  \")"
   ]
  },
  {
   "cell_type": "code",
   "execution_count": 65,
   "id": "ac50ec5e-e1f4-4246-aea6-57aa1dac6dab",
   "metadata": {},
   "outputs": [
    {
     "name": "stdout",
     "output_type": "stream",
     "text": [
      "Mike: 5\n",
      "John: 3\n",
      "Anna: 2\n",
      "Britney: 1\n",
      "Smith: 2\n"
     ]
    }
   ],
   "source": [
    "names = \"Mike John Mike Anna Mike John John Mike Mike Britney Smith Anna Smith\".split()\n",
    "counts = defaultdict(int)\n",
    "for name in names:\n",
    "    counts[name] += 1\n",
    "    \n",
    "for k,v in counts.items():\n",
    "    print(f'{k}: {v}')"
   ]
  }
 ],
 "metadata": {
  "kernelspec": {
   "display_name": "Python 3 (ipykernel)",
   "language": "python",
   "name": "python3"
  },
  "language_info": {
   "codemirror_mode": {
    "name": "ipython",
    "version": 3
   },
   "file_extension": ".py",
   "mimetype": "text/x-python",
   "name": "python",
   "nbconvert_exporter": "python",
   "pygments_lexer": "ipython3",
   "version": "3.9.16"
  }
 },
 "nbformat": 4,
 "nbformat_minor": 5
}
