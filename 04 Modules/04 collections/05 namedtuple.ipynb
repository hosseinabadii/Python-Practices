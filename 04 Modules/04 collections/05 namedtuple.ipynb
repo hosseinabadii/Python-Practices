{
 "cells": [
  {
   "cell_type": "markdown",
   "id": "ef402bf7-bee2-4c7e-8b8c-fa6a27179901",
   "metadata": {},
   "source": [
    "## `namedtuple`"
   ]
  },
  {
   "cell_type": "code",
   "execution_count": 2,
   "id": "b657f881-fed8-4fa4-b6c3-5db6182319f4",
   "metadata": {},
   "outputs": [],
   "source": [
    "from collections import namedtuple\n",
    "# Returns a new subclass of tuple with named fields.\n",
    "# It is useful when tou have very much tuples which\n",
    "# have a common blueprint\n",
    "# If the numbers are very low, dictionary is very better."
   ]
  },
  {
   "cell_type": "code",
   "execution_count": 3,
   "id": "e94e7a77-ed3d-494e-a403-c7473693c186",
   "metadata": {},
   "outputs": [
    {
     "name": "stdout",
     "output_type": "stream",
     "text": [
      "User(fname='Khosro', lname='HosseinAbadi', age=31)\n",
      "('fname', 'lname', 'age')\n",
      "Khosro HosseinAbadi 31\n",
      "Khosro HosseinAbadi 31\n"
     ]
    }
   ],
   "source": [
    "User = namedtuple('User', ['fname', 'lname', 'age'])\n",
    "user1 = User(fname='Khosro', lname='HosseinAbadi', age=31)\n",
    "print(user1)\n",
    "print(User._fields)\n",
    "print(user1.fname, user1.lname, user1.age)\n",
    "print(user1[0], user1[1], user1[2])"
   ]
  },
  {
   "cell_type": "code",
   "execution_count": 4,
   "id": "bb901c04-d249-4ce8-9883-91318305e1ca",
   "metadata": {},
   "outputs": [
    {
     "ename": "AttributeError",
     "evalue": "can't set attribute",
     "output_type": "error",
     "traceback": [
      "\u001b[0;31m---------------------------------------------------------------------------\u001b[0m",
      "\u001b[0;31mAttributeError\u001b[0m                            Traceback (most recent call last)",
      "Cell \u001b[0;32mIn[4], line 1\u001b[0m\n\u001b[0;32m----> 1\u001b[0m user1\u001b[39m.\u001b[39mfname \u001b[39m=\u001b[39m \u001b[39m'\u001b[39m\u001b[39mAli\u001b[39m\u001b[39m'\u001b[39m\n",
      "\u001b[0;31mAttributeError\u001b[0m: can't set attribute"
     ]
    }
   ],
   "source": [
    "user1.fname = 'Ali'"
   ]
  },
  {
   "cell_type": "code",
   "execution_count": 5,
   "id": "523455c3-e5e6-40a5-9340-8e5768b68902",
   "metadata": {},
   "outputs": [
    {
     "name": "stdout",
     "output_type": "stream",
     "text": [
      "User(fname='Khosro', lname='HosseinAbadi', age=31)\n",
      "User(fname='Ali', lname='HosseinAbadi', age=31)\n"
     ]
    }
   ],
   "source": [
    "user2 = user1._replace(fname='Ali')\n",
    "print(user1)\n",
    "print(user2)"
   ]
  }
 ],
 "metadata": {
  "kernelspec": {
   "display_name": "Python 3 (ipykernel)",
   "language": "python",
   "name": "python3"
  },
  "language_info": {
   "codemirror_mode": {
    "name": "ipython",
    "version": 3
   },
   "file_extension": ".py",
   "mimetype": "text/x-python",
   "name": "python",
   "nbconvert_exporter": "python",
   "pygments_lexer": "ipython3",
   "version": "3.9.16"
  }
 },
 "nbformat": 4,
 "nbformat_minor": 5
}
