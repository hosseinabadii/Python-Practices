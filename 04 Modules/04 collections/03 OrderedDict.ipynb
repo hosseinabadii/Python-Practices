{
 "cells": [
  {
   "cell_type": "markdown",
   "id": "ef402bf7-bee2-4c7e-8b8c-fa6a27179901",
   "metadata": {},
   "source": [
    "## `OrderedDict`"
   ]
  },
  {
   "cell_type": "code",
   "execution_count": 17,
   "id": "b657f881-fed8-4fa4-b6c3-5db6182319f4",
   "metadata": {},
   "outputs": [],
   "source": [
    "from collections import OrderedDict\n",
    "# It is a dictionary remembers insertion order"
   ]
  },
  {
   "cell_type": "code",
   "execution_count": 15,
   "id": "ac50ec5e-e1f4-4246-aea6-57aa1dac6dab",
   "metadata": {},
   "outputs": [
    {
     "name": "stdout",
     "output_type": "stream",
     "text": [
      "home: Big House\n",
      "animal: Cat\n",
      "country: Canada\n"
     ]
    }
   ],
   "source": [
    "od = OrderedDict()\n",
    "od['home'] = 'Big House'\n",
    "od['animal'] = 'Cat'\n",
    "od['country'] = 'Canada'\n",
    "# od = OrderedDict(home=\"Big House\", animal=\"Cat\", country=\"Country\")\n",
    "for k,v in od.items():\n",
    "    print(f'{k}: {v}')"
   ]
  },
  {
   "cell_type": "code",
   "execution_count": 18,
   "id": "24b46c7c-e4a8-467e-8f33-a0d2a9d717f7",
   "metadata": {},
   "outputs": [
    {
     "name": "stdout",
     "output_type": "stream",
     "text": [
      "home: Big House\n",
      "animal: Cat\n",
      "country: Country\n"
     ]
    }
   ],
   "source": [
    "# In Python 3.7 and later versions, the insertion order of items in dictionaries is guaranteed to be preserved.\n",
    "# This was made possible by the implementation of a new CPython dictionary implementation called \"compact dict\".\n",
    "my_dict = dict(home=\"Big House\", animal=\"Cat\", country=\"Country\")\n",
    "for k,v in my_dict.items():\n",
    "    print(f'{k}: {v}')"
   ]
  }
 ],
 "metadata": {
  "kernelspec": {
   "display_name": "Python 3 (ipykernel)",
   "language": "python",
   "name": "python3"
  },
  "language_info": {
   "codemirror_mode": {
    "name": "ipython",
    "version": 3
   },
   "file_extension": ".py",
   "mimetype": "text/x-python",
   "name": "python",
   "nbconvert_exporter": "python",
   "pygments_lexer": "ipython3",
   "version": "3.9.16"
  }
 },
 "nbformat": 4,
 "nbformat_minor": 5
}
