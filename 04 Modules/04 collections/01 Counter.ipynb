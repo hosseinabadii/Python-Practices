{
 "cells": [
  {
   "cell_type": "markdown",
   "id": "fed28989-b71a-498d-b4a0-e111fcb795a8",
   "metadata": {},
   "source": [
    "## `Counter`"
   ]
  },
  {
   "cell_type": "code",
   "execution_count": 1,
   "id": "24772510-c799-4368-bdf7-443e635e38e7",
   "metadata": {
    "tags": []
   },
   "outputs": [],
   "source": [
    "from collections import Counter"
   ]
  },
  {
   "cell_type": "code",
   "execution_count": 2,
   "id": "2e360e99-c744-4b98-aab2-d3e9a4d1e7e8",
   "metadata": {},
   "outputs": [],
   "source": [
    "mylist = ['a', 'c', 'a', 'a', 'a', 'c', 'b', 'b', 'b']"
   ]
  },
  {
   "cell_type": "code",
   "execution_count": 12,
   "id": "5668deb5-6275-4471-a844-a3bee8c613c5",
   "metadata": {},
   "outputs": [
    {
     "name": "stdout",
     "output_type": "stream",
     "text": [
      "{'a': 4, 'c': 2, 'b': 3}\n"
     ]
    }
   ],
   "source": [
    "x = {}\n",
    "for item in mylist:\n",
    "    x[item] = x.get(item, 0) + 1\n",
    "print(x)"
   ]
  },
  {
   "cell_type": "code",
   "execution_count": 14,
   "id": "21996c81",
   "metadata": {},
   "outputs": [
    {
     "name": "stdout",
     "output_type": "stream",
     "text": [
      "{'b': 3, 'a': 4, 'c': 2}\n"
     ]
    }
   ],
   "source": [
    "x = {}\n",
    "for item in set(mylist):\n",
    "    x[item] = mylist.count(item)\n",
    "print(x)"
   ]
  },
  {
   "cell_type": "code",
   "execution_count": 4,
   "id": "48572ed2-99ec-48c6-ba49-d5f3bfe7731d",
   "metadata": {},
   "outputs": [
    {
     "name": "stdout",
     "output_type": "stream",
     "text": [
      "__str__ : Counter({'a': 4, 'b': 3, 'c': 2})\n",
      "get value of element 'b' like dictionary:  3\n",
      "get value of element 'b' like dictionary:  3\n",
      "get value of element 'f' like dictionary:  0\n",
      "get value of element 'f' like dictionary:  0\n",
      "------------------------------\n",
      "use for loop like dictionary: \n",
      "number of a = 4\n",
      "number of c = 2\n",
      "number of b = 3\n"
     ]
    }
   ],
   "source": [
    "counter = Counter(mylist)\n",
    "print('__str__ :', counter)\n",
    "print(\"get value of element 'b' like dictionary: \", counter['b'])\n",
    "print(\"get value of element 'b' like dictionary: \", counter.get('b'))\n",
    "print(\"get value of element 'f' like dictionary: \", counter['f'])        # by default return 0 as like .get() method\n",
    "print(\"get value of element 'f' like dictionary: \", counter.get('f', 0))\n",
    "print('-' * 30)\n",
    "print('use for loop like dictionary: ')\n",
    "for k, v in counter.items():\n",
    "    print(f'number of {k} = {v}')"
   ]
  },
  {
   "cell_type": "code",
   "execution_count": 5,
   "id": "1e53e376-422a-4f5c-a968-5dceb9d93447",
   "metadata": {},
   "outputs": [
    {
     "data": {
      "text/plain": [
       "['a', 'a', 'a', 'a', 'c', 'c', 'b', 'b', 'b']"
      ]
     },
     "execution_count": 5,
     "metadata": {},
     "output_type": "execute_result"
    }
   ],
   "source": [
    "list(counter.elements())"
   ]
  },
  {
   "cell_type": "code",
   "execution_count": 6,
   "id": "8387aef3-7691-4a2a-9a3f-bb85c01d1b08",
   "metadata": {},
   "outputs": [
    {
     "data": {
      "text/plain": [
       "dict_keys(['a', 'c', 'b'])"
      ]
     },
     "execution_count": 6,
     "metadata": {},
     "output_type": "execute_result"
    }
   ],
   "source": [
    "counter.keys()"
   ]
  },
  {
   "cell_type": "code",
   "execution_count": 7,
   "id": "a8587f8b-e1f5-4b28-bf6a-d5f5b30e8cfb",
   "metadata": {},
   "outputs": [
    {
     "data": {
      "text/plain": [
       "dict_values([4, 2, 3])"
      ]
     },
     "execution_count": 7,
     "metadata": {},
     "output_type": "execute_result"
    }
   ],
   "source": [
    "counter.values()"
   ]
  },
  {
   "cell_type": "code",
   "execution_count": 9,
   "id": "b7c9155f-0002-409f-b79b-682aedad543c",
   "metadata": {},
   "outputs": [
    {
     "data": {
      "text/plain": [
       "[('a', 4), ('b', 3)]"
      ]
     },
     "execution_count": 9,
     "metadata": {},
     "output_type": "execute_result"
    }
   ],
   "source": [
    "counter.most_common(2)"
   ]
  },
  {
   "cell_type": "code",
   "execution_count": 10,
   "id": "fa4e616d-1ee0-4108-8b2b-1b6c834948bd",
   "metadata": {},
   "outputs": [
    {
     "name": "stdout",
     "output_type": "stream",
     "text": [
      "Counter({'a': 4, 'b': 3, 'c': 2})\n",
      "Counter({'a': 6, 'b': 2})\n",
      "Counter({'c': 2, 'b': 1})\n"
     ]
    }
   ],
   "source": [
    "counter2 = Counter(['a', 'a', 'a', 'a', 'a', 'a', 'b', 'b'])\n",
    "print(counter)\n",
    "print(counter2)\n",
    "print(counter - counter2)"
   ]
  },
  {
   "cell_type": "code",
   "execution_count": 11,
   "id": "60eb0cfd-eb49-4ab2-b6c3-1430daa21507",
   "metadata": {},
   "outputs": [
    {
     "data": {
      "text/plain": [
       "Counter({'a': -2, 'c': 2, 'b': 1})"
      ]
     },
     "execution_count": 11,
     "metadata": {},
     "output_type": "execute_result"
    }
   ],
   "source": [
    "counter.subtract(counter2) # subtract in-place maybe return negetive values!\n",
    "counter"
   ]
  }
 ],
 "metadata": {
  "kernelspec": {
   "display_name": "Python 3 (ipykernel)",
   "language": "python",
   "name": "python3"
  },
  "language_info": {
   "codemirror_mode": {
    "name": "ipython",
    "version": 3
   },
   "file_extension": ".py",
   "mimetype": "text/x-python",
   "name": "python",
   "nbconvert_exporter": "python",
   "pygments_lexer": "ipython3",
   "version": "3.9.16"
  }
 },
 "nbformat": 4,
 "nbformat_minor": 5
}
