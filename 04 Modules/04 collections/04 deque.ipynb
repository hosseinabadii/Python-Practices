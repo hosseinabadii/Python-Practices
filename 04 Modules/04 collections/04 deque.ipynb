{
 "cells": [
  {
   "cell_type": "markdown",
   "id": "ef402bf7-bee2-4c7e-8b8c-fa6a27179901",
   "metadata": {},
   "source": [
    "## `deque`"
   ]
  },
  {
   "cell_type": "code",
   "execution_count": 4,
   "id": "b657f881-fed8-4fa4-b6c3-5db6182319f4",
   "metadata": {},
   "outputs": [],
   "source": [
    "from collections import deque\n",
    "# A list-like sequence optimized for data accesses near its endpoints.\n",
    "# deque methods:\n",
    "# append, appendleft,\n",
    "# extend, extendleft,\n",
    "# pop, popleft,\n",
    "# index, insert, maxlen, remove, reverse, rotate, clear, copy, count, "
   ]
  },
  {
   "cell_type": "code",
   "execution_count": 3,
   "id": "ac50ec5e-e1f4-4246-aea6-57aa1dac6dab",
   "metadata": {},
   "outputs": [
    {
     "name": "stdout",
     "output_type": "stream",
     "text": [
      "deque([0, 1, 2, 3, 4, 5, 6, 7, 8, 9]) \n",
      "-----------------------\n",
      "deque(['name', 0, 1, 2, 3, 4, 5, 6, 7, 8, 9]) \n",
      "-----------------------\n",
      "deque(['b', 'a', 'name', 0, 1, 2, 3, 4, 5, 6, 7, 8, 9]) \n",
      "-----------------------\n",
      "deque(['a', 'name', 0, 1, 2, 3, 4, 5, 6, 7, 8, 9]) \n",
      "-----------------------\n",
      "count of 2 =  1 \n",
      "-----------------------\n"
     ]
    }
   ],
   "source": [
    "de = deque(range(10))\n",
    "print(de, '\\n-----------------------')\n",
    "de.appendleft('name')\n",
    "print(de, '\\n-----------------------')\n",
    "de.extendleft(['a', 'b'])\n",
    "print(de, '\\n-----------------------')\n",
    "de.popleft()\n",
    "print(de, '\\n-----------------------')\n",
    "print('count of 2 = ', de.count(2), '\\n-----------------------')"
   ]
  }
 ],
 "metadata": {
  "kernelspec": {
   "display_name": "Python 3 (ipykernel)",
   "language": "python",
   "name": "python3"
  },
  "language_info": {
   "codemirror_mode": {
    "name": "ipython",
    "version": 3
   },
   "file_extension": ".py",
   "mimetype": "text/x-python",
   "name": "python",
   "nbconvert_exporter": "python",
   "pygments_lexer": "ipython3",
   "version": "3.9.16"
  }
 },
 "nbformat": 4,
 "nbformat_minor": 5
}
