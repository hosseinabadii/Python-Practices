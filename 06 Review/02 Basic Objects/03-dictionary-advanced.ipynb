{
 "cells": [
  {
   "attachments": {},
   "cell_type": "markdown",
   "metadata": {},
   "source": [
    "## dictionary rebinding, .copy()"
   ]
  },
  {
   "cell_type": "code",
   "execution_count": 3,
   "metadata": {},
   "outputs": [
    {
     "name": "stdout",
     "output_type": "stream",
     "text": [
      "original dict: {'a': 10, 'b': 20, 'c': 30, 'd': 40}\n",
      "new dict     : {'a': 10, 'b': 20, 'c': 30, 'd': 40}\n"
     ]
    }
   ],
   "source": [
    "# rebinding: we have two references (variables) that refer to one dict object.\n",
    "original_dict = {\"a\": 10, \"b\": 20, \"c\": 30}\n",
    "new_dict = original_dict\n",
    "new_dict[\"d\"] = 40\n",
    "print(f\"original dict: {original_dict}\")\n",
    "print(f\"new dict     : {new_dict}\")\n"
   ]
  },
  {
   "cell_type": "code",
   "execution_count": 5,
   "metadata": {},
   "outputs": [
    {
     "name": "stdout",
     "output_type": "stream",
     "text": [
      "original dict: {'a': 10, 'b': 20, 'c': 30}\n",
      "new dict     : {'a': 10, 'b': 20, 'c': 30, 'd': 40}\n"
     ]
    }
   ],
   "source": [
    "# .copy() method, returns a copy of dict object (a new object):\n",
    "original_dict = {\"a\": 10, \"b\": 20, \"c\": 30}\n",
    "new_dict = original_dict.copy()\n",
    "new_dict[\"d\"] = 40\n",
    "print(f\"original dict: {original_dict}\")\n",
    "print(f\"new dict     : {new_dict}\")"
   ]
  }
 ],
 "metadata": {
  "kernelspec": {
   "display_name": "tamrin",
   "language": "python",
   "name": "python3"
  },
  "language_info": {
   "codemirror_mode": {
    "name": "ipython",
    "version": 3
   },
   "file_extension": ".py",
   "mimetype": "text/x-python",
   "name": "python",
   "nbconvert_exporter": "python",
   "pygments_lexer": "ipython3",
   "version": "3.9.16"
  },
  "orig_nbformat": 4
 },
 "nbformat": 4,
 "nbformat_minor": 2
}
