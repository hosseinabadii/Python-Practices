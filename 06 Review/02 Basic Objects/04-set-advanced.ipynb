{
 "cells": [
  {
   "cell_type": "code",
   "execution_count": 6,
   "metadata": {},
   "outputs": [
    {
     "name": "stdout",
     "output_type": "stream",
     "text": [
      "A fozenset object does't have the following methods:\n",
      " - difference_update\n",
      " - intersection_update\n",
      " - clear\n",
      " - discard\n",
      " - add\n",
      " - remove\n",
      " - symmetric_difference_update\n",
      " - pop\n",
      " - update\n"
     ]
    }
   ],
   "source": [
    "# you can not modify a frozenset object.\n",
    "fset = frozenset((10, 20, 30))\n",
    "s = set((10, 20, 30))\n",
    "diff_methods = set(dir(s)).difference(set(dir(fset)))\n",
    "print(\"A fozenset object does't have the following methods:\")\n",
    "for method in diff_methods:\n",
    "    if not method.startswith(\"_\"):\n",
    "        print(f\" - {method}\")"
   ]
  }
 ],
 "metadata": {
  "kernelspec": {
   "display_name": "tamrin",
   "language": "python",
   "name": "python3"
  },
  "language_info": {
   "codemirror_mode": {
    "name": "ipython",
    "version": 3
   },
   "file_extension": ".py",
   "mimetype": "text/x-python",
   "name": "python",
   "nbconvert_exporter": "python",
   "pygments_lexer": "ipython3",
   "version": "3.10.12"
  },
  "orig_nbformat": 4
 },
 "nbformat": 4,
 "nbformat_minor": 2
}
