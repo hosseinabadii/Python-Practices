{
 "cells": [
  {
   "cell_type": "code",
   "execution_count": 2,
   "metadata": {},
   "outputs": [
    {
     "name": "stdout",
     "output_type": "stream",
     "text": [
      "type of a is : <class 'int'>\n",
      "type of b is : <class 'str'>\n",
      "type of c is : <class 'tuple'>\n"
     ]
    }
   ],
   "source": [
    "a = (50)\n",
    "b = (\"python\")\n",
    "c = (12, )\n",
    "print(f\"type of a is : {type(a)}\")\n",
    "print(f\"type of b is : {type(b)}\")\n",
    "print(f\"type of c is : {type(c)}\")"
   ]
  }
 ],
 "metadata": {
  "kernelspec": {
   "display_name": "tamrin",
   "language": "python",
   "name": "python3"
  },
  "language_info": {
   "codemirror_mode": {
    "name": "ipython",
    "version": 3
   },
   "file_extension": ".py",
   "mimetype": "text/x-python",
   "name": "python",
   "nbconvert_exporter": "python",
   "pygments_lexer": "ipython3",
   "version": "3.9.16"
  },
  "orig_nbformat": 4
 },
 "nbformat": 4,
 "nbformat_minor": 2
}
