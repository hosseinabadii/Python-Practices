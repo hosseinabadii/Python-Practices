{
 "cells": [
  {
   "cell_type": "markdown",
   "id": "f9024049-48f6-48d1-951d-71941920d580",
   "metadata": {},
   "source": [
    "## Mutable Default Parameters"
   ]
  },
  {
   "cell_type": "code",
   "execution_count": 26,
   "id": "0b5ca6f9-67de-4b85-a243-fbc93c27f604",
   "metadata": {},
   "outputs": [],
   "source": [
    "def add(my_list=[]):\n",
    "    my_list.append(\"#\")\n",
    "    return my_list"
   ]
  },
  {
   "cell_type": "code",
   "execution_count": 27,
   "id": "dbdefe61-42b8-471f-9d21-ade45330c4bb",
   "metadata": {},
   "outputs": [
    {
     "data": {
      "text/plain": [
       "['#']"
      ]
     },
     "execution_count": 27,
     "metadata": {},
     "output_type": "execute_result"
    }
   ],
   "source": [
    "add()"
   ]
  },
  {
   "cell_type": "code",
   "execution_count": 65,
   "id": "7d7778e5-81be-45f5-892c-febec41226de",
   "metadata": {},
   "outputs": [
    {
     "data": {
      "text/plain": [
       "['#', '#', '#', '#']"
      ]
     },
     "execution_count": 65,
     "metadata": {},
     "output_type": "execute_result"
    }
   ],
   "source": [
    "# Usually we don't expect this, we want everytime create a new empty list\n",
    "add()"
   ]
  },
  {
   "cell_type": "code",
   "execution_count": 29,
   "id": "218bbc2b-a8df-41f7-be10-d3af1b035990",
   "metadata": {},
   "outputs": [],
   "source": [
    "list1 = [1, 2, 3]"
   ]
  },
  {
   "cell_type": "code",
   "execution_count": 30,
   "id": "5c33b6c0-0389-4e29-b6bb-e2991643e090",
   "metadata": {},
   "outputs": [
    {
     "data": {
      "text/plain": [
       "[1, 2, 3, '#']"
      ]
     },
     "execution_count": 30,
     "metadata": {},
     "output_type": "execute_result"
    }
   ],
   "source": [
    "add(list1) # It's OK! "
   ]
  },
  {
   "cell_type": "code",
   "execution_count": 39,
   "id": "8c288513-f039-4a7b-9347-968f6e385c35",
   "metadata": {},
   "outputs": [],
   "source": [
    "def add_none_default(mylist=None):\n",
    "    if mylist is None:\n",
    "        mylist = []\n",
    "    mylist.append(\"#\")\n",
    "    return mylist"
   ]
  },
  {
   "cell_type": "code",
   "execution_count": 48,
   "id": "b6a9476a-96c8-4634-b272-efc2176e7258",
   "metadata": {},
   "outputs": [
    {
     "data": {
      "text/plain": [
       "['#']"
      ]
     },
     "execution_count": 48,
     "metadata": {},
     "output_type": "execute_result"
    }
   ],
   "source": [
    "add_none_default()"
   ]
  },
  {
   "cell_type": "code",
   "execution_count": 63,
   "id": "5495cd1f-e7c3-445f-b45f-95fe1e3d95b5",
   "metadata": {},
   "outputs": [
    {
     "data": {
      "text/plain": [
       "['#']"
      ]
     },
     "execution_count": 63,
     "metadata": {},
     "output_type": "execute_result"
    }
   ],
   "source": [
    "# Everytime creates a new list object\n",
    "add_none_default()"
   ]
  },
  {
   "cell_type": "code",
   "execution_count": 66,
   "id": "d72072f3-77b0-47e2-8f0a-03dba5ec61de",
   "metadata": {},
   "outputs": [],
   "source": [
    "list2 = [1, 2, 3]"
   ]
  },
  {
   "cell_type": "code",
   "execution_count": 72,
   "id": "6b91b7bc-90af-4d19-9692-abde69fbbdae",
   "metadata": {},
   "outputs": [
    {
     "data": {
      "text/plain": [
       "[1, 2, 3, '#', '#', '#', '#', '#', '#']"
      ]
     },
     "execution_count": 72,
     "metadata": {},
     "output_type": "execute_result"
    }
   ],
   "source": [
    "add_none_default(list2)"
   ]
  },
  {
   "cell_type": "markdown",
   "id": "6545bd46-c4d1-423c-a469-588171e3cf16",
   "metadata": {},
   "source": [
    "## Pass-By-Value vs Pass-By-Reference"
   ]
  },
  {
   "cell_type": "markdown",
   "id": "0d465aad-7d4b-4464-92cd-a6f29b7e3d63",
   "metadata": {},
   "source": [
    "In programming language design, there are two common paradigms for passing an argument to a function:\n",
    "\n",
    "- **Pass-by-value:** A copy of the argument is passed to the function. (Not in Python)\n",
    "- **Pass-by-reference:** A reference to the argument is passed to the function. (In Python)"
   ]
  },
  {
   "cell_type": "code",
   "execution_count": 152,
   "id": "8f1f586d-9614-4660-8f97-43252e89bfc4",
   "metadata": {},
   "outputs": [],
   "source": [
    "def f(x):\n",
    "    print('x id before :', id(x), x)\n",
    "    x = 500   # rebinding because of assignment\n",
    "    print('x id after  :', id(x), x)\n",
    "    return x"
   ]
  },
  {
   "cell_type": "code",
   "execution_count": 153,
   "id": "0d065a0f-33d7-4d49-b5f1-f805d2e7712e",
   "metadata": {},
   "outputs": [
    {
     "name": "stdout",
     "output_type": "stream",
     "text": [
      "y id before : 139952096488496 300\n",
      "x id before : 139952096488496 300\n",
      "x id after  : 139952096487376 500\n",
      "y id after  : 139952096488496 300\n"
     ]
    }
   ],
   "source": [
    "y = 300\n",
    "print('y id before :', id(y), y)\n",
    "f(y)\n",
    "print('y id after  :', id(y), y)"
   ]
  },
  {
   "cell_type": "code",
   "execution_count": 156,
   "id": "fe2d5877-23be-4668-bc13-fe9d2a84a1ef",
   "metadata": {},
   "outputs": [],
   "source": [
    "def g(x, i):\n",
    "    print('x id before :', id(x), x)\n",
    "    x.append(i)   # No rebinding because no assignment\n",
    "    print('x id after  :', id(x), x)\n",
    "    return x"
   ]
  },
  {
   "cell_type": "code",
   "execution_count": 157,
   "id": "09d74fb6-7260-4cc4-b6d5-b2a51edc1da4",
   "metadata": {},
   "outputs": [
    {
     "name": "stdout",
     "output_type": "stream",
     "text": [
      "y id before : 139952096304704 []\n",
      "x id before : 139952096304704 []\n",
      "x id after  : 139952096304704 [100]\n",
      "y id after  : 139952096304704 [100]\n",
      "\n",
      "x id before : 139952096304704 [100]\n",
      "x id after  : 139952096304704 [100, 200]\n",
      "y id after  : 139952096304704 [100, 200]\n"
     ]
    }
   ],
   "source": [
    "y = []\n",
    "print('y id before :', id(y), y)\n",
    "g(y, 100)\n",
    "print('y id after  :', id(y), y)\n",
    "print()\n",
    "g(y, 200)\n",
    "print('y id after  :', id(y), y)"
   ]
  },
  {
   "cell_type": "markdown",
   "id": "898f730f-a16e-4139-9a9d-b3b5e8215282",
   "metadata": {},
   "source": [
    "## Variable-Length Argument Lists"
   ]
  },
  {
   "cell_type": "code",
   "execution_count": 178,
   "id": "6b976fd4-51c2-4817-82a6-81772d086a2e",
   "metadata": {},
   "outputs": [],
   "source": [
    "def f(*args, **kwargs):\n",
    "    print(f\"type of args is {type(args)}\")\n",
    "    for arg in args:\n",
    "        print(f\"arg={arg}\")\n",
    "    print()\n",
    "    print(f\"type of kwargs is {type(kwargs)}\")\n",
    "    for i, v in kwargs.items():\n",
    "        print(f\"{i}={kwargs[i]}\")"
   ]
  },
  {
   "cell_type": "code",
   "execution_count": 179,
   "id": "912483a5-1fe9-4cab-8717-b20a95e39098",
   "metadata": {},
   "outputs": [
    {
     "name": "stdout",
     "output_type": "stream",
     "text": [
      "type of args is <class 'tuple'>\n",
      "arg=50\n",
      "arg=45\n",
      "arg=name\n",
      "\n",
      "type of kwargs is <class 'dict'>\n",
      "x=100\n",
      "y=900\n"
     ]
    }
   ],
   "source": [
    "f(50, 45, \"name\", x=100, y=900)"
   ]
  },
  {
   "cell_type": "code",
   "execution_count": 180,
   "id": "0d883792-44b6-49a6-8990-000a744dc012",
   "metadata": {},
   "outputs": [],
   "source": [
    "mylist = [80, 90, \"name\", \"str\"]\n",
    "mydict = {\"name\": \"Ali\", \"age\":30, \"class\": \"Python\"}"
   ]
  },
  {
   "cell_type": "code",
   "execution_count": 181,
   "id": "24d1acdd-4dcd-47fc-9a77-57a5bcc3a704",
   "metadata": {},
   "outputs": [
    {
     "name": "stdout",
     "output_type": "stream",
     "text": [
      "type of args is <class 'tuple'>\n",
      "arg=[80, 90, 'name', 'str']\n",
      "arg={'name': 'Ali', 'age': 30, 'class': 'Python'}\n",
      "\n",
      "type of kwargs is <class 'dict'>\n"
     ]
    }
   ],
   "source": [
    "f(mylist, mydict)"
   ]
  },
  {
   "cell_type": "code",
   "execution_count": 187,
   "id": "2e7c8eaa-4269-4995-895e-0d089c9cc90c",
   "metadata": {},
   "outputs": [
    {
     "name": "stdout",
     "output_type": "stream",
     "text": [
      "type of args is <class 'tuple'>\n",
      "arg=80\n",
      "arg=90\n",
      "arg=name\n",
      "arg=str\n",
      "arg=new arg\n",
      "\n",
      "type of kwargs is <class 'dict'>\n",
      "name=Ali\n",
      "age=30\n",
      "class=Python\n",
      "new_kwarg=I am new!\n"
     ]
    }
   ],
   "source": [
    "f(*mylist, \"new arg\", **mydict, new_kwarg=\"I am new!\")"
   ]
  },
  {
   "cell_type": "markdown",
   "id": "69e7d5fd-9efa-4b6e-8f6f-a28651de64d7",
   "metadata": {},
   "source": [
    "## Positional Only and Keyword Only Arguments\n",
    "**positional only** `/` **positional and keyword** `*` **keyword only**"
   ]
  },
  {
   "cell_type": "code",
   "execution_count": 229,
   "id": "b5325898-cc59-43f6-9784-b132d7960771",
   "metadata": {},
   "outputs": [],
   "source": [
    "def f(AA, BB, CC, /, a, b, c, *, x, y, z):\n",
    "    print(f\"positional only        : AA: {AA},  BB: {BB},  CC: {CC}\")\n",
    "    print(f\"positional and keyword : a: {a}, b: {b}, c: {c}\")\n",
    "    print(f\"keyword only           : x: {x},  y: {y},  c: {z}\")"
   ]
  },
  {
   "cell_type": "code",
   "execution_count": 230,
   "id": "cc15d44d-4797-430f-b436-da3cf4c113a4",
   "metadata": {},
   "outputs": [
    {
     "name": "stdout",
     "output_type": "stream",
     "text": [
      "positional only        : AA: 10,  BB: 20,  CC: 30\n",
      "positional and keyword : a: 1500, b: 1800, c: 1900\n",
      "keyword only           : x: 500,  y: 600,  c: 700\n"
     ]
    }
   ],
   "source": [
    "f(10, 20, 30, 1500, 1800, c=1900, x=500, y=600, z=700)"
   ]
  },
  {
   "cell_type": "code",
   "execution_count": 226,
   "id": "4423b1d9-74dc-4e30-b1ff-02073ccb1c3a",
   "metadata": {},
   "outputs": [
    {
     "name": "stdout",
     "output_type": "stream",
     "text": [
      "Help on built-in function len in module builtins:\n",
      "\n",
      "len(obj, /)\n",
      "    Return the number of items in a container.\n",
      "\n"
     ]
    }
   ],
   "source": [
    "help(len) # example for positional only argument"
   ]
  },
  {
   "cell_type": "markdown",
   "id": "a2add97e-82ad-4232-8ad2-e07e02612670",
   "metadata": {},
   "source": [
    "## Docstring and Annotation"
   ]
  },
  {
   "cell_type": "code",
   "execution_count": 248,
   "id": "5d32bf3d-f212-48b3-a847-2f75af2e5be7",
   "metadata": {},
   "outputs": [],
   "source": [
    "def f(a: int, b: float = 1) -> float:\n",
    "    \"\"\"\n",
    "    Compute the multiple of a and b\n",
    "    \n",
    "    :param a: First input\n",
    "    :param b: Ssecond input\n",
    "    :return: Multiply a and b\n",
    "    \"\"\"\n",
    "    z = a * b\n",
    "    return z"
   ]
  },
  {
   "cell_type": "code",
   "execution_count": 249,
   "id": "b9aa90b3-e21d-4550-aa49-798e5532a5af",
   "metadata": {},
   "outputs": [
    {
     "name": "stdout",
     "output_type": "stream",
     "text": [
      "\n",
      "    Compute the multiple of a and b\n",
      "    \n",
      "    :param a: First input\n",
      "    :param b: Ssecond input\n",
      "    :return: Multiply a and b\n",
      "    \n"
     ]
    }
   ],
   "source": [
    "print(f.__doc__)"
   ]
  },
  {
   "cell_type": "code",
   "execution_count": 250,
   "id": "657bf6cd-e63b-4e53-98c8-115179053374",
   "metadata": {},
   "outputs": [
    {
     "name": "stdout",
     "output_type": "stream",
     "text": [
      "Help on function f in module __main__:\n",
      "\n",
      "f(a: int, b: float = 1) -> float\n",
      "    Compute the multiple of a and b\n",
      "    \n",
      "    :param a: First input\n",
      "    :param b: Ssecond input\n",
      "    :return: Multiply a and b\n",
      "\n"
     ]
    }
   ],
   "source": [
    "help(f)"
   ]
  }
 ],
 "metadata": {
  "kernelspec": {
   "display_name": "Python 3 (ipykernel)",
   "language": "python",
   "name": "python3"
  },
  "language_info": {
   "codemirror_mode": {
    "name": "ipython",
    "version": 3
   },
   "file_extension": ".py",
   "mimetype": "text/x-python",
   "name": "python",
   "nbconvert_exporter": "python",
   "pygments_lexer": "ipython3",
   "version": "3.9.16"
  }
 },
 "nbformat": 4,
 "nbformat_minor": 5
}
