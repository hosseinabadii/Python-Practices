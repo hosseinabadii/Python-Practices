{
 "cells": [
  {
   "cell_type": "markdown",
   "id": "a3419be6-1586-4f73-95ec-5fb922f47d5b",
   "metadata": {},
   "source": [
    "# The Components of Replacement Field `{}` in `.format()`.\n",
    "## `{name!conversion:format_spec}`"
   ]
  },
  {
   "cell_type": "markdown",
   "id": "bf8877e1-7cfb-486a-b7a9-eb08ebcbbb2f",
   "metadata": {},
   "source": [
    "---"
   ]
  },
  {
   "cell_type": "markdown",
   "id": "ca0d76d2-b9ab-41eb-82ee-210fe6a8b02e",
   "metadata": {},
   "source": [
    "## `name` component of `{}`"
   ]
  },
  {
   "cell_type": "markdown",
   "id": "6c1d8eaf-9417-4415-93c9-08fd927bcf4a",
   "metadata": {},
   "source": [
    "### Best Practice"
   ]
  },
  {
   "cell_type": "code",
   "execution_count": 31,
   "id": "a81e35dd-3663-4ce8-a958-fc0678ef935f",
   "metadata": {},
   "outputs": [
    {
     "name": "stdout",
     "output_type": "stream",
     "text": [
      "My name is Khosro. I am 31 years old\n",
      "--------------------------------------------------\n",
      "My name is Khosro. I am 31 years old\n",
      "--------------------------------------------------\n"
     ]
    }
   ],
   "source": [
    "text = 'My name is {}. I am {} years old'.format('Khosro', 31)\n",
    "print(text)\n",
    "print('-'*50)\n",
    "\n",
    "\n",
    "text = 'My name is {name}. I am {age} years old'\n",
    "text = text.format(age=31, name='Khosro')\n",
    "print(text)\n",
    "print('-'*50)"
   ]
  },
  {
   "cell_type": "markdown",
   "id": "60568c19-a144-4116-b8a0-8decd90f01a3",
   "metadata": {},
   "source": [
    "### Not Best Practice\n",
    "- **positional and keyword argument**"
   ]
  },
  {
   "cell_type": "code",
   "execution_count": 35,
   "id": "9b92891a-2d53-4bac-b916-60cece70d1ec",
   "metadata": {},
   "outputs": [
    {
     "name": "stdout",
     "output_type": "stream",
     "text": [
      "My name is Khosro. I am 31 years old\n",
      "--------------------------------------------------\n",
      "My name is Khosro. I am 31 years old\n",
      "--------------------------------------------------\n",
      "My name is Khosro. I am 31 years old\n",
      "--------------------------------------------------\n",
      "My name is Khosro. I am 31 years old\n",
      "--------------------------------------------------\n"
     ]
    }
   ],
   "source": [
    "text = 'My name is {0}. I am {1} years old'.format('Khosro', 31)\n",
    "print(text)\n",
    "print('-'*50)\n",
    "\n",
    "text = 'My name is {1}. I am {0} years old'.format(31, 'Khosro')\n",
    "print(text)\n",
    "print('-'*50)\n",
    "\n",
    "text = 'My name is {name}. I am {0} years old'.format(31, name='Khosro')\n",
    "print(text)\n",
    "print('-'*50)\n",
    "\n",
    "text = 'My name is {name}. I am {0} years old'\n",
    "text = text.format(31, name='Khosro')\n",
    "print(text)\n",
    "print('-'*50)"
   ]
  },
  {
   "cell_type": "markdown",
   "id": "3e8e5a7b-89f3-4df3-8ab7-6331fc13492f",
   "metadata": {},
   "source": [
    "### Not Best Practice\n",
    "- **positional and keyword argument with `list`**"
   ]
  },
  {
   "cell_type": "code",
   "execution_count": null,
   "id": "75702c02-548a-431e-a2be-dc6360f8366c",
   "metadata": {},
   "outputs": [],
   "source": [
    "my_names = ['Khosro', 'Ali']\n",
    "my_ages = [31, 30]\n",
    "\n",
    "\n",
    "text = '{0[0]} is {1[0]}, {0[1]} is {1[1]}'\n",
    "text = text.format(my_names, my_ages)\n",
    "print(text)\n",
    "print('-'*50)\n",
    "\n",
    "\n",
    "text = '{name[0]} is {age[0]}, {name[1]} is {age[1]}'\n",
    "text = text.format(name=my_names, age=my_ages)\n",
    "print(text)\n",
    "print('-'*50)"
   ]
  },
  {
   "cell_type": "markdown",
   "id": "82d93e4b-c785-4278-9f55-ed8b3d9fad1c",
   "metadata": {},
   "source": [
    "---"
   ]
  },
  {
   "cell_type": "markdown",
   "id": "86fae38b-0e27-4f96-9f0a-6ae629f6ef20",
   "metadata": {},
   "source": [
    "## `!conversion` component of `{}`\n",
    "Representation of any object:\n",
    "- `!s` convert with `str()` \\_\\_str__\n",
    "- `!r` convert with`repr()` \\_\\_repr__\n",
    "- `!a` convert with `ascii()` \\_\\_ascii__"
   ]
  },
  {
   "cell_type": "code",
   "execution_count": 40,
   "id": "e3442161-7442-4e8a-8ad1-ad0be973209f",
   "metadata": {},
   "outputs": [
    {
     "name": "stdout",
     "output_type": "stream",
     "text": [
      "My name is 'Khosro'. I am 31 years old\n",
      "--------------------------------------------------\n",
      "My name is 'Khosro'. I am 31 years old\n",
      "--------------------------------------------------\n"
     ]
    }
   ],
   "source": [
    "text = 'My name is {!r}. I am {!r} years old'.format('Khosro', 31)\n",
    "print(text)\n",
    "print('-'*50)\n",
    "\n",
    "\n",
    "text = 'My name is {name!r}. I am {age!s} years old'\n",
    "text = text.format(age=31, name='Khosro')\n",
    "print(text)\n",
    "print('-'*50)"
   ]
  },
  {
   "cell_type": "markdown",
   "id": "61f1e4aa-dcf5-4a82-885d-331c087e97bd",
   "metadata": {
    "tags": []
   },
   "source": [
    "## `:format_spec` component of `{}`\n",
    "`:[[<fill>]<align>][<width>][<group>][.<prec>][<type>]`"
   ]
  },
  {
   "cell_type": "markdown",
   "id": "fd3b06e4-98ad-48c5-916d-341547b330c1",
   "metadata": {},
   "source": [
    "|Subcomponent | Effect|\n",
    "|:--|:--|\n",
    "|`<fill>` | Specifies how to pad values that don’t occupy the entire field width|\n",
    "|`<align>` | Specifies how to justify values that don’t occupy the entire field width `<`, `>`, `^`|\n",
    "|`<width>` | Specifies the minimum width of the output|\n",
    "|`<group>` | Specifies a grouping character for numeric output `_`, `,`|\n",
    "|`.<prec>` | Specifies the number of digits after the decimal point for floating-point presentation types, and the maximum output width for string presentations types |\n",
    "|`<type>` | Specifies the presentation type, which is the type of conversion performed on the corresponding argument|\n"
   ]
  },
  {
   "cell_type": "markdown",
   "id": "063b9ee5-be77-4312-a4db-06a58bba468c",
   "metadata": {},
   "source": [
    "### `type`"
   ]
  },
  {
   "cell_type": "markdown",
   "id": "8749b4f9-412d-406f-8aad-300f85d98657",
   "metadata": {},
   "source": [
    "| Value | Presentation Type |\n",
    "|:--|:--|\n",
    "| `f` or `F` | Floating point |\n",
    "| `d` | Decimal integer |\n",
    "| `b` | Binary integer |\n",
    "| `o` | Octal integer |\n",
    "| `x or X` | Hexadecimal integer |\n",
    "| `e` or `E` | Exponential |\n",
    "| `g` or `G` | Floating point or Exponential |\n",
    "| `s` | String |\n",
    "| `c` | Single character |\n",
    "| `%` | Percentage |"
   ]
  },
  {
   "cell_type": "code",
   "execution_count": 56,
   "id": "b91bdfb1-82fa-414a-918a-ed146cb1d90c",
   "metadata": {},
   "outputs": [
    {
     "name": "stdout",
     "output_type": "stream",
     "text": [
      "b: 1000100011110\n",
      "d: 4382\n",
      "f: 4382.000000\n",
      "e: 4.382000e+03\n",
      "g: 4382\n",
      "x: 111e\n",
      "%: 438200.000000%\n"
     ]
    }
   ],
   "source": [
    "print('b: {:b}'.format(4382))\n",
    "print('d: {:d}'.format(4382))\n",
    "print('f: {:f}'.format(4382))\n",
    "print('e: {:e}'.format(4382))\n",
    "print('g: {:g}'.format(4382))\n",
    "print('x: {:x}'.format(4382))\n",
    "print('%: {:%}'.format(4382)) # multily by 100 with % sign"
   ]
  },
  {
   "cell_type": "code",
   "execution_count": 106,
   "id": "28f016dd-92a2-40a7-b0e3-4ebd2fa1cdad",
   "metadata": {},
   "outputs": [
    {
     "name": "stdout",
     "output_type": "stream",
     "text": [
      "d: 00000000004382 is \n",
      "d:     43,821,987 is \n",
      "s: ****Khosro**** is\n",
      "f: 4382.00******* is\n",
      "f: 1234.12------- is\n"
     ]
    }
   ],
   "source": [
    "print('d: {:014d} is '.format(4382))\n",
    "print('d: {:14,d} is '.format(43821987))\n",
    "print('s: {:*^14s} is'.format('Khosro'))\n",
    "print('f: {:*<14.2f} is'.format(4382))\n",
    "print('f: {:-<14.2f} is'.format(1234.123456))\n"
   ]
  },
  {
   "cell_type": "code",
   "execution_count": 110,
   "id": "109e3914-07d6-4ffd-8140-9db2f949acef",
   "metadata": {},
   "outputs": [],
   "source": [
    "d = {\n",
    "    'first name': 'Khosro',\n",
    "    'last name': 'HosseinAbadi',\n",
    "    'age': 31,\n",
    "    'height': 182.4568711,\n",
    "    'money': 125_453_145,\n",
    "}"
   ]
  },
  {
   "cell_type": "code",
   "execution_count": 123,
   "id": "e86b5efc-fca2-4858-976d-01a1da640b77",
   "metadata": {},
   "outputs": [
    {
     "name": "stdout",
     "output_type": "stream",
     "text": [
      "first name : Khosro\n",
      "last name  : HosseinAbadi\n",
      "age        : 31\n",
      "height     : 182.4568711\n",
      "money      : 125453145\n"
     ]
    }
   ],
   "source": [
    "for k, v in d.items():\n",
    "    text = '{:10} : {}'.format(k, v)\n",
    "    print(text)"
   ]
  },
  {
   "cell_type": "code",
   "execution_count": 134,
   "id": "6c97ea08-269c-4035-8cec-007b993c663e",
   "metadata": {},
   "outputs": [
    {
     "name": "stdout",
     "output_type": "stream",
     "text": [
      "2547777.13\n",
      "++++125.12\n",
      "+987777.12\n"
     ]
    }
   ],
   "source": [
    "float_nums = [\n",
    "    2547777.12966,\n",
    "    125.12356,\n",
    "    987777.1236547899,\n",
    "]\n",
    "for num in float_nums:\n",
    "    print('{:+>10.2f}'.format(num))"
   ]
  },
  {
   "cell_type": "code",
   "execution_count": 156,
   "id": "8e53d88d-60b3-43f0-9406-6991f35a6d74",
   "metadata": {},
   "outputs": [
    {
     "name": "stdout",
     "output_type": "stream",
     "text": [
      "*******25_477_772_512_966|\n",
      "******************125_516|\n",
      "****9_877_771_236_547_899|\n"
     ]
    }
   ],
   "source": [
    "int_nums = [\n",
    "    25477772512966,\n",
    "    125516,\n",
    "    9877771236547899,\n",
    "]\n",
    "for num in int_nums:\n",
    "    print('{:*>25_d}|'.format(num))"
   ]
  },
  {
   "cell_type": "code",
   "execution_count": 1,
   "id": "d07d4879-fbbd-4bc9-b4e8-76bc88706615",
   "metadata": {},
   "outputs": [
    {
     "name": "stdout",
     "output_type": "stream",
     "text": [
      "HosseinAb|\n",
      "learning-|\n",
      "Python---|\n",
      "in-------|\n",
      "Pytopia--|\n",
      "\n"
     ]
    },
    {
     "ename": "ValueError",
     "evalue": "Cannot specify '_' with 's'.",
     "output_type": "error",
     "traceback": [
      "\u001b[0;31m---------------------------------------------------------------------------\u001b[0m",
      "\u001b[0;31mValueError\u001b[0m                                Traceback (most recent call last)",
      "Cell \u001b[0;32mIn[1], line 12\u001b[0m\n\u001b[1;32m     10\u001b[0m \u001b[38;5;28mprint\u001b[39m()\n\u001b[1;32m     11\u001b[0m \u001b[38;5;28;01mfor\u001b[39;00m word \u001b[38;5;129;01min\u001b[39;00m str_list:\n\u001b[0;32m---> 12\u001b[0m     \u001b[38;5;28mprint\u001b[39m(\u001b[38;5;124mf\u001b[39m\u001b[38;5;124m'\u001b[39m\u001b[38;5;132;01m{\u001b[39;00mword\u001b[38;5;132;01m:\u001b[39;00m\u001b[38;5;124m-<9_.9s\u001b[39m\u001b[38;5;132;01m}\u001b[39;00m\u001b[38;5;124m|\u001b[39m\u001b[38;5;124m'\u001b[39m)\n",
      "\u001b[0;31mValueError\u001b[0m: Cannot specify '_' with 's'."
     ]
    }
   ],
   "source": [
    "str_list = [\n",
    "    'HosseinAbadi',\n",
    "    'learning',\n",
    "    'Python',\n",
    "    'in',\n",
    "    'Pytopia',\n",
    "]\n",
    "for word in str_list:\n",
    "    print('{:-<9.9s}|'.format(word))\n",
    "print()\n",
    "for word in str_list:\n",
    "    print(f'{word:-<9.9s}|')"
   ]
  },
  {
   "cell_type": "code",
   "execution_count": null,
   "id": "da349984-72b8-4aef-acee-749a38a14c43",
   "metadata": {},
   "outputs": [],
   "source": []
  }
 ],
 "metadata": {
  "kernelspec": {
   "display_name": "Python 3 (ipykernel)",
   "language": "python",
   "name": "python3"
  },
  "language_info": {
   "codemirror_mode": {
    "name": "ipython",
    "version": 3
   },
   "file_extension": ".py",
   "mimetype": "text/x-python",
   "name": "python",
   "nbconvert_exporter": "python",
   "pygments_lexer": "ipython3",
   "version": "3.9.16"
  }
 },
 "nbformat": 4,
 "nbformat_minor": 5
}
