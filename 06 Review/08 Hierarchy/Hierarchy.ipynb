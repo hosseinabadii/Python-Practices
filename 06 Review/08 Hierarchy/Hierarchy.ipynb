{
 "cells": [
  {
   "cell_type": "markdown",
   "id": "2f87f698-2afe-469c-b13c-613b03f6a234",
   "metadata": {},
   "source": [
    "## `__base__`, `__bases__`, `__class__` attributes\n",
    "\n",
    "- `__base__` show **first direct** parent.\n",
    "\n",
    "- `__bases__` shows **all direct** parents.\n",
    "\n",
    "- **type()** built-in function returns the `__class__` attribute.\n",
    "\n",
    "- All classes are an instance of **type** metaclass (including type itself)\n",
    "\n",
    "- If you get `__class__` attribute from each class, it shows **type**"
   ]
  },
  {
   "cell_type": "code",
   "execution_count": 34,
   "id": "a9776f89-b2cd-4406-add0-caa3816487b7",
   "metadata": {},
   "outputs": [
    {
     "name": "stdout",
     "output_type": "stream",
     "text": [
      "Parent class (__bases__):\n",
      "- parent class of A      : (<class 'object'>,)\n",
      "- parent class of B      : (<class 'object'>,)\n",
      "- parent class of C(A, B): (<class '__main__.A'>, <class '__main__.B'>)\n",
      "- parent class of object : ()\n",
      "- parent class of type   : (<class 'object'>,)\n",
      "\n",
      "The class from which an instance is created (__class__):\n",
      "- type class of A        : <class 'type'>\n",
      "- type class of B        : <class 'type'>\n",
      "- type class of C(A, B)  : <class 'type'>\n",
      "- type class of object   : <class 'type'>\n",
      "- type class of type     : <class 'type'>\n"
     ]
    }
   ],
   "source": [
    "class A:\n",
    "    pass\n",
    "\n",
    "class B:\n",
    "    pass\n",
    "\n",
    "class C(A, B):\n",
    "    pass\n",
    "\n",
    "print('Parent class (__bases__):')\n",
    "print('- parent class of A      :', A.__bases__)\n",
    "print('- parent class of B      :', B.__bases__)\n",
    "print('- parent class of C(A, B):', C.__bases__)\n",
    "print('- parent class of object :', object.__bases__)\n",
    "print('- parent class of type   :', type.__bases__)\n",
    "print()\n",
    "print('The class from which an instance is created (__class__):')\n",
    "print('- type class of A        :', A.__class__)\n",
    "print('- type class of B        :', B.__class__)\n",
    "print('- type class of C(A, B)  :', C.__class__)\n",
    "print('- type class of object   :', object.__class__)\n",
    "print('- type class of type     :', type.__class__)"
   ]
  },
  {
   "cell_type": "code",
   "execution_count": 50,
   "id": "22588c60-c6e1-4007-8c03-e1aff789f48d",
   "metadata": {},
   "outputs": [
    {
     "name": "stdout",
     "output_type": "stream",
     "text": [
      "Is <class 'type'>     an instance of <class 'type'>    ? True\n",
      "Is <class 'type'>     an instance of <class 'object'>  ? True\n",
      "Is <class 'object'>   an instance of <class 'type'>    ? True\n",
      "Is <class 'object'>   an instance of <class 'object'>  ? True\n",
      "\n",
      "Is <class 'type'>     a subclass of <class 'type'>    ? True\n",
      "Is <class 'type'>     a subclass of <class 'object'>  ? True\n",
      "Is <class 'object'>   a subclass of <class 'type'>    ? False\n",
      "Is <class 'object'>   a subclass of <class 'object'>  ? True\n"
     ]
    }
   ],
   "source": [
    "for i in [type, object]:\n",
    "    for j in [type, object]:\n",
    "        print(f'Is {i!s:18s} an instance of {j!s:18}? {isinstance(i, j)}')\n",
    "print('')\n",
    "for i in [type, object]:\n",
    "    for j in [type, object]:\n",
    "        print(f'Is {i!s:18s} a subclass of {j!s:18}? {issubclass(i, j)}')"
   ]
  },
  {
   "cell_type": "markdown",
   "id": "4c22633f-766f-4a6b-a1d6-28083da98a87",
   "metadata": {},
   "source": [
    "## functions"
   ]
  },
  {
   "cell_type": "code",
   "execution_count": 61,
   "id": "cb0a3d06-6c8e-42b7-995a-f57034121d3d",
   "metadata": {},
   "outputs": [
    {
     "name": "stdout",
     "output_type": "stream",
     "text": [
      "The subclass of <class 'int'>             is <class 'object'>\n",
      "The subclass of <class 'str'>             is <class 'object'>\n",
      "The subclass of <class 'list'>            is <class 'object'>\n",
      "The subclass of <class 'dict'>            is <class 'object'>\n",
      "The subclass of <class 'type'>            is <class 'object'>\n",
      "The subclass of <class 'bool'>            is <class 'int'>\n",
      "The subclass of <class 'BaseException'>   is <class 'object'>\n",
      "The subclass of <class 'function'>        is <class 'object'>\n"
     ]
    }
   ],
   "source": [
    "def student():\n",
    "    pass\n",
    "\n",
    "built_ins = [\n",
    "    int, str, list, \n",
    "    dict, type, bool,\n",
    "    BaseException,\n",
    "    type(student),\n",
    "    \n",
    "]\n",
    "for item in built_ins:\n",
    "    print(f'The subclass of {item!s:25s} is {item.__base__}')"
   ]
  },
  {
   "cell_type": "code",
   "execution_count": null,
   "id": "eb73092f-835f-4dc6-8530-75b512febe59",
   "metadata": {},
   "outputs": [],
   "source": []
  }
 ],
 "metadata": {
  "kernelspec": {
   "display_name": "Python 3 (ipykernel)",
   "language": "python",
   "name": "python3"
  },
  "language_info": {
   "codemirror_mode": {
    "name": "ipython",
    "version": 3
   },
   "file_extension": ".py",
   "mimetype": "text/x-python",
   "name": "python",
   "nbconvert_exporter": "python",
   "pygments_lexer": "ipython3",
   "version": "3.9.16"
  }
 },
 "nbformat": 4,
 "nbformat_minor": 5
}
