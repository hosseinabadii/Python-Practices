{
 "cells": [
  {
   "cell_type": "markdown",
   "id": "fe5dfa37-83ef-4a92-8102-306638342b79",
   "metadata": {},
   "source": [
    "# Big-O notation\n",
    "It shows the **time complexity** and **space complexity**"
   ]
  },
  {
   "cell_type": "markdown",
   "id": "50c9a453-f98d-4ce3-8d43-6abc49df49c0",
   "metadata": {},
   "source": [
    "## `Time` complexity\n",
    "It is the rate of execution time given input"
   ]
  },
  {
   "cell_type": "markdown",
   "id": "79894a6c-fd81-4325-88e2-097a17503e35",
   "metadata": {
    "tags": []
   },
   "source": [
    "### Example of O(n)\n",
    "Linear search in the `list` object is O(n)"
   ]
  },
  {
   "cell_type": "code",
   "execution_count": 24,
   "id": "aaf73091-34a9-4ff7-affa-050aa71844b1",
   "metadata": {},
   "outputs": [],
   "source": [
    "import time"
   ]
  },
  {
   "cell_type": "code",
   "execution_count": 26,
   "id": "12ec23a2-1bdf-4f3d-90b0-212d79ade5f5",
   "metadata": {},
   "outputs": [
    {
     "name": "stdout",
     "output_type": "stream",
     "text": [
      "130.32062056963233\n"
     ]
    }
   ],
   "source": [
    "timer = []\n",
    "lists = [range(1000), range(100_000)]\n",
    "for l in lists:\n",
    "    t1 = time.perf_counter()\n",
    "    'search' in l\n",
    "    t2 = time.perf_counter()\n",
    "    timer.append(t2 - t1)\n",
    "    \n",
    "print(timer[1] / timer[0])"
   ]
  },
  {
   "cell_type": "markdown",
   "id": "7dd881f7-0206-45b2-a1e3-ab6e9ce292a7",
   "metadata": {},
   "source": [
    "### Example of O(n^2)"
   ]
  },
  {
   "cell_type": "code",
   "execution_count": 4,
   "id": "efa02971-12a7-42d8-b2c0-660100c5fc82",
   "metadata": {},
   "outputs": [
    {
     "name": "stdout",
     "output_type": "stream",
     "text": [
      "95.632683495242\n"
     ]
    }
   ],
   "source": [
    "timer = []\n",
    "for n in [1000, 10000]:\n",
    "    z = []\n",
    "    t1 = time.perf_counter()\n",
    "    for i in range(n):\n",
    "        for j in range(n):\n",
    "            i * j\n",
    "    t2 = time.perf_counter()\n",
    "    \n",
    "    timer.append(t2 - t1)\n",
    "    \n",
    "print(timer[1] / timer[0])"
   ]
  },
  {
   "cell_type": "markdown",
   "id": "133da74d-e3f5-4978-8ee9-256d768be2a8",
   "metadata": {},
   "source": [
    "### Example of O(log(n))\n",
    "Binary search is O(log(n))"
   ]
  },
  {
   "cell_type": "markdown",
   "id": "f977e5d0-8c28-4936-a938-0306444c580e",
   "metadata": {},
   "source": [
    "## `Space` complexity\n",
    "It is the rate of memory space used given input"
   ]
  }
 ],
 "metadata": {
  "kernelspec": {
   "display_name": "Python 3 (ipykernel)",
   "language": "python",
   "name": "python3"
  },
  "language_info": {
   "codemirror_mode": {
    "name": "ipython",
    "version": 3
   },
   "file_extension": ".py",
   "mimetype": "text/x-python",
   "name": "python",
   "nbconvert_exporter": "python",
   "pygments_lexer": "ipython3",
   "version": "3.9.16"
  }
 },
 "nbformat": 4,
 "nbformat_minor": 5
}
