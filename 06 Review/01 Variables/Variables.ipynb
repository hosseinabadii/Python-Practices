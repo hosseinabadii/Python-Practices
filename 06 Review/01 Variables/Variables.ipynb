{
 "cells": [
  {
   "cell_type": "markdown",
   "id": "53b30554-81aa-4a0b-a94a-49a6d3648575",
   "metadata": {},
   "source": [
    "# All **objects** has:\n",
    "- reference (pointer) --> variable name\n",
    "- identity (id) --> where it is save in memory: check by `is` operator\n",
    "- value --> check by `==` operator"
   ]
  },
  {
   "cell_type": "markdown",
   "id": "d68fc2e7-9cf5-4a21-bf10-7549b1e0f543",
   "metadata": {},
   "source": [
    "# Variables\n",
    "Variables are **object references**\n"
   ]
  },
  {
   "cell_type": "markdown",
   "id": "2977dbcc-cdec-40c0-99dd-01d54ed91629",
   "metadata": {},
   "source": [
    "---"
   ]
  },
  {
   "cell_type": "markdown",
   "id": "1d0d852b-0718-4be5-a2cb-d5c177c47025",
   "metadata": {},
   "source": [
    "## Interger between -5, 256"
   ]
  },
  {
   "cell_type": "code",
   "execution_count": 23,
   "id": "540a0675-1344-491b-887b-09fed0d84763",
   "metadata": {},
   "outputs": [
    {
     "name": "stdout",
     "output_type": "stream",
     "text": [
      "139634124155280\n",
      "139634124155280\n",
      "x = 256 , id = 139634124155280\n",
      "y = 256 , id = 139634124155280\n",
      "z = 256 , id = 139634124155280\n",
      "y is x : True\n",
      "z is x : True\n",
      "\n",
      "change x to 300\n",
      "x = 300 , id = 139634055616496\n",
      "y = 256 , id = 139634124155280\n",
      "y is x : False\n",
      "z is x : False\n"
     ]
    }
   ],
   "source": [
    "print(id(256))\n",
    "print(id(256))\n",
    "x = 256\n",
    "y = x\n",
    "z = 256\n",
    "print('x =', x, ', id =', id(x))\n",
    "print('y =', y, ', id =', id(y))\n",
    "print('z =', z, ', id =', id(z))\n",
    "print('y is x :', y is x)\n",
    "print('z is x :', z is x)\n",
    "\n",
    "print('\\nchange x to 300')\n",
    "x = 300\n",
    "print('x =', x, ', id =', id(x))\n",
    "print('y =', y, ', id =', id(y))\n",
    "print('y is x :', y is x)\n",
    "print('z is x :', z is x)"
   ]
  },
  {
   "cell_type": "markdown",
   "id": "271bebda-9772-4d61-a2ea-e6847430b3a2",
   "metadata": {},
   "source": [
    "## String"
   ]
  },
  {
   "cell_type": "code",
   "execution_count": 22,
   "id": "6b05f785-430d-48cf-bbd4-69d05c6c97c2",
   "metadata": {},
   "outputs": [
    {
     "name": "stdout",
     "output_type": "stream",
     "text": [
      "139634123378160\n",
      "139634123378160\n",
      "x = Python , id = 139634123378160\n",
      "y = Python , id = 139634123378160\n",
      "z = Python , id = 139634123378160\n",
      "y is x : True\n",
      "z is x : True\n",
      "\n",
      "change x to Woow\n",
      "x = Woow , id = 139634021287536\n",
      "y = Python , id = 139634123378160\n",
      "y is x : False\n",
      "z is x : False\n"
     ]
    }
   ],
   "source": [
    "print(id('Python'))\n",
    "print(id('Python'))\n",
    "x = 'Python'\n",
    "y = x\n",
    "z = 'Python'\n",
    "\n",
    "print('x =', x, ', id =', id(x))\n",
    "print('y =', y, ', id =', id(y))\n",
    "print('z =', z, ', id =', id(z))\n",
    "print('y is x :', y is x)\n",
    "print('z is x :', z is x)\n",
    "\n",
    "print('\\nchange x to Woow')\n",
    "x = 'Woow'\n",
    "print('x =', x, ', id =', id(x))\n",
    "print('y =', y, ', id =', id(y))\n",
    "print('y is x :', y is x)\n",
    "print('z is x :', z is x)"
   ]
  },
  {
   "cell_type": "markdown",
   "id": "e5679133-ac71-423f-a888-94b5ef720912",
   "metadata": {},
   "source": [
    "## Other Numbers"
   ]
  },
  {
   "cell_type": "code",
   "execution_count": 21,
   "id": "5e6efb8f-c500-4150-9fa4-80b0490982c9",
   "metadata": {},
   "outputs": [
    {
     "name": "stdout",
     "output_type": "stream",
     "text": [
      "139634055616304\n",
      "139634055615984\n",
      "x = 400 , id = 139634055616624\n",
      "y = 400 , id = 139634055616624\n",
      "z = 400 , id = 139634055616784\n",
      "y is x : True\n",
      "z is x : False\n",
      "\n",
      "Change x to 700\n",
      "x = 700 , id = 139634055616560\n",
      "y = 400 , id = 139634055616624\n",
      "y is x : False\n",
      "z is x : False\n"
     ]
    }
   ],
   "source": [
    "print(id(400))\n",
    "print(id(400))\n",
    "x = 400\n",
    "y = x\n",
    "z = 400\n",
    "print('x =', x, ', id =', id(x))\n",
    "print('y =', y, ', id =', id(y))\n",
    "print('z =', z, ', id =', id(z))\n",
    "print('y is x :', y is x)\n",
    "print('z is x :', z is x)\n",
    "\n",
    "print('\\nChange x to 700')\n",
    "x = 700\n",
    "print('x =', x, ', id =', id(x))\n",
    "print('y =', y, ', id =', id(y))\n",
    "print('y is x :', y is x)\n",
    "print('z is x :', z is x)"
   ]
  },
  {
   "cell_type": "markdown",
   "id": "b2e003a8-12b3-4adb-b226-79ad6b8e8d33",
   "metadata": {},
   "source": [
    "## size of an object"
   ]
  },
  {
   "cell_type": "code",
   "execution_count": 2,
   "id": "5e1ccbed-3bb9-411b-86de-3f77683b7e62",
   "metadata": {},
   "outputs": [
    {
     "name": "stdout",
     "output_type": "stream",
     "text": [
      "size of each pointer: 8.0\n",
      "size of list        : 800056\n",
      "size of elements    : 2800000\n",
      "memory size: 0.429 MB\n"
     ]
    }
   ],
   "source": [
    "from sys import getsizeof\n",
    "emp_list_size = getsizeof([])\n",
    "n = 100_000\n",
    "l = list(range(n))\n",
    "list_size = getsizeof(l)\n",
    "\n",
    "element_size = 0\n",
    "for i in range(n):\n",
    "    element_size += getsizeof(l[i])\n",
    "    \n",
    "pointer_size = (list_size - emp_list_size) / n\n",
    "\n",
    "print(f'size of each pointer: {pointer_size}')\n",
    "\n",
    "## emp_list_size + (n * pointer_size)\n",
    "## 56 + (n * 8)\n",
    "print(f'size of list        : {list_size}')\n",
    "\n",
    "## element_size = 28 * n\n",
    "print(f'size of elements    : {element_size + 4 }')\n",
    "\n",
    "## Memory used space:\n",
    "memory_used = (list_size + element_size) / (8 * 1024 * 1024)\n",
    "print(f'memory size: {memory_used:0.3f} MB')"
   ]
  }
 ],
 "metadata": {
  "kernelspec": {
   "display_name": "Python 3 (ipykernel)",
   "language": "python",
   "name": "python3"
  },
  "language_info": {
   "codemirror_mode": {
    "name": "ipython",
    "version": 3
   },
   "file_extension": ".py",
   "mimetype": "text/x-python",
   "name": "python",
   "nbconvert_exporter": "python",
   "pygments_lexer": "ipython3",
   "version": "3.9.16"
  }
 },
 "nbformat": 4,
 "nbformat_minor": 5
}
