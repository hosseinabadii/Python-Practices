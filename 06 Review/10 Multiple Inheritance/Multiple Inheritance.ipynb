{
 "cells": [
  {
   "cell_type": "markdown",
   "id": "a2f6eb6e-f234-4452-a723-19f1878350da",
   "metadata": {},
   "source": [
    "# Method Resolution Order (MRO)"
   ]
  },
  {
   "cell_type": "code",
   "execution_count": null,
   "id": "28558872-ed06-4add-9ba3-45a24162e3f6",
   "metadata": {},
   "outputs": [],
   "source": [
    "class Square:\n",
    "    def __init__(self, length):\n",
    "        self.length = length\n",
    "        \n",
    "    def area(self):\n",
    "        return self.length ** 2\n",
    "    \n",
    "    def perimeter(self):\n",
    "        return self.length * 4\n",
    "\n",
    "# ***********************************\n",
    "class Triangle:\n",
    "    def __init__(self, base, height):\n",
    "        self.base = base\n",
    "        self.height = height\n",
    "        \n",
    "    def area(self):\n",
    "        return self.base * self.height * 0.5"
   ]
  },
  {
   "cell_type": "code",
   "execution_count": null,
   "id": "d1c47052-085f-4db1-9916-230ab4ab7f20",
   "metadata": {},
   "outputs": [],
   "source": [
    "class RightPyramid1(Triangle, Square):\n",
    "    def __init__(self, base, slant_height):\n",
    "        self.base = base\n",
    "        self.slant_height = slant_height\n",
    "        \n",
    "    def area(self):\n",
    "        base_area = super().area() # Call the area() method of first class in inheritance\n",
    "        perimeter = super().perimeter()\n",
    "        tri_area = perimeter * self.slant_height * 0.5\n",
    "        \n",
    "        return tri_area + base_area\n",
    "    \n",
    "#-----------------------------------\n",
    "rp = RightPyramid1(5, 10)\n",
    "rp.area()  "
   ]
  },
  {
   "cell_type": "code",
   "execution_count": null,
   "id": "12b307de-d35f-498c-a6f3-252f143c1477",
   "metadata": {},
   "outputs": [],
   "source": [
    "RightPyramid1.__mro__"
   ]
  },
  {
   "cell_type": "markdown",
   "id": "37eb3fd9-f109-4020-84ed-35ec2358d5a9",
   "metadata": {},
   "source": [
    "## Change the order of classes in inheritance"
   ]
  },
  {
   "cell_type": "code",
   "execution_count": null,
   "id": "83709b6f-d4e2-4b9d-b390-7c9381200bcd",
   "metadata": {},
   "outputs": [],
   "source": [
    "class RightPyramid2(Square, Triangle):  # NEW: This list has been changed\n",
    "    def __init__(self, base, slant_height):\n",
    "        self.base = base\n",
    "        self.slant_height = slant_height\n",
    "        \n",
    "    def area(self):\n",
    "        base_area = super().area() # Call the area() method of first class in inheritance\n",
    "        perimeter = super().perimeter()\n",
    "        tri_area = perimeter * self.slant_height * 0.5\n",
    "        \n",
    "        return tri_area + base_area\n",
    "\n",
    "# ---------------------------------   \n",
    "rp = RightPyramid2(5, 10)\n",
    "rp.area()"
   ]
  },
  {
   "cell_type": "code",
   "execution_count": null,
   "id": "8b39a541-bfd2-4c2e-bc8b-122a75c4633b",
   "metadata": {},
   "outputs": [],
   "source": [
    "RightPyramid2.__mro__"
   ]
  },
  {
   "cell_type": "markdown",
   "id": "ed5cdcb1-e778-4d95-aacc-6dfce309a482",
   "metadata": {},
   "source": [
    "## Use `super().__init__()`"
   ]
  },
  {
   "cell_type": "code",
   "execution_count": null,
   "id": "ad2453ac-5dc2-488e-a9c2-029dc4b3610e",
   "metadata": {},
   "outputs": [],
   "source": [
    "class RightPyramid3(Square, Triangle):\n",
    "    def __init__(self, base, slant_height):\n",
    "        self.base = base\n",
    "        self.slant_height = slant_height\n",
    "        super().__init__(base)  # NEW: This list has been added\n",
    "        \n",
    "    def area(self):\n",
    "        base_area = super().area()\n",
    "        perimeter = super().perimeter()\n",
    "        tri_area = perimeter * self.slant_height * 0.5\n",
    "        \n",
    "        return tri_area + base_area\n",
    "\n",
    "# ---------------------------------   \n",
    "rp = RightPyramid3(base=6, slant_height=10)\n",
    "rp.area()"
   ]
  },
  {
   "cell_type": "markdown",
   "id": "cff6fd99-1b6b-4847-85a8-3c8411338aa0",
   "metadata": {},
   "source": [
    "## Calculate `area()` by a new way!"
   ]
  },
  {
   "cell_type": "code",
   "execution_count": null,
   "id": "d2d15c1c-8992-4f1e-b0f5-7feb9132b299",
   "metadata": {},
   "outputs": [],
   "source": [
    "class RightPyramid4(Square, Triangle):\n",
    "    def __init__(self, base, slant_height):\n",
    "        self.base = base\n",
    "        self.slant_height = slant_height\n",
    "        super().__init__(base)  # NEW: This list has been added\n",
    "        \n",
    "    def area(self):\n",
    "        base_area = super().area()\n",
    "        tri_area = super().area()\n",
    "        \n",
    "        return (tri_area * 4) + base_area\n",
    "\n",
    "# ---------------------------------   \n",
    "rp = RightPyramid4(base=6, slant_height=10)\n",
    "rp.area()  # the output is false"
   ]
  },
  {
   "cell_type": "markdown",
   "id": "853a82dc-66e0-4426-a3f9-7dab921da9ec",
   "metadata": {},
   "source": [
    "## Use `mixin` class: **include a** relationship\n",
    "Add new general feature to several classes"
   ]
  },
  {
   "cell_type": "code",
   "execution_count": null,
   "id": "cc3e527e-8bca-4829-9b90-06ef3780f956",
   "metadata": {},
   "outputs": [],
   "source": [
    "class AuthenticatedMixin:\n",
    "    \n",
    "    @property\n",
    "    def is_authenticated(self):\n",
    "        return self._authenticated"
   ]
  },
  {
   "cell_type": "code",
   "execution_count": null,
   "id": "e53c0552-9731-4df5-87a9-d10c0da0ac58",
   "metadata": {},
   "outputs": [],
   "source": [
    "class User:\n",
    "    def __init__(self, name):\n",
    "        self.name = name\n",
    "        self._authenticated = False\n",
    "    \n",
    "    def authenticate(self):\n",
    "        print(f\"{self.name} is AUTHENTICATED now!\")\n",
    "        self._authenticated = True"
   ]
  },
  {
   "cell_type": "code",
   "execution_count": null,
   "id": "d6af4e69-d964-4a5e-baa9-b49fed0e16e3",
   "metadata": {},
   "outputs": [],
   "source": [
    "class AccessFilesUser(AuthenticatedMixin, User):\n",
    "    def __init__(self, username):\n",
    "        super().__init__(username)\n",
    "        \n",
    "    def access_files(self):\n",
    "        if self.is_authenticated:\n",
    "            print(\"You have access to files.\")\n",
    "        else:\n",
    "            print(\"You don't have access to files.\")"
   ]
  },
  {
   "cell_type": "code",
   "execution_count": null,
   "id": "f4b7fbac-fe30-4366-b3b7-5e00050bff9f",
   "metadata": {},
   "outputs": [],
   "source": [
    "access_user = AccessFilesUser(\"Khosro\")\n",
    "access_user.access_files()\n",
    "print()\n",
    "access_user.authenticate()\n",
    "access_user.access_files()"
   ]
  }
 ],
 "metadata": {
  "kernelspec": {
   "display_name": "Python 3 (ipykernel)",
   "language": "python",
   "name": "python3"
  },
  "language_info": {
   "codemirror_mode": {
    "name": "ipython",
    "version": 3
   },
   "file_extension": ".py",
   "mimetype": "text/x-python",
   "name": "python",
   "nbconvert_exporter": "python",
   "pygments_lexer": "ipython3",
   "version": "3.9.16"
  }
 },
 "nbformat": 4,
 "nbformat_minor": 5
}
