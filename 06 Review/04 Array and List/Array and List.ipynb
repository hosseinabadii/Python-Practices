{
 "cells": [
  {
   "cell_type": "markdown",
   "id": "41295544-7f1e-4095-b89f-930a458a7f90",
   "metadata": {},
   "source": [
    "## Time Complecity\n",
    "Action | array | list | linked-list | set  | dictionary\n",
    "|:---- |:----- |:---- |:----------- |:---- |:----------\n",
    "Access | O(1)  | O(1) | O(n)        | O(1) | O(1)\n",
    "Search | O(n)  | O(n) | O(n)        | O(1) | O(1)\n",
    "Insert | O(n)  | O(n) | O(1)        | O(1) | O(1)\n",
    "Delete | O(n)  | O(n) | O(1)        | O(1) | O(1)\n"
   ]
  },
  {
   "cell_type": "markdown",
   "id": "2748bda1-54f5-45a8-98b7-30eca87b1b99",
   "metadata": {},
   "source": [
    "## `array`"
   ]
  },
  {
   "cell_type": "code",
   "execution_count": 1,
   "id": "be1ad444-5b84-4e2d-b9e8-0fe95bfad2d6",
   "metadata": {},
   "outputs": [],
   "source": [
    "from array import array"
   ]
  },
  {
   "cell_type": "code",
   "execution_count": 2,
   "id": "340b67e4-19c8-4029-9e82-0d583a07ee1e",
   "metadata": {},
   "outputs": [
    {
     "name": "stdout",
     "output_type": "stream",
     "text": [
      "39.8 ns ± 0.334 ns per loop (mean ± std. dev. of 7 runs, 10,000,000 loops each)\n"
     ]
    }
   ],
   "source": [
    "a = array('i', range(100))\n",
    "%timeit a[-1]"
   ]
  },
  {
   "cell_type": "code",
   "execution_count": 3,
   "id": "cc997f1a-f56e-4c64-a115-ca8b855641cd",
   "metadata": {},
   "outputs": [
    {
     "name": "stdout",
     "output_type": "stream",
     "text": [
      "46.6 ns ± 0.348 ns per loop (mean ± std. dev. of 7 runs, 10,000,000 loops each)\n"
     ]
    }
   ],
   "source": [
    "a = array('i', range(1_000_000))\n",
    "%timeit a[-1]"
   ]
  },
  {
   "cell_type": "markdown",
   "id": "ea44f3de-115e-4c5c-9ab5-02f202419b4f",
   "metadata": {},
   "source": [
    "**time complexity**\n",
    "\n",
    "Access --> O(1) \n",
    "\n",
    "Search --> O(n) it searches all of the elements.\n",
    "\n",
    "Delete --> O(n) it needs to shift all elements.\n",
    "\n",
    "Insert --> O(n) it needs to shift all elements.\n",
    "\n",
    "**space complexity** \n",
    "\n",
    "Memory Space --> O(n)"
   ]
  },
  {
   "cell_type": "markdown",
   "id": "a4f05151-55fa-4d1f-9290-bf0740f6d250",
   "metadata": {},
   "source": [
    "---"
   ]
  },
  {
   "cell_type": "markdown",
   "id": "27557b18-c9a2-4674-8577-eeecad06bf91",
   "metadata": {},
   "source": [
    "## `linked-list`"
   ]
  },
  {
   "cell_type": "markdown",
   "id": "d9330ee1-305b-4d4c-b1bb-16598173983b",
   "metadata": {},
   "source": [
    "**time complexity**\n",
    "\n",
    "Access --> O(n) \n",
    "\n",
    "Search --> O(n) it searches all of the elements.\n",
    "\n",
    "Delete --> O(1) it just need to delete a link.\n",
    "\n",
    "Insert --> O(1) it just need to add a new link."
   ]
  },
  {
   "cell_type": "markdown",
   "id": "486ede6d-c5d9-42e0-88e7-c4f6688d3814",
   "metadata": {},
   "source": [
    "---"
   ]
  },
  {
   "cell_type": "markdown",
   "id": "d3883310-279c-4313-8b40-356f0d3eea1d",
   "metadata": {},
   "source": [
    "## `list`\n",
    "list in itself just save the poiters of objects."
   ]
  },
  {
   "cell_type": "markdown",
   "id": "2bccea45-8143-4bc2-ae9d-d1f32aaabce8",
   "metadata": {},
   "source": [
    "**time complexity** is like the array\n",
    "\n",
    "Access --> O(1) it saves the pointer of each element.\n",
    "\n",
    "Search --> O(n) it searches all of the elements.\n",
    "\n",
    "Delete --> O(n) it has to shift the pointers.\n",
    "\n",
    "Insert --> O(n) it has to shift the pointers."
   ]
  },
  {
   "cell_type": "markdown",
   "id": "cac856de-f578-42c1-9de9-5829bcc600be",
   "metadata": {},
   "source": [
    "**space complexity** is like the array \n",
    "\n",
    "Memory Space --> O(n)\n",
    "\n",
    "but memory management is different.\n",
    "\n",
    "memory of list = memory of array + (8 * n)"
   ]
  },
  {
   "cell_type": "code",
   "execution_count": 4,
   "id": "baec18df-36d4-4be9-8d51-5c3278b75a77",
   "metadata": {},
   "outputs": [
    {
     "name": "stdout",
     "output_type": "stream",
     "text": [
      "33.8 ns ± 0.433 ns per loop (mean ± std. dev. of 7 runs, 10,000,000 loops each)\n"
     ]
    }
   ],
   "source": [
    "b = list(range(100))\n",
    "%timeit b[-1]"
   ]
  },
  {
   "cell_type": "code",
   "execution_count": 5,
   "id": "7a0adefa-800e-42f5-957b-2d8fad19e160",
   "metadata": {},
   "outputs": [
    {
     "name": "stdout",
     "output_type": "stream",
     "text": [
      "33.7 ns ± 0.104 ns per loop (mean ± std. dev. of 7 runs, 10,000,000 loops each)\n"
     ]
    }
   ],
   "source": [
    "b = list(range(1_000_000))\n",
    "%timeit b[-1]"
   ]
  },
  {
   "cell_type": "code",
   "execution_count": null,
   "id": "7a7d2c68-de94-4c70-846d-746cc436f08d",
   "metadata": {},
   "outputs": [],
   "source": [
    "for i in range(1,500):\n",
    "    print((id(a[i]) - id(a[0])) / 32,)"
   ]
  },
  {
   "cell_type": "code",
   "execution_count": 6,
   "id": "1623477b-c975-4c21-8d54-d6d5aa7e6c3f",
   "metadata": {},
   "outputs": [
    {
     "name": "stdout",
     "output_type": "stream",
     "text": [
      "1959.2300013755448\n",
      "62.50099977478385\n"
     ]
    }
   ],
   "source": [
    "import time\n",
    "n = 1_000_000\n",
    "a = list(range(n))\n",
    "t1 = time.perf_counter()\n",
    "del a[0]\n",
    "print((time.perf_counter()- t1) * 1000_000)\n",
    "\n",
    "\n",
    "b = list(range(n))\n",
    "t1 = time.perf_counter()\n",
    "b.pop()\n",
    "print((time.perf_counter()- t1) * 1000_000)"
   ]
  },
  {
   "cell_type": "markdown",
   "id": "08502c90-eb32-46e5-a129-cff309196f2a",
   "metadata": {},
   "source": [
    "## important featur of `list.append()`"
   ]
  },
  {
   "cell_type": "code",
   "execution_count": 90,
   "id": "555e7ffe-e14c-4e7c-a130-0fe4317c7716",
   "metadata": {},
   "outputs": [],
   "source": [
    "from sys import getsizeof"
   ]
  },
  {
   "cell_type": "code",
   "execution_count": null,
   "id": "61398642-86ca-4ac4-bb33-052ae4e10d87",
   "metadata": {},
   "outputs": [],
   "source": [
    "x = []\n",
    "capacities = []\n",
    "n = 1000\n",
    "print('items  capacity')\n",
    "for i in range(n):\n",
    "    \n",
    "    x.append(i)\n",
    "    capacity = int((getsizeof(x) - 56) / 8)\n",
    "    capacities.append(capacity)\n",
    "    items = len(x)\n",
    "    \n",
    "    print(f'{items:5}  {capacity:8}')"
   ]
  }
 ],
 "metadata": {
  "kernelspec": {
   "display_name": "Python 3 (ipykernel)",
   "language": "python",
   "name": "python3"
  },
  "language_info": {
   "codemirror_mode": {
    "name": "ipython",
    "version": 3
   },
   "file_extension": ".py",
   "mimetype": "text/x-python",
   "name": "python",
   "nbconvert_exporter": "python",
   "pygments_lexer": "ipython3",
   "version": "3.9.16"
  }
 },
 "nbformat": 4,
 "nbformat_minor": 5
}
