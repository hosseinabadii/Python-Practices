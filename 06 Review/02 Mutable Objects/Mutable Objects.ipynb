{
 "cells": [
  {
   "cell_type": "markdown",
   "id": "0ce4111d-2e90-4ac4-9c7f-16d14fafbc6c",
   "metadata": {},
   "source": [
    "## mutable objects like: list"
   ]
  },
  {
   "cell_type": "code",
   "execution_count": 19,
   "id": "d60d615d-5bd7-4a47-b001-7f7efea73ee1",
   "metadata": {},
   "outputs": [
    {
     "name": "stdout",
     "output_type": "stream",
     "text": [
      "befor -->  id = 140607369089216,   a = [10, 20, 30]\n",
      "after -->  id = 140607500185408,   a = [10, 20, 30, 50, 60]\n",
      "create new object\n"
     ]
    }
   ],
   "source": [
    "a = [10, 20, 30]\n",
    "print(f'befor -->  id = {id(a)},   a = {a}')\n",
    "a = a + [50, 60]\n",
    "print(f'after -->  id = {id(a)},   a = {a}')\n",
    "print('create new object')"
   ]
  },
  {
   "cell_type": "code",
   "execution_count": 18,
   "id": "9e0d4f87-6173-48eb-ab68-adf2f7917edf",
   "metadata": {},
   "outputs": [
    {
     "name": "stdout",
     "output_type": "stream",
     "text": [
      "befor -->  id = 140607500185408,   a = [10, 20, 30]\n",
      "after -->  id = 140607500185408,   a = [10, 20, 30, 50, 60]\n",
      "in-place\n"
     ]
    }
   ],
   "source": [
    "a = [10, 20, 30]\n",
    "print(f'befor -->  id = {id(a)},   a = {a}')\n",
    "a += [50, 60]\n",
    "print(f'after -->  id = {id(a)},   a = {a}')\n",
    "print('in-place')"
   ]
  },
  {
   "cell_type": "code",
   "execution_count": 17,
   "id": "caafc9dc-4ab6-4d43-bc37-90428e321bec",
   "metadata": {},
   "outputs": [
    {
     "name": "stdout",
     "output_type": "stream",
     "text": [
      "befor -->  id = 140607369089152,   a = [10, 20, 30]\n",
      "after -->  id = 140607369089152,   a = [10, 20, 30, 50, 60]\n",
      "in-place\n"
     ]
    }
   ],
   "source": [
    "a = [10, 20, 30]\n",
    "print(f'befor -->  id = {id(a)},   a = {a}')\n",
    "a.extend([50, 60])\n",
    "print(f'after -->  id = {id(a)},   a = {a}')\n",
    "print('in-place')"
   ]
  },
  {
   "cell_type": "code",
   "execution_count": 16,
   "id": "46b7b1c5-d6e2-4881-a45d-198f193bf660",
   "metadata": {},
   "outputs": [
    {
     "name": "stdout",
     "output_type": "stream",
     "text": [
      "befor -->  id = 140607369076672,   a = [10, 20, 30]\n",
      "after -->  id = 140607369076672,   a = [10, 20, 30, 100]\n",
      "in-place\n"
     ]
    }
   ],
   "source": [
    "a = [10, 20, 30]\n",
    "print(f'befor -->  id = {id(a)},   a = {a}')\n",
    "a.append(100)\n",
    "print(f'after -->  id = {id(a)},   a = {a}')\n",
    "print('in-place')"
   ]
  },
  {
   "cell_type": "code",
   "execution_count": null,
   "id": "3de8d43e-3f75-4a71-91eb-5c6622c009f3",
   "metadata": {},
   "outputs": [],
   "source": []
  }
 ],
 "metadata": {
  "kernelspec": {
   "display_name": "Python 3 (ipykernel)",
   "language": "python",
   "name": "python3"
  },
  "language_info": {
   "codemirror_mode": {
    "name": "ipython",
    "version": 3
   },
   "file_extension": ".py",
   "mimetype": "text/x-python",
   "name": "python",
   "nbconvert_exporter": "python",
   "pygments_lexer": "ipython3",
   "version": "3.9.16"
  }
 },
 "nbformat": 4,
 "nbformat_minor": 5
}
