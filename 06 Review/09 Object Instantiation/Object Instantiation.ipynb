{
 "cells": [
  {
   "cell_type": "markdown",
   "id": "8e67270d-504e-44e4-bb91-e5a0fae60ade",
   "metadata": {},
   "source": [
    "## Object Creation\n",
    "If an instance of a class is going to be **callable**, it's class has to define dunder method `__call__()`.\n",
    "\n",
    "**type** metaclass has a dunder method named `__call__()` that causes our defined classes to be **callable**.\n",
    "\n",
    "Object creation in Python is a **two-step** process. \n",
    "\n",
    "In the first step, Python creates the object with `__new__()`\n",
    "\n",
    "In the second step, it initializes the object with `__init__()`\n",
    "\n"
   ]
  },
  {
   "cell_type": "code",
   "execution_count": 15,
   "id": "ade4a706-7d1d-407e-8223-5a5d010fc62e",
   "metadata": {},
   "outputs": [],
   "source": [
    "# class type:\n",
    "#     def __call__(cls, *args, **kwargs):\n",
    "#         print('calling __call__...')\n",
    "#         self = cls.__new__(*args, **kwargs)\n",
    "#         self.init(*args, **kwargs)\n",
    "        \n",
    "#         return self\n",
    "    \n",
    "class Human:\n",
    "    @classmethod\n",
    "    def __new__(cls, *args, **kwargs):\n",
    "        print('calling __new__...')\n",
    "        self = super().__new__(cls) # call __new__ of object class\n",
    "        \n",
    "        return self\n",
    "    \n",
    "    def __init__(self, name, age):\n",
    "        print('calling __init__...')\n",
    "        self.name = name\n",
    "        self.age = age\n",
    "        \n",
    "    def show(self):\n",
    "        print(self.name, self.age)\n",
    "        "
   ]
  },
  {
   "cell_type": "code",
   "execution_count": 16,
   "id": "9ed84904-ea9b-482f-9f69-2f78ef6827f1",
   "metadata": {},
   "outputs": [
    {
     "name": "stdout",
     "output_type": "stream",
     "text": [
      "calling __new__...\n",
      "calling __init__...\n",
      "<class '__main__.Human'> Khosro 31\n",
      "Khosro 31\n"
     ]
    }
   ],
   "source": [
    "human = Human('Khosro', 31)\n",
    "print(type(human), human.name, human.age)\n",
    "human.show()"
   ]
  }
 ],
 "metadata": {
  "kernelspec": {
   "display_name": "Python 3 (ipykernel)",
   "language": "python",
   "name": "python3"
  },
  "language_info": {
   "codemirror_mode": {
    "name": "ipython",
    "version": 3
   },
   "file_extension": ".py",
   "mimetype": "text/x-python",
   "name": "python",
   "nbconvert_exporter": "python",
   "pygments_lexer": "ipython3",
   "version": "3.9.16"
  }
 },
 "nbformat": 4,
 "nbformat_minor": 5
}
