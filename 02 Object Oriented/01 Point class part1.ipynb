{
 "cells": [
  {
   "cell_type": "markdown",
   "id": "11349dbc",
   "metadata": {},
   "source": [
    "## Point with 2 arguments"
   ]
  },
  {
   "cell_type": "code",
   "execution_count": 4,
   "id": "b971530d-afa0-4fd7-8b82-b5c5fefcb2ac",
   "metadata": {},
   "outputs": [],
   "source": [
    "class Point:\n",
    "    def __init__(self, x, y):\n",
    "        self.x = x\n",
    "        self.y = y\n",
    "\n",
    "    def __str__(self):\n",
    "        return f'Point({self.x}, {self.y})'\n",
    "    \n",
    "    def __repr__(self):\n",
    "        return f'{self.__class__.__name__}({self.x}, {self.y})'\n",
    "    \n",
    "    def __abs__(self):\n",
    "        return (self.x ** 2 + self.y **2)**0.5\n",
    "    \n",
    "    def __lt__(self, other):\n",
    "        if abs(self) < abs(other):\n",
    "            return True\n",
    "        return False\n",
    "        "
   ]
  },
  {
   "cell_type": "code",
   "execution_count": 6,
   "id": "cfb2d32a-8e54-4b37-ae18-a990482a9596",
   "metadata": {},
   "outputs": [
    {
     "name": "stdout",
     "output_type": "stream",
     "text": [
      "Original :  [Point(3, 4), Point(9, 11), Point(6, 8), Point(2, 2)]\n",
      "Sorted   :  [Point(2, 2), Point(3, 4), Point(6, 8), Point(9, 11)]\n"
     ]
    }
   ],
   "source": [
    "my_points = [Point(3, 4), Point(9, 11), Point(6, 8), Point(2, 2)]\n",
    "print('Original : ', my_points)\n",
    "\n",
    "# sorted function use __abs__ and __lt__ dunder methods\n",
    "print('Sorted   : ', sorted(my_points)) "
   ]
  },
  {
   "attachments": {},
   "cell_type": "markdown",
   "id": "a258c316",
   "metadata": {},
   "source": [
    "---"
   ]
  },
  {
   "cell_type": "markdown",
   "id": "bc8d8e40",
   "metadata": {},
   "source": [
    "## Point with variable-length arguments"
   ]
  },
  {
   "cell_type": "code",
   "execution_count": null,
   "id": "0a39dd6f",
   "metadata": {},
   "outputs": [],
   "source": [
    "class Point:\n",
    "    def __init__(self, *args):\n",
    "        self.args = args\n",
    "        \n",
    "    def __repr__(self):\n",
    "        return f'{self.__class__.__name__}{self.args}'\n",
    "    \n",
    "    def __abs__(self):\n",
    "        plus_squares = sum([arg **2 for arg in self.args]) \n",
    "        return plus_squares ** 0.5\n",
    "    \n",
    "    def __lt__(self, other):\n",
    "        if abs(self) < abs(other):\n",
    "            return True\n",
    "        return False\n",
    "        "
   ]
  },
  {
   "cell_type": "code",
   "execution_count": null,
   "id": "25ebf0ba",
   "metadata": {},
   "outputs": [
    {
     "name": "stdout",
     "output_type": "stream",
     "text": [
      "Original :  [Point(3, 4, 5), Point(6, 8), Point(2, 2, 2, 2), Point(9,)]\n",
      "Sorted   :  [Point(2, 2, 2, 2), Point(3, 4, 5), Point(9,), Point(6, 8)]\n"
     ]
    }
   ],
   "source": [
    "my_points = [Point(3, 4, 5), Point(6, 8), Point(2, 2, 2, 2), Point(9)]\n",
    "print('Original : ', my_points)\n",
    "print('Sorted   : ', sorted(my_points))"
   ]
  }
 ],
 "metadata": {
  "kernelspec": {
   "display_name": "Python 3 (ipykernel)",
   "language": "python",
   "name": "python3"
  },
  "language_info": {
   "codemirror_mode": {
    "name": "ipython",
    "version": 3
   },
   "file_extension": ".py",
   "mimetype": "text/x-python",
   "name": "python",
   "nbconvert_exporter": "python",
   "pygments_lexer": "ipython3",
   "version": "3.9.16"
  }
 },
 "nbformat": 4,
 "nbformat_minor": 5
}
