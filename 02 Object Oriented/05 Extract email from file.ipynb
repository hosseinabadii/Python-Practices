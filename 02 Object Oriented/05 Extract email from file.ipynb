{
 "cells": [
  {
   "cell_type": "markdown",
   "id": "d8effeba-f022-49db-b688-8a242aa15a27",
   "metadata": {},
   "source": [
    "# Approach #1"
   ]
  },
  {
   "cell_type": "code",
   "execution_count": 1,
   "id": "3d1eb756-c916-4da3-bc48-067904be2430",
   "metadata": {},
   "outputs": [
    {
     "name": "stdout",
     "output_type": "stream",
     "text": [
      "{'gmail.com': 5, 'yahoo.com': 7, 'hotmail.com': 8}\n"
     ]
    }
   ],
   "source": [
    "from_to = []\n",
    "with open('data/emails.txt') as f:\n",
    "    for line in f:\n",
    "        if line.startswith('From:') or line.startswith('To:'):\n",
    "            from_to.append(line)\n",
    "            \n",
    "output = {}\n",
    "for line in from_to:\n",
    "    if line.endswith('gmail.com\\n'):\n",
    "        output['gmail.com'] = output.get('gmail.com', 0) + 1\n",
    "    if line.endswith('yahoo.com\\n'):\n",
    "        output['yahoo.com'] = output.get('yahoo.com', 0) + 1\n",
    "    if line.endswith('hotmail.com\\n'):\n",
    "        output['hotmail.com'] = output.get('hotmail.com', 0) + 1\n",
    "print(output)"
   ]
  },
  {
   "attachments": {},
   "cell_type": "markdown",
   "id": "d17c03a3",
   "metadata": {},
   "source": [
    "# Approach #2"
   ]
  },
  {
   "cell_type": "code",
   "execution_count": 2,
   "id": "371a1288",
   "metadata": {},
   "outputs": [
    {
     "data": {
      "text/plain": [
       "Counter({'gmail.com': 5, 'yahoo.com': 7, 'hotmail.com': 8})"
      ]
     },
     "execution_count": 2,
     "metadata": {},
     "output_type": "execute_result"
    }
   ],
   "source": [
    "from collections import Counter\n",
    "emails = []\n",
    "with open('data/emails.txt') as f:\n",
    "    for line in f:\n",
    "        if line.startswith('From:'):\n",
    "            email = line.replace('From: ','').strip('\\n')\n",
    "            emails.append(email)\n",
    "        if line.startswith('To:'):\n",
    "            email = line.replace('To: ','').strip('\\n')\n",
    "            emails.append(email)\n",
    "            \n",
    "Counter([email.split('@')[1] for email in emails])"
   ]
  },
  {
   "attachments": {},
   "cell_type": "markdown",
   "id": "260de76f",
   "metadata": {},
   "source": [
    "# Approach #3"
   ]
  },
  {
   "cell_type": "code",
   "execution_count": 3,
   "id": "a3c3d76d",
   "metadata": {},
   "outputs": [
    {
     "name": "stdout",
     "output_type": "stream",
     "text": [
      "gmail.com: 5\n",
      "yahoo.com: 7\n",
      "hotmail.com: 8\n"
     ]
    }
   ],
   "source": [
    "start_prefixes = (\"From:\", \"To:\")\n",
    "emails = {}\n",
    "with open('data/emails.txt') as file:\n",
    "    for line in file:\n",
    "        if line.startswith(start_prefixes):\n",
    "            line = line.strip(\"\\n\")\n",
    "            email = line.split(\" \")[1]\n",
    "            domain = email.split(\"@\")[1]\n",
    "            if not emails.get(domain):\n",
    "                emails[domain] = []\n",
    "            emails[domain].append(email) \n",
    "for domain in emails:\n",
    "    print(f\"{domain}: {len(emails[domain])}\")"
   ]
  },
  {
   "attachments": {},
   "cell_type": "markdown",
   "id": "fabbfa66",
   "metadata": {},
   "source": [
    "# Approach #4"
   ]
  },
  {
   "cell_type": "code",
   "execution_count": 4,
   "id": "4876cd06",
   "metadata": {},
   "outputs": [
    {
     "data": {
      "text/plain": [
       "Counter({'gmail.com': 5, 'yahoo.com': 7, 'hotmail.com': 8})"
      ]
     },
     "execution_count": 4,
     "metadata": {},
     "output_type": "execute_result"
    }
   ],
   "source": [
    "from collections import Counter\n",
    "start_prefixes = (\"From:\", \"To:\")\n",
    "emails = []\n",
    "with open('data/emails.txt') as file:\n",
    "    for line in file:\n",
    "        if line.startswith(start_prefixes):\n",
    "            emails.append(line.strip(\"\\n\").split(\" \")[1])\n",
    "Counter([email.split(\"@\")[1] for email in emails])"
   ]
  }
 ],
 "metadata": {
  "kernelspec": {
   "display_name": "Python 3 (ipykernel)",
   "language": "python",
   "name": "python3"
  },
  "language_info": {
   "codemirror_mode": {
    "name": "ipython",
    "version": 3
   },
   "file_extension": ".py",
   "mimetype": "text/x-python",
   "name": "python",
   "nbconvert_exporter": "python",
   "pygments_lexer": "ipython3",
   "version": "3.9.16"
  }
 },
 "nbformat": 4,
 "nbformat_minor": 5
}
