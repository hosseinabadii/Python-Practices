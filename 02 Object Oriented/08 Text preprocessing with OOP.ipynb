{
 "cells": [
  {
   "cell_type": "code",
   "execution_count": 2,
   "id": "84e5b59b-f5b7-4a8e-a545-ba1fcf90633c",
   "metadata": {},
   "outputs": [],
   "source": [
    "from abc import ABC, abstractmethod\n",
    "import string\n",
    "\n",
    "class TextProcessor(ABC):\n",
    "    @abstractmethod\n",
    "    def transform():\n",
    "        pass\n",
    "    \n",
    "  \n",
    "class ConvertCase(TextProcessor):\n",
    "    def __init__(self, casing='lower'):\n",
    "        self.casing = casing\n",
    "        \n",
    "    def transform(self, text):\n",
    "        if self.casing == 'lower':\n",
    "            return text.lower()\n",
    "        else:\n",
    "            return text.upper()\n",
    "    \n",
    "\n",
    "class RemoveDigit(TextProcessor):\n",
    "    def transform(self, text):\n",
    "        text = ''.join(filter(lambda char: char not in string.digits, text))\n",
    "        return text\n",
    "\n",
    "\n",
    "class RemoveSpace(TextProcessor):\n",
    "    def transform(self, text):\n",
    "        text = ' '.join(text.split())\n",
    "        return text\n",
    "\n",
    "#---------------------------------------------------\n",
    "class RemovePunkt(TextProcessor):    \n",
    "    def transform(self, text):\n",
    "        text = ''.join(filter(lambda char: char not in string.punctuation, text))\n",
    "        return text\n",
    "\n",
    "\n",
    "class TextPipeline(TextProcessor):\n",
    "    def __init__(self,*args):\n",
    "        self.args = args\n",
    "    \n",
    "    def transform(self, text):\n",
    "        for tr in self.args:\n",
    "            text = tr.transform(text)\n",
    "        return text\n",
    "            \n",
    "    def __repr__(self):\n",
    "        return ' ==> '.join([tr.__class__.__name__ for tr in self.args])"
   ]
  },
  {
   "cell_type": "code",
   "execution_count": 3,
   "id": "971e4d44",
   "metadata": {},
   "outputs": [
    {
     "data": {
      "text/plain": [
       "'WOMAN LIFE FREEDOM KURDISH JIN JIYAN AZADÎ ژن، ژیان، ئازادی OR WOMAN LIFE LIBERTY IS A POPULAR POLITICAL KURDISH SLOGAN USED IN BOTH THE KURDISH INDEPENDENCE AND DEMOCRATIC CONFEDERALIST MOVEMENTS THE SLOGAN BECAME A RALLYING CRY DURING THE PROTESTS WHICH OCCURRED AS A RESPONSE TO THE DEATH OF MAHSA AMINI'"
      ]
     },
     "execution_count": 3,
     "metadata": {},
     "output_type": "execute_result"
    }
   ],
   "source": [
    "mytext = 'Woman, Life, Freedom (Kurdish: Jin, Jiyan, Azadî, ژن، ژیان، ئازادی) or Woman, Life, Liberty is a popular political Kurdish slogan used in both the Kurdish independence and democratic confederalist movements.[1][2][3] The slogan became a rallying cry during the protests which occurred as a response to the death of Mahsa Amini.[4]'\n",
    "pipe = TextPipeline(ConvertCase('upper'), RemoveDigit(), RemovePunkt(), RemoveSpace())\n",
    "pipe.transform(mytext)"
   ]
  }
 ],
 "metadata": {
  "kernelspec": {
   "display_name": "Python 3 (ipykernel)",
   "language": "python",
   "name": "python3"
  },
  "language_info": {
   "codemirror_mode": {
    "name": "ipython",
    "version": 3
   },
   "file_extension": ".py",
   "mimetype": "text/x-python",
   "name": "python",
   "nbconvert_exporter": "python",
   "pygments_lexer": "ipython3",
   "version": "3.9.16"
  }
 },
 "nbformat": 4,
 "nbformat_minor": 5
}
