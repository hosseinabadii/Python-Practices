{
 "cells": [
  {
   "cell_type": "code",
   "execution_count": 33,
   "id": "23c04de9-6ead-4633-9b65-33dcde2af823",
   "metadata": {},
   "outputs": [],
   "source": [
    "class Parent:\n",
    "    def __init__(self, first_name, last_name):\n",
    "        self.first_name = first_name\n",
    "        self.last_name = last_name\n",
    "        self.children = []\n",
    "        \n",
    "    def add_child(self, child_name):\n",
    "        if child_name not in self.children:\n",
    "            self.children.append(child_name)\n",
    "            print(f\"{child_name!r} add to {self.first_name} children\")\n",
    "        else:\n",
    "            print(f\"{self.first_name} already have child named: {child_name}\")\n",
    "        \n",
    "    def have_child(self, child_name):\n",
    "        if child_name in self.children:\n",
    "            print(f'{self.first_name} have child named: {child_name}')\n",
    "        else:\n",
    "            print(f'{self.first_name} does not have child named: {child_name}')\n",
    "\n",
    "    def __str__(self):\n",
    "        return f\"I'm {self.first_name} {self.last_name}. I have {self.children} children.\""
   ]
  },
  {
   "cell_type": "code",
   "execution_count": 34,
   "id": "6dafae97-3f44-495a-bc9b-5fd7640726a5",
   "metadata": {},
   "outputs": [],
   "source": [
    "class Child(Parent):\n",
    "    def __init__(self, first_name, parent):\n",
    "        super().__init__(first_name, parent.last_name)\n",
    "        self.parent = parent\n",
    "\n",
    "    def __str__(self):\n",
    "        return super().__str__() + f\" My parent is {self.parent.first_name}\" "
   ]
  },
  {
   "cell_type": "code",
   "execution_count": 35,
   "id": "cff486e4-7806-4551-a6a5-52d377a6be40",
   "metadata": {},
   "outputs": [
    {
     "name": "stdout",
     "output_type": "stream",
     "text": [
      "I'm Esmail HosseinAbadi. I have [] children.\n",
      "'Khosro' add to Esmail children\n",
      "'ALi' add to Esmail children\n",
      "I'm Esmail HosseinAbadi. I have ['Khosro', 'ALi'] children.\n",
      "Esmail have child named: Khosro\n",
      "Esmail does not have child named: Farhad\n"
     ]
    }
   ],
   "source": [
    "pedar = Parent('Esmail', 'HosseinAbadi')\n",
    "print(pedar)\n",
    "pedar.add_child(\"Khosro\")\n",
    "pedar.add_child(\"ALi\")\n",
    "print(pedar)\n",
    "pedar.have_child(\"Khosro\")\n",
    "pedar.have_child(\"Farhad\")"
   ]
  },
  {
   "cell_type": "code",
   "execution_count": 36,
   "id": "c634fa5f-8de0-4499-b78b-ca2b2cce1e59",
   "metadata": {},
   "outputs": [
    {
     "name": "stdout",
     "output_type": "stream",
     "text": [
      "'Maryam' add to Khosro children\n",
      "I'm Khosro HosseinAbadi. I have ['Maryam'] children. My parent is Esmail\n",
      "Khosro have child named: Maryam\n"
     ]
    }
   ],
   "source": [
    "child = Child(\"Khosro\", pedar)\n",
    "child.add_child(\"Maryam\")\n",
    "print(child)\n",
    "child.have_child(\"Maryam\")\n"
   ]
  }
 ],
 "metadata": {
  "kernelspec": {
   "display_name": "Python 3 (ipykernel)",
   "language": "python",
   "name": "python3"
  },
  "language_info": {
   "codemirror_mode": {
    "name": "ipython",
    "version": 3
   },
   "file_extension": ".py",
   "mimetype": "text/x-python",
   "name": "python",
   "nbconvert_exporter": "python",
   "pygments_lexer": "ipython3",
   "version": "3.9.16"
  }
 },
 "nbformat": 4,
 "nbformat_minor": 5
}
