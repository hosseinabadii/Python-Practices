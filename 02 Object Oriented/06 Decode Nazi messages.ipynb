{
 "cells": [
  {
   "cell_type": "code",
   "execution_count": 1,
   "id": "46211647-652d-4a7f-8355-1a63f0b48cb8",
   "metadata": {},
   "outputs": [],
   "source": [
    "def decode(line):\n",
    "    for shift in range(128):\n",
    "        new_line = ''\n",
    "        for letter in line:\n",
    "            new_ord = (ord(letter) - shift) % 128\n",
    "            new_line += chr(new_ord)\n",
    "        if 'Heil Hitler' in new_line:\n",
    "            print(\"shift = \", shift)\n",
    "            break\n",
    "    return new_line"
   ]
  },
  {
   "cell_type": "code",
   "execution_count": 2,
   "id": "dce28713-b695-46c3-97ae-cae76855239c",
   "metadata": {},
   "outputs": [
    {
     "name": "stdout",
     "output_type": "stream",
     "text": [
      "shift =  10\n",
      "If you are reading this message, it means you have decoded our message and now you know!\n",
      "\n",
      "Heil Hitler!\n"
     ]
    }
   ],
   "source": [
    "ords = []\n",
    "with open('data/encoded.txt') as f:\n",
    "    output = decode(f.read())\n",
    "print(output)\n",
    "\n",
    "with open('data/decoded.txt', 'w') as f:\n",
    "    f.write(output)   "
   ]
  }
 ],
 "metadata": {
  "kernelspec": {
   "display_name": "Python 3 (ipykernel)",
   "language": "python",
   "name": "python3"
  },
  "language_info": {
   "codemirror_mode": {
    "name": "ipython",
    "version": 3
   },
   "file_extension": ".py",
   "mimetype": "text/x-python",
   "name": "python",
   "nbconvert_exporter": "python",
   "pygments_lexer": "ipython3",
   "version": "3.9.16"
  }
 },
 "nbformat": 4,
 "nbformat_minor": 5
}
