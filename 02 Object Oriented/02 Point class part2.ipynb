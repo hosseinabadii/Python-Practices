{
 "cells": [
  {
   "cell_type": "markdown",
   "id": "546b9abb-192c-4bc9-bbbd-a9456948d14a",
   "metadata": {},
   "source": [
    "# Approach #1"
   ]
  },
  {
   "cell_type": "code",
   "execution_count": 2,
   "id": "487dcb29-1d64-427e-ad94-002fcf7ebeac",
   "metadata": {},
   "outputs": [
    {
     "name": "stdout",
     "output_type": "stream",
     "text": [
      "Point(4, 4)\n"
     ]
    }
   ],
   "source": [
    "class Point:\n",
    "    def __init__(self, *args):\n",
    "        self.args = args\n",
    "        \n",
    "    def __repr__(self):\n",
    "        return f'{self.__class__.__name__}{self.args}'\n",
    "    \n",
    "    def __add__(self, other):\n",
    "        result = []\n",
    "        for index, arg in enumerate(self.args):\n",
    "            result.append(arg + other.args[index])\n",
    "        return Point(*result)\n",
    "    \n",
    "a = Point(1, 2)\n",
    "b = Point(3, 2)\n",
    "print(a + b)     "
   ]
  },
  {
   "cell_type": "markdown",
   "id": "8f1fb9bd-5a50-4de0-b907-8707db4726c7",
   "metadata": {},
   "source": [
    "# Approach #2"
   ]
  },
  {
   "cell_type": "code",
   "execution_count": 3,
   "id": "07b4caf2-959a-4b29-ba70-b988e4f426a9",
   "metadata": {},
   "outputs": [
    {
     "name": "stdout",
     "output_type": "stream",
     "text": [
      "Point(4, 4)\n"
     ]
    }
   ],
   "source": [
    "class Point:\n",
    "    def __init__(self, *args):\n",
    "        self.args = args\n",
    "        \n",
    "    def __repr__(self):\n",
    "        return f'{self.__class__.__name__}{self.args}'\n",
    "    \n",
    "    def __add__(self, other):\n",
    "        result = [(arg + other.args[index]) for index, arg in enumerate(self.args)]\n",
    "        return Point(*result)\n",
    "    \n",
    "a = Point(1, 2)\n",
    "b = Point(3, 2)\n",
    "print(a + b)     "
   ]
  },
  {
   "cell_type": "markdown",
   "id": "5981f222-81b3-4fbd-a254-1af6274ff79c",
   "metadata": {},
   "source": [
    "# Approach #3"
   ]
  },
  {
   "cell_type": "code",
   "execution_count": 4,
   "id": "7761550e-a66a-4c44-90df-18736cd63040",
   "metadata": {},
   "outputs": [
    {
     "name": "stdout",
     "output_type": "stream",
     "text": [
      "a + b =  Point(11, 22, 33)\n",
      "a - b =  Point(9, 18, 27)\n"
     ]
    }
   ],
   "source": [
    "class Point:\n",
    "    def __init__(self, *args):\n",
    "        self.args = args\n",
    "        \n",
    "    def __repr__(self):\n",
    "        return f'{self.__class__.__name__}{self.args}'\n",
    "    \n",
    "    def __add__(self, other):\n",
    "        result = map(sum, zip(self.args, other.args))  \n",
    "        return Point(*result)\n",
    "    \n",
    "    def __sub__(self, other):\n",
    "        def sub_item(item):\n",
    "            return item[0] - item[1]\n",
    "        result = map(sub_item, zip(self.args, other.args))  \n",
    "        return Point(*result)\n",
    "        \n",
    "    \n",
    "a = Point(10, 20, 30)\n",
    "b = Point(1, 2, 3)\n",
    "print('a + b = ', a + b) \n",
    "print('a - b = ', a - b)"
   ]
  },
  {
   "cell_type": "markdown",
   "id": "f898f84a-dc3e-41f6-9a2f-25fa7745055a",
   "metadata": {},
   "source": [
    "# Approach #4"
   ]
  },
  {
   "cell_type": "code",
   "execution_count": 6,
   "id": "ae3407db-84cf-4149-8535-19cfc3fd3d62",
   "metadata": {},
   "outputs": [
    {
     "name": "stdout",
     "output_type": "stream",
     "text": [
      "a + b =  Point(11, 22, 33)\n",
      "a - b =  Point(9, 18, 27)\n"
     ]
    }
   ],
   "source": [
    "class Point:\n",
    "    def __init__(self, *args):\n",
    "        self.args = args\n",
    "        \n",
    "    def __repr__(self):\n",
    "        return f'{self.__class__.__name__}{self.args}'\n",
    "    \n",
    "    def __add__(self, other):\n",
    "        result = map(sum, zip(self.args, other.args))  \n",
    "        return Point(*result)\n",
    "    \n",
    "    def __sub__(self, other):\n",
    "        result = map(lambda item: item[0] - item[1], zip(self.args, other.args))  \n",
    "        return Point(*result)\n",
    "        \n",
    "    \n",
    "a = Point(10, 20, 30)\n",
    "b = Point(1, 2, 3)\n",
    "print('a + b = ', a + b) \n",
    "print('a - b = ', a - b)"
   ]
  },
  {
   "cell_type": "markdown",
   "id": "8b6d341a-d8bd-4729-b20a-c90865723b26",
   "metadata": {},
   "source": [
    "# Approach #5"
   ]
  },
  {
   "cell_type": "code",
   "execution_count": 6,
   "id": "5b02d4a1-d999-478a-9525-f0c0b04cd18b",
   "metadata": {},
   "outputs": [
    {
     "name": "stdout",
     "output_type": "stream",
     "text": [
      "a + b =  Point(11, 22, 30)\n",
      "a - b =  Point(9, 18, 30)\n"
     ]
    }
   ],
   "source": [
    "from itertools import zip_longest\n",
    "class Point:\n",
    "    def __init__(self, *args):\n",
    "        self.args = args\n",
    "        \n",
    "    def __repr__(self):\n",
    "        return f'{self.__class__.__name__}{self.args}'\n",
    "    \n",
    "    def __add__(self, other):\n",
    "        result = map(sum, zip_longest(self.args, other.args, fillvalue=0))  \n",
    "        return Point(*result)\n",
    "    \n",
    "    def __sub__(self, other):\n",
    "        result = map(lambda item: item[0] - item[1], zip_longest(self.args, other.args, fillvalue=0))  \n",
    "        return Point(*result)\n",
    "        \n",
    "    \n",
    "a = Point(10, 20, 30)\n",
    "b = Point(1, 2)\n",
    "print('a + b = ', a + b) \n",
    "print('a - b = ', a - b)"
   ]
  }
 ],
 "metadata": {
  "kernelspec": {
   "display_name": "Python 3 (ipykernel)",
   "language": "python",
   "name": "python3"
  },
  "language_info": {
   "codemirror_mode": {
    "name": "ipython",
    "version": 3
   },
   "file_extension": ".py",
   "mimetype": "text/x-python",
   "name": "python",
   "nbconvert_exporter": "python",
   "pygments_lexer": "ipython3",
   "version": "3.9.16"
  }
 },
 "nbformat": 4,
 "nbformat_minor": 5
}
