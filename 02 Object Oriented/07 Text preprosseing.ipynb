{
 "cells": [
  {
   "cell_type": "code",
   "execution_count": 5,
   "id": "4ecda2f8-499c-46bd-b2ef-6218e405c35f",
   "metadata": {},
   "outputs": [
    {
     "data": {
      "text/plain": [
       "'woman life freedom kurdish jin jiyan azadî ژن، ژیان، ئازادی or woman life liberty is a popular political kurdish slogan used in both the kurdish independence and democratic confederalist movements the slogan became a rallying cry during the protests which occurred as a response to the death of mahsa amini'"
      ]
     },
     "execution_count": 5,
     "metadata": {},
     "output_type": "execute_result"
    }
   ],
   "source": [
    "import string\n",
    "def preprocess_text(text):\n",
    "    \"\"\"\"\n",
    "    This text preprocessing does the following jobs:\n",
    "        - Turn all words to lower case\n",
    "        - Remove the punctuations\n",
    "        - Remove the digits\n",
    "        - Remove the extra spaces\n",
    "    \"\"\"\n",
    "    text = text.lower()\n",
    "    text = ''.join(filter(lambda char: char not in string.punctuation + string.digits, text))\n",
    "    text = ' '.join(text.split())\n",
    "    return text\n",
    "\n",
    "mytext = 'Woman, Life,    Freedom (Kurdish: Jin, Jiyan, Azadî, ژن، ژیان، ئازادی) or Woman, Life,    Liberty is a popular political Kurdish slogan used in both the Kurdish independence and democratic confederalist movements.[1][2][3] The slogan became a rallying cry during the protests which occurred as a response to the death of Mahsa Amini.[4]'\n",
    "preprocess_text(mytext)"
   ]
  }
 ],
 "metadata": {
  "kernelspec": {
   "display_name": "Python 3 (ipykernel)",
   "language": "python",
   "name": "python3"
  },
  "language_info": {
   "codemirror_mode": {
    "name": "ipython",
    "version": 3
   },
   "file_extension": ".py",
   "mimetype": "text/x-python",
   "name": "python",
   "nbconvert_exporter": "python",
   "pygments_lexer": "ipython3",
   "version": "3.9.16"
  }
 },
 "nbformat": 4,
 "nbformat_minor": 5
}
