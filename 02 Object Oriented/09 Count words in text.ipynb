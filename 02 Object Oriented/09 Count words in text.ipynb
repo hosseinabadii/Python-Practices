{
 "cells": [
  {
   "cell_type": "code",
   "execution_count": 1,
   "id": "9062230f-0938-4f85-8cb7-042edf732345",
   "metadata": {},
   "outputs": [],
   "source": [
    "from collections import Counter\n",
    "from abc import ABC, abstractmethod\n",
    "import string\n",
    "\n",
    "class TextProcessor(ABC):\n",
    "    @abstractmethod\n",
    "    def transform():\n",
    "        pass\n",
    "    \n",
    "#----------------------------------------------------    \n",
    "class ConvertCase(TextProcessor):\n",
    "    def __init__(self, casing='lower'):\n",
    "        self.casing = casing\n",
    "        \n",
    "    def transform(self, text):\n",
    "        if self.casing == 'lower':\n",
    "            return text.lower()\n",
    "        else:\n",
    "            return text.upper()\n",
    "    \n",
    "#-----------------------------------------------------\n",
    "class RemoveDigit(TextProcessor):\n",
    "    def transform(self, text):\n",
    "        text = ''.join(filter(lambda char: char not in string.digits, text))\n",
    "        return text\n",
    "\n",
    "#-----------------------------------------------------\n",
    "class RemoveSpace(TextProcessor):\n",
    "    def transform(self, text):\n",
    "        text = ' '.join(text.split())\n",
    "        return text\n",
    "\n",
    "#---------------------------------------------------\n",
    "class RemovePunkt(TextProcessor):    \n",
    "    def transform(self, text):\n",
    "        text = ''.join(filter(lambda char: char not in string.punctuation, text))\n",
    "        return text\n",
    "\n",
    "#---------------------------------------------------\n",
    "class PipeLineText(TextProcessor):\n",
    "    def __init__(self,*args):\n",
    "        self.args = args\n",
    "        \n",
    "    def __repr__(self):\n",
    "        return ' ==> '.join([tr.__class__.__name__ for tr in self.args])\n",
    "    \n",
    "    def transform(self, text):\n",
    "        for tr in self.args:\n",
    "            text = tr.transform(text)\n",
    "            \n",
    "        return text"
   ]
  },
  {
   "cell_type": "code",
   "execution_count": 2,
   "id": "5f402d8c-1e76-4f53-b955-a13c790f860b",
   "metadata": {},
   "outputs": [],
   "source": [
    "# define functions:\n",
    "def preprocess_txt(text, *processes):\n",
    "    return PipeLineText(*processes).transform(text)\n",
    "\n",
    "\n",
    "def count_words(text):\n",
    "    return Counter(text.split())"
   ]
  },
  {
   "cell_type": "code",
   "execution_count": 6,
   "id": "044a0e13-934c-4aac-b2a2-f3d34db4f04e",
   "metadata": {},
   "outputs": [
    {
     "name": "stdout",
     "output_type": "stream",
     "text": [
      "{'woman': 3, 'life': 5, 'freedom': 1, 'or': 1, 'liberty': 1, 'is': 1, 'a': 3, 'popular': 1, 'political': 1, 'kurdish': 1, 'slogan': 1, 'that': 1, 'became': 1, 'rallying': 1, 'cry': 1, 'during': 1, 'the': 2, 'protests': 1, 'which': 1, 'occurred': 1, 'as': 1, 'response': 1, 'to': 1, 'death': 1, 'of': 1, 'mahsa': 1, 'amini': 1, 'voman': 1}\n",
      "most freq word =  life\n",
      "longest word   =  political\n"
     ]
    }
   ],
   "source": [
    "counter = Counter()\n",
    "with open('data/file.txt') as f:\n",
    "    for line in f:\n",
    "        line = preprocess_txt(\n",
    "            line,\n",
    "            ConvertCase(), \n",
    "            RemoveDigit(), \n",
    "            RemovePunkt(), \n",
    "            RemoveSpace())\n",
    "\n",
    "        counter += count_words(line)\n",
    "        \n",
    "print(dict(counter))\n",
    "print('most freq word = ', max(counter, key=counter.get))\n",
    "print('longest word   = ', max(counter, key=len))\n"
   ]
  }
 ],
 "metadata": {
  "kernelspec": {
   "display_name": "Python 3 (ipykernel)",
   "language": "python",
   "name": "python3"
  },
  "language_info": {
   "codemirror_mode": {
    "name": "ipython",
    "version": 3
   },
   "file_extension": ".py",
   "mimetype": "text/x-python",
   "name": "python",
   "nbconvert_exporter": "python",
   "pygments_lexer": "ipython3",
   "version": "3.9.16"
  }
 },
 "nbformat": 4,
 "nbformat_minor": 5
}
