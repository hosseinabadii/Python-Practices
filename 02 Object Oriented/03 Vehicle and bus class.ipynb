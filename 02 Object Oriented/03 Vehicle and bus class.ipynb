{
 "cells": [
  {
   "cell_type": "code",
   "execution_count": 1,
   "id": "03048669-f6f5-49bc-b25e-b3c7eb6be375",
   "metadata": {},
   "outputs": [],
   "source": [
    "class Vehicle:\n",
    "\n",
    "    def __init__(self, capacity):\n",
    "        self.capacity = capacity\n",
    "    \n",
    "    def fare(self):\n",
    "        return self.capacity * 100\n",
    "    "
   ]
  },
  {
   "cell_type": "code",
   "execution_count": 8,
   "id": "294bfa87-0a16-42a3-b6ce-6881295b2a90",
   "metadata": {},
   "outputs": [],
   "source": [
    "class Bus(Vehicle):\n",
    "    \n",
    "    def fare(self):\n",
    "        return super().fare() * 1.1"
   ]
  },
  {
   "cell_type": "code",
   "execution_count": 9,
   "id": "647a80a5-1a98-4f8d-ad63-8a5c018a22a0",
   "metadata": {},
   "outputs": [],
   "source": [
    "school_bus = Bus(50)"
   ]
  },
  {
   "cell_type": "code",
   "execution_count": 12,
   "id": "3a450b77-2390-401b-b230-9020f3549e35",
   "metadata": {},
   "outputs": [
    {
     "name": "stdout",
     "output_type": "stream",
     "text": [
      "Total Bus fare is: 5500.0\n"
     ]
    }
   ],
   "source": [
    "print(\"Total Bus fare is:\", school_bus.fare())"
   ]
  }
 ],
 "metadata": {
  "kernelspec": {
   "display_name": "Python 3 (ipykernel)",
   "language": "python",
   "name": "python3"
  },
  "language_info": {
   "codemirror_mode": {
    "name": "ipython",
    "version": 3
   },
   "file_extension": ".py",
   "mimetype": "text/x-python",
   "name": "python",
   "nbconvert_exporter": "python",
   "pygments_lexer": "ipython3",
   "version": "3.10.9"
  }
 },
 "nbformat": 4,
 "nbformat_minor": 5
}
