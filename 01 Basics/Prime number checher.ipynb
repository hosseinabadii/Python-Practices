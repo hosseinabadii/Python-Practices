{
 "cells": [
  {
   "cell_type": "code",
   "execution_count": 5,
   "id": "04edbb66-2d28-4a66-a96b-e732b37a6825",
   "metadata": {},
   "outputs": [],
   "source": [
    "def is_prime(n):\n",
    "    if n < 2:\n",
    "        print(n, 'is not prime')\n",
    "    for i in range(2, n):\n",
    "        if n % i:\n",
    "            print(n, 'is prime')\n",
    "            return\n",
    "    print(n, 'is not prime')\n",
    "    return"
   ]
  },
  {
   "cell_type": "code",
   "execution_count": 6,
   "id": "fb82e8cf-78f7-45e1-bfa5-a1dde37cf6bc",
   "metadata": {},
   "outputs": [
    {
     "name": "stdout",
     "output_type": "stream",
     "text": [
      "97 is prime\n"
     ]
    }
   ],
   "source": [
    "is_prime(97)"
   ]
  },
  {
   "cell_type": "code",
   "execution_count": null,
   "id": "4ee034be-c544-485a-86a5-968681b6cb39",
   "metadata": {},
   "outputs": [],
   "source": []
  }
 ],
 "metadata": {
  "kernelspec": {
   "display_name": "Python 3 (ipykernel)",
   "language": "python",
   "name": "python3"
  },
  "language_info": {
   "codemirror_mode": {
    "name": "ipython",
    "version": 3
   },
   "file_extension": ".py",
   "mimetype": "text/x-python",
   "name": "python",
   "nbconvert_exporter": "python",
   "pygments_lexer": "ipython3",
   "version": "3.9.7"
  }
 },
 "nbformat": 4,
 "nbformat_minor": 5
}
