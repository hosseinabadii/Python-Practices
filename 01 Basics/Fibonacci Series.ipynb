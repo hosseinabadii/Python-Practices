{
 "cells": [
  {
   "cell_type": "code",
   "execution_count": 1,
   "id": "f07d7436-fbf3-42bd-b1c7-99b1bec3dd87",
   "metadata": {},
   "outputs": [
    {
     "name": "stdout",
     "output_type": "stream",
     "text": [
      "[0, 1, 1, 2, 3, 5, 8, 13, 21, 34]\n"
     ]
    }
   ],
   "source": [
    "a = [0, 1]\n",
    "for i in range(2,10):\n",
    "    a.append(a[i-1] + a[i-2])\n",
    "print(a)"
   ]
  },
  {
   "cell_type": "code",
   "execution_count": 5,
   "id": "aaf09841-901b-41e0-b7bb-3d7a1ca994df",
   "metadata": {},
   "outputs": [
    {
     "name": "stdout",
     "output_type": "stream",
     "text": [
      "[0, 1, 1, 2, 3, 5, 8, 13, 21, 34]\n"
     ]
    }
   ],
   "source": [
    "a = 0\n",
    "b = 1\n",
    "fibs = []\n",
    "for i in range(10):\n",
    "    fibs.append(a)\n",
    "    a, b = b, a + b\n",
    "print(fibs)"
   ]
  },
  {
   "cell_type": "code",
   "execution_count": null,
   "id": "6648e368-0b85-4779-be68-5c1b185f6b83",
   "metadata": {},
   "outputs": [],
   "source": []
  }
 ],
 "metadata": {
  "kernelspec": {
   "display_name": "Python 3 (ipykernel)",
   "language": "python",
   "name": "python3"
  },
  "language_info": {
   "codemirror_mode": {
    "name": "ipython",
    "version": 3
   },
   "file_extension": ".py",
   "mimetype": "text/x-python",
   "name": "python",
   "nbconvert_exporter": "python",
   "pygments_lexer": "ipython3",
   "version": "3.9.7"
  }
 },
 "nbformat": 4,
 "nbformat_minor": 5
}
