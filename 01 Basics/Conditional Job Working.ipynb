{
 "cells": [
  {
   "cell_type": "code",
   "execution_count": 2,
   "id": "8723a3cb-4912-4b42-94f4-4e59541908ee",
   "metadata": {},
   "outputs": [
    {
     "name": "stdout",
     "output_type": "stream",
     "text": [
      "Do It\n"
     ]
    }
   ],
   "source": [
    "a = 849\n",
    "if not(500 <= a < 1000):\n",
    "    print('Invalid Number')\n",
    "else:\n",
    "    if ((a // 10) % 10) % 2 == 0:\n",
    "        print('Do It')\n",
    "    else:\n",
    "        print(\"Don't Do It\") "
   ]
  },
  {
   "cell_type": "code",
   "execution_count": null,
   "id": "35b7931c-c53b-4903-a9ab-d8f3b9ce7709",
   "metadata": {},
   "outputs": [],
   "source": []
  }
 ],
 "metadata": {
  "kernelspec": {
   "display_name": "Python 3 (ipykernel)",
   "language": "python",
   "name": "python3"
  },
  "language_info": {
   "codemirror_mode": {
    "name": "ipython",
    "version": 3
   },
   "file_extension": ".py",
   "mimetype": "text/x-python",
   "name": "python",
   "nbconvert_exporter": "python",
   "pygments_lexer": "ipython3",
   "version": "3.9.7"
  }
 },
 "nbformat": 4,
 "nbformat_minor": 5
}
