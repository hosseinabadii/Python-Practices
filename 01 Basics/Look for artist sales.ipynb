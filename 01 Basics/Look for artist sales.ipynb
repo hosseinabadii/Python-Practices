{
 "cells": [
  {
   "cell_type": "code",
   "execution_count": 3,
   "id": "f601a4e5-540d-4bf4-ae64-f68313cfc0e4",
   "metadata": {},
   "outputs": [
    {
     "name": "stdin",
     "output_type": "stream",
     "text": [
      "Enter name of artist :  Reza\n"
     ]
    },
    {
     "name": "stdout",
     "output_type": "stream",
     "text": [
      "Artist is not in the list\n"
     ]
    },
    {
     "name": "stdin",
     "output_type": "stream",
     "text": [
      "Enter the artist sales to update:  10\n",
      "Enter name of artist :  Reza\n"
     ]
    },
    {
     "name": "stdout",
     "output_type": "stream",
     "text": [
      "Reza sales is 10\n"
     ]
    },
    {
     "name": "stdin",
     "output_type": "stream",
     "text": [
      "Enter name of artist :  Khosro\n"
     ]
    },
    {
     "name": "stdout",
     "output_type": "stream",
     "text": [
      "Khosro sales is 100\n"
     ]
    },
    {
     "name": "stdin",
     "output_type": "stream",
     "text": [
      "Enter name of artist :  quit\n"
     ]
    },
    {
     "name": "stdout",
     "output_type": "stream",
     "text": [
      "{'Khosro': 100, 'Ali': 200, 'Mahdi': 300, 'Reza': '10'}\n",
      "bye!\n"
     ]
    }
   ],
   "source": [
    "sales = {\n",
    "    'Khosro': 100,\n",
    "    'Ali': 200,\n",
    "    'Mahdi': 300,\n",
    "}\n",
    "while True:\n",
    "    name_artist = input('Enter name of artist : ')\n",
    "    if name_artist == 'quit':\n",
    "        print(sales)\n",
    "        print('bye!')\n",
    "        break\n",
    "    if name_artist in sales:\n",
    "        print(f'{name_artist} sales is {sales[name_artist]}')\n",
    "        continue\n",
    "    print('Artist is not in the list')\n",
    "    sales[name_artist] = input('Enter the artist sales to update: ')\n",
    "    "
   ]
  },
  {
   "cell_type": "code",
   "execution_count": null,
   "id": "eea2ac19-70c5-4273-9076-17591b9d7735",
   "metadata": {},
   "outputs": [],
   "source": []
  },
  {
   "cell_type": "code",
   "execution_count": null,
   "id": "13815913-23af-431b-9b23-d21e2251cd2e",
   "metadata": {},
   "outputs": [],
   "source": []
  },
  {
   "cell_type": "code",
   "execution_count": 8,
   "id": "b8788170-98a5-4c4f-9cd2-2e55b4d43905",
   "metadata": {},
   "outputs": [
    {
     "name": "stdin",
     "output_type": "stream",
     "text": [
      "Enter name of artist :  o\n"
     ]
    },
    {
     "name": "stdout",
     "output_type": "stream",
     "text": [
      "Artist is not in the list\n"
     ]
    },
    {
     "name": "stdin",
     "output_type": "stream",
     "text": [
      "Enter the artist sales to update:  5\n",
      "Enter name of artist :  quit\n"
     ]
    },
    {
     "name": "stdout",
     "output_type": "stream",
     "text": [
      "{'Khosro': 100, 'Ali': 200, 'Mahdi': 300, 'o': '5'}\n",
      "bye!\n"
     ]
    }
   ],
   "source": [
    "sales = {\n",
    "    'Khosro': 100,\n",
    "    'Ali': 200,\n",
    "    'Mahdi': 300,\n",
    "}\n",
    "name_artist = ''\n",
    "while name_artist != 'quit':\n",
    "    name_artist = input('Enter name of artist : ')\n",
    "    if name_artist == 'quit':\n",
    "        break\n",
    "    if name_artist in sales:\n",
    "        print(f'{name_artist} sales is {sales[name_artist]}')\n",
    "        continue\n",
    "    print('Artist is not in the list')\n",
    "    sales[name_artist] = input('Enter the artist sales to update: ')\n",
    "print(sales)\n",
    "print('bye!')"
   ]
  },
  {
   "cell_type": "code",
   "execution_count": null,
   "id": "1bf068a9-633b-40fc-b49f-9fd9e1f5291a",
   "metadata": {},
   "outputs": [],
   "source": []
  }
 ],
 "metadata": {
  "kernelspec": {
   "display_name": "Python 3 (ipykernel)",
   "language": "python",
   "name": "python3"
  },
  "language_info": {
   "codemirror_mode": {
    "name": "ipython",
    "version": 3
   },
   "file_extension": ".py",
   "mimetype": "text/x-python",
   "name": "python",
   "nbconvert_exporter": "python",
   "pygments_lexer": "ipython3",
   "version": "3.9.7"
  }
 },
 "nbformat": 4,
 "nbformat_minor": 5
}
