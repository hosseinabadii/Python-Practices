{
 "cells": [
  {
   "cell_type": "code",
   "execution_count": 1,
   "id": "f06cd38c-014b-4a92-b55f-17129663f05d",
   "metadata": {},
   "outputs": [],
   "source": [
    "a = [0, 1, 2, 3, 4, 5]"
   ]
  },
  {
   "cell_type": "code",
   "execution_count": 2,
   "id": "2343b71d-72c8-4fdc-bbde-cd31b9d3b766",
   "metadata": {},
   "outputs": [
    {
     "name": "stdout",
     "output_type": "stream",
     "text": [
      "[0, 1, 2, 3, 4, 5]\n"
     ]
    }
   ],
   "source": [
    "print(a)"
   ]
  },
  {
   "cell_type": "code",
   "execution_count": 6,
   "id": "0fdaccad-f3a8-4368-b361-43ed5cd8ade6",
   "metadata": {},
   "outputs": [
    {
     "data": {
      "text/plain": [
       "0"
      ]
     },
     "execution_count": 6,
     "metadata": {},
     "output_type": "execute_result"
    }
   ],
   "source": [
    "a[0]"
   ]
  },
  {
   "cell_type": "code",
   "execution_count": 7,
   "id": "91732ca8-cf46-4c0f-a539-2fd750f92274",
   "metadata": {},
   "outputs": [
    {
     "data": {
      "text/plain": [
       "3"
      ]
     },
     "execution_count": 7,
     "metadata": {},
     "output_type": "execute_result"
    }
   ],
   "source": [
    "a[3]"
   ]
  },
  {
   "cell_type": "code",
   "execution_count": 8,
   "id": "4e8d48f6-4cd0-45ea-8da8-c660e4ee6c38",
   "metadata": {},
   "outputs": [
    {
     "data": {
      "text/plain": [
       "[2, 3, 4]"
      ]
     },
     "execution_count": 8,
     "metadata": {},
     "output_type": "execute_result"
    }
   ],
   "source": [
    "a[2:5]"
   ]
  },
  {
   "cell_type": "code",
   "execution_count": 9,
   "id": "46722f28-c5ec-4e01-a5e2-bdeb6a8aa428",
   "metadata": {},
   "outputs": [
    {
     "data": {
      "text/plain": [
       "[0, 2, 4]"
      ]
     },
     "execution_count": 9,
     "metadata": {},
     "output_type": "execute_result"
    }
   ],
   "source": [
    "a[0:5:2]"
   ]
  },
  {
   "cell_type": "code",
   "execution_count": 10,
   "id": "cea4b233-b20c-4305-ad11-84e6f7a9a47e",
   "metadata": {},
   "outputs": [
    {
     "data": {
      "text/plain": [
       "[0, 2, 4]"
      ]
     },
     "execution_count": 10,
     "metadata": {},
     "output_type": "execute_result"
    }
   ],
   "source": [
    "a[0::2]"
   ]
  },
  {
   "cell_type": "code",
   "execution_count": 3,
   "id": "57007ad9-44eb-4e9b-b094-3a79bc2902d3",
   "metadata": {},
   "outputs": [],
   "source": [
    "b = a[::-1]"
   ]
  },
  {
   "cell_type": "code",
   "execution_count": 4,
   "id": "9d4505a2-3e6d-4c81-8330-d71fa762496a",
   "metadata": {},
   "outputs": [
    {
     "data": {
      "text/plain": [
       "[5, 4, 3, 2, 1, 0]"
      ]
     },
     "execution_count": 4,
     "metadata": {},
     "output_type": "execute_result"
    }
   ],
   "source": [
    "b"
   ]
  },
  {
   "cell_type": "code",
   "execution_count": 13,
   "id": "2b129f78-88d2-456e-bdca-1630cce4d976",
   "metadata": {},
   "outputs": [],
   "source": [
    "c = ['zero' , 'one' , [1 , 2 , 3] , 12 ] "
   ]
  },
  {
   "cell_type": "code",
   "execution_count": 14,
   "id": "c34942d3-a1b6-414c-b1eb-cda5f8b84795",
   "metadata": {},
   "outputs": [
    {
     "data": {
      "text/plain": [
       "['zero', 'one', [1, 2, 3], 12]"
      ]
     },
     "execution_count": 14,
     "metadata": {},
     "output_type": "execute_result"
    }
   ],
   "source": [
    "c"
   ]
  },
  {
   "cell_type": "code",
   "execution_count": 21,
   "id": "9d1c1a48-2d2e-4ac8-aee1-0d3fca6762d1",
   "metadata": {},
   "outputs": [
    {
     "data": {
      "text/plain": [
       "1"
      ]
     },
     "execution_count": 21,
     "metadata": {},
     "output_type": "execute_result"
    }
   ],
   "source": [
    "c[2][0]"
   ]
  },
  {
   "cell_type": "code",
   "execution_count": 22,
   "id": "a2d7bfb0-0fc5-4a76-9b86-c1867f63a537",
   "metadata": {},
   "outputs": [],
   "source": [
    "d = ['a', 'b' , 'c' ]"
   ]
  },
  {
   "cell_type": "code",
   "execution_count": 23,
   "id": "e72ffaee-6c08-4171-bfa5-19297e033af3",
   "metadata": {},
   "outputs": [
    {
     "data": {
      "text/plain": [
       "['a', 'b', 'c']"
      ]
     },
     "execution_count": 23,
     "metadata": {},
     "output_type": "execute_result"
    }
   ],
   "source": [
    "d"
   ]
  },
  {
   "cell_type": "code",
   "execution_count": 24,
   "id": "0aa077df-937b-4f90-91e1-c542d325c350",
   "metadata": {},
   "outputs": [],
   "source": [
    "d += ['d' , 'f']"
   ]
  },
  {
   "cell_type": "code",
   "execution_count": 25,
   "id": "33fba29b-fefe-43c2-beee-a38fede17899",
   "metadata": {},
   "outputs": [
    {
     "data": {
      "text/plain": [
       "['a', 'b', 'c', 'd', 'f']"
      ]
     },
     "execution_count": 25,
     "metadata": {},
     "output_type": "execute_result"
    }
   ],
   "source": [
    "d"
   ]
  },
  {
   "cell_type": "code",
   "execution_count": 26,
   "id": "e64fa0b8-377c-4113-bdf2-cac541fc9cd7",
   "metadata": {},
   "outputs": [],
   "source": [
    "d[1] = 452"
   ]
  },
  {
   "cell_type": "code",
   "execution_count": 27,
   "id": "7d148c46-7d49-421e-a13c-a37d70e0466a",
   "metadata": {},
   "outputs": [
    {
     "data": {
      "text/plain": [
       "['a', 452, 'c', 'd', 'f']"
      ]
     },
     "execution_count": 27,
     "metadata": {},
     "output_type": "execute_result"
    }
   ],
   "source": [
    "d"
   ]
  },
  {
   "cell_type": "code",
   "execution_count": 28,
   "id": "583ac3df-087b-4782-8b60-38f434b7e693",
   "metadata": {},
   "outputs": [],
   "source": [
    "del d[4]"
   ]
  },
  {
   "cell_type": "code",
   "execution_count": 29,
   "id": "ea3b4d05-3223-46a6-9fc6-c1a59462710a",
   "metadata": {},
   "outputs": [
    {
     "data": {
      "text/plain": [
       "['a', 452, 'c', 'd']"
      ]
     },
     "execution_count": 29,
     "metadata": {},
     "output_type": "execute_result"
    }
   ],
   "source": [
    "d"
   ]
  },
  {
   "cell_type": "code",
   "execution_count": 30,
   "id": "78d42e22-d796-4134-8f0d-b170ff208d4c",
   "metadata": {},
   "outputs": [
    {
     "data": {
      "text/plain": [
       "4"
      ]
     },
     "execution_count": 30,
     "metadata": {},
     "output_type": "execute_result"
    }
   ],
   "source": [
    "len(d)"
   ]
  },
  {
   "cell_type": "code",
   "execution_count": 31,
   "id": "84874077-4567-4389-b48b-365c781f140a",
   "metadata": {},
   "outputs": [
    {
     "data": {
      "text/plain": [
       "True"
      ]
     },
     "execution_count": 31,
     "metadata": {},
     "output_type": "execute_result"
    }
   ],
   "source": [
    "'a' in d"
   ]
  },
  {
   "cell_type": "code",
   "execution_count": 32,
   "id": "67b2aa0f-d9e9-4a56-b648-b3a45af5eecb",
   "metadata": {},
   "outputs": [
    {
     "data": {
      "text/plain": [
       "False"
      ]
     },
     "execution_count": 32,
     "metadata": {},
     "output_type": "execute_result"
    }
   ],
   "source": [
    "'ab' in d"
   ]
  },
  {
   "cell_type": "code",
   "execution_count": 33,
   "id": "952d0ac3-c38f-4690-a099-a703b1c595c2",
   "metadata": {},
   "outputs": [
    {
     "data": {
      "text/plain": [
       "True"
      ]
     },
     "execution_count": 33,
     "metadata": {},
     "output_type": "execute_result"
    }
   ],
   "source": [
    "45 not in d"
   ]
  },
  {
   "cell_type": "code",
   "execution_count": 34,
   "id": "0eef0d11-ea18-437c-8aee-396c51292bf2",
   "metadata": {},
   "outputs": [],
   "source": [
    "e = [ 5 , 6 , 7 ]"
   ]
  },
  {
   "cell_type": "code",
   "execution_count": 35,
   "id": "9afc8e35-fd03-4839-9ba3-e13babb835ed",
   "metadata": {},
   "outputs": [
    {
     "data": {
      "text/plain": [
       "[5, 6, 7]"
      ]
     },
     "execution_count": 35,
     "metadata": {},
     "output_type": "execute_result"
    }
   ],
   "source": [
    "e"
   ]
  },
  {
   "cell_type": "code",
   "execution_count": 36,
   "id": "1f01cbdc-9883-4460-b096-17d6b87442f5",
   "metadata": {},
   "outputs": [],
   "source": [
    "e.append('new')"
   ]
  },
  {
   "cell_type": "code",
   "execution_count": 37,
   "id": "9e89e0fb-0e3a-4372-be1a-5208ce976ed1",
   "metadata": {},
   "outputs": [
    {
     "data": {
      "text/plain": [
       "[5, 6, 7, 'new']"
      ]
     },
     "execution_count": 37,
     "metadata": {},
     "output_type": "execute_result"
    }
   ],
   "source": [
    "e"
   ]
  },
  {
   "cell_type": "code",
   "execution_count": 3,
   "id": "ff9af1f1-a02f-4ad4-8f7a-afd59cca1a31",
   "metadata": {},
   "outputs": [],
   "source": [
    "list1 = ['a', 'g', 'h', 'd',]"
   ]
  },
  {
   "cell_type": "code",
   "execution_count": 4,
   "id": "84143156-714d-4275-869c-f25052e423d5",
   "metadata": {},
   "outputs": [
    {
     "data": {
      "text/plain": [
       "['a', 'g', 'h', 'd']"
      ]
     },
     "execution_count": 4,
     "metadata": {},
     "output_type": "execute_result"
    }
   ],
   "source": [
    "list1"
   ]
  },
  {
   "cell_type": "code",
   "execution_count": 5,
   "id": "3901c09c-ff8a-4598-b523-a162134eef2d",
   "metadata": {},
   "outputs": [],
   "source": [
    "list1.append(125)"
   ]
  },
  {
   "cell_type": "code",
   "execution_count": 6,
   "id": "d89a8d3d-0396-4a78-b5d6-52d15e3a46e9",
   "metadata": {},
   "outputs": [
    {
     "data": {
      "text/plain": [
       "['a', 'g', 'h', 'd', 125]"
      ]
     },
     "execution_count": 6,
     "metadata": {},
     "output_type": "execute_result"
    }
   ],
   "source": [
    "list1"
   ]
  },
  {
   "cell_type": "code",
   "execution_count": 7,
   "id": "85dfc8c9-40ee-4b86-a048-65a7319e6ee8",
   "metadata": {},
   "outputs": [],
   "source": [
    "del list1[2]"
   ]
  },
  {
   "cell_type": "code",
   "execution_count": 8,
   "id": "7af888df-778a-4a4f-9627-e097e649c383",
   "metadata": {},
   "outputs": [
    {
     "data": {
      "text/plain": [
       "['a', 'g', 'd', 125]"
      ]
     },
     "execution_count": 8,
     "metadata": {},
     "output_type": "execute_result"
    }
   ],
   "source": [
    "list1"
   ]
  },
  {
   "cell_type": "code",
   "execution_count": 9,
   "id": "4ea6d673-1f65-4c23-b7df-2244a6330f53",
   "metadata": {},
   "outputs": [],
   "source": [
    "list1.extend([5, 7, 12])"
   ]
  },
  {
   "cell_type": "code",
   "execution_count": 10,
   "id": "dde28b5f-1031-4f88-8283-02836d2c62e3",
   "metadata": {},
   "outputs": [
    {
     "data": {
      "text/plain": [
       "['a', 'g', 'd', 125, 5, 7, 12]"
      ]
     },
     "execution_count": 10,
     "metadata": {},
     "output_type": "execute_result"
    }
   ],
   "source": [
    "list1"
   ]
  },
  {
   "cell_type": "code",
   "execution_count": null,
   "id": "5f10c5e2-6218-4620-a49e-e2e1b3ba0612",
   "metadata": {},
   "outputs": [],
   "source": []
  }
 ],
 "metadata": {
  "kernelspec": {
   "display_name": "Python 3 (ipykernel)",
   "language": "python",
   "name": "python3"
  },
  "language_info": {
   "codemirror_mode": {
    "name": "ipython",
    "version": 3
   },
   "file_extension": ".py",
   "mimetype": "text/x-python",
   "name": "python",
   "nbconvert_exporter": "python",
   "pygments_lexer": "ipython3",
   "version": "3.9.7"
  }
 },
 "nbformat": 4,
 "nbformat_minor": 5
}
