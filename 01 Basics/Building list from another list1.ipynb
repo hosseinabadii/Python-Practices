{
 "cells": [
  {
   "cell_type": "code",
   "execution_count": 1,
   "id": "c98d1a87-7da5-41b2-b785-8c6e611af469",
   "metadata": {},
   "outputs": [
    {
     "data": {
      "text/plain": [
       "['Ardashir', 'Shapur', 'Hormizd', 'Bahram']"
      ]
     },
     "execution_count": 1,
     "metadata": {},
     "output_type": "execute_result"
    }
   ],
   "source": [
    "mylist = [\"Ardashir I\", \"Shapur I\", \"Hormizd I\", \"Bahram I\"]\n",
    "new_list = []\n",
    "for i in mylist:\n",
    "    new_list.append(i[:len(i)-2])\n",
    "new_list"
   ]
  },
  {
   "cell_type": "code",
   "execution_count": 2,
   "id": "04932ceb-f9f1-4f77-a905-7c4b473a1322",
   "metadata": {},
   "outputs": [
    {
     "data": {
      "text/plain": [
       "['Ardashir', 'Shapur', 'Hormizd', 'Bahram']"
      ]
     },
     "execution_count": 2,
     "metadata": {},
     "output_type": "execute_result"
    }
   ],
   "source": [
    "new_list = [item[:len(item)-2] for item in mylist]\n",
    "new_list"
   ]
  },
  {
   "cell_type": "markdown",
   "id": "d53899ac-2a0e-4282-88ac-4e8ac8885b27",
   "metadata": {},
   "source": [
    "## use negetive index"
   ]
  },
  {
   "cell_type": "code",
   "execution_count": 3,
   "id": "9e939d36-c572-4d7a-8343-c3682ed79749",
   "metadata": {},
   "outputs": [
    {
     "data": {
      "text/plain": [
       "['Ardashir', 'Shapur', 'Hormizd', 'Bahram']"
      ]
     },
     "execution_count": 3,
     "metadata": {},
     "output_type": "execute_result"
    }
   ],
   "source": [
    "mylist = [\"Ardashir I\", \"Shapur I\", \"Hormizd I\", \"Bahram I\"]\n",
    "new_list = []\n",
    "for i in mylist:\n",
    "    new_list.append(i[:-2])\n",
    "new_list"
   ]
  },
  {
   "cell_type": "code",
   "execution_count": 4,
   "id": "83ca59aa-4952-48fd-a581-b2dc7fb5c0a3",
   "metadata": {},
   "outputs": [
    {
     "data": {
      "text/plain": [
       "['Ardashir', 'Shapur', 'Hormizd', 'Bahram']"
      ]
     },
     "execution_count": 4,
     "metadata": {},
     "output_type": "execute_result"
    }
   ],
   "source": [
    "new_list = [item[:-2] for item in mylist]\n",
    "new_list"
   ]
  }
 ],
 "metadata": {
  "kernelspec": {
   "display_name": "Python 3 (ipykernel)",
   "language": "python",
   "name": "python3"
  },
  "language_info": {
   "codemirror_mode": {
    "name": "ipython",
    "version": 3
   },
   "file_extension": ".py",
   "mimetype": "text/x-python",
   "name": "python",
   "nbconvert_exporter": "python",
   "pygments_lexer": "ipython3",
   "version": "3.9.7"
  }
 },
 "nbformat": 4,
 "nbformat_minor": 5
}
