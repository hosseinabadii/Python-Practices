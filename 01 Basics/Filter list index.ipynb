{
 "cells": [
  {
   "cell_type": "code",
   "execution_count": 1,
   "id": "e3251e81-33c9-4592-b02c-a12789301626",
   "metadata": {},
   "outputs": [],
   "source": [
    "numbers = [12, 24, 35, 70, 88, 120, 155]"
   ]
  },
  {
   "cell_type": "code",
   "execution_count": 2,
   "id": "bd5dd747-5e47-46f7-b2ba-1ebda4ee9e29",
   "metadata": {},
   "outputs": [
    {
     "data": {
      "text/plain": [
       "[24, 35, 70, 155]"
      ]
     },
     "execution_count": 2,
     "metadata": {},
     "output_type": "execute_result"
    }
   ],
   "source": [
    "filtered_list = [n for i, n in enumerate(numbers) if i not in (0, 4, 5)]\n",
    "filtered_list"
   ]
  },
  {
   "cell_type": "code",
   "execution_count": null,
   "id": "1ef86298-7bce-4e30-a3c9-09cd76cff636",
   "metadata": {},
   "outputs": [],
   "source": []
  }
 ],
 "metadata": {
  "kernelspec": {
   "display_name": "Python 3 (ipykernel)",
   "language": "python",
   "name": "python3"
  },
  "language_info": {
   "codemirror_mode": {
    "name": "ipython",
    "version": 3
   },
   "file_extension": ".py",
   "mimetype": "text/x-python",
   "name": "python",
   "nbconvert_exporter": "python",
   "pygments_lexer": "ipython3",
   "version": "3.9.7"
  }
 },
 "nbformat": 4,
 "nbformat_minor": 5
}
