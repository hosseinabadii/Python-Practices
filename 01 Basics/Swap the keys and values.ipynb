{
 "cells": [
  {
   "cell_type": "code",
   "execution_count": 1,
   "id": "1e4866d7-89db-4011-821e-29e4f9eff822",
   "metadata": {},
   "outputs": [],
   "source": [
    "x = {\"BTCUSDT\":66678,\"LINKUSDT\":35.8,\"ADAUSDT\":2.166}"
   ]
  },
  {
   "cell_type": "code",
   "execution_count": 2,
   "id": "f46afe3b-c304-427c-b736-6a847ea3ed9b",
   "metadata": {},
   "outputs": [
    {
     "data": {
      "text/plain": [
       "{'BTCUSDT': 66678, 'LINKUSDT': 35.8, 'ADAUSDT': 2.166}"
      ]
     },
     "execution_count": 2,
     "metadata": {},
     "output_type": "execute_result"
    }
   ],
   "source": [
    "x"
   ]
  },
  {
   "cell_type": "code",
   "execution_count": 3,
   "id": "bb146060-382e-4124-aa5f-f69c026ce210",
   "metadata": {},
   "outputs": [
    {
     "data": {
      "text/plain": [
       "{66678: 'BTCUSDT', 35.8: 'LINKUSDT', 2.166: 'ADAUSDT'}"
      ]
     },
     "execution_count": 3,
     "metadata": {},
     "output_type": "execute_result"
    }
   ],
   "source": [
    "new_x = {}\n",
    "for key , value in x.items():\n",
    "    new_x[value] = key\n",
    "new_x"
   ]
  },
  {
   "cell_type": "code",
   "execution_count": 14,
   "id": "3a97a740-a891-414f-b02f-b799ef139140",
   "metadata": {},
   "outputs": [
    {
     "data": {
      "text/plain": [
       "{66678: 'BTCUSDT', 35.8: 'LINKUSDT', 2.166: 'ADAUSDT'}"
      ]
     },
     "execution_count": 14,
     "metadata": {},
     "output_type": "execute_result"
    }
   ],
   "source": [
    "new2 = {v:k for k,v in x.items()}\n",
    "new2"
   ]
  }
 ],
 "metadata": {
  "kernelspec": {
   "display_name": "Python 3 (ipykernel)",
   "language": "python",
   "name": "python3"
  },
  "language_info": {
   "codemirror_mode": {
    "name": "ipython",
    "version": 3
   },
   "file_extension": ".py",
   "mimetype": "text/x-python",
   "name": "python",
   "nbconvert_exporter": "python",
   "pygments_lexer": "ipython3",
   "version": "3.9.7"
  }
 },
 "nbformat": 4,
 "nbformat_minor": 5
}
