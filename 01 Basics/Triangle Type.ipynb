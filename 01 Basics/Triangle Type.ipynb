{
 "cells": [
  {
   "cell_type": "code",
   "execution_count": 3,
   "id": "2e43520b-9631-4b8b-9028-9dd4aa6529d5",
   "metadata": {},
   "outputs": [
    {
     "name": "stdout",
     "output_type": "stream",
     "text": [
      "isosceles triangle\n"
     ]
    }
   ],
   "source": [
    "a = 20\n",
    "b = 5\n",
    "c = 20\n",
    "if a == b and b == c:\n",
    "    print('equilateral triangle')\n",
    "elif a != b and b != c and a != c:\n",
    "    print('scalene triangle')\n",
    "elif a == b or b == c or a == c:\n",
    "    print('isosceles triangle')"
   ]
  },
  {
   "cell_type": "code",
   "execution_count": null,
   "id": "819102e2-1996-44d1-93a2-18aa5ae9b01d",
   "metadata": {},
   "outputs": [],
   "source": []
  }
 ],
 "metadata": {
  "kernelspec": {
   "display_name": "Python 3 (ipykernel)",
   "language": "python",
   "name": "python3"
  },
  "language_info": {
   "codemirror_mode": {
    "name": "ipython",
    "version": 3
   },
   "file_extension": ".py",
   "mimetype": "text/x-python",
   "name": "python",
   "nbconvert_exporter": "python",
   "pygments_lexer": "ipython3",
   "version": "3.9.7"
  }
 },
 "nbformat": 4,
 "nbformat_minor": 5
}
