{
 "cells": [
  {
   "cell_type": "code",
   "execution_count": 4,
   "id": "25b2ca44-61ba-428e-9fed-f4b3981f0559",
   "metadata": {},
   "outputs": [],
   "source": [
    "x1 = 5\n",
    "x2 = 1\n",
    "x3 = 9"
   ]
  },
  {
   "cell_type": "code",
   "execution_count": 5,
   "id": "8e332db3-5524-422a-b924-70d2068886b6",
   "metadata": {},
   "outputs": [
    {
     "name": "stdout",
     "output_type": "stream",
     "text": [
      "x1, x2, x3 = 1 5 9 \n",
      "\n",
      "median is =  5\n"
     ]
    }
   ],
   "source": [
    "median = None\n",
    "if x1 > x2:\n",
    "    x1, x2 = x2, x1\n",
    "elif x2 > x3:\n",
    "    x2, x3 = x3, x2\n",
    "print('x1, x2, x3 =', x1, x2, x3,'\\n')\n",
    "print('median is = ' , x2)"
   ]
  },
  {
   "cell_type": "code",
   "execution_count": null,
   "id": "15369db2-dc0b-47af-a8aa-a9876cc138f5",
   "metadata": {},
   "outputs": [],
   "source": []
  }
 ],
 "metadata": {
  "kernelspec": {
   "display_name": "Python 3 (ipykernel)",
   "language": "python",
   "name": "python3"
  },
  "language_info": {
   "codemirror_mode": {
    "name": "ipython",
    "version": 3
   },
   "file_extension": ".py",
   "mimetype": "text/x-python",
   "name": "python",
   "nbconvert_exporter": "python",
   "pygments_lexer": "ipython3",
   "version": "3.9.7"
  }
 },
 "nbformat": 4,
 "nbformat_minor": 5
}
