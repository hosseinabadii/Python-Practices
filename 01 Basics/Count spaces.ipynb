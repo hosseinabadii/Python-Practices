{
 "cells": [
  {
   "cell_type": "code",
   "execution_count": 1,
   "id": "97f35960-286f-44ce-a8e8-3023ae620c2e",
   "metadata": {},
   "outputs": [],
   "source": [
    "string = \"Pytopia is an online learning and teaching marketplace for Data Science. Taught by experts to help you acquire new skills.\""
   ]
  },
  {
   "cell_type": "code",
   "execution_count": 2,
   "id": "0b2ebf4a-ecc4-4369-8db4-a0273f297f4b",
   "metadata": {},
   "outputs": [
    {
     "name": "stdout",
     "output_type": "stream",
     "text": [
      "number of spaces =  19\n"
     ]
    }
   ],
   "source": [
    "new = [char for char in string if char != ' ']\n",
    "num_count = len(string) - len(new)\n",
    "print('number of spaces = ',num_count)"
   ]
  },
  {
   "cell_type": "code",
   "execution_count": null,
   "id": "f756721e-84f6-4c4d-9514-eae6ddef8eb1",
   "metadata": {},
   "outputs": [],
   "source": []
  },
  {
   "cell_type": "code",
   "execution_count": 3,
   "id": "3083a0ef-a068-4284-8e6b-be9b12ffe08c",
   "metadata": {},
   "outputs": [
    {
     "name": "stdout",
     "output_type": "stream",
     "text": [
      "number of spaces =  19\n"
     ]
    }
   ],
   "source": [
    "new = [spa for spa in string if spa == ' ']\n",
    "print('number of spaces = ',len(new))"
   ]
  },
  {
   "cell_type": "code",
   "execution_count": null,
   "id": "8a556443-4578-480d-b681-6dfae1b18673",
   "metadata": {},
   "outputs": [],
   "source": []
  }
 ],
 "metadata": {
  "kernelspec": {
   "display_name": "Python 3 (ipykernel)",
   "language": "python",
   "name": "python3"
  },
  "language_info": {
   "codemirror_mode": {
    "name": "ipython",
    "version": 3
   },
   "file_extension": ".py",
   "mimetype": "text/x-python",
   "name": "python",
   "nbconvert_exporter": "python",
   "pygments_lexer": "ipython3",
   "version": "3.9.7"
  }
 },
 "nbformat": 4,
 "nbformat_minor": 5
}
