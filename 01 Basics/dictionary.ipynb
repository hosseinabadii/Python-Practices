{
 "cells": [
  {
   "cell_type": "code",
   "execution_count": 1,
   "id": "72fab9da-dcfc-4280-9e79-31fa9dd2e60c",
   "metadata": {},
   "outputs": [],
   "source": [
    "di1 = {'Ali':20, 'Khosro':18,}"
   ]
  },
  {
   "cell_type": "code",
   "execution_count": 2,
   "id": "d89451fe-88ca-4bd2-bfdf-df29c728e331",
   "metadata": {},
   "outputs": [
    {
     "data": {
      "text/plain": [
       "{'Ali': 20, 'Khosro': 18}"
      ]
     },
     "execution_count": 2,
     "metadata": {},
     "output_type": "execute_result"
    }
   ],
   "source": [
    "di1"
   ]
  },
  {
   "cell_type": "code",
   "execution_count": 3,
   "id": "8211ef20-72ed-48bf-bfe9-c95d6a600040",
   "metadata": {},
   "outputs": [
    {
     "data": {
      "text/plain": [
       "dict"
      ]
     },
     "execution_count": 3,
     "metadata": {},
     "output_type": "execute_result"
    }
   ],
   "source": [
    "type(di1)"
   ]
  },
  {
   "cell_type": "code",
   "execution_count": 4,
   "id": "f9e8f37a-b778-45c5-9a8d-0f4b1c7c6514",
   "metadata": {},
   "outputs": [
    {
     "data": {
      "text/plain": [
       "2"
      ]
     },
     "execution_count": 4,
     "metadata": {},
     "output_type": "execute_result"
    }
   ],
   "source": [
    "len(di1)"
   ]
  },
  {
   "cell_type": "code",
   "execution_count": 7,
   "id": "e5bf4db9-633c-4f5b-ad09-7e71564476e6",
   "metadata": {},
   "outputs": [],
   "source": [
    "di2 = {\n",
    "    'Ali':12,\n",
    "    'Khosro':20,\n",
    "}"
   ]
  },
  {
   "cell_type": "code",
   "execution_count": 8,
   "id": "9fbd9372-2d73-4c0e-96bb-a5f25603228c",
   "metadata": {},
   "outputs": [
    {
     "data": {
      "text/plain": [
       "{'Ali': 12, 'Khosro': 20}"
      ]
     },
     "execution_count": 8,
     "metadata": {},
     "output_type": "execute_result"
    }
   ],
   "source": [
    "di2"
   ]
  },
  {
   "cell_type": "code",
   "execution_count": 10,
   "id": "d0a71882-96ac-44ce-87b8-eaa170d6e2ee",
   "metadata": {},
   "outputs": [
    {
     "data": {
      "text/plain": [
       "(18, 20)"
      ]
     },
     "execution_count": 10,
     "metadata": {},
     "output_type": "execute_result"
    }
   ],
   "source": [
    "di1['Khosro']  , di2['Khosro']"
   ]
  },
  {
   "cell_type": "code",
   "execution_count": 11,
   "id": "11c722de-8088-4845-92e9-36b6b6c57fed",
   "metadata": {},
   "outputs": [],
   "source": [
    "di1['khosro'] = 14"
   ]
  },
  {
   "cell_type": "code",
   "execution_count": 12,
   "id": "c80f58b4-ec2d-46f0-85a3-2d86e26d20a3",
   "metadata": {},
   "outputs": [
    {
     "data": {
      "text/plain": [
       "{'Ali': 20, 'Khosro': 18, 'khosro': 14}"
      ]
     },
     "execution_count": 12,
     "metadata": {},
     "output_type": "execute_result"
    }
   ],
   "source": [
    "di1"
   ]
  },
  {
   "cell_type": "code",
   "execution_count": 13,
   "id": "b555357e-01d2-4ac8-ab79-a62b35f75f72",
   "metadata": {},
   "outputs": [],
   "source": [
    "di1['Khosro'] = 10"
   ]
  },
  {
   "cell_type": "code",
   "execution_count": 14,
   "id": "73a8407b-19c7-4b21-8bc1-25721f404d12",
   "metadata": {},
   "outputs": [
    {
     "data": {
      "text/plain": [
       "{'Ali': 20, 'Khosro': 10, 'khosro': 14}"
      ]
     },
     "execution_count": 14,
     "metadata": {},
     "output_type": "execute_result"
    }
   ],
   "source": [
    "di1"
   ]
  },
  {
   "cell_type": "code",
   "execution_count": 15,
   "id": "2c8e91a0-6200-4381-9e7b-67b08dde2984",
   "metadata": {},
   "outputs": [],
   "source": [
    "del di1['khosro']"
   ]
  },
  {
   "cell_type": "code",
   "execution_count": 16,
   "id": "0899a6eb-32e3-4c9e-bc47-5f60d0ec3cb2",
   "metadata": {},
   "outputs": [
    {
     "data": {
      "text/plain": [
       "{'Ali': 20, 'Khosro': 10}"
      ]
     },
     "execution_count": 16,
     "metadata": {},
     "output_type": "execute_result"
    }
   ],
   "source": [
    "di1"
   ]
  },
  {
   "cell_type": "code",
   "execution_count": 17,
   "id": "a8571ea5-7095-4742-b9c2-94ca471c49eb",
   "metadata": {},
   "outputs": [
    {
     "data": {
      "text/plain": [
       "3025373743550346987"
      ]
     },
     "execution_count": 17,
     "metadata": {},
     "output_type": "execute_result"
    }
   ],
   "source": [
    "hash('Ali')"
   ]
  },
  {
   "cell_type": "code",
   "execution_count": 2,
   "id": "480dc04a-07f7-4b88-bb88-9e973782b990",
   "metadata": {},
   "outputs": [
    {
     "data": {
      "text/plain": [
       "{'name': 'Khosro', 'age': 31}"
      ]
     },
     "execution_count": 2,
     "metadata": {},
     "output_type": "execute_result"
    }
   ],
   "source": [
    "dict1 = dict(name=\"Khosro\", age=31)\n",
    "dict1"
   ]
  },
  {
   "cell_type": "code",
   "execution_count": null,
   "id": "c8fbd153-56f9-4fe3-9628-1c7a415b0f4b",
   "metadata": {},
   "outputs": [],
   "source": []
  }
 ],
 "metadata": {
  "kernelspec": {
   "display_name": "Python 3 (ipykernel)",
   "language": "python",
   "name": "python3"
  },
  "language_info": {
   "codemirror_mode": {
    "name": "ipython",
    "version": 3
   },
   "file_extension": ".py",
   "mimetype": "text/x-python",
   "name": "python",
   "nbconvert_exporter": "python",
   "pygments_lexer": "ipython3",
   "version": "3.9.7"
  }
 },
 "nbformat": 4,
 "nbformat_minor": 5
}
