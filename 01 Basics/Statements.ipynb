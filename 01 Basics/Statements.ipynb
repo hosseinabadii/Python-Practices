{
 "cells": [
  {
   "cell_type": "code",
   "execution_count": 6,
   "id": "596329d2-79c4-4476-99f1-447839e75cc8",
   "metadata": {},
   "outputs": [
    {
     "name": "stdout",
     "output_type": "stream",
     "text": [
      "12\n"
     ]
    }
   ],
   "source": [
    "x = 12\n",
    "if x > 5:\n",
    "    print(x)\n",
    "elif x == 12:\n",
    "    print('x = ' , x)\n",
    "else:\n",
    "    print('out of range', x)\n"
   ]
  },
  {
   "cell_type": "code",
   "execution_count": 10,
   "id": "4e41bb21-4437-4e42-962f-423ef24cda1c",
   "metadata": {},
   "outputs": [
    {
     "name": "stdout",
     "output_type": "stream",
     "text": [
      "0\n",
      "1\n",
      "2\n",
      "3\n",
      "4\n",
      "5\n",
      "x =  6\n"
     ]
    }
   ],
   "source": [
    "x = 0\n",
    "while x <= 10:\n",
    "    if x == 6:\n",
    "        print('x = ' , x)\n",
    "        break\n",
    "    print(x)\n",
    "    x += 1"
   ]
  },
  {
   "cell_type": "code",
   "execution_count": 1,
   "id": "4478496a-42c1-4c28-bfc6-b633901202ca",
   "metadata": {},
   "outputs": [
    {
     "name": "stdout",
     "output_type": "stream",
     "text": [
      "0\n",
      "1\n",
      "2\n",
      "3\n",
      "4\n",
      "5\n",
      "x =  6\n",
      "7\n",
      "8\n",
      "9\n",
      "10\n"
     ]
    }
   ],
   "source": [
    "x = 0\n",
    "while x <= 10:\n",
    "    if x == 6:\n",
    "        print('x = ' , x)\n",
    "        x += 1\n",
    "        continue\n",
    "    print(x)\n",
    "    x += 1"
   ]
  },
  {
   "cell_type": "code",
   "execution_count": null,
   "id": "252602f3-7767-4a16-8b34-47b325224ca4",
   "metadata": {},
   "outputs": [],
   "source": []
  },
  {
   "cell_type": "code",
   "execution_count": 3,
   "id": "14d386ae-64c5-46ca-8b88-9967233e566b",
   "metadata": {},
   "outputs": [
    {
     "name": "stdout",
     "output_type": "stream",
     "text": [
      "squre  1  is =  1\n",
      "squre  2  is =  4\n",
      "squre  3  is =  9\n",
      "squre  4  is =  16\n",
      "squre  5  is =  25\n",
      "squre  6  is =  36\n",
      "squre  7  is =  49\n",
      "squre  8  is =  64\n",
      "squre  9  is =  81\n",
      "squre  10  is =  100\n",
      "squre  11  is =  121\n",
      "squre  12  is =  144\n",
      "squre  13  is =  169\n",
      "squre  14  is =  196\n",
      "squre  15  is =  225\n",
      "squre  16  is =  256\n",
      "squre  17  is =  289\n",
      "squre  18  is =  324\n",
      "squre  19  is =  361\n",
      "squre  20  is =  400\n"
     ]
    }
   ],
   "source": [
    "for i in range(1 , 21):\n",
    "    print('squre ', i ,' is = ' , i**2)"
   ]
  },
  {
   "cell_type": "code",
   "execution_count": 4,
   "id": "b8d3f2be-0732-45a1-b4d3-140f285eec0e",
   "metadata": {},
   "outputs": [
    {
     "name": "stdout",
     "output_type": "stream",
     "text": [
      "name =  khosro\n",
      "name =  ali\n",
      "name =  reza\n",
      "name =  mahdi\n",
      "name =  nahid\n"
     ]
    }
   ],
   "source": [
    "x = ['khosro', 'ali', 'reza', 'mahdi', 'nahid',]\n",
    "for name in x:\n",
    "    print('name = ', name)"
   ]
  },
  {
   "cell_type": "code",
   "execution_count": null,
   "id": "03263ac7-3b1e-4f7b-af2f-2395c4e88e7f",
   "metadata": {},
   "outputs": [],
   "source": []
  }
 ],
 "metadata": {
  "kernelspec": {
   "display_name": "Python 3 (ipykernel)",
   "language": "python",
   "name": "python3"
  },
  "language_info": {
   "codemirror_mode": {
    "name": "ipython",
    "version": 3
   },
   "file_extension": ".py",
   "mimetype": "text/x-python",
   "name": "python",
   "nbconvert_exporter": "python",
   "pygments_lexer": "ipython3",
   "version": "3.9.7"
  }
 },
 "nbformat": 4,
 "nbformat_minor": 5
}
