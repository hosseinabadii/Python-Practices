{
 "cells": [
  {
   "cell_type": "code",
   "execution_count": 86,
   "id": "c199220c-bbe9-4e39-8d45-377b8a9042c5",
   "metadata": {},
   "outputs": [],
   "source": [
    "class Cars:\n",
    "    doors = 4\n",
    "    lights = 2\n",
    "    \n",
    "    def __init__(self, name, color):\n",
    "        self.name = name\n",
    "        self.color = color\n",
    "        \n",
    "    def __str__(self):\n",
    "        return f'This car is {self.name}'\n",
    "    \n",
    "    def full_name(self):\n",
    "        return f'This {self.name} is {self.color} and have {self.lights} lights!'\n",
    "    "
   ]
  },
  {
   "cell_type": "code",
   "execution_count": 87,
   "id": "0c0ae1d5-c5a8-4217-b5b9-a1a2545f651e",
   "metadata": {},
   "outputs": [],
   "source": [
    "pejo = Cars('pejo', 'blue')"
   ]
  },
  {
   "cell_type": "code",
   "execution_count": 88,
   "id": "317193d2-edc0-49d9-ab2a-c10de9ec0e4e",
   "metadata": {},
   "outputs": [
    {
     "data": {
      "text/plain": [
       "__main__.Cars"
      ]
     },
     "execution_count": 88,
     "metadata": {},
     "output_type": "execute_result"
    }
   ],
   "source": [
    "type(pejo)"
   ]
  },
  {
   "cell_type": "code",
   "execution_count": 89,
   "id": "3dd32d47-3553-4efa-84d2-3229168adc67",
   "metadata": {},
   "outputs": [
    {
     "data": {
      "text/plain": [
       "<__main__.Cars at 0x7f6447fc9c60>"
      ]
     },
     "execution_count": 89,
     "metadata": {},
     "output_type": "execute_result"
    }
   ],
   "source": [
    "pejo"
   ]
  },
  {
   "cell_type": "code",
   "execution_count": 90,
   "id": "1b6eca98-dbf8-4f43-b2a1-615d6b7e3da7",
   "metadata": {},
   "outputs": [
    {
     "name": "stdout",
     "output_type": "stream",
     "text": [
      "This car is pejo\n"
     ]
    }
   ],
   "source": [
    "print(pejo)"
   ]
  },
  {
   "cell_type": "code",
   "execution_count": 91,
   "id": "66a3bb73-7254-4c50-b92e-7e67f1f00398",
   "metadata": {},
   "outputs": [
    {
     "data": {
      "text/plain": [
       "('pejo', 'blue', 4)"
      ]
     },
     "execution_count": 91,
     "metadata": {},
     "output_type": "execute_result"
    }
   ],
   "source": [
    "pejo.name , pejo.color, pejo.doors"
   ]
  },
  {
   "cell_type": "code",
   "execution_count": 92,
   "id": "4a55edf0-3d00-44ef-bd6f-e913b8e88073",
   "metadata": {},
   "outputs": [
    {
     "data": {
      "text/plain": [
       "'This pejo is blue and have 2 lights!'"
      ]
     },
     "execution_count": 92,
     "metadata": {},
     "output_type": "execute_result"
    }
   ],
   "source": [
    "pejo.full_name()"
   ]
  },
  {
   "cell_type": "code",
   "execution_count": 70,
   "id": "a265948c-d8c2-496c-b612-a4db7e39f66a",
   "metadata": {},
   "outputs": [],
   "source": [
    "pride = Cars('pride', 'white')"
   ]
  },
  {
   "cell_type": "code",
   "execution_count": 71,
   "id": "199b3269-3b73-413b-b4e4-1fd14a364c27",
   "metadata": {},
   "outputs": [
    {
     "data": {
      "text/plain": [
       "__main__.Cars"
      ]
     },
     "execution_count": 71,
     "metadata": {},
     "output_type": "execute_result"
    }
   ],
   "source": [
    "type(pride)"
   ]
  },
  {
   "cell_type": "code",
   "execution_count": 72,
   "id": "aa90227a-4be9-4846-a259-58d7951cfbf9",
   "metadata": {},
   "outputs": [
    {
     "data": {
      "text/plain": [
       "<__main__.Cars at 0x7f6447fcac20>"
      ]
     },
     "execution_count": 72,
     "metadata": {},
     "output_type": "execute_result"
    }
   ],
   "source": [
    "pride"
   ]
  },
  {
   "cell_type": "code",
   "execution_count": 73,
   "id": "2a0a777f-e1d9-41ce-9679-37b77a289ea2",
   "metadata": {},
   "outputs": [
    {
     "data": {
      "text/plain": [
       "('pride', 'white')"
      ]
     },
     "execution_count": 73,
     "metadata": {},
     "output_type": "execute_result"
    }
   ],
   "source": [
    "pride.name, pride.color\n"
   ]
  },
  {
   "cell_type": "code",
   "execution_count": 74,
   "id": "621f393f-c050-48af-9f82-3b545edcc75a",
   "metadata": {},
   "outputs": [
    {
     "name": "stdout",
     "output_type": "stream",
     "text": [
      "This car is pride\n"
     ]
    }
   ],
   "source": [
    "print(pride)"
   ]
  },
  {
   "cell_type": "code",
   "execution_count": 83,
   "id": "5c2f9f01-e14f-4ea7-bb59-3fe899dd9e78",
   "metadata": {},
   "outputs": [
    {
     "data": {
      "text/plain": [
       "4"
      ]
     },
     "execution_count": 83,
     "metadata": {},
     "output_type": "execute_result"
    }
   ],
   "source": [
    "pride.doors"
   ]
  },
  {
   "cell_type": "code",
   "execution_count": 94,
   "id": "45643297-007d-4c9a-9f91-283a47c4fb5a",
   "metadata": {},
   "outputs": [
    {
     "data": {
      "text/plain": [
       "'This pride car is white and have 2 lights!'"
      ]
     },
     "execution_count": 94,
     "metadata": {},
     "output_type": "execute_result"
    }
   ],
   "source": [
    "pride.full_name()"
   ]
  },
  {
   "cell_type": "code",
   "execution_count": 100,
   "id": "07c9009b-bce2-497c-b733-938b8354dc20",
   "metadata": {},
   "outputs": [
    {
     "data": {
      "text/plain": [
       "'This pride is white and have 2 lights!'"
      ]
     },
     "execution_count": 100,
     "metadata": {},
     "output_type": "execute_result"
    }
   ],
   "source": [
    "Cars.full_name(pride)"
   ]
  },
  {
   "cell_type": "code",
   "execution_count": 102,
   "id": "f7362ba8-e875-4cd6-802f-4482351ba732",
   "metadata": {},
   "outputs": [
    {
     "data": {
      "text/plain": [
       "'This pride car is white and have 2 lights!'"
      ]
     },
     "execution_count": 102,
     "metadata": {},
     "output_type": "execute_result"
    }
   ],
   "source": [
    "pride.full_name()"
   ]
  },
  {
   "cell_type": "code",
   "execution_count": null,
   "id": "fd6fb62a-ab9b-4007-946e-b86c0d1b159c",
   "metadata": {},
   "outputs": [],
   "source": []
  }
 ],
 "metadata": {
  "kernelspec": {
   "display_name": "Python 3 (ipykernel)",
   "language": "python",
   "name": "python3"
  },
  "language_info": {
   "codemirror_mode": {
    "name": "ipython",
    "version": 3
   },
   "file_extension": ".py",
   "mimetype": "text/x-python",
   "name": "python",
   "nbconvert_exporter": "python",
   "pygments_lexer": "ipython3",
   "version": "3.9.7"
  }
 },
 "nbformat": 4,
 "nbformat_minor": 5
}
