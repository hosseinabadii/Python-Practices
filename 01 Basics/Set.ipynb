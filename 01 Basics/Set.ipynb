{
 "cells": [
  {
   "cell_type": "code",
   "execution_count": 1,
   "id": "ebdb5f95-00ca-42fd-83a9-2f24672b8da5",
   "metadata": {},
   "outputs": [],
   "source": [
    "s = set()"
   ]
  },
  {
   "cell_type": "code",
   "execution_count": 3,
   "id": "6b4ed2f0-a7dd-4e64-9cd8-ae685521aa9a",
   "metadata": {},
   "outputs": [
    {
     "data": {
      "text/plain": [
       "set"
      ]
     },
     "execution_count": 3,
     "metadata": {},
     "output_type": "execute_result"
    }
   ],
   "source": [
    "type(s)"
   ]
  },
  {
   "cell_type": "code",
   "execution_count": 4,
   "id": "75406a03-b41b-40b7-af49-8503a8ce4c58",
   "metadata": {},
   "outputs": [
    {
     "data": {
      "text/plain": [
       "0"
      ]
     },
     "execution_count": 4,
     "metadata": {},
     "output_type": "execute_result"
    }
   ],
   "source": [
    "len(s)"
   ]
  },
  {
   "cell_type": "code",
   "execution_count": 7,
   "id": "15ac2ff9-2868-434f-afae-caae28a4ea5f",
   "metadata": {},
   "outputs": [],
   "source": [
    "s = {13, 5, 6, 12, 5, 7, 5,}"
   ]
  },
  {
   "cell_type": "code",
   "execution_count": 8,
   "id": "947c6768-7e41-4e95-8762-8742ee5817fc",
   "metadata": {},
   "outputs": [
    {
     "data": {
      "text/plain": [
       "{5, 6, 7, 12, 13}"
      ]
     },
     "execution_count": 8,
     "metadata": {},
     "output_type": "execute_result"
    }
   ],
   "source": [
    "s"
   ]
  },
  {
   "cell_type": "code",
   "execution_count": 16,
   "id": "9c160eb0-c71b-4732-bb95-a94b91a6ddad",
   "metadata": {},
   "outputs": [],
   "source": [
    "s.add(20)"
   ]
  },
  {
   "cell_type": "code",
   "execution_count": 17,
   "id": "3e24056f-6a6b-4d6a-8281-9db2d79f8339",
   "metadata": {},
   "outputs": [
    {
     "data": {
      "text/plain": [
       "{(20, 21), 12, 13, 20, 5, 6, 7}"
      ]
     },
     "execution_count": 17,
     "metadata": {},
     "output_type": "execute_result"
    }
   ],
   "source": [
    "s"
   ]
  },
  {
   "cell_type": "code",
   "execution_count": 18,
   "id": "0e4b2bf0-447d-451a-9cf7-64d8720b8486",
   "metadata": {},
   "outputs": [],
   "source": [
    "s.update([40, 50, 60])"
   ]
  },
  {
   "cell_type": "code",
   "execution_count": 19,
   "id": "a99d57dc-66d7-434e-aa83-feef520aa280",
   "metadata": {},
   "outputs": [
    {
     "data": {
      "text/plain": [
       "{(20, 21), 12, 13, 20, 40, 5, 50, 6, 60, 7}"
      ]
     },
     "execution_count": 19,
     "metadata": {},
     "output_type": "execute_result"
    }
   ],
   "source": [
    "s"
   ]
  },
  {
   "cell_type": "code",
   "execution_count": 20,
   "id": "7e12dc3e-1c59-4eff-ba32-e7744d620e31",
   "metadata": {},
   "outputs": [],
   "source": [
    "s = {1, 2, 3, 4, 5,}"
   ]
  },
  {
   "cell_type": "code",
   "execution_count": 21,
   "id": "b7ada441-acf1-4d76-944f-b92b9105762f",
   "metadata": {},
   "outputs": [],
   "source": [
    "d = {4, 5, 6, 7,}"
   ]
  },
  {
   "cell_type": "code",
   "execution_count": 22,
   "id": "41d0f775-9845-4fb5-9fd0-b1f48ceee2be",
   "metadata": {},
   "outputs": [
    {
     "data": {
      "text/plain": [
       "{1, 2, 3, 4, 5}"
      ]
     },
     "execution_count": 22,
     "metadata": {},
     "output_type": "execute_result"
    }
   ],
   "source": [
    "s"
   ]
  },
  {
   "cell_type": "code",
   "execution_count": 23,
   "id": "99195677-59c7-40b9-9ca7-8f660ea1ab11",
   "metadata": {},
   "outputs": [
    {
     "data": {
      "text/plain": [
       "{4, 5, 6, 7}"
      ]
     },
     "execution_count": 23,
     "metadata": {},
     "output_type": "execute_result"
    }
   ],
   "source": [
    "d"
   ]
  },
  {
   "cell_type": "code",
   "execution_count": 24,
   "id": "2d9a4719-24d9-44bb-a195-7f5ac0c32da6",
   "metadata": {},
   "outputs": [
    {
     "data": {
      "text/plain": [
       "{1, 2, 3, 4, 5, 6, 7}"
      ]
     },
     "execution_count": 24,
     "metadata": {},
     "output_type": "execute_result"
    }
   ],
   "source": [
    "s.union(d)"
   ]
  },
  {
   "cell_type": "code",
   "execution_count": 25,
   "id": "3d4cc263-33cd-4ba9-aaf2-d4ddde6c62ce",
   "metadata": {},
   "outputs": [
    {
     "data": {
      "text/plain": [
       "{4, 5}"
      ]
     },
     "execution_count": 25,
     "metadata": {},
     "output_type": "execute_result"
    }
   ],
   "source": [
    "s.intersection(d)"
   ]
  },
  {
   "cell_type": "code",
   "execution_count": 26,
   "id": "b8f9230a-0cb5-4588-a9c1-750c3a961be0",
   "metadata": {},
   "outputs": [
    {
     "data": {
      "text/plain": [
       "{1, 2, 3}"
      ]
     },
     "execution_count": 26,
     "metadata": {},
     "output_type": "execute_result"
    }
   ],
   "source": [
    "s.difference(d)"
   ]
  },
  {
   "cell_type": "code",
   "execution_count": 27,
   "id": "216fc0a6-e3b7-44e8-93c3-c0973955c23a",
   "metadata": {},
   "outputs": [
    {
     "data": {
      "text/plain": [
       "{6, 7}"
      ]
     },
     "execution_count": 27,
     "metadata": {},
     "output_type": "execute_result"
    }
   ],
   "source": [
    "d.difference(s) "
   ]
  },
  {
   "cell_type": "code",
   "execution_count": 47,
   "id": "951ff559-4f0c-486f-b020-42733e530b72",
   "metadata": {},
   "outputs": [
    {
     "ename": "KeyError",
     "evalue": "3",
     "output_type": "error",
     "traceback": [
      "\u001b[0;31m---------------------------------------------------------------------------\u001b[0m",
      "\u001b[0;31mKeyError\u001b[0m                                  Traceback (most recent call last)",
      "Cell \u001b[0;32mIn[47], line 1\u001b[0m\n\u001b[0;32m----> 1\u001b[0m \u001b[43ms\u001b[49m\u001b[38;5;241;43m.\u001b[39;49m\u001b[43mremove\u001b[49m\u001b[43m(\u001b[49m\u001b[38;5;241;43m3\u001b[39;49m\u001b[43m)\u001b[49m\n",
      "\u001b[0;31mKeyError\u001b[0m: 3"
     ]
    }
   ],
   "source": [
    "s.remove(3)"
   ]
  },
  {
   "cell_type": "code",
   "execution_count": 48,
   "id": "fef6647f-967c-4107-948d-5f9cd9d30baf",
   "metadata": {},
   "outputs": [
    {
     "data": {
      "text/plain": [
       "{1, 2, 4, 5}"
      ]
     },
     "execution_count": 48,
     "metadata": {},
     "output_type": "execute_result"
    }
   ],
   "source": [
    "s"
   ]
  },
  {
   "cell_type": "code",
   "execution_count": 28,
   "id": "5238810b-604f-409e-98e0-56b375e6fd5c",
   "metadata": {},
   "outputs": [],
   "source": [
    "g = set('khosro hosseinabadi')"
   ]
  },
  {
   "cell_type": "code",
   "execution_count": 29,
   "id": "f92d76ea-7e45-4de9-beea-74a2fc491043",
   "metadata": {},
   "outputs": [
    {
     "data": {
      "text/plain": [
       "{' ', 'a', 'b', 'd', 'e', 'h', 'i', 'k', 'n', 'o', 'r', 's'}"
      ]
     },
     "execution_count": 29,
     "metadata": {},
     "output_type": "execute_result"
    }
   ],
   "source": [
    "g"
   ]
  },
  {
   "cell_type": "code",
   "execution_count": 30,
   "id": "4668a758-36b3-4ba6-a0b3-b046c6ea6df7",
   "metadata": {},
   "outputs": [
    {
     "data": {
      "text/plain": [
       "True"
      ]
     },
     "execution_count": 30,
     "metadata": {},
     "output_type": "execute_result"
    }
   ],
   "source": [
    "'a' in g"
   ]
  },
  {
   "cell_type": "code",
   "execution_count": 31,
   "id": "83a796f9-ed11-40fd-bd94-c8ac4112416d",
   "metadata": {},
   "outputs": [
    {
     "data": {
      "text/plain": [
       "False"
      ]
     },
     "execution_count": 31,
     "metadata": {},
     "output_type": "execute_result"
    }
   ],
   "source": [
    "'g' in g"
   ]
  },
  {
   "cell_type": "code",
   "execution_count": 32,
   "id": "173e6fad-a248-4cae-8bd5-8c6e1e6f595b",
   "metadata": {},
   "outputs": [],
   "source": [
    "li = list(range(10000))"
   ]
  },
  {
   "cell_type": "code",
   "execution_count": 33,
   "id": "71cf2197-4414-4570-a1f6-2a753a787198",
   "metadata": {},
   "outputs": [],
   "source": [
    "se = set(range(10000))"
   ]
  },
  {
   "cell_type": "code",
   "execution_count": 34,
   "id": "b8079da0-9ec6-40f5-a8a1-db62f3ebb743",
   "metadata": {},
   "outputs": [
    {
     "data": {
      "text/plain": [
       "(10000, 10000)"
      ]
     },
     "execution_count": 34,
     "metadata": {},
     "output_type": "execute_result"
    }
   ],
   "source": [
    "len(li) , len(se)"
   ]
  },
  {
   "cell_type": "code",
   "execution_count": 35,
   "id": "4855b6ca-b2bc-4e1f-a862-e1db1d692cb7",
   "metadata": {},
   "outputs": [
    {
     "name": "stdout",
     "output_type": "stream",
     "text": [
      "40.7 µs ± 1.27 µs per loop (mean ± std. dev. of 7 runs, 10,000 loops each)\n"
     ]
    }
   ],
   "source": [
    "%timeit 5000 in li"
   ]
  },
  {
   "cell_type": "code",
   "execution_count": 36,
   "id": "b26a9263-5fa0-49e2-adbc-cc916a801d02",
   "metadata": {},
   "outputs": [
    {
     "name": "stdout",
     "output_type": "stream",
     "text": [
      "66.1 ns ± 1.98 ns per loop (mean ± std. dev. of 7 runs, 10,000,000 loops each)\n"
     ]
    }
   ],
   "source": [
    "%timeit 5000 in se"
   ]
  },
  {
   "cell_type": "code",
   "execution_count": 37,
   "id": "90a5e496-c1d5-4259-be1e-02dbe12b8469",
   "metadata": {},
   "outputs": [
    {
     "name": "stdout",
     "output_type": "stream",
     "text": [
      "48.5 ns ± 0.64 ns per loop (mean ± std. dev. of 7 runs, 10,000,000 loops each)\n"
     ]
    }
   ],
   "source": [
    "%timeit 30 in se"
   ]
  },
  {
   "cell_type": "code",
   "execution_count": 38,
   "id": "62d7e59f-e641-4bde-bce0-a0badcc9b473",
   "metadata": {},
   "outputs": [
    {
     "name": "stdout",
     "output_type": "stream",
     "text": [
      "315 ns ± 8.38 ns per loop (mean ± std. dev. of 7 runs, 1,000,000 loops each)\n"
     ]
    }
   ],
   "source": [
    "%timeit 30 in li"
   ]
  },
  {
   "cell_type": "code",
   "execution_count": 39,
   "id": "a3bb4df8-142d-4bd2-9337-4d052ff5addc",
   "metadata": {},
   "outputs": [],
   "source": [
    "fs = frozenset([1, 2, 3,])"
   ]
  },
  {
   "cell_type": "code",
   "execution_count": 40,
   "id": "2d6a8428-c97d-48fa-9064-8c20e3948826",
   "metadata": {},
   "outputs": [
    {
     "data": {
      "text/plain": [
       "frozenset({1, 2, 3})"
      ]
     },
     "execution_count": 40,
     "metadata": {},
     "output_type": "execute_result"
    }
   ],
   "source": [
    "fs"
   ]
  },
  {
   "cell_type": "code",
   "execution_count": 41,
   "id": "0e9e126f-9926-4bf0-b622-c36d6c83ed54",
   "metadata": {},
   "outputs": [
    {
     "ename": "AttributeError",
     "evalue": "'frozenset' object has no attribute 'add'",
     "output_type": "error",
     "traceback": [
      "\u001b[0;31m---------------------------------------------------------------------------\u001b[0m",
      "\u001b[0;31mAttributeError\u001b[0m                            Traceback (most recent call last)",
      "Cell \u001b[0;32mIn[41], line 1\u001b[0m\n\u001b[0;32m----> 1\u001b[0m \u001b[43mfs\u001b[49m\u001b[38;5;241;43m.\u001b[39;49m\u001b[43madd\u001b[49m(\u001b[38;5;241m56\u001b[39m)\n",
      "\u001b[0;31mAttributeError\u001b[0m: 'frozenset' object has no attribute 'add'"
     ]
    }
   ],
   "source": [
    "fs.add(56)"
   ]
  },
  {
   "cell_type": "code",
   "execution_count": null,
   "id": "6400be20-057a-4bd6-8d37-0df5198af6b5",
   "metadata": {},
   "outputs": [],
   "source": []
  }
 ],
 "metadata": {
  "kernelspec": {
   "display_name": "Python 3 (ipykernel)",
   "language": "python",
   "name": "python3"
  },
  "language_info": {
   "codemirror_mode": {
    "name": "ipython",
    "version": 3
   },
   "file_extension": ".py",
   "mimetype": "text/x-python",
   "name": "python",
   "nbconvert_exporter": "python",
   "pygments_lexer": "ipython3",
   "version": "3.9.7"
  }
 },
 "nbformat": 4,
 "nbformat_minor": 5
}
