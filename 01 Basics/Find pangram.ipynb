{
 "cells": [
  {
   "cell_type": "code",
   "execution_count": 1,
   "id": "74f7fb3b-5b82-4c72-a84d-7c4012a693c6",
   "metadata": {},
   "outputs": [],
   "source": [
    "def is_pangram(string):\n",
    "    alphabet='abcdefghijklmnopqrstuvwxyz'\n",
    "    result = {True if char in string.lower() else False for char in alphabet}\n",
    "    if all(result):\n",
    "        return True\n",
    "    else:\n",
    "        return False"
   ]
  },
  {
   "cell_type": "code",
   "execution_count": 2,
   "id": "91fd864a-bec9-4fbd-a167-4ec47150054d",
   "metadata": {},
   "outputs": [
    {
     "data": {
      "text/plain": [
       "True"
      ]
     },
     "execution_count": 2,
     "metadata": {},
     "output_type": "execute_result"
    }
   ],
   "source": [
    "is_pangram('The quick brown fox jumps over the lazy dog')"
   ]
  },
  {
   "cell_type": "code",
   "execution_count": 3,
   "id": "e474dfa7-4da2-4ddb-acba-34bacbeb1e8b",
   "metadata": {},
   "outputs": [
    {
     "data": {
      "text/plain": [
       "False"
      ]
     },
     "execution_count": 3,
     "metadata": {},
     "output_type": "execute_result"
    }
   ],
   "source": [
    "is_pangram('hello this is me')"
   ]
  },
  {
   "cell_type": "code",
   "execution_count": 4,
   "id": "4968eed1-d769-4a98-890d-0c865e19d137",
   "metadata": {},
   "outputs": [
    {
     "data": {
      "text/plain": [
       "True"
      ]
     },
     "execution_count": 4,
     "metadata": {},
     "output_type": "execute_result"
    }
   ],
   "source": [
    "is_pangram(\"abcdefghijklmnopqrstuvwxyz\")"
   ]
  },
  {
   "cell_type": "code",
   "execution_count": null,
   "id": "a03f3bf7-1806-4704-873b-00019ace85f6",
   "metadata": {},
   "outputs": [],
   "source": []
  },
  {
   "cell_type": "code",
   "execution_count": 5,
   "id": "8bb016bd-c7cd-407d-8ada-6a4bd69183f6",
   "metadata": {},
   "outputs": [],
   "source": [
    "def is_pangram1(sentence):\n",
    "    alphabet = \"abcdefghijklmnopqrstuvwxyz\"\n",
    "    sentence = sentence.lower()\n",
    "    for letter in sentence:\n",
    "        if letter in alphabet:\n",
    "            alphabet = alphabet.replace(letter, \"\")\n",
    "    return not alphabet"
   ]
  },
  {
   "cell_type": "code",
   "execution_count": 6,
   "id": "45b1305b-5a16-4b29-8a2e-b0672775ffaa",
   "metadata": {},
   "outputs": [
    {
     "data": {
      "text/plain": [
       "True"
      ]
     },
     "execution_count": 6,
     "metadata": {},
     "output_type": "execute_result"
    }
   ],
   "source": [
    "is_pangram1('The quick brown fox jumps over the lazy dog')"
   ]
  },
  {
   "cell_type": "code",
   "execution_count": 7,
   "id": "679bba77-86ef-402e-a30e-f9ab67a8d0b1",
   "metadata": {},
   "outputs": [
    {
     "data": {
      "text/plain": [
       "False"
      ]
     },
     "execution_count": 7,
     "metadata": {},
     "output_type": "execute_result"
    }
   ],
   "source": [
    "is_pangram1('hello this is me')"
   ]
  },
  {
   "cell_type": "code",
   "execution_count": null,
   "id": "d185e549-d964-442d-89e0-6ed262001478",
   "metadata": {},
   "outputs": [],
   "source": []
  },
  {
   "cell_type": "code",
   "execution_count": null,
   "id": "9b64156b-e8d9-4619-8221-59388021cf61",
   "metadata": {},
   "outputs": [],
   "source": []
  }
 ],
 "metadata": {
  "kernelspec": {
   "display_name": "Python 3 (ipykernel)",
   "language": "python",
   "name": "python3"
  },
  "language_info": {
   "codemirror_mode": {
    "name": "ipython",
    "version": 3
   },
   "file_extension": ".py",
   "mimetype": "text/x-python",
   "name": "python",
   "nbconvert_exporter": "python",
   "pygments_lexer": "ipython3",
   "version": "3.9.7"
  }
 },
 "nbformat": 4,
 "nbformat_minor": 5
}
