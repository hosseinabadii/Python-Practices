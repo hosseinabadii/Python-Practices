{
 "cells": [
  {
   "cell_type": "code",
   "execution_count": 6,
   "id": "8b239be6-09e9-421f-b5e8-4e073cc14d0c",
   "metadata": {},
   "outputs": [
    {
     "name": "stdout",
     "output_type": "stream",
     "text": [
      "1\n",
      "deleted =  2\n",
      "deleted =  3\n",
      "deleted =  4\n",
      "5\n",
      "deleted =  6\n",
      "7\n",
      "deleted =  8\n",
      "deleted =  9\n",
      "deleted =  10\n",
      "11\n",
      "deleted =  12\n",
      "13\n",
      "deleted =  14\n",
      "deleted =  15\n",
      "deleted =  16\n",
      "17\n",
      "deleted =  18\n",
      "19\n",
      "deleted =  20\n",
      "deleted =  21\n",
      "deleted =  22\n",
      "23\n",
      "deleted =  24\n",
      "25\n",
      "deleted =  26\n",
      "deleted =  27\n",
      "deleted =  28\n",
      "29\n",
      "deleted =  30\n",
      "31\n",
      "deleted =  32\n",
      "deleted =  33\n",
      "deleted =  34\n",
      "35\n",
      "deleted =  36\n",
      "37\n",
      "deleted =  38\n",
      "deleted =  39\n",
      "deleted =  40\n"
     ]
    }
   ],
   "source": [
    "for i in range(1,41):\n",
    "    if i % 2 == 0 or i % 3 == 0:\n",
    "        print('deleted = ', i)\n",
    "        continue\n",
    "    else:\n",
    "        print(i)"
   ]
  },
  {
   "cell_type": "code",
   "execution_count": null,
   "id": "a522942e-339a-4746-809d-47a249f9a64d",
   "metadata": {},
   "outputs": [],
   "source": []
  }
 ],
 "metadata": {
  "kernelspec": {
   "display_name": "Python 3 (ipykernel)",
   "language": "python",
   "name": "python3"
  },
  "language_info": {
   "codemirror_mode": {
    "name": "ipython",
    "version": 3
   },
   "file_extension": ".py",
   "mimetype": "text/x-python",
   "name": "python",
   "nbconvert_exporter": "python",
   "pygments_lexer": "ipython3",
   "version": "3.9.7"
  }
 },
 "nbformat": 4,
 "nbformat_minor": 5
}
