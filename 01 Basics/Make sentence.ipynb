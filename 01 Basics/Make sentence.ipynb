{
 "cells": [
  {
   "cell_type": "code",
   "execution_count": 31,
   "id": "d1eb197c-b507-482b-b735-fea3a81eac73",
   "metadata": {},
   "outputs": [],
   "source": [
    "# 1"
   ]
  },
  {
   "cell_type": "code",
   "execution_count": 17,
   "id": "679ad6f2-ac62-4ced-ac25-15fcdebeeef1",
   "metadata": {},
   "outputs": [],
   "source": [
    "subjects1 = [\"I\", \"You\"]\n",
    "verbs1 = [\"Play\", \"Love\"]\n",
    "objects1 = [\"Statistic\", \"Python\"]"
   ]
  },
  {
   "cell_type": "code",
   "execution_count": 25,
   "id": "b9a3d540-dcba-4b6f-bc00-f2da33c2a3cf",
   "metadata": {},
   "outputs": [],
   "source": [
    "def make_sentence(subjects, verbs, objects):\n",
    "    result = []\n",
    "    for subject in subjects:\n",
    "        for verb in verbs:\n",
    "            for objectt in objects:\n",
    "                sentence = subject + ' ' + verb + ' ' + objectt + '.'\n",
    "                result.append(sentence)\n",
    "    return result"
   ]
  },
  {
   "cell_type": "code",
   "execution_count": 26,
   "id": "e282ad16-a34c-46e4-904c-99c0e62201a6",
   "metadata": {},
   "outputs": [
    {
     "data": {
      "text/plain": [
       "['I Play Statistic.',\n",
       " 'I Play Python.',\n",
       " 'I Love Statistic.',\n",
       " 'I Love Python.',\n",
       " 'You Play Statistic.',\n",
       " 'You Play Python.',\n",
       " 'You Love Statistic.',\n",
       " 'You Love Python.']"
      ]
     },
     "execution_count": 26,
     "metadata": {},
     "output_type": "execute_result"
    }
   ],
   "source": [
    "make_sentence(subjects1, verbs1, objects1)"
   ]
  },
  {
   "cell_type": "code",
   "execution_count": null,
   "id": "48f4ce8c-31b8-4b5c-bb95-1be68050ec25",
   "metadata": {},
   "outputs": [],
   "source": []
  },
  {
   "cell_type": "code",
   "execution_count": null,
   "id": "6ca1b9f4-7e9f-4433-a179-94dbbd51bcb5",
   "metadata": {},
   "outputs": [],
   "source": [
    "# 2 "
   ]
  },
  {
   "cell_type": "code",
   "execution_count": 29,
   "id": "53b32d12-9346-4e7e-a41b-1259936ad6b9",
   "metadata": {},
   "outputs": [],
   "source": [
    "subjects = [\"I\", \"You\"]\n",
    "verbs = [\"Play\", \"Love\"]\n",
    "objects = [\"Statistic\", \"Python\"]\n",
    "\n",
    "\n",
    "def make_sentence1(subjects, verbs, objects):\n",
    "    sentences_list = []\n",
    "\n",
    "    for i in range(len(subjects)):\n",
    "        for j in range(len(verbs)):\n",
    "            for k in range(len(objects)):\n",
    "                sentence = f\"{subjects[i]} {verbs[j]} {objects[k]}\"\n",
    "                sentences_list.append(sentence)\n",
    "    return sentences_list"
   ]
  },
  {
   "cell_type": "code",
   "execution_count": 30,
   "id": "f06d7265-d46a-4a16-84a8-260504404b70",
   "metadata": {},
   "outputs": [
    {
     "data": {
      "text/plain": [
       "['I Play Statistic',\n",
       " 'I Play Python',\n",
       " 'I Love Statistic',\n",
       " 'I Love Python',\n",
       " 'You Play Statistic',\n",
       " 'You Play Python',\n",
       " 'You Love Statistic',\n",
       " 'You Love Python']"
      ]
     },
     "execution_count": 30,
     "metadata": {},
     "output_type": "execute_result"
    }
   ],
   "source": [
    "make_sentence1(subjects1, verbs1, objects1)"
   ]
  },
  {
   "cell_type": "code",
   "execution_count": null,
   "id": "974e8fd6-a538-4d40-9174-bbc9847af940",
   "metadata": {},
   "outputs": [],
   "source": []
  }
 ],
 "metadata": {
  "kernelspec": {
   "display_name": "Python 3 (ipykernel)",
   "language": "python",
   "name": "python3"
  },
  "language_info": {
   "codemirror_mode": {
    "name": "ipython",
    "version": 3
   },
   "file_extension": ".py",
   "mimetype": "text/x-python",
   "name": "python",
   "nbconvert_exporter": "python",
   "pygments_lexer": "ipython3",
   "version": "3.9.7"
  }
 },
 "nbformat": 4,
 "nbformat_minor": 5
}
