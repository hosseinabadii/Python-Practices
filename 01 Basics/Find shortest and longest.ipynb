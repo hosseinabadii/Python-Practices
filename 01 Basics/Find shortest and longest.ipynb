{
 "cells": [
  {
   "cell_type": "code",
   "execution_count": 2,
   "id": "f1adfafc-605c-473d-82bf-5db486b1f9eb",
   "metadata": {},
   "outputs": [],
   "source": [
    "# Approch 1\n",
    "import string"
   ]
  },
  {
   "cell_type": "code",
   "execution_count": 3,
   "id": "0747527e-3825-4628-8351-1e0247e8b348",
   "metadata": {},
   "outputs": [
    {
     "name": "stdout",
     "output_type": "stream",
     "text": [
      "Original String:\n",
      "Python, which was initially developed by Guido van Rossum and made available to the public in 1991, is currently one of the most widely used general-purpose programming languages.\n",
      "\n",
      "Shortest word:  by\n",
      "Longest word:  generalpurpose\n"
     ]
    }
   ],
   "source": [
    "def shortest_longest_word(sentence):\n",
    "    \n",
    "    sentence  = ''.join(filter(lambda char: char not in string.punctuation, sentence))\n",
    "    words = sentence.split()\n",
    "    shortest = words[0]\n",
    "    longest = words[0]\n",
    "    for name in words:\n",
    "        if len(name) > len(longest):\n",
    "            longest = name\n",
    "        if len(name) < len(shortest):\n",
    "            shortest = name\n",
    "    return shortest,longest     \n",
    "\n",
    "python = 'Python, which was initially developed by Guido van Rossum and made available to the public in 1991, is currently one of the most widely used general-purpose programming languages.'\n",
    "result = shortest_longest_word(python)\n",
    "print('Original String:')\n",
    "print(python)\n",
    "print()\n",
    "print('Shortest word: ',result[0])\n",
    "print('Longest word: ', result[1])"
   ]
  },
  {
   "cell_type": "code",
   "execution_count": null,
   "id": "c1ff3c2c-3881-4822-a3d3-ea43683b290f",
   "metadata": {},
   "outputs": [],
   "source": []
  },
  {
   "cell_type": "code",
   "execution_count": 4,
   "id": "fd7aa153-a78e-4448-bdbb-57ea011bbe9b",
   "metadata": {},
   "outputs": [],
   "source": [
    "# Approch 2"
   ]
  },
  {
   "cell_type": "code",
   "execution_count": 5,
   "id": "06e27821-b4a0-4a86-bef7-a0e1adf8bf6a",
   "metadata": {},
   "outputs": [
    {
     "name": "stdout",
     "output_type": "stream",
     "text": [
      "Original String:\n",
      "Python, which was initially developed by Guido van Rossum and made available to the public in 1991, is currently one of the most widely used general-purpose programming languages.\n",
      "\n",
      "Shortest word:  generalpurpose\n",
      "Longest word:  by\n"
     ]
    }
   ],
   "source": [
    "def shortest_longest_word(sentence):\n",
    "    \n",
    "    sentence  = ''.join(filter(lambda char: char not in string.punctuation, sentence))\n",
    "    words = sentence.split()  \n",
    "    shortest = max(words, key=len)\n",
    "    longest = min(words, key=len)\n",
    "  \n",
    "    return shortest,longest\n",
    "\n",
    "python = 'Python, which was initially developed by Guido van Rossum and made available to the public in 1991, is currently one of the most widely used general-purpose programming languages.'\n",
    "result = shortest_longest_word(python)\n",
    "print('Original String:')\n",
    "print(python)\n",
    "print()\n",
    "print('Shortest word: ',result[0])\n",
    "print('Longest word: ', result[1])"
   ]
  },
  {
   "cell_type": "code",
   "execution_count": null,
   "id": "fe96eddf-a81a-45c3-b2ec-bfbe1163e3c9",
   "metadata": {},
   "outputs": [],
   "source": []
  },
  {
   "cell_type": "code",
   "execution_count": null,
   "id": "6cf1b2a0-f284-4447-905c-6bd02493eacf",
   "metadata": {},
   "outputs": [],
   "source": []
  }
 ],
 "metadata": {
  "kernelspec": {
   "display_name": "Python 3 (ipykernel)",
   "language": "python",
   "name": "python3"
  },
  "language_info": {
   "codemirror_mode": {
    "name": "ipython",
    "version": 3
   },
   "file_extension": ".py",
   "mimetype": "text/x-python",
   "name": "python",
   "nbconvert_exporter": "python",
   "pygments_lexer": "ipython3",
   "version": "3.9.7"
  }
 },
 "nbformat": 4,
 "nbformat_minor": 5
}
