{
 "cells": [
  {
   "cell_type": "code",
   "execution_count": 1,
   "id": "c09b8a50-f0b6-47ff-804f-b6f325837360",
   "metadata": {},
   "outputs": [
    {
     "name": "stdout",
     "output_type": "stream",
     "text": [
      " *  *  *  *  *  *  *  *  *  * \n",
      " *  *  *  *  *  *  *  *  *  * \n",
      " *  *  *  *  *  *  *  *  *  * \n",
      " *  *  *  *  *  *  *  *  *  * \n",
      " *  *  *  *  *  *  *  *  *  * \n"
     ]
    }
   ],
   "source": [
    "for m in range(1,6):\n",
    "    n = 1\n",
    "    while n <= 10:\n",
    "        print(' *', end=' ')\n",
    "        n +=1\n",
    "    print()"
   ]
  },
  {
   "cell_type": "code",
   "execution_count": null,
   "id": "25337fb1-dc2e-4732-be87-2f9774547908",
   "metadata": {},
   "outputs": [],
   "source": []
  }
 ],
 "metadata": {
  "kernelspec": {
   "display_name": "Python 3 (ipykernel)",
   "language": "python",
   "name": "python3"
  },
  "language_info": {
   "codemirror_mode": {
    "name": "ipython",
    "version": 3
   },
   "file_extension": ".py",
   "mimetype": "text/x-python",
   "name": "python",
   "nbconvert_exporter": "python",
   "pygments_lexer": "ipython3",
   "version": "3.9.7"
  }
 },
 "nbformat": 4,
 "nbformat_minor": 5
}
