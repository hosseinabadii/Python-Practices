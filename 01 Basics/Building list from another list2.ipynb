{
 "cells": [
  {
   "cell_type": "code",
   "execution_count": 12,
   "id": "d1f2f004-6b1f-4ca5-8c08-158a846ea5cf",
   "metadata": {},
   "outputs": [
    {
     "data": {
      "text/plain": [
       "[1, 3, 6, 10, 15, 21, 28, 36, 45, 55]"
      ]
     },
     "execution_count": 12,
     "metadata": {},
     "output_type": "execute_result"
    }
   ],
   "source": [
    "mylist = [1, 2, 3, 4, 5, 6, 7, 8, 9, 10]\n",
    "new_list = []\n",
    "count = 0\n",
    "for i in mylist:\n",
    "    count += 1\n",
    "    sum_ = 0\n",
    "    for j in range(count):\n",
    "        sum_ += mylist[j]\n",
    "    new_list.append(sum_)\n",
    "new_list"
   ]
  },
  {
   "cell_type": "markdown",
   "id": "714e0690-4f9d-4c6a-8562-88c04bf76ef8",
   "metadata": {},
   "source": [
    "## use `sum()` built-in function"
   ]
  },
  {
   "cell_type": "code",
   "execution_count": 13,
   "id": "5bf0b8f0-ea2d-4473-89dc-1681fdcc3ae5",
   "metadata": {},
   "outputs": [
    {
     "data": {
      "text/plain": [
       "[1, 3, 6, 10, 15, 21, 28, 36, 45, 55]"
      ]
     },
     "execution_count": 13,
     "metadata": {},
     "output_type": "execute_result"
    }
   ],
   "source": [
    "mylist = [1, 2, 3, 4, 5, 6, 7, 8, 9, 10]\n",
    "new_list = []\n",
    "for i in range(len(mylist)):\n",
    "    new_list.append(sum(mylist[:i+1]))\n",
    "new_list"
   ]
  },
  {
   "cell_type": "code",
   "execution_count": 14,
   "id": "51d19f86-9bdd-4913-bf3f-e816d0189342",
   "metadata": {},
   "outputs": [
    {
     "data": {
      "text/plain": [
       "[1, 3, 6, 10, 15, 21, 28, 36, 45, 55]"
      ]
     },
     "execution_count": 14,
     "metadata": {},
     "output_type": "execute_result"
    }
   ],
   "source": [
    "mylist = [1, 2, 3, 4, 5, 6, 7, 8, 9, 10]\n",
    "new_list = [sum(mylist[:i+1]) for i in range(len(mylist))]\n",
    "new_list"
   ]
  }
 ],
 "metadata": {
  "kernelspec": {
   "display_name": "Python 3 (ipykernel)",
   "language": "python",
   "name": "python3"
  },
  "language_info": {
   "codemirror_mode": {
    "name": "ipython",
    "version": 3
   },
   "file_extension": ".py",
   "mimetype": "text/x-python",
   "name": "python",
   "nbconvert_exporter": "python",
   "pygments_lexer": "ipython3",
   "version": "3.9.7"
  }
 },
 "nbformat": 4,
 "nbformat_minor": 5
}
