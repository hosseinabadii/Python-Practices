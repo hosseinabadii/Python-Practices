{
 "cells": [
  {
   "cell_type": "code",
   "execution_count": 7,
   "id": "19b1b4b1-dab3-485b-9fb9-20d75fa2f686",
   "metadata": {},
   "outputs": [],
   "source": [
    "nums = [18.75, 16.2, 15.9]"
   ]
  },
  {
   "cell_type": "code",
   "execution_count": 8,
   "id": "818f079b-4ebe-440d-bf28-ba3383a57410",
   "metadata": {},
   "outputs": [
    {
     "name": "stdout",
     "output_type": "stream",
     "text": [
      "actual avarega is = 16.95\n",
      "\n",
      "given average is  = 20.00\n"
     ]
    }
   ],
   "source": [
    "sum_ = 0\n",
    "for num in nums:\n",
    "    sum_ += num\n",
    "ave = sum_ / len(nums)\n",
    "print(f'actual avarega is = {ave:4.2f}\\n')\n",
    "\n",
    "if ave >= 16 and ave <=20:\n",
    "    ave = 20\n",
    "    print(f'given average is  = {ave:4.2f}')\n",
    "else:\n",
    "    print(f'given average is  = {ave:4.2f}')\n",
    "    "
   ]
  },
  {
   "cell_type": "code",
   "execution_count": null,
   "id": "374263c8-daad-4b0d-ae80-734664c5a873",
   "metadata": {},
   "outputs": [],
   "source": []
  },
  {
   "cell_type": "code",
   "execution_count": null,
   "id": "af20f9ca-265f-4ebc-9744-300fa23b8356",
   "metadata": {},
   "outputs": [],
   "source": []
  }
 ],
 "metadata": {
  "kernelspec": {
   "display_name": "Python 3 (ipykernel)",
   "language": "python",
   "name": "python3"
  },
  "language_info": {
   "codemirror_mode": {
    "name": "ipython",
    "version": 3
   },
   "file_extension": ".py",
   "mimetype": "text/x-python",
   "name": "python",
   "nbconvert_exporter": "python",
   "pygments_lexer": "ipython3",
   "version": "3.9.7"
  }
 },
 "nbformat": 4,
 "nbformat_minor": 5
}
