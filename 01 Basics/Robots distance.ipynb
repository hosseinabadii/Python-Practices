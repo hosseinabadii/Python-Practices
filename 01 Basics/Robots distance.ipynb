{
 "cells": [
  {
   "cell_type": "code",
   "execution_count": 38,
   "id": "5665a094-b8f0-41a1-bcab-ed6aa4044f07",
   "metadata": {},
   "outputs": [],
   "source": [
    "def robot_moves(s_mov):\n",
    "    \n",
    "    cur_point = [0, 0]\n",
    "    for mov in s_mov:\n",
    "        direction, step = mov.split()\n",
    "        direction.lower()\n",
    "        step = int(step)\n",
    "        if   direction == 'right':\n",
    "            cur_point[0] += step\n",
    "\n",
    "        elif direction == 'left':\n",
    "            cur_point[0] -= step\n",
    "\n",
    "        elif direction == 'up':\n",
    "            cur_point[1] += step\n",
    "\n",
    "        elif direction == 'down':\n",
    "            cur_point[1] -= step\n",
    "        dist_value = (cur_point[0] ** 2 + cur_point[1] ** 2) ** 0.5\n",
    "        \n",
    "    return cur_point, dist_value\n"
   ]
  },
  {
   "cell_type": "code",
   "execution_count": 40,
   "id": "f0b715de-da8e-4bbf-ad9c-086f0a27ac47",
   "metadata": {},
   "outputs": [
    {
     "name": "stdin",
     "output_type": "stream",
     "text": [
      "Enter <direction> <step> =  up 3\n",
      "Enter <direction> <step> =  down 5\n",
      "Enter <direction> <step> =  left 3\n",
      "Enter <direction> <step> =  right 2\n",
      "Enter <direction> <step> =  end\n"
     ]
    },
    {
     "name": "stdout",
     "output_type": "stream",
     "text": [
      "['up 3', 'down 5', 'left 3', 'right 2']\n"
     ]
    },
    {
     "data": {
      "text/plain": [
       "([-1, -2], 2.23606797749979)"
      ]
     },
     "execution_count": 40,
     "metadata": {},
     "output_type": "execute_result"
    }
   ],
   "source": [
    "moves = []\n",
    "while True:\n",
    "    enter = input('Enter <direction> <step> = ')\n",
    "    if enter.lower() == 'end':\n",
    "        break\n",
    "    else:\n",
    "        moves.append(enter)\n",
    "print(moves)\n",
    "robot_moves(moves)"
   ]
  },
  {
   "cell_type": "code",
   "execution_count": null,
   "id": "d377a44f-0501-4344-8ca6-b19ec8a348e6",
   "metadata": {},
   "outputs": [],
   "source": []
  }
 ],
 "metadata": {
  "kernelspec": {
   "display_name": "Python 3 (ipykernel)",
   "language": "python",
   "name": "python3"
  },
  "language_info": {
   "codemirror_mode": {
    "name": "ipython",
    "version": 3
   },
   "file_extension": ".py",
   "mimetype": "text/x-python",
   "name": "python",
   "nbconvert_exporter": "python",
   "pygments_lexer": "ipython3",
   "version": "3.9.7"
  }
 },
 "nbformat": 4,
 "nbformat_minor": 5
}
