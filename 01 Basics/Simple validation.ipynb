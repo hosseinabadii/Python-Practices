{
 "cells": [
  {
   "cell_type": "markdown",
   "id": "635204dd-cba3-4cf9-8d15-030e763568a0",
   "metadata": {},
   "source": [
    "# Simple Validation\n",
    "- Username less than 4 characters is too short and is not allowed.\n",
    "- for the security of users, the use of a password that is less \n",
    "- than 6 characters or consists of only numbers is also not allowed.\n",
    "- password must have at least one Uppercase character."
   ]
  },
  {
   "cell_type": "code",
   "execution_count": 11,
   "id": "9f2e4a15-0725-430d-8c5f-90bcb2b78988",
   "metadata": {},
   "outputs": [],
   "source": [
    "def check_validation(**kwargs):\n",
    "    valid_usernames =[]\n",
    "    for username, password in kwargs.items():\n",
    "        is_valid = True\n",
    "        #-----------------------------------------------------------------------------------\n",
    "        # Check username\n",
    "        if len(username) < 4:\n",
    "            is_valid = False\n",
    "            print(f'({username}) not allowed! => username less than 4 characters is too short')\n",
    "        # ----------------------------------------------------------------------------------\n",
    "        # Check password\n",
    "        if password.lower() == password:\n",
    "            is_valid = False\n",
    "            print(f'({password}) not allowed! => password must have at least one Uppercase character')\n",
    "\n",
    "        if len(password) < 6:\n",
    "            is_valid = False\n",
    "            print(f'({password}) not allowed! => password less than 6 characters')\n",
    "\n",
    "        if password.isdigit():\n",
    "            is_valid = False\n",
    "            print(f'({password}) not allowed! => password only has numbers')\n",
    "        # -----------------------------------------------------------------------------------\n",
    "        # return output\n",
    "        if is_valid == True:\n",
    "            valid_usernames.append(username)\n",
    "        print('-'*30)\n",
    "        \n",
    "    return valid_usernames"
   ]
  },
  {
   "cell_type": "code",
   "execution_count": 12,
   "id": "a2113fc2-efae-432c-8cf1-508693ef9f48",
   "metadata": {},
   "outputs": [
    {
     "name": "stdout",
     "output_type": "stream",
     "text": [
      "(12345678) not allowed! => password must have at least one Uppercase character\n",
      "(12345678) not allowed! => password only has numbers\n",
      "------------------------------\n",
      "(ali) not allowed! => username less than 4 characters is too short\n",
      "------------------------------\n",
      "------------------------------\n",
      "(Pass) not allowed! => password less than 6 characters\n",
      "------------------------------\n"
     ]
    },
    {
     "data": {
      "text/plain": [
       "['Amir']"
      ]
     },
     "execution_count": 12,
     "metadata": {},
     "output_type": "execute_result"
    }
   ],
   "source": [
    "check_validation(mahtab='12345678', ali='He3@lsa', Amir=\"kLS45@l$\", Sina='Pass')"
   ]
  },
  {
   "cell_type": "code",
   "execution_count": null,
   "id": "775c8943-e7b3-4c56-a6bf-0a6dd3704a08",
   "metadata": {},
   "outputs": [],
   "source": []
  },
  {
   "cell_type": "code",
   "execution_count": null,
   "id": "f08ac8c4-02b4-40a5-b65e-285c1fc026ed",
   "metadata": {},
   "outputs": [],
   "source": []
  }
 ],
 "metadata": {
  "kernelspec": {
   "display_name": "Python 3 (ipykernel)",
   "language": "python",
   "name": "python3"
  },
  "language_info": {
   "codemirror_mode": {
    "name": "ipython",
    "version": 3
   },
   "file_extension": ".py",
   "mimetype": "text/x-python",
   "name": "python",
   "nbconvert_exporter": "python",
   "pygments_lexer": "ipython3",
   "version": "3.9.7"
  }
 },
 "nbformat": 4,
 "nbformat_minor": 5
}
