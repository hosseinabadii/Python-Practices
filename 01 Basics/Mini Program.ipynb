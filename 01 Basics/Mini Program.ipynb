{
 "cells": [
  {
   "cell_type": "code",
   "execution_count": 7,
   "id": "ee03a4b8-5b08-4108-ae78-a83333017cb2",
   "metadata": {},
   "outputs": [
    {
     "name": "stdout",
     "output_type": "stream",
     "text": [
      "Options:\n",
      "       0     Quit\n",
      "       1     Check if I khow you\n",
      "       2     Introduce yourself to me\n",
      "       3     Make me forget you\n",
      "       4     Print a List of people of I know\n"
     ]
    },
    {
     "name": "stdin",
     "output_type": "stream",
     "text": [
      "Enter 0 to 4 options:  4\n"
     ]
    },
    {
     "name": "stdout",
     "output_type": "stream",
     "text": [
      "['Khosro', 'Ali', 'Hasan', 'Hamed']\n"
     ]
    },
    {
     "name": "stdin",
     "output_type": "stream",
     "text": [
      "Enter 0 to 4 options:  3\n",
      "Enter your name:  Khosro\n"
     ]
    },
    {
     "name": "stdout",
     "output_type": "stream",
     "text": [
      "Now I don't know you\n"
     ]
    },
    {
     "name": "stdin",
     "output_type": "stream",
     "text": [
      "Enter 0 to 4 options:  3\n",
      "Enter your name:  Ali\n"
     ]
    },
    {
     "name": "stdout",
     "output_type": "stream",
     "text": [
      "Now I don't know you\n"
     ]
    },
    {
     "name": "stdin",
     "output_type": "stream",
     "text": [
      "Enter 0 to 4 options:  4\n"
     ]
    },
    {
     "name": "stdout",
     "output_type": "stream",
     "text": [
      "['Hasan', 'Hamed']\n"
     ]
    },
    {
     "name": "stdin",
     "output_type": "stream",
     "text": [
      "Enter 0 to 4 options:  2\n",
      "Enter your name:  Hasan\n"
     ]
    },
    {
     "name": "stdout",
     "output_type": "stream",
     "text": [
      "I know you already.\n"
     ]
    },
    {
     "name": "stdin",
     "output_type": "stream",
     "text": [
      "Enter 0 to 4 options:  2\n",
      "Enter your name:  Khosro\n"
     ]
    },
    {
     "name": "stdout",
     "output_type": "stream",
     "text": [
      "Now I know you!\n"
     ]
    },
    {
     "name": "stdin",
     "output_type": "stream",
     "text": [
      "Enter 0 to 4 options:  4\n"
     ]
    },
    {
     "name": "stdout",
     "output_type": "stream",
     "text": [
      "['Hasan', 'Hamed', 'Khosro']\n"
     ]
    },
    {
     "name": "stdin",
     "output_type": "stream",
     "text": [
      "Enter 0 to 4 options:  0\n"
     ]
    },
    {
     "name": "stdout",
     "output_type": "stream",
     "text": [
      "Bye!\n"
     ]
    }
   ],
   "source": [
    "print('Options:')\n",
    "print(f'{0:>8d}     Quit')\n",
    "print(f'{1:>8d}     Check if I khow you')\n",
    "print(f'{2:>8d}     Introduce yourself to me')\n",
    "print(f'{3:>8d}     Make me forget you')\n",
    "print(f'{4:>8d}     Print a List of people of I know')\n",
    "\n",
    "namelist = ['Khosro', 'Ali', 'Hasan', 'Hamed',]\n",
    "while True:\n",
    "    a = int(input('Enter 0 to 4 options: '))\n",
    "    if a == 0:\n",
    "        print('Bye!')\n",
    "        break\n",
    "    elif not (0 < a < 5):\n",
    "        print('Error! input is not in above ...')\n",
    "        continue\n",
    "    else:\n",
    "        if a == 1:\n",
    "            user_name = input('Enter your name: ')\n",
    "            if user_name in namelist:\n",
    "                print('I know you! :D')\n",
    "            else:\n",
    "                print(\"I don't know you :/\")\n",
    "        elif a == 2:\n",
    "            user_name = input('Enter your name: ')\n",
    "            if user_name in namelist:\n",
    "                print('I know you already.')\n",
    "            else:\n",
    "                namelist.append(user_name)\n",
    "                print('Now I know you!')\n",
    "        elif a == 3:\n",
    "            user_name = input('Enter your name: ')\n",
    "            if user_name in namelist:\n",
    "                namelist.remove(user_name)\n",
    "                print(\"Now I don't know you\")\n",
    "            else:\n",
    "                print(\"I already didn't know you\")\n",
    "        else:\n",
    "            print(namelist)\n",
    "    "
   ]
  },
  {
   "cell_type": "code",
   "execution_count": null,
   "id": "904e8c30-2201-4b9e-94e8-eddc7aedbac0",
   "metadata": {},
   "outputs": [],
   "source": []
  }
 ],
 "metadata": {
  "kernelspec": {
   "display_name": "Python 3 (ipykernel)",
   "language": "python",
   "name": "python3"
  },
  "language_info": {
   "codemirror_mode": {
    "name": "ipython",
    "version": 3
   },
   "file_extension": ".py",
   "mimetype": "text/x-python",
   "name": "python",
   "nbconvert_exporter": "python",
   "pygments_lexer": "ipython3",
   "version": "3.9.7"
  }
 },
 "nbformat": 4,
 "nbformat_minor": 5
}
