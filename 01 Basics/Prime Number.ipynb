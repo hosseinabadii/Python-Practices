{
 "cells": [
  {
   "cell_type": "code",
   "execution_count": 1,
   "id": "642a0087-adf1-4854-bf70-a97ac202d2c0",
   "metadata": {},
   "outputs": [],
   "source": [
    "P = {2, 3, 5, 7, 11, 13, 17, 19, 23, 29, 31, 37, 41,\n",
    "     43, 47, 53, 59, 61, 67, 71, 73, 79, 83, 89, 97,\n",
    "     101, 103, 107, 109, 113, 127, 131, 137, 139, 149,\n",
    "     151, 157, 163, 167, 173, 179, 181, 191, 193, 197,\n",
    "     199, 211, 223, 227, 229, 233, 239, 241, 251, 257,\n",
    "     263, 269, 271, 277, 281, 283, 293, 307, 311, 313,\n",
    "     317, 331, 337, 347, 349, 353, 359, 367, 373, 379,\n",
    "     383, 389, 397, 401, 409, 419, 421, 431, 433, 439,\n",
    "     443, 449, 457, 461, 463, 467, 479, 487, 491, 499,\n",
    "     503, 509, 521, 523, 541, 547, 557, 563, 569, 571,\n",
    "     577, 587, 593, 599, 601, 607, 613, 617, 619, 631,\n",
    "     641, 643, 647, 653, 659, 661, 673, 677, 683, 691,\n",
    "     701, 709, 719, 727, 733, 739, 743, 751, 757, 761,\n",
    "     769, 773, 787, 797, 809, 811, 821, 823, 827, 829,\n",
    "     839, 853, 857, 859, 863, 877, 881, 883, 887, 907,\n",
    "     911, 919, 929, 937, 941, 947, 953, 967, 971, 977,\n",
    "     983, 991, 997}"
   ]
  },
  {
   "cell_type": "code",
   "execution_count": 6,
   "id": "30022ac3-18b8-477d-b699-20b93ea2ca31",
   "metadata": {},
   "outputs": [
    {
     "name": "stdout",
     "output_type": "stream",
     "text": [
      "982 is not a prime number\n"
     ]
    }
   ],
   "source": [
    "a = 982\n",
    "if a in P:\n",
    "    print(f'{a} is a prime number.')\n",
    "else:\n",
    "    print(f'{a} is not a prime number')"
   ]
  },
  {
   "cell_type": "code",
   "execution_count": null,
   "id": "ee3643c8-81de-42c9-8d2e-7717115aad63",
   "metadata": {},
   "outputs": [],
   "source": []
  }
 ],
 "metadata": {
  "kernelspec": {
   "display_name": "Python 3 (ipykernel)",
   "language": "python",
   "name": "python3"
  },
  "language_info": {
   "codemirror_mode": {
    "name": "ipython",
    "version": 3
   },
   "file_extension": ".py",
   "mimetype": "text/x-python",
   "name": "python",
   "nbconvert_exporter": "python",
   "pygments_lexer": "ipython3",
   "version": "3.9.7"
  }
 },
 "nbformat": 4,
 "nbformat_minor": 5
}
