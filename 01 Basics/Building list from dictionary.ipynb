{
 "cells": [
  {
   "cell_type": "code",
   "execution_count": 1,
   "id": "70170671-031f-4575-a93e-8eed8a0e055b",
   "metadata": {},
   "outputs": [],
   "source": [
    "kings = {\"Deioces\": -700 , \"Cyrus\": -559, \"Alexander \": -336, \"Seleucus\": -311,\n",
    "         \"Antiochus VII\" : -139, \"Darayan I\" : -132, \"Arsaces I\" : -247 ,\"Musa\" : -2 ,\n",
    "         \"Ardavan IV\" : 213, \"Ardashir I\" : 224, \"Shapur I\" : 240,\n",
    "         \"Hormizd I\" : 270, \"Bahram I\" : 271}"
   ]
  },
  {
   "cell_type": "code",
   "execution_count": 2,
   "id": "f0bb3c1f-63ae-448f-93ae-27784e8eb027",
   "metadata": {},
   "outputs": [
    {
     "name": "stdout",
     "output_type": "stream",
     "text": [
      "{'Ardashir I': 224, 'Shapur I': 240, 'Hormizd I': 270, 'Bahram I': 271}\n",
      "['Ardashir I', 'Shapur I', 'Hormizd I', 'Bahram I']\n"
     ]
    }
   ],
   "source": [
    "sasanian_empire = {}\n",
    "sasanian_list = []\n",
    "for key , value in kings.items():\n",
    "    if value > 223:\n",
    "        sasanian_empire[key] = value\n",
    "        sasanian_list.append(key)\n",
    "print(sasanian_empire)\n",
    "print(sasanian_list)"
   ]
  }
 ],
 "metadata": {
  "kernelspec": {
   "display_name": "Python 3 (ipykernel)",
   "language": "python",
   "name": "python3"
  },
  "language_info": {
   "codemirror_mode": {
    "name": "ipython",
    "version": 3
   },
   "file_extension": ".py",
   "mimetype": "text/x-python",
   "name": "python",
   "nbconvert_exporter": "python",
   "pygments_lexer": "ipython3",
   "version": "3.9.7"
  }
 },
 "nbformat": 4,
 "nbformat_minor": 5
}
