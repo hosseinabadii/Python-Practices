{
 "cells": [
  {
   "cell_type": "code",
   "execution_count": 1,
   "id": "12c23ddc-ee02-4b13-b0b0-3fef1001752e",
   "metadata": {},
   "outputs": [],
   "source": [
    "string = '''Pytopia is a Online learning and teaching marketplace for Data Science.\n",
    "Taught by experts to help you acquire new skills.'''"
   ]
  },
  {
   "cell_type": "code",
   "execution_count": 5,
   "id": "62f99850-6023-45e4-a65d-6bee23f51872",
   "metadata": {},
   "outputs": [
    {
     "name": "stdout",
     "output_type": "stream",
     "text": [
      "is\n",
      "a\n",
      "and\n",
      "for\n",
      "Data\n",
      "by\n",
      "to\n",
      "help\n",
      "you\n",
      "new\n",
      "\n"
     ]
    }
   ],
   "source": [
    "result = ''\n",
    "for i in string:\n",
    "    if i == ' ' or i == '.':\n",
    "        if len(result) < 5:\n",
    "            print(result) \n",
    "        result = ''\n",
    "    else:\n",
    "        result += i\n",
    "print(result)"
   ]
  },
  {
   "cell_type": "code",
   "execution_count": 6,
   "id": "4055b2dd-800b-4659-8461-9b3eb04f21af",
   "metadata": {},
   "outputs": [
    {
     "data": {
      "text/plain": [
       "['is', 'a', 'and', 'for', 'Data', 'by', 'to', 'help', 'you', 'new']"
      ]
     },
     "execution_count": 6,
     "metadata": {},
     "output_type": "execute_result"
    }
   ],
   "source": [
    "[word for word in string.split() if len(word) < 5]"
   ]
  },
  {
   "cell_type": "code",
   "execution_count": null,
   "id": "9db722a1-f05a-4680-aad4-f14e95095cbe",
   "metadata": {},
   "outputs": [],
   "source": []
  }
 ],
 "metadata": {
  "kernelspec": {
   "display_name": "Python 3 (ipykernel)",
   "language": "python",
   "name": "python3"
  },
  "language_info": {
   "codemirror_mode": {
    "name": "ipython",
    "version": 3
   },
   "file_extension": ".py",
   "mimetype": "text/x-python",
   "name": "python",
   "nbconvert_exporter": "python",
   "pygments_lexer": "ipython3",
   "version": "3.9.7"
  }
 },
 "nbformat": 4,
 "nbformat_minor": 5
}
