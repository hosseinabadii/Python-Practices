{
 "cells": [
  {
   "cell_type": "code",
   "execution_count": 19,
   "id": "5773f5b2-e570-43a0-b581-08755bdc8f3c",
   "metadata": {},
   "outputs": [
    {
     "name": "stdout",
     "output_type": "stream",
     "text": [
      "your score is 91 equals to grade A\n"
     ]
    }
   ],
   "source": [
    "score = 91\n",
    "if score not in range(0, 101):\n",
    "    print('score is not in range!')\n",
    "else:\n",
    "    if score > 90:\n",
    "        grade = 'A'\n",
    "    elif 80 < score <= 90:\n",
    "        grade = 'B'\n",
    "    elif 60 <= score <= 80:\n",
    "        grade = 'C'\n",
    "    else:\n",
    "        grade = 'D'\n",
    "    print(f'your score is {score} equals to grade {grade}')\n",
    "    \n",
    "    "
   ]
  },
  {
   "cell_type": "code",
   "execution_count": null,
   "id": "24e413c6-90bf-48ec-b441-3350ff4c4799",
   "metadata": {},
   "outputs": [],
   "source": []
  },
  {
   "cell_type": "code",
   "execution_count": null,
   "id": "af3cd3b5-092b-470e-9b96-d35a56a19957",
   "metadata": {},
   "outputs": [],
   "source": []
  }
 ],
 "metadata": {
  "kernelspec": {
   "display_name": "Python 3 (ipykernel)",
   "language": "python",
   "name": "python3"
  },
  "language_info": {
   "codemirror_mode": {
    "name": "ipython",
    "version": 3
   },
   "file_extension": ".py",
   "mimetype": "text/x-python",
   "name": "python",
   "nbconvert_exporter": "python",
   "pygments_lexer": "ipython3",
   "version": "3.9.7"
  }
 },
 "nbformat": 4,
 "nbformat_minor": 5
}
