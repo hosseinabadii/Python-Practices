{
 "cells": [
  {
   "cell_type": "code",
   "execution_count": 1,
   "id": "ce3cc738-648f-4951-bd19-585964aaafbf",
   "metadata": {},
   "outputs": [],
   "source": [
    "persons = {\"Paul David Hewson\" : (61, \"Ireland\"),\n",
    "           \"Saeed Mohammadi\" : (63, \"Iran\"),\n",
    "           \"Alla Borisovna Pugacheva\" : (77, \"Russia\"),\n",
    "           \"David Jon Gilmour\" : (75, \"United Kingdom\"),\n",
    "           \"Aryana Sayeed\" : (36, \"Afghanistan\"),\n",
    "           \"Céline Marie Claudette Dion\" : (53, \"Canad\"),\n",
    "           \"Caetano Emanuel Viana Telles Veloso\" : (79, \"Brazil\")}"
   ]
  },
  {
   "cell_type": "code",
   "execution_count": 2,
   "id": "a15f73d4-d1ba-4de0-8262-dc3938dd7e27",
   "metadata": {},
   "outputs": [
    {
     "data": {
      "text/plain": [
       "{'Paul David Hewson': (61, 'Ireland'),\n",
       " 'Saeed Mohammadi': (63, 'Iran'),\n",
       " 'Alla Borisovna Pugacheva': (77, 'Russia'),\n",
       " 'David Jon Gilmour': (75, 'United Kingdom'),\n",
       " 'Aryana Sayeed': (36, 'Afghanistan'),\n",
       " 'Céline Marie Claudette Dion': (53, 'Canad'),\n",
       " 'Caetano Emanuel Viana Telles Veloso': (79, 'Brazil')}"
      ]
     },
     "execution_count": 2,
     "metadata": {},
     "output_type": "execute_result"
    }
   ],
   "source": [
    "persons"
   ]
  },
  {
   "cell_type": "code",
   "execution_count": 3,
   "id": "c268aac1-3de2-45bd-8612-c97a04b6ad69",
   "metadata": {},
   "outputs": [
    {
     "name": "stdout",
     "output_type": "stream",
     "text": [
      "['Paul David Hewson', 'Saeed Mohammadi', 'Céline Marie Claudette Dion']\n"
     ]
    }
   ],
   "source": [
    "names = []\n",
    "for key, value in persons.items():\n",
    "    if 50 < value[0] < 70:\n",
    "        names.append(key)\n",
    "print(names)\n",
    "        "
   ]
  },
  {
   "cell_type": "code",
   "execution_count": 4,
   "id": "2881e75b-557c-4a74-a1d3-8f2b951436b4",
   "metadata": {},
   "outputs": [
    {
     "data": {
      "text/plain": [
       "['Paul David Hewson', 'Saeed Mohammadi', 'Céline Marie Claudette Dion']"
      ]
     },
     "execution_count": 4,
     "metadata": {},
     "output_type": "execute_result"
    }
   ],
   "source": [
    "[k for k,v in persons.items() if 50 < v[0] < 70 ]"
   ]
  }
 ],
 "metadata": {
  "kernelspec": {
   "display_name": "Python 3 (ipykernel)",
   "language": "python",
   "name": "python3"
  },
  "language_info": {
   "codemirror_mode": {
    "name": "ipython",
    "version": 3
   },
   "file_extension": ".py",
   "mimetype": "text/x-python",
   "name": "python",
   "nbconvert_exporter": "python",
   "pygments_lexer": "ipython3",
   "version": "3.9.7"
  }
 },
 "nbformat": 4,
 "nbformat_minor": 5
}
