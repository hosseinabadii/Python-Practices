{
 "cells": [
  {
   "cell_type": "code",
   "execution_count": 2,
   "id": "17cee118-4b34-40fa-b0d0-2e15f98c3b44",
   "metadata": {},
   "outputs": [
    {
     "name": "stdout",
     "output_type": "stream",
     "text": [
      "For quit enter  add\n"
     ]
    },
    {
     "name": "stdin",
     "output_type": "stream",
     "text": [
      "Enter one number to add :  10\n",
      "Enter one number to add :  20\n",
      "Enter one number to add :  add\n"
     ]
    },
    {
     "name": "stdout",
     "output_type": "stream",
     "text": [
      "total =  30.0\n",
      "bye!\n"
     ]
    }
   ],
   "source": [
    "print('For quit enter  add')\n",
    "total = 0\n",
    "while True:\n",
    "    a = input('Enter one number to add : ')\n",
    "    if a == 'add':\n",
    "        print('total = ', total)\n",
    "        print('bye!')\n",
    "        break\n",
    "    else:\n",
    "        total += float(a)"
   ]
  },
  {
   "cell_type": "code",
   "execution_count": null,
   "id": "f1f92192-c5c4-4753-a004-716df8a18125",
   "metadata": {},
   "outputs": [],
   "source": []
  }
 ],
 "metadata": {
  "kernelspec": {
   "display_name": "Python 3 (ipykernel)",
   "language": "python",
   "name": "python3"
  },
  "language_info": {
   "codemirror_mode": {
    "name": "ipython",
    "version": 3
   },
   "file_extension": ".py",
   "mimetype": "text/x-python",
   "name": "python",
   "nbconvert_exporter": "python",
   "pygments_lexer": "ipython3",
   "version": "3.9.7"
  }
 },
 "nbformat": 4,
 "nbformat_minor": 5
}
