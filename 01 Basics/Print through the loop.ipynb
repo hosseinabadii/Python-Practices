{
 "cells": [
  {
   "cell_type": "markdown",
   "id": "fcf95cea-6816-4448-b278-0741f93a5ac5",
   "metadata": {},
   "source": [
    "## Change the list in-place"
   ]
  },
  {
   "cell_type": "code",
   "execution_count": 4,
   "id": "389f5efe-439e-4278-ada4-bf67bd109c50",
   "metadata": {},
   "outputs": [
    {
     "data": {
      "text/plain": [
       "['King of Kings Ardashir I',\n",
       " 'King of Kings Shapur I',\n",
       " 'King of Kings Hormizd I',\n",
       " 'King of Kings Bahram I']"
      ]
     },
     "execution_count": 4,
     "metadata": {},
     "output_type": "execute_result"
    }
   ],
   "source": [
    "mylist = [\"Ardashir I\", \"Shapur I\", \"Hormizd I\", \"Bahram I\"]\n",
    "for index, item in enumerate(mylist):\n",
    "    mylist[index] = 'King of Kings ' + item\n",
    "mylist"
   ]
  },
  {
   "cell_type": "markdown",
   "id": "f80be556-4e0d-4242-a10c-da93db37344b",
   "metadata": {},
   "source": [
    "## Create a new list"
   ]
  },
  {
   "cell_type": "code",
   "execution_count": 6,
   "id": "33df36e1-f0f6-40b0-989e-4718447d5dc9",
   "metadata": {},
   "outputs": [
    {
     "name": "stdout",
     "output_type": "stream",
     "text": [
      "['Kings of Kings Ardashir I', 'Kings of Kings Shapur I', 'Kings of Kings Hormizd I', 'Kings of Kings Bahram I']\n"
     ]
    }
   ],
   "source": [
    "mylist = [\"Ardashir I\", \"Shapur I\", \"Hormizd I\", \"Bahram I\"]\n",
    "new_list = ['Kings of Kings ' + item for item in mylist]\n",
    "print(new_list)"
   ]
  }
 ],
 "metadata": {
  "kernelspec": {
   "display_name": "Python 3 (ipykernel)",
   "language": "python",
   "name": "python3"
  },
  "language_info": {
   "codemirror_mode": {
    "name": "ipython",
    "version": 3
   },
   "file_extension": ".py",
   "mimetype": "text/x-python",
   "name": "python",
   "nbconvert_exporter": "python",
   "pygments_lexer": "ipython3",
   "version": "3.9.7"
  }
 },
 "nbformat": 4,
 "nbformat_minor": 5
}
