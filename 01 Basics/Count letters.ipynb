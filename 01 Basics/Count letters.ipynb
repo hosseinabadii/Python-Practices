{
 "cells": [
  {
   "cell_type": "code",
   "execution_count": 7,
   "id": "a6346e7d-5fed-4473-84e7-b5f22d5fdec5",
   "metadata": {},
   "outputs": [],
   "source": [
    "def count_char(string):\n",
    "    result = {}\n",
    "    for char in string:\n",
    "        if char not in result:\n",
    "            result[char] = 1\n",
    "        else:\n",
    "            result[char] += 1\n",
    "    return result   "
   ]
  },
  {
   "cell_type": "code",
   "execution_count": 8,
   "id": "080e3906-51ee-4323-affe-37705c80f3b8",
   "metadata": {},
   "outputs": [
    {
     "data": {
      "text/plain": [
       "{'x': 1, 'c': 3, 'a': 7, 'b': 14, 'd': 3}"
      ]
     },
     "execution_count": 8,
     "metadata": {},
     "output_type": "execute_result"
    }
   ],
   "source": [
    "count_char('xcabbabbdbabdbdbabababcbcbab')"
   ]
  },
  {
   "cell_type": "markdown",
   "id": "6133abcc-b844-46e2-b095-9eaa2373f655",
   "metadata": {},
   "source": [
    "## use `get()` method in dictionary"
   ]
  },
  {
   "cell_type": "code",
   "execution_count": 5,
   "id": "10ad83e1-0387-4c73-a47f-08b7bbcc495b",
   "metadata": {},
   "outputs": [],
   "source": [
    "def counter_char(string):\n",
    "    result = {}\n",
    "    for char in string:\n",
    "        result[char] = result.get(char, 0) + 1\n",
    "    return result"
   ]
  },
  {
   "cell_type": "code",
   "execution_count": null,
   "id": "7029de0c-d1bb-46fd-9e73-b32fb3fe3db6",
   "metadata": {},
   "outputs": [
    {
     "data": {
      "text/plain": [
       "{'x': 1, 'c': 3, 'a': 7, 'b': 14, 'd': 3}"
      ]
     },
     "execution_count": 6,
     "metadata": {},
     "output_type": "execute_result"
    }
   ],
   "source": [
    "counter_char('xcabbabbdbabdbdbabababcbcbab')"
   ]
  },
  {
   "cell_type": "markdown",
   "id": "c9504e54-a448-4dcc-a2af-eb0b4d928b14",
   "metadata": {},
   "source": [
    "## use `Counter()`"
   ]
  },
  {
   "cell_type": "code",
   "execution_count": 9,
   "id": "fb0794b0-61ff-466b-b02c-2dafd9e9787d",
   "metadata": {},
   "outputs": [],
   "source": [
    "from collections import Counter"
   ]
  },
  {
   "cell_type": "code",
   "execution_count": 10,
   "id": "25543b61-17a5-40c4-93ba-5bf11684a636",
   "metadata": {},
   "outputs": [
    {
     "data": {
      "text/plain": [
       "Counter({'x': 1, 'c': 3, 'a': 7, 'b': 14, 'd': 3})"
      ]
     },
     "execution_count": 10,
     "metadata": {},
     "output_type": "execute_result"
    }
   ],
   "source": [
    "Counter('xcabbabbdbabdbdbabababcbcbab')"
   ]
  },
  {
   "cell_type": "code",
   "execution_count": null,
   "id": "014f56db-cdf4-4b88-8041-f75da48f5bd7",
   "metadata": {},
   "outputs": [],
   "source": []
  }
 ],
 "metadata": {
  "kernelspec": {
   "display_name": "Python 3 (ipykernel)",
   "language": "python",
   "name": "python3"
  },
  "language_info": {
   "codemirror_mode": {
    "name": "ipython",
    "version": 3
   },
   "file_extension": ".py",
   "mimetype": "text/x-python",
   "name": "python",
   "nbconvert_exporter": "python",
   "pygments_lexer": "ipython3",
   "version": "3.9.7"
  }
 },
 "nbformat": 4,
 "nbformat_minor": 5
}
