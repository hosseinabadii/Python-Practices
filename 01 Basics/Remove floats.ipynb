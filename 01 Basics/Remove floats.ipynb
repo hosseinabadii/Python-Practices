{
 "cells": [
  {
   "cell_type": "code",
   "execution_count": 1,
   "id": "8d452da6-a3df-492f-a3a7-af4f10fb8165",
   "metadata": {},
   "outputs": [],
   "source": [
    "original_list = [2, 3.75, 0.04, 59.354, 6, 7.7777, 8, 9]"
   ]
  },
  {
   "cell_type": "code",
   "execution_count": 8,
   "id": "9a871891-857e-4c45-b3b2-e2985d8579a3",
   "metadata": {},
   "outputs": [
    {
     "data": {
      "text/plain": [
       "[2, 6, 8, 9]"
      ]
     },
     "execution_count": 8,
     "metadata": {},
     "output_type": "execute_result"
    }
   ],
   "source": [
    "[n for n in original_list if type(n) == int]"
   ]
  },
  {
   "cell_type": "code",
   "execution_count": null,
   "id": "28b4fc58-5102-4f30-9584-4c352c4ed099",
   "metadata": {},
   "outputs": [],
   "source": []
  }
 ],
 "metadata": {
  "kernelspec": {
   "display_name": "Python 3 (ipykernel)",
   "language": "python",
   "name": "python3"
  },
  "language_info": {
   "codemirror_mode": {
    "name": "ipython",
    "version": 3
   },
   "file_extension": ".py",
   "mimetype": "text/x-python",
   "name": "python",
   "nbconvert_exporter": "python",
   "pygments_lexer": "ipython3",
   "version": "3.9.7"
  }
 },
 "nbformat": 4,
 "nbformat_minor": 5
}
