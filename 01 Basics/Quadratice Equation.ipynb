{
 "cells": [
  {
   "cell_type": "code",
   "execution_count": 1,
   "id": "45743c13-c12b-4f35-94e5-c6fbeeb9c849",
   "metadata": {},
   "outputs": [
    {
     "name": "stdout",
     "output_type": "stream",
     "text": [
      "delta = 176.00 ==> x1 = -8.633 and x2 =  4.633\n"
     ]
    }
   ],
   "source": [
    "a = -1\n",
    "b = -4\n",
    "c = +40\n",
    "delta = b**2 - 4*a*c\n",
    "if delta > 0:\n",
    "    x1 = (-b + delta**0.5)/(2*a)\n",
    "    x2 = (-b - delta**0.5)/(2*a)\n",
    "    print(f'delta = {delta:6.2f} ==> x1 = {x1:6.3f} and x2 = {x2:6.3f}')\n",
    "elif delta < 0:\n",
    "    print(f'delta = {delta:6.2f} ==> No real roots!')\n",
    "else:\n",
    "    x1 = (-b)/(2*a)\n",
    "    print(f'delta = {delta:6.2f} ==> x = {x1:6.3f}')"
   ]
  },
  {
   "cell_type": "code",
   "execution_count": 12,
   "id": "75b7e22e-4c50-4673-b08b-8fe4e9c63691",
   "metadata": {},
   "outputs": [],
   "source": [
    "def quadratice_equ(*, a, b, c):\n",
    "    delta = b**2 - 4*a*c\n",
    "    if delta > 0:\n",
    "        x1 = (-b + delta**0.5)/(2*a)\n",
    "        x2 = (-b - delta**0.5)/(2*a)\n",
    "        return (x1, x2, delta)\n",
    "    elif delta < 0:\n",
    "        return (\"No real root\", \"No real root\", delta)\n",
    "    else:\n",
    "        x = (-b)/(2*a)\n",
    "        return (x, x, delta)"
   ]
  },
  {
   "cell_type": "code",
   "execution_count": 14,
   "id": "92ed9e55-4e09-41c1-89fb-b7cf4b93e60a",
   "metadata": {},
   "outputs": [
    {
     "data": {
      "text/plain": [
       "(-0.583801512904337, -15.416198487095663, 220)"
      ]
     },
     "execution_count": 14,
     "metadata": {},
     "output_type": "execute_result"
    }
   ],
   "source": [
    "quadratice_equ(a=1, b=16, c=9)"
   ]
  },
  {
   "cell_type": "code",
   "execution_count": null,
   "id": "418a0177-869c-422a-b44c-65450318ce6b",
   "metadata": {},
   "outputs": [],
   "source": []
  }
 ],
 "metadata": {
  "kernelspec": {
   "display_name": "Python 3 (ipykernel)",
   "language": "python",
   "name": "python3"
  },
  "language_info": {
   "codemirror_mode": {
    "name": "ipython",
    "version": 3
   },
   "file_extension": ".py",
   "mimetype": "text/x-python",
   "name": "python",
   "nbconvert_exporter": "python",
   "pygments_lexer": "ipython3",
   "version": "3.9.7"
  }
 },
 "nbformat": 4,
 "nbformat_minor": 5
}
