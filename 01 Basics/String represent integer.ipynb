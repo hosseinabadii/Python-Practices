{
 "cells": [
  {
   "cell_type": "code",
   "execution_count": 33,
   "id": "a42ea197-9576-4fa7-875c-a755f3de7e27",
   "metadata": {},
   "outputs": [
    {
     "name": "stdin",
     "output_type": "stream",
     "text": [
      "Enter : 00025\n"
     ]
    },
    {
     "name": "stdout",
     "output_type": "stream",
     "text": [
      "The string is a number!\n",
      "50\n"
     ]
    }
   ],
   "source": [
    "text = input('Enter :')\n",
    "if text.isnumeric():\n",
    "    print('The string is a number!')\n",
    "    print(int(text)*2)\n",
    "else:\n",
    "    print('The string is not a number!')"
   ]
  },
  {
   "cell_type": "code",
   "execution_count": null,
   "id": "3fe15d80-7453-4452-b004-41ff23ba3790",
   "metadata": {},
   "outputs": [
    {
     "name": "stdin",
     "output_type": "stream",
     "text": [
      "Input a string:  55\n"
     ]
    },
    {
     "name": "stdout",
     "output_type": "stream",
     "text": [
      "The string is an integer.\n"
     ]
    }
   ],
   "source": [
    "text = input(\"Input a string: \")\n",
    "if len(text) < 1:\n",
    "    print(\"Input a valid text\")\n",
    "else:\n",
    "    if all(text[i] in \"0123456789\" for i in range(len(text))):\n",
    "        print(\"The string is an integer.\")\n",
    "    elif (text[0] in \"+-\") and all(\n",
    "        text[i] in \"0123456789\" for i in range(1, len(text))):\n",
    "        print(\"The string is an integer.\")\n",
    "    else:\n",
    "        print(\"The string is not an integer.\")"
   ]
  },
  {
   "cell_type": "code",
   "execution_count": 48,
   "id": "3e46065a-a77e-41fc-861f-5bb83b33c5af",
   "metadata": {},
   "outputs": [
    {
     "name": "stdout",
     "output_type": "stream",
     "text": [
      "4054 ==> is integer\n"
     ]
    }
   ],
   "source": [
    "string = '4054'\n",
    "test = '0123456789'\n",
    "count = 0\n",
    "for i in string:\n",
    "    count +=1\n",
    "    if i not in test:\n",
    "        print(string,'==> is string')\n",
    "        break\n",
    "    elif i in test and count == len(string):\n",
    "        print(string,'==> is integer')\n",
    "        "
   ]
  },
  {
   "cell_type": "code",
   "execution_count": null,
   "id": "96bf0223-f9ec-448c-8e4d-d6eafc1cb916",
   "metadata": {},
   "outputs": [
    {
     "name": "stdout",
     "output_type": "stream",
     "text": [
      "4l55054 ==> is string\n"
     ]
    }
   ],
   "source": [
    "string = '4l55054'\n",
    "test = '0123456789'\n",
    "for i in string:\n",
    "    if i not in test:\n",
    "        print(string,'==> is string')\n",
    "        break\n",
    "else:\n",
    "    print(string,'==> is integer')"
   ]
  },
  {
   "cell_type": "code",
   "execution_count": 57,
   "id": "239e13ee-24c6-4cd8-989b-c7978b6d09f6",
   "metadata": {},
   "outputs": [
    {
     "name": "stdout",
     "output_type": "stream",
     "text": [
      "455054 ==> is integer\n"
     ]
    }
   ],
   "source": [
    "string = '455054'\n",
    "\n",
    "is_number = True\n",
    "for i in string:\n",
    "    if i not in '0123456789':\n",
    "        is_number = False\n",
    "        break\n",
    "if is_number:\n",
    "    print(string,'==> is integer')\n",
    "else:\n",
    "    print(string,'==> is string')"
   ]
  }
 ],
 "metadata": {
  "kernelspec": {
   "display_name": "Python 3 (ipykernel)",
   "language": "python",
   "name": "python3"
  },
  "language_info": {
   "codemirror_mode": {
    "name": "ipython",
    "version": 3
   },
   "file_extension": ".py",
   "mimetype": "text/x-python",
   "name": "python",
   "nbconvert_exporter": "python",
   "pygments_lexer": "ipython3",
   "version": "3.9.7"
  }
 },
 "nbformat": 4,
 "nbformat_minor": 5
}
