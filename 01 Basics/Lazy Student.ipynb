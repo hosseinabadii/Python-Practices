{
 "cells": [
  {
   "cell_type": "code",
   "execution_count": 2,
   "id": "dcaf6d71-0555-4b02-9d5c-ace3f45762d1",
   "metadata": {},
   "outputs": [],
   "source": [
    "stu_grades = {\n",
    "    \"Sina\": 10,\n",
    "    \"Amir\": 20,\n",
    "    \"Elham\": 17,\n",
    "    \"Mahtab\": 9,\n",
    "    \"Hossein\": 20,\n",
    "    \"Fateme\": 15.75,\n",
    "    \"Elnaz\": 16.2,\n",
    "    \"Ahmad\": 18.5\n",
    "}"
   ]
  },
  {
   "cell_type": "code",
   "execution_count": 3,
   "id": "edf1156a-59c2-41ab-86b4-74c2c16fbeba",
   "metadata": {},
   "outputs": [
    {
     "name": "stdout",
     "output_type": "stream",
     "text": [
      "['SINA', 'MAHTAB', 'FATEME']\n"
     ]
    }
   ],
   "source": [
    "lazy_stu = []\n",
    "for key, value in stu_grades.items():\n",
    "    if value < 16:\n",
    "        lazy_stu.append(key.upper())\n",
    "print(lazy_stu)\n",
    "    "
   ]
  },
  {
   "cell_type": "code",
   "execution_count": 9,
   "id": "565d2971-053d-42e4-837b-a0e68dacdee5",
   "metadata": {},
   "outputs": [
    {
     "data": {
      "text/plain": [
       "['SINA', 'MAHTAB', 'FATEME']"
      ]
     },
     "execution_count": 9,
     "metadata": {},
     "output_type": "execute_result"
    }
   ],
   "source": [
    "[k.upper() for k in stu_grades if stu_grades[k] < 16]"
   ]
  },
  {
   "cell_type": "code",
   "execution_count": 4,
   "id": "2b92db27-aba1-4b74-a0e1-df39a4b8a425",
   "metadata": {},
   "outputs": [
    {
     "data": {
      "text/plain": [
       "['SINA', 'MAHTAB', 'FATEME']"
      ]
     },
     "execution_count": 4,
     "metadata": {},
     "output_type": "execute_result"
    }
   ],
   "source": [
    "[k.upper() for k, v in stu_grades.items() if v < 16]"
   ]
  }
 ],
 "metadata": {
  "kernelspec": {
   "display_name": "Python 3 (ipykernel)",
   "language": "python",
   "name": "python3"
  },
  "language_info": {
   "codemirror_mode": {
    "name": "ipython",
    "version": 3
   },
   "file_extension": ".py",
   "mimetype": "text/x-python",
   "name": "python",
   "nbconvert_exporter": "python",
   "pygments_lexer": "ipython3",
   "version": "3.9.7"
  }
 },
 "nbformat": 4,
 "nbformat_minor": 5
}
