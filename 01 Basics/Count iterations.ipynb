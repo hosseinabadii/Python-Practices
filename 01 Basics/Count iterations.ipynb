{
 "cells": [
  {
   "cell_type": "code",
   "execution_count": 5,
   "id": "440b44ee-bc40-45cc-bc94-f0fecc6f9366",
   "metadata": {},
   "outputs": [
    {
     "name": "stdout",
     "output_type": "stream",
     "text": [
      "1 is A\n",
      "2 is r\n",
      "3 is d\n",
      "4 is e\n",
      "5 is s\n",
      "6 is h\n",
      "7 is i\n",
      "8 is r\n",
      "9 is  \n",
      "10 is w\n",
      "11 is a\n",
      "12 is s\n",
      "13 is  \n",
      "14 is s\n",
      "15 is o\n",
      "16 is n\n",
      "17 is  \n",
      "18 is o\n",
      "19 is f\n",
      "20 is  \n",
      "21 is P\n",
      "22 is a\n",
      "23 is p\n",
      "24 is a\n",
      "25 is k\n",
      "total loops =  25\n"
     ]
    }
   ],
   "source": [
    "mysting = 'Ardeshir was son of Papak'\n",
    "count = 0\n",
    "for i in mysting:\n",
    "    count +=1\n",
    "    print(f'{count} is {i}')\n",
    "print('total loops = ', count)"
   ]
  },
  {
   "cell_type": "code",
   "execution_count": null,
   "id": "7013384d-ce88-4f1e-a0d8-c416f043ac91",
   "metadata": {},
   "outputs": [],
   "source": []
  }
 ],
 "metadata": {
  "kernelspec": {
   "display_name": "Python 3 (ipykernel)",
   "language": "python",
   "name": "python3"
  },
  "language_info": {
   "codemirror_mode": {
    "name": "ipython",
    "version": 3
   },
   "file_extension": ".py",
   "mimetype": "text/x-python",
   "name": "python",
   "nbconvert_exporter": "python",
   "pygments_lexer": "ipython3",
   "version": "3.9.7"
  }
 },
 "nbformat": 4,
 "nbformat_minor": 5
}
