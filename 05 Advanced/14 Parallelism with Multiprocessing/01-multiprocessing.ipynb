{
 "cells": [
  {
   "cell_type": "code",
   "execution_count": 8,
   "metadata": {},
   "outputs": [],
   "source": [
    "import time\n",
    "import multiprocessing\n",
    "\n",
    "def cpu_bound(number):\n",
    "    return sum(i * i for i in range(number))\n",
    "\n",
    "numbers = [10_000_000 + x for x in range(20)]"
   ]
  },
  {
   "cell_type": "code",
   "execution_count": 9,
   "metadata": {},
   "outputs": [
    {
     "name": "stdout",
     "output_type": "stream",
     "text": [
      "Duration 20.397450923919678 seconds\n"
     ]
    }
   ],
   "source": [
    "# synchronous\n",
    "def find_sums(numbers):\n",
    "    for number in numbers:\n",
    "        cpu_bound(number)\n",
    "\n",
    "start_time = time.time()\n",
    "find_sums(numbers)\n",
    "duration = time.time() - start_time\n",
    "print(f\"Duration {duration} seconds\")"
   ]
  },
  {
   "cell_type": "code",
   "execution_count": 10,
   "metadata": {},
   "outputs": [
    {
     "name": "stdout",
     "output_type": "stream",
     "text": [
      "Duration 13.029289484024048 seconds\n"
     ]
    }
   ],
   "source": [
    "def find_sums(numbers):\n",
    "    with multiprocessing.Pool() as pool:\n",
    "        pool.map(cpu_bound, numbers)\n",
    "\n",
    "start_time = time.time()\n",
    "find_sums(numbers)\n",
    "duration = time.time() - start_time\n",
    "print(f\"Duration {duration} seconds\")"
   ]
  }
 ],
 "metadata": {
  "kernelspec": {
   "display_name": "tamrin",
   "language": "python",
   "name": "python3"
  },
  "language_info": {
   "codemirror_mode": {
    "name": "ipython",
    "version": 3
   },
   "file_extension": ".py",
   "mimetype": "text/x-python",
   "name": "python",
   "nbconvert_exporter": "python",
   "pygments_lexer": "ipython3",
   "version": "3.9.16"
  },
  "orig_nbformat": 4
 },
 "nbformat": 4,
 "nbformat_minor": 2
}
