{
 "cells": [
  {
   "cell_type": "markdown",
   "id": "a476a87a-14af-400c-aa97-844f05c5d411",
   "metadata": {},
   "source": [
    "## Race Condition"
   ]
  },
  {
   "cell_type": "code",
   "execution_count": 1,
   "id": "e93ce36d",
   "metadata": {},
   "outputs": [],
   "source": [
    "import time\n",
    "import threading\n",
    "import concurrent.futures"
   ]
  },
  {
   "cell_type": "code",
   "execution_count": 2,
   "id": "ccfae90b-1e09-441a-a918-f9f3a3c2614b",
   "metadata": {},
   "outputs": [],
   "source": [
    "class FakeDatabase:\n",
    "    def __init__(self):\n",
    "        self.value = 0\n",
    "\n",
    "    def update(self, name):\n",
    "        print(f\"{name}: starting update\")\n",
    "        local_copy = self.value\n",
    "        local_copy += 10\n",
    "        time.sleep(0.1)\n",
    "        self.value = local_copy\n",
    "        print(f\"{name}: finishing update\")"
   ]
  },
  {
   "cell_type": "code",
   "execution_count": 3,
   "id": "9a5c71f8-3a48-4667-be25-6bb91eb771bd",
   "metadata": {},
   "outputs": [
    {
     "name": "stdout",
     "output_type": "stream",
     "text": [
      "Testing update. Starting value is 0.\n",
      "thread 1: starting update\n",
      "thread 2: starting update\n",
      "thread 1: finishing update\n",
      "thread 2: finishing update\n",
      "Testing update. Ending value is 10.\n"
     ]
    }
   ],
   "source": [
    "db = FakeDatabase()\n",
    "print(f\"Testing update. Starting value is {db.value}.\")\n",
    "with concurrent.futures.ThreadPoolExecutor() as executor:\n",
    "    executor.map(db.update, (\"thread 1\", \"thread 2\"))\n",
    "\n",
    "print(f\"Testing update. Ending value is {db.value}.\")"
   ]
  },
  {
   "cell_type": "code",
   "execution_count": 4,
   "id": "49e3cebd-0b7e-4240-bb93-c28bb3f0f195",
   "metadata": {},
   "outputs": [],
   "source": [
    "# Output must be 20 , but it is 10 !!!!\n",
    "# It's because race condition"
   ]
  },
  {
   "cell_type": "markdown",
   "id": "aa152b37-a1b6-4015-a4e5-f66f4fe25209",
   "metadata": {},
   "source": [
    "---"
   ]
  },
  {
   "cell_type": "markdown",
   "id": "c50d2a10-33a3-4b98-af10-90bdc8ba72d4",
   "metadata": {},
   "source": [
    "## Solving Rase Condition by `Lock`"
   ]
  },
  {
   "cell_type": "code",
   "execution_count": 5,
   "id": "32311741-7b6f-44d3-a069-d0efda45a071",
   "metadata": {},
   "outputs": [],
   "source": [
    "class FakeDatabase:\n",
    "    def __init__(self):\n",
    "        self.value = 0\n",
    "        self._lock = threading.Lock()\n",
    "\n",
    "    def update(self, name):\n",
    "        self._lock.acquire()  ## get the lock\n",
    "        print(f\"{name}: starting update\")\n",
    "        local_copy = self.value\n",
    "        local_copy += 10\n",
    "        time.sleep(0.1)\n",
    "        self.value = local_copy\n",
    "        print(f\"{name}: finishing update\")\n",
    "        self._lock.release()  ## release the lock"
   ]
  },
  {
   "cell_type": "code",
   "execution_count": 6,
   "id": "58dbd371-1d2d-4acf-8aab-a330005feb35",
   "metadata": {},
   "outputs": [
    {
     "name": "stdout",
     "output_type": "stream",
     "text": [
      "Testing update. Starting value is 0.\n",
      "thread 1: starting update\n",
      "thread 1: finishing update\n",
      "thread 2: starting update\n",
      "thread 2: finishing update\n",
      "Testing update. Ending value is 20.\n"
     ]
    }
   ],
   "source": [
    "db = FakeDatabase()\n",
    "print(f\"Testing update. Starting value is {db.value}.\")\n",
    "with concurrent.futures.ThreadPoolExecutor() as executor:\n",
    "    executor.map(db.update, (\"thread 1\", \"thread 2\"))\n",
    "    \n",
    "print(f\"Testing update. Ending value is {db.value}.\")"
   ]
  },
  {
   "cell_type": "markdown",
   "id": "64fa391c",
   "metadata": {},
   "source": [
    "## Best Practice is using `Lock` with `with`"
   ]
  },
  {
   "cell_type": "code",
   "execution_count": 7,
   "id": "5967a78b",
   "metadata": {},
   "outputs": [],
   "source": [
    "class FakeDatabase:\n",
    "    def __init__(self):\n",
    "        self.value = 0\n",
    "        self._lock = threading.Lock()\n",
    "\n",
    "    def update(self, name):\n",
    "        with self._lock:\n",
    "            print(f\"{name}: starting update\")\n",
    "            local_copy = self.value\n",
    "            local_copy += 10\n",
    "            time.sleep(1)\n",
    "            self.value = local_copy\n",
    "            print(f\"{name}: finishing update\")"
   ]
  },
  {
   "cell_type": "code",
   "execution_count": 8,
   "id": "8db8392f",
   "metadata": {},
   "outputs": [
    {
     "name": "stdout",
     "output_type": "stream",
     "text": [
      "Testing update. Starting value is 0.\n",
      "thread 1: starting update\n",
      "thread 1: finishing update\n",
      "thread 2: starting update\n",
      "thread 2: finishing update\n",
      "Testing update. Ending value is 20.\n"
     ]
    }
   ],
   "source": [
    "db = FakeDatabase()\n",
    "print(f\"Testing update. Starting value is {db.value}.\")\n",
    "with concurrent.futures.ThreadPoolExecutor() as executor:\n",
    "    executor.map(db.update, (\"thread 1\", \"thread 2\"))\n",
    "print(f\"Testing update. Ending value is {db.value}.\")"
   ]
  },
  {
   "attachments": {},
   "cell_type": "markdown",
   "id": "96075965",
   "metadata": {},
   "source": [
    "## RED NOTE!!!\n",
    "If your function has an error, it does not raise if you don't use the output of `executer` because it is a generator. To see this issue, you can run the above script without importing `time`."
   ]
  }
 ],
 "metadata": {
  "kernelspec": {
   "display_name": "Python 3 (ipykernel)",
   "language": "python",
   "name": "python3"
  },
  "language_info": {
   "codemirror_mode": {
    "name": "ipython",
    "version": 3
   },
   "file_extension": ".py",
   "mimetype": "text/x-python",
   "name": "python",
   "nbconvert_exporter": "python",
   "pygments_lexer": "ipython3",
   "version": "3.9.16"
  }
 },
 "nbformat": 4,
 "nbformat_minor": 5
}
