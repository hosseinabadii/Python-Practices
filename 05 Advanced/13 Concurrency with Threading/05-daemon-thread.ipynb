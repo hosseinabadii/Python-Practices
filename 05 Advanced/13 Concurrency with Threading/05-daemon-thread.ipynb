{
 "cells": [
  {
   "attachments": {},
   "cell_type": "markdown",
   "metadata": {},
   "source": [
    "## Daemon Thread"
   ]
  },
  {
   "attachments": {},
   "cell_type": "markdown",
   "metadata": {},
   "source": [
    "In Python's `threading` module, a daemon thread is a thread that runs in the background and does not prevent the main program from exiting. When all non-daemon threads have exited, the interpreter exits, even if there are still daemon threads running.\n",
    "\n",
    "In other words, a daemon thread is a thread that runs in the background and is not essential to the functioning of the program. When the main program exits, any daemon threads that are still running are abruptly stopped, regardless of their current state, which can lead to data corruption or other issues if the threads are not properly designed to handle this.\n",
    "\n",
    "You should only use daemon threads for tasks that are truly background tasks and can be safely stopped at any time.\n",
    "\n",
    "To `stop this program`, please close your main python intepreter (VSCode, jupyter notebook, etc)"
   ]
  },
  {
   "cell_type": "code",
   "execution_count": 1,
   "metadata": {},
   "outputs": [
    {
     "name": "stdout",
     "output_type": "stream",
     "text": [
      "1 Daemon thread running...\n",
      "Main thread exiting...\n"
     ]
    },
    {
     "name": "stdout",
     "output_type": "stream",
     "text": [
      "2 Daemon thread running...\n",
      "3 Daemon thread running...\n",
      "4 Daemon thread running...\n",
      "5 Daemon thread running...\n",
      "6 Daemon thread running...\n",
      "7 Daemon thread running...\n",
      "8 Daemon thread running...\n",
      "9 Daemon thread running...\n",
      "10 Daemon thread running...\n",
      "11 Daemon thread running...\n",
      "12 Daemon thread running...\n",
      "13 Daemon thread running...\n",
      "14 Daemon thread running...\n",
      "15 Daemon thread running...\n",
      "16 Daemon thread running...\n",
      "17 Daemon thread running...\n",
      "18 Daemon thread running...\n",
      "19 Daemon thread running...\n",
      "20 Daemon thread running...\n",
      "21 Daemon thread running...\n",
      "22 Daemon thread running...\n",
      "23 Daemon thread running...\n",
      "24 Daemon thread running...\n",
      "25 Daemon thread running...\n",
      "26 Daemon thread running...\n",
      "27 Daemon thread running...\n",
      "28 Daemon thread running...\n",
      "29 Daemon thread running...\n",
      "30 Daemon thread running...\n",
      "31 Daemon thread running...\n",
      "32 Daemon thread running...\n",
      "33 Daemon thread running...\n",
      "34 Daemon thread running...\n",
      "35 Daemon thread running...\n",
      "36 Daemon thread running...\n",
      "37 Daemon thread running...\n",
      "38 Daemon thread running...\n",
      "39 Daemon thread running...\n",
      "40 Daemon thread running...\n",
      "41 Daemon thread running...\n",
      "42 Daemon thread running...\n",
      "43 Daemon thread running...\n",
      "44 Daemon thread running...\n",
      "45 Daemon thread running...\n"
     ]
    }
   ],
   "source": [
    "import threading\n",
    "import time\n",
    "\n",
    "def worker():\n",
    "    i = 1\n",
    "    while True:\n",
    "        print(f\"{i} Daemon thread running...\")\n",
    "        i += 1\n",
    "        time.sleep(1)\n",
    "\n",
    "t = threading.Thread(target=worker, daemon=True)\n",
    "t.start()\n",
    "\n",
    "print(\"Main thread exiting...\")"
   ]
  }
 ],
 "metadata": {
  "kernelspec": {
   "display_name": "tamrin",
   "language": "python",
   "name": "python3"
  },
  "language_info": {
   "codemirror_mode": {
    "name": "ipython",
    "version": 3
   },
   "file_extension": ".py",
   "mimetype": "text/x-python",
   "name": "python",
   "nbconvert_exporter": "python",
   "pygments_lexer": "ipython3",
   "version": "3.9.16"
  },
  "orig_nbformat": 4
 },
 "nbformat": 4,
 "nbformat_minor": 2
}
