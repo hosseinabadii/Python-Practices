{
 "cells": [
  {
   "cell_type": "markdown",
   "metadata": {},
   "source": [
    "## Using `ThreadPoolExecutor` for threading"
   ]
  },
  {
   "cell_type": "code",
   "execution_count": 1,
   "metadata": {},
   "outputs": [],
   "source": [
    "import random\n",
    "import requests\n",
    "import concurrent.futures"
   ]
  },
  {
   "cell_type": "code",
   "execution_count": 2,
   "metadata": {},
   "outputs": [],
   "source": [
    "urls = []\n",
    "url = \"https://www.finsmes.com/older-posts/page/{page_number}\"\n",
    "for page_number in range(5):\n",
    "    page_url = url.format(page_number=page_number)\n",
    "    urls.append(page_url)\n",
    "\n",
    "\n",
    "def scrape_page(page_url):\n",
    "    for _ in range(random.randint(1, 10000000)):\n",
    "        pass\n",
    "    print(f\"Calling for url: {page_url}\")\n",
    "    response = requests.get(page_url)\n",
    "    return response"
   ]
  },
  {
   "cell_type": "code",
   "execution_count": 8,
   "metadata": {},
   "outputs": [
    {
     "name": "stdout",
     "output_type": "stream",
     "text": [
      "Calling for url: https://www.finsmes.com/older-posts/page/1\n",
      "Calling for url: https://www.finsmes.com/older-posts/page/0\n",
      "Calling for url: https://www.finsmes.com/older-posts/page/2\n",
      "Calling for url: https://www.finsmes.com/older-posts/page/3\n",
      "Calling for url: https://www.finsmes.com/older-posts/page/4\n",
      "<!DOCTYPE html>\n",
      "<html lang=\"en-US\" xmlns:fb=\"https://www.facebook.com/2008/fbml\" xmlns:addthis=\"http\n",
      "<!DOCTYPE html>\n",
      "<html lang=\"en-US\" xmlns:fb=\"https://www.facebook.com/2008/fbml\" xmlns:addthis=\"http\n",
      "<!DOCTYPE html>\n",
      "<html lang=\"en-US\" xmlns:fb=\"https://www.facebook.com/2008/fbml\" xmlns:addthis=\"http\n",
      "<!DOCTYPE html>\n",
      "<html lang=\"en-US\" xmlns:fb=\"https://www.facebook.com/2008/fbml\" xmlns:addthis=\"http\n",
      "<!DOCTYPE html>\n",
      "<html lang=\"en-US\" xmlns:fb=\"https://www.facebook.com/2008/fbml\" xmlns:addthis=\"http\n"
     ]
    }
   ],
   "source": [
    "# using map()\n",
    "with concurrent.futures.ThreadPoolExecutor(max_workers=2) as executor:\n",
    "    results = executor.map(scrape_page, urls)\n",
    "\n",
    "for result in results:\n",
    "    print(result.text[:100])"
   ]
  },
  {
   "cell_type": "code",
   "execution_count": 13,
   "metadata": {},
   "outputs": [
    {
     "name": "stdout",
     "output_type": "stream",
     "text": [
      "Calling for url: https://www.finsmes.com/older-posts/page/0\n",
      "Calling for url: https://www.finsmes.com/older-posts/page/1\n",
      "Calling for url: https://www.finsmes.com/older-posts/page/2\n",
      "Calling for url: https://www.finsmes.com/older-posts/page/3\n",
      "Calling for url: https://www.finsmes.com/older-posts/page/4\n",
      "<!DOCTYPE html>\n",
      "<html lang=\"en-US\" xmlns:fb=\"https://www.facebook.com/2008/fbml\" xmlns:addthis=\"http\n",
      "<!DOCTYPE html>\n",
      "<html lang=\"en-US\" xmlns:fb=\"https://www.facebook.com/2008/fbml\" xmlns:addthis=\"http\n",
      "<!DOCTYPE html>\n",
      "<html lang=\"en-US\" xmlns:fb=\"https://www.facebook.com/2008/fbml\" xmlns:addthis=\"http\n",
      "<!DOCTYPE html>\n",
      "<html lang=\"en-US\" xmlns:fb=\"https://www.facebook.com/2008/fbml\" xmlns:addthis=\"http\n",
      "<!DOCTYPE html>\n",
      "<html lang=\"en-US\" xmlns:fb=\"https://www.facebook.com/2008/fbml\" xmlns:addthis=\"http\n"
     ]
    }
   ],
   "source": [
    "# using submit()\n",
    "futures = []\n",
    "with concurrent.futures.ThreadPoolExecutor(max_workers=2) as executor:\n",
    "    for url in urls:\n",
    "        future = executor.submit(scrape_page, url)\n",
    "        futures.append(future)\n",
    "\n",
    "for future in futures:\n",
    "    print(future.result().text[:100])"
   ]
  }
 ],
 "metadata": {
  "kernelspec": {
   "display_name": "tamrin",
   "language": "python",
   "name": "python3"
  },
  "language_info": {
   "codemirror_mode": {
    "name": "ipython",
    "version": 3
   },
   "file_extension": ".py",
   "mimetype": "text/x-python",
   "name": "python",
   "nbconvert_exporter": "python",
   "pygments_lexer": "ipython3",
   "version": "3.9.16"
  },
  "orig_nbformat": 4
 },
 "nbformat": 4,
 "nbformat_minor": 2
}
