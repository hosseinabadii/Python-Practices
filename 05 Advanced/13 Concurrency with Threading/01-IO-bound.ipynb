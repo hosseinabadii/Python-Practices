{
 "cells": [
  {
   "attachments": {},
   "cell_type": "markdown",
   "metadata": {},
   "source": [
    "## Use threading for IO-bound processing"
   ]
  },
  {
   "cell_type": "code",
   "execution_count": 5,
   "metadata": {},
   "outputs": [],
   "source": [
    "import time\n",
    "import random\n",
    "import requests\n",
    "import threading"
   ]
  },
  {
   "cell_type": "code",
   "execution_count": 6,
   "metadata": {},
   "outputs": [],
   "source": [
    "urls = []\n",
    "url = \"https://www.finsmes.com/older-posts/page/{page_number}\"\n",
    "for page_number in range(5):\n",
    "    page_url = url.format(page_number=page_number)\n",
    "    urls.append(page_url)\n",
    "\n",
    "\n",
    "def scrape_page(page_url):\n",
    "    for _ in range(random.randint(1, 10000000)):\n",
    "        pass\n",
    "    print(f\"Calling for url: {page_url}\")\n",
    "    response = requests.get(page_url)\n",
    "    return response\n"
   ]
  },
  {
   "cell_type": "code",
   "execution_count": 7,
   "metadata": {},
   "outputs": [
    {
     "name": "stdout",
     "output_type": "stream",
     "text": [
      "Calling for url: https://www.finsmes.com/older-posts/page/0\n",
      "Calling for url: https://www.finsmes.com/older-posts/page/1\n",
      "Calling for url: https://www.finsmes.com/older-posts/page/2\n",
      "Calling for url: https://www.finsmes.com/older-posts/page/3\n",
      "Calling for url: https://www.finsmes.com/older-posts/page/4\n",
      "Running time: 4.33 s.\n"
     ]
    }
   ],
   "source": [
    "# synchronous version\n",
    "t1 = time.perf_counter()\n",
    "\n",
    "for url in urls:\n",
    "    response = scrape_page(url)\n",
    "\n",
    "t2 = time.perf_counter()\n",
    "print(f\"Running time: {(t2-t1):3.2f} s.\")"
   ]
  },
  {
   "cell_type": "code",
   "execution_count": 8,
   "metadata": {},
   "outputs": [
    {
     "name": "stdout",
     "output_type": "stream",
     "text": [
      "Calling for url: https://www.finsmes.com/older-posts/page/0\n",
      "Calling for url: https://www.finsmes.com/older-posts/page/1\n",
      "Calling for url: https://www.finsmes.com/older-posts/page/3\n",
      "Calling for url: https://www.finsmes.com/older-posts/page/2\n",
      "Calling for url: https://www.finsmes.com/older-posts/page/4\n",
      "Running time: 1.07 s.\n"
     ]
    }
   ],
   "source": [
    "# threading version\n",
    "t1 = time.perf_counter()\n",
    "\n",
    "threads = []\n",
    "for url in urls:\n",
    "    thread = threading.Thread(target=scrape_page, args=(url, ))\n",
    "    threads.append(thread)\n",
    "    thread.start()\n",
    "    \n",
    "for thread in threads:\n",
    "    thread.join()\n",
    "\n",
    "t2 = time.perf_counter()\n",
    "print(f\"Running time: {(t2-t1):3.2f} s.\")\n"
   ]
  }
 ],
 "metadata": {
  "kernelspec": {
   "display_name": "tamrin",
   "language": "python",
   "name": "python3"
  },
  "language_info": {
   "codemirror_mode": {
    "name": "ipython",
    "version": 3
   },
   "file_extension": ".py",
   "mimetype": "text/x-python",
   "name": "python",
   "nbconvert_exporter": "python",
   "pygments_lexer": "ipython3",
   "version": "3.9.16"
  },
  "orig_nbformat": 4
 },
 "nbformat": 4,
 "nbformat_minor": 2
}
