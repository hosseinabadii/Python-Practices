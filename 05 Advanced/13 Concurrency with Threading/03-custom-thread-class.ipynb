{
 "cells": [
  {
   "cell_type": "code",
   "execution_count": 1,
   "metadata": {},
   "outputs": [],
   "source": [
    "import time\n",
    "from enum import Enum\n",
    "from threading import Thread"
   ]
  },
  {
   "cell_type": "code",
   "execution_count": 2,
   "metadata": {},
   "outputs": [],
   "source": [
    "class CalculatorThread(Thread): \n",
    "    def run(self):\n",
    "        if self._target:\n",
    "            self.return_value = self._target(*self._args, **self._kwargs)\n",
    "\n",
    "\n",
    "class Operand(Enum):\n",
    "    ADD = \"addition\"\n",
    "    SUB = \"subtraction\"\n",
    "    MUL = \"multiplication\"\n",
    "    DIV = \"division\"\n",
    "\n",
    "\n",
    "def calculator(x, y, *, operand: Operand = Operand.ADD):\n",
    "    print(\"Calling calculator...\")\n",
    "    time.sleep(1)\n",
    "    if operand == Operand.ADD:\n",
    "        return x + y\n",
    "    elif operand == Operand.SUB:\n",
    "        return x - y\n",
    "    elif operand == Operand.MUL:\n",
    "        return x * y\n",
    "    \n",
    "\n",
    "operands = [Operand.ADD, Operand.SUB, Operand.MUL]\n",
    "names = [operand.value for operand in operands]    "
   ]
  },
  {
   "cell_type": "code",
   "execution_count": 3,
   "metadata": {},
   "outputs": [
    {
     "name": "stdout",
     "output_type": "stream",
     "text": [
      "Calling calculator...\n",
      "13\n",
      "Calling calculator...\n",
      "7\n",
      "Calling calculator...\n",
      "30\n",
      "Running time: 3.01 s.\n"
     ]
    }
   ],
   "source": [
    "# synchronous\n",
    "t1 = time.perf_counter()\n",
    "for operand in operands:\n",
    "    result = calculator(10, 3, operand=operand)\n",
    "    print(result)\n",
    "\n",
    "t2 = time.perf_counter()\n",
    "print(f\"Running time: {(t2-t1):3.2f} s.\")"
   ]
  },
  {
   "cell_type": "code",
   "execution_count": 4,
   "metadata": {},
   "outputs": [
    {
     "name": "stdout",
     "output_type": "stream",
     "text": [
      "Calling calculator...\n",
      "Calling calculator...\n",
      "Calling calculator...\n",
      "Thread with 'addition'         function returned: 13\n",
      "Thread with 'subtraction'      function returned: 7\n",
      "Thread with 'multiplication'   function returned: 30\n",
      "Running time: 1.01 s.\n"
     ]
    }
   ],
   "source": [
    "# threading\n",
    "t1 = time.perf_counter()\n",
    "threads = []\n",
    "for operand, name in zip(operands, names):\n",
    "    thread = CalculatorThread(target=calculator, name=name, args=(10, 3), kwargs={\"operand\":operand})\n",
    "    threads.append(thread)\n",
    "    thread.start()\n",
    "\n",
    "for thread in threads:\n",
    "    thread.join()\n",
    "\n",
    "for thread in threads:\n",
    "    print(f\"Thread with {thread.name!r:18} function returned: {thread.return_value}\")\n",
    "\n",
    "t2 = time.perf_counter()\n",
    "print(f\"Running time: {(t2-t1):3.2f} s.\")"
   ]
  }
 ],
 "metadata": {
  "kernelspec": {
   "display_name": "tamrin",
   "language": "python",
   "name": "python3"
  },
  "language_info": {
   "codemirror_mode": {
    "name": "ipython",
    "version": 3
   },
   "file_extension": ".py",
   "mimetype": "text/x-python",
   "name": "python",
   "nbconvert_exporter": "python",
   "pygments_lexer": "ipython3",
   "version": "3.9.16"
  },
  "orig_nbformat": 4
 },
 "nbformat": 4,
 "nbformat_minor": 2
}
