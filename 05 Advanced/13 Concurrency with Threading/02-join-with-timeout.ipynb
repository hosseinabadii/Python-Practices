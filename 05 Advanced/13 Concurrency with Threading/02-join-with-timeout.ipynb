{
 "cells": [
  {
   "attachments": {},
   "cell_type": "markdown",
   "metadata": {},
   "source": [
    "## Use `join()` method with **timeout** argument\n",
    "The join method in the threading module in Python is used to wait for a thread to finish executing before continuing with the rest of the program. By default, the join method blocks indefinitely until the thread finishes executing. However, you can specify a timeout value using the timeout argument.\n",
    "\n",
    "The timeout argument specifies the maximum amount of time (in seconds) that the main thread will wait for the thread to finish executing. If the thread has not finished executing within the specified timeout period, the join method will return and the main thread can continue with the rest of the program."
   ]
  },
  {
   "cell_type": "code",
   "execution_count": 1,
   "metadata": {},
   "outputs": [],
   "source": [
    "import time\n",
    "import threading"
   ]
  },
  {
   "cell_type": "code",
   "execution_count": 2,
   "metadata": {},
   "outputs": [],
   "source": [
    "def function_with_sleep(x=15):\n",
    "    print(\"Calling thread...\")\n",
    "    while x > 0:\n",
    "        print(f\"with-sleep: {x}\")\n",
    "        x -=1\n",
    "        time.sleep(0.3)\n",
    "    print(\"End of thread...\")\n"
   ]
  },
  {
   "cell_type": "code",
   "execution_count": 3,
   "metadata": {},
   "outputs": [
    {
     "name": "stdout",
     "output_type": "stream",
     "text": [
      "#### Start the main thread\n",
      "Calling thread...\n",
      "with-sleep: 15\n",
      "with-sleep: 14\n",
      "with-sleep: 13\n",
      "with-sleep: 12\n",
      "with-sleep: 11\n",
      "with-sleep: 10\n",
      "with-sleep: 9\n",
      "#### Stop the main thread after 2s\n"
     ]
    },
    {
     "name": "stdout",
     "output_type": "stream",
     "text": [
      "with-sleep: 8\n",
      "with-sleep: 7\n",
      "with-sleep: 6\n",
      "with-sleep: 5\n",
      "with-sleep: 4\n",
      "with-sleep: 3\n",
      "with-sleep: 2\n",
      "with-sleep: 1\n",
      "End of thread...\n"
     ]
    }
   ],
   "source": [
    "# threading version\n",
    "print(\"#### Start the main thread\")\n",
    "thread = threading.Thread(target=function_with_sleep, name=\"thread-1\")\n",
    "thread.start()\n",
    "t = 2\n",
    "thread.join(timeout=t)\n",
    "print(f\"#### Stop the main thread after {t}s\")\n",
    "    "
   ]
  }
 ],
 "metadata": {
  "kernelspec": {
   "display_name": "tamrin",
   "language": "python",
   "name": "python3"
  },
  "language_info": {
   "codemirror_mode": {
    "name": "ipython",
    "version": 3
   },
   "file_extension": ".py",
   "mimetype": "text/x-python",
   "name": "python",
   "nbconvert_exporter": "python",
   "pygments_lexer": "ipython3",
   "version": "3.9.16"
  },
  "orig_nbformat": 4
 },
 "nbformat": 4,
 "nbformat_minor": 2
}
