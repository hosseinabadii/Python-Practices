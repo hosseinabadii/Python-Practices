{
 "cells": [
  {
   "attachments": {},
   "cell_type": "markdown",
   "id": "565be6ca",
   "metadata": {},
   "source": [
    "## Iterator"
   ]
  },
  {
   "cell_type": "code",
   "execution_count": 43,
   "id": "4fda2376",
   "metadata": {},
   "outputs": [
    {
     "name": "stdout",
     "output_type": "stream",
     "text": [
      "two element of 'myiter'...\n",
      "a\n",
      "b\n",
      "other three element of 'myiter'...\n",
      "c\n",
      "d\n",
      "e\n",
      "other four element of 'myiter'...\n",
      "f\n",
      "g\n",
      "h\n"
     ]
    },
    {
     "ename": "StopIteration",
     "evalue": "",
     "output_type": "error",
     "traceback": [
      "\u001b[0;31m---------------------------------------------------------------------------\u001b[0m",
      "\u001b[0;31mStopIteration\u001b[0m                             Traceback (most recent call last)",
      "Cell \u001b[0;32mIn[43], line 14\u001b[0m\n\u001b[1;32m     12\u001b[0m \u001b[39mprint\u001b[39m(\u001b[39m\"\u001b[39m\u001b[39mother four element of \u001b[39m\u001b[39m'\u001b[39m\u001b[39mmyiter\u001b[39m\u001b[39m'\u001b[39m\u001b[39m...\u001b[39m\u001b[39m\"\u001b[39m)\n\u001b[1;32m     13\u001b[0m \u001b[39mfor\u001b[39;00m _ \u001b[39min\u001b[39;00m \u001b[39mrange\u001b[39m(\u001b[39m4\u001b[39m):\n\u001b[0;32m---> 14\u001b[0m     \u001b[39mprint\u001b[39m(\u001b[39mnext\u001b[39;49m(myiter))\n",
      "\u001b[0;31mStopIteration\u001b[0m: "
     ]
    }
   ],
   "source": [
    "text ='abcdefgh'\n",
    "# myiter = iter(text)\n",
    "myiter = text.__iter__()\n",
    "print(\"two element of 'myiter'...\")\n",
    "for _ in range(2):\n",
    "    print(next(myiter))\n",
    "\n",
    "print(\"other three element of 'myiter'...\")\n",
    "for _ in range(3):\n",
    "    print(next(myiter))\n",
    "\n",
    "print(\"other four element of 'myiter'...\")\n",
    "for _ in range(4):\n",
    "    print(next(myiter))"
   ]
  },
  {
   "attachments": {},
   "cell_type": "markdown",
   "id": "b9aed032",
   "metadata": {},
   "source": [
    "---\n",
    "# `for` loop and iterators\n",
    "`for` loop automatically create an **iterator** from an **iterable** and handle the `StopIteration` error."
   ]
  },
  {
   "cell_type": "code",
   "execution_count": 42,
   "id": "e0ecc727-0d25-465f-8617-4dc9cab904ba",
   "metadata": {},
   "outputs": [
    {
     "name": "stdout",
     "output_type": "stream",
     "text": [
      "a b c d e f g h "
     ]
    }
   ],
   "source": [
    "# for loop implementation\n",
    "text ='abcdefgh'\n",
    "myiter = iter(text)\n",
    "while True:\n",
    "    try:\n",
    "        print(next(myiter), end=\" \")\n",
    "    except StopIteration:\n",
    "        break"
   ]
  },
  {
   "attachments": {},
   "cell_type": "markdown",
   "id": "6b62502e",
   "metadata": {},
   "source": [
    "---\n",
    "## Custom iterator with class (implement range() function)"
   ]
  },
  {
   "cell_type": "code",
   "execution_count": 32,
   "id": "95c48ff1-6c1b-42c8-9799-db909b159247",
   "metadata": {},
   "outputs": [],
   "source": [
    "class Counter:\n",
    "    def __init__(self, start=0, end=0, step=1):\n",
    "        self.start = start\n",
    "        self.end = end\n",
    "        self.step = step\n",
    "    \n",
    "    def __iter__(self):\n",
    "        self.n = self.start\n",
    "        return self\n",
    "        \n",
    "    def __next__(self):\n",
    "        if self.n <= self.end:\n",
    "            current = self.n\n",
    "            self.n += self.step\n",
    "            return current\n",
    "    "
   ]
  },
  {
   "cell_type": "code",
   "execution_count": 45,
   "id": "49e97ca5-f3eb-4144-9f1a-9506fddf07d0",
   "metadata": {},
   "outputs": [
    {
     "name": "stdout",
     "output_type": "stream",
     "text": [
      "0, 3, 6, 9, 12, 15, 18, "
     ]
    }
   ],
   "source": [
    "c = Counter(0,20, 3)\n",
    "c = iter(c)\n",
    "while True:\n",
    "    n = next(c)\n",
    "    if n == None:\n",
    "        break\n",
    "    else:\n",
    "        print(n, end=\", \")"
   ]
  }
 ],
 "metadata": {
  "kernelspec": {
   "display_name": "Python 3 (ipykernel)",
   "language": "python",
   "name": "python3"
  },
  "language_info": {
   "codemirror_mode": {
    "name": "ipython",
    "version": 3
   },
   "file_extension": ".py",
   "mimetype": "text/x-python",
   "name": "python",
   "nbconvert_exporter": "python",
   "pygments_lexer": "ipython3",
   "version": "3.9.16"
  }
 },
 "nbformat": 4,
 "nbformat_minor": 5
}
