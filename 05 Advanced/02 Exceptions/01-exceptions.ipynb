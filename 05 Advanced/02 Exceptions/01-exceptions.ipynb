{
 "cells": [
  {
   "attachments": {},
   "cell_type": "markdown",
   "id": "82d49a7f",
   "metadata": {},
   "source": [
    "## Exception and Assert\n",
    "---"
   ]
  },
  {
   "cell_type": "code",
   "execution_count": 6,
   "id": "47d27be6-8a7e-4521-a6f1-069f234a03cf",
   "metadata": {},
   "outputs": [
    {
     "ename": "Exception",
     "evalue": "less than 10",
     "output_type": "error",
     "traceback": [
      "\u001b[0;31m---------------------------------------------------------------------------\u001b[0m",
      "\u001b[0;31mException\u001b[0m                                 Traceback (most recent call last)",
      "Cell \u001b[0;32mIn[6], line 3\u001b[0m\n\u001b[1;32m      1\u001b[0m x \u001b[39m=\u001b[39m \u001b[39m9\u001b[39m\n\u001b[1;32m      2\u001b[0m \u001b[39mif\u001b[39;00m x \u001b[39m<\u001b[39m \u001b[39m10\u001b[39m:\n\u001b[0;32m----> 3\u001b[0m     \u001b[39mraise\u001b[39;00m \u001b[39mException\u001b[39;00m(\u001b[39m'\u001b[39m\u001b[39mless than 10\u001b[39m\u001b[39m'\u001b[39m)\n",
      "\u001b[0;31mException\u001b[0m: less than 10"
     ]
    }
   ],
   "source": [
    "x = 9\n",
    "if x < 10:\n",
    "    raise Exception('less than 10')"
   ]
  },
  {
   "cell_type": "code",
   "execution_count": 16,
   "id": "141b8c17-963f-4fb2-b9a9-9c8ca6e220ab",
   "metadata": {},
   "outputs": [
    {
     "ename": "AssertionError",
     "evalue": "x is less than 10",
     "output_type": "error",
     "traceback": [
      "\u001b[0;31m---------------------------------------------------------------------------\u001b[0m",
      "\u001b[0;31mAssertionError\u001b[0m                            Traceback (most recent call last)",
      "Cell \u001b[0;32mIn[16], line 2\u001b[0m\n\u001b[1;32m      1\u001b[0m x \u001b[38;5;241m=\u001b[39m \u001b[38;5;241m5\u001b[39m\n\u001b[0;32m----> 2\u001b[0m \u001b[38;5;28;01massert\u001b[39;00m x \u001b[38;5;241m==\u001b[39m \u001b[38;5;241m10\u001b[39m, \u001b[38;5;124m'\u001b[39m\u001b[38;5;124mx is less than 10\u001b[39m\u001b[38;5;124m'\u001b[39m\n",
      "\u001b[0;31mAssertionError\u001b[0m: x is less than 10"
     ]
    }
   ],
   "source": [
    "x = 5\n",
    "assert x == 10, 'x is less than 10'"
   ]
  },
  {
   "cell_type": "code",
   "execution_count": 1,
   "id": "6157d29d-6542-4b4f-b611-fe9660cb57e7",
   "metadata": {},
   "outputs": [
    {
     "ename": "AssertionError",
     "evalue": "your os is not linux",
     "output_type": "error",
     "traceback": [
      "\u001b[0;31m---------------------------------------------------------------------------\u001b[0m",
      "\u001b[0;31mAssertionError\u001b[0m                            Traceback (most recent call last)",
      "Cell \u001b[0;32mIn[1], line 3\u001b[0m\n\u001b[1;32m      1\u001b[0m \u001b[39mimport\u001b[39;00m \u001b[39msys\u001b[39;00m\n\u001b[1;32m      2\u001b[0m sys\u001b[39m.\u001b[39mplatform\n\u001b[0;32m----> 3\u001b[0m \u001b[39massert\u001b[39;00m sys\u001b[39m.\u001b[39mplatform \u001b[39m!=\u001b[39m \u001b[39m'\u001b[39m\u001b[39mlinux\u001b[39m\u001b[39m'\u001b[39m, \u001b[39m'\u001b[39m\u001b[39myour os is not linux\u001b[39m\u001b[39m'\u001b[39m\n",
      "\u001b[0;31mAssertionError\u001b[0m: your os is not linux"
     ]
    }
   ],
   "source": [
    "import sys\n",
    "sys.platform\n",
    "assert sys.platform != 'linux', 'your os is not linux'"
   ]
  },
  {
   "attachments": {},
   "cell_type": "markdown",
   "id": "f0234804-3095-40f8-ba21-dc898a64a5c1",
   "metadata": {},
   "source": [
    "## Error Handling\n",
    "---"
   ]
  },
  {
   "cell_type": "code",
   "execution_count": 1,
   "id": "cd1cd152-ffb7-4b06-8b29-e5f511ebaf82",
   "metadata": {},
   "outputs": [
    {
     "name": "stdout",
     "output_type": "stream",
     "text": [
      "10\n",
      "done!\n"
     ]
    }
   ],
   "source": [
    "# bare exception, it's not a best practice\n",
    "# Never use bare exception\n",
    "try:\n",
    "    integer_number = int(input(\"Enter an integer:\"))\n",
    "    print(integer_number)\n",
    "except:\n",
    "    f = open('data/log.txt' , 'w')\n",
    "    print('User enter a non-integer', file=f, flush=True )\n",
    "    print('User enter a non-integer')\n",
    "print('done!')"
   ]
  },
  {
   "cell_type": "code",
   "execution_count": 10,
   "id": "e420490a-3604-453b-9546-853aafb77a4d",
   "metadata": {},
   "outputs": [
    {
     "name": "stdout",
     "output_type": "stream",
     "text": [
      "Opening 'data/file.txt'...\n",
      "This is file.txt context.\n",
      "Reading 'data/file.txt' is Done.\n",
      "End program.\n"
     ]
    }
   ],
   "source": [
    "default_path = 'data/default.txt'\n",
    "file_path = 'data/file.txt'\n",
    "try:\n",
    "    with open(file_path) as f:\n",
    "        print(f\"Opening {file_path!r}...\")\n",
    "        print(f.read())\n",
    "except FileNotFoundError:\n",
    "    with open(default_path) as f:\n",
    "        print(f\"Opening {default_path!r}...\")\n",
    "        print(f.read())\n",
    "else:  #this block will execute only if the try block has been executed with no error.\n",
    "    print(f\"Reading {file_path!r} is Done.\")\n",
    "finally: #this block always executes.\n",
    "    print(\"End program.\")\n"
   ]
  },
  {
   "cell_type": "code",
   "execution_count": 14,
   "id": "0b2a8b82-d9d2-40a1-81e0-3efe0b038598",
   "metadata": {},
   "outputs": [
    {
     "name": "stdout",
     "output_type": "stream",
     "text": [
      " 2.25\n",
      " 2.67\n",
      " 3.50\n",
      " 6.00\n",
      "Error message is: division by zero\n",
      "-4.00\n",
      "-1.50\n",
      "-0.67\n",
      "-0.25\n",
      "-0.00\n",
      "done!\n"
     ]
    }
   ],
   "source": [
    "import time\n",
    "a = 10\n",
    "while a > 0:\n",
    "    try:\n",
    "        a -= 1\n",
    "        print(f\"{(a/(a-5)):5.2f}\")\n",
    "        time.sleep(1)\n",
    "        \n",
    "    except ZeroDivisionError as e:\n",
    "        print(f\"Error message is: {e}\")\n",
    "    continue\n",
    "    \n",
    "print('done!')"
   ]
  }
 ],
 "metadata": {
  "kernelspec": {
   "display_name": "Python 3 (ipykernel)",
   "language": "python",
   "name": "python3"
  },
  "language_info": {
   "codemirror_mode": {
    "name": "ipython",
    "version": 3
   },
   "file_extension": ".py",
   "mimetype": "text/x-python",
   "name": "python",
   "nbconvert_exporter": "python",
   "pygments_lexer": "ipython3",
   "version": "3.9.16"
  }
 },
 "nbformat": 4,
 "nbformat_minor": 5
}
