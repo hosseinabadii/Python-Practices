{
 "cells": [
  {
   "cell_type": "markdown",
   "metadata": {},
   "source": [
    "## Exception with a message:"
   ]
  },
  {
   "cell_type": "code",
   "execution_count": 4,
   "metadata": {},
   "outputs": [
    {
     "ename": "Exception",
     "evalue": "Your acount charge 1000 is not enough to buy 1500 amount!",
     "output_type": "error",
     "traceback": [
      "\u001b[0;31m---------------------------------------------------------------------------\u001b[0m",
      "\u001b[0;31mException\u001b[0m                                 Traceback (most recent call last)",
      "Cell \u001b[0;32mIn[4], line 10\u001b[0m\n\u001b[1;32m      7\u001b[0m         remaining \u001b[39m=\u001b[39m account_charge \u001b[39m-\u001b[39m cost\n\u001b[1;32m      8\u001b[0m         \u001b[39mreturn\u001b[39;00m remaining\n\u001b[0;32m---> 10\u001b[0m buy(\u001b[39m1500\u001b[39;49m)\n",
      "Cell \u001b[0;32mIn[4], line 5\u001b[0m, in \u001b[0;36mbuy\u001b[0;34m(cost)\u001b[0m\n\u001b[1;32m      3\u001b[0m \u001b[39mdef\u001b[39;00m \u001b[39mbuy\u001b[39m(cost: \u001b[39mint\u001b[39m):\n\u001b[1;32m      4\u001b[0m     \u001b[39mif\u001b[39;00m account_charge \u001b[39m<\u001b[39m cost:\n\u001b[0;32m----> 5\u001b[0m         \u001b[39mraise\u001b[39;00m \u001b[39mException\u001b[39;00m(\u001b[39mf\u001b[39m\u001b[39m\"\u001b[39m\u001b[39mYour acount charge \u001b[39m\u001b[39m{\u001b[39;00maccount_charge\u001b[39m}\u001b[39;00m\u001b[39m is not enough to buy \u001b[39m\u001b[39m{\u001b[39;00mcost\u001b[39m}\u001b[39;00m\u001b[39m amount!\u001b[39m\u001b[39m\"\u001b[39m)\n\u001b[1;32m      6\u001b[0m     \u001b[39melse\u001b[39;00m:\n\u001b[1;32m      7\u001b[0m         remaining \u001b[39m=\u001b[39m account_charge \u001b[39m-\u001b[39m cost\n",
      "\u001b[0;31mException\u001b[0m: Your acount charge 1000 is not enough to buy 1500 amount!"
     ]
    }
   ],
   "source": [
    "account_charge = 1000\n",
    "\n",
    "def buy(cost: int):\n",
    "    if account_charge < cost:\n",
    "        raise Exception(f\"Your acount charge {account_charge} is not enough to buy {cost} amount!\")\n",
    "    else:\n",
    "        remaining = account_charge - cost\n",
    "        return remaining\n",
    "    \n",
    "buy(1500)"
   ]
  },
  {
   "attachments": {},
   "cell_type": "markdown",
   "metadata": {},
   "source": [
    "---\n",
    "## Custom Exception with a message:"
   ]
  },
  {
   "cell_type": "code",
   "execution_count": 5,
   "metadata": {},
   "outputs": [
    {
     "ename": "NotEnoughCharge",
     "evalue": "Your acount charge 1000 is not enough to buy 1500 amount!",
     "output_type": "error",
     "traceback": [
      "\u001b[0;31m---------------------------------------------------------------------------\u001b[0m",
      "\u001b[0;31mNotEnoughCharge\u001b[0m                           Traceback (most recent call last)",
      "Cell \u001b[0;32mIn[5], line 13\u001b[0m\n\u001b[1;32m     10\u001b[0m         remaining \u001b[39m=\u001b[39m account_charge \u001b[39m-\u001b[39m cost\n\u001b[1;32m     11\u001b[0m         \u001b[39mreturn\u001b[39;00m remaining\n\u001b[0;32m---> 13\u001b[0m buy(\u001b[39m1500\u001b[39;49m)\n",
      "Cell \u001b[0;32mIn[5], line 8\u001b[0m, in \u001b[0;36mbuy\u001b[0;34m(cost)\u001b[0m\n\u001b[1;32m      6\u001b[0m \u001b[39mdef\u001b[39;00m \u001b[39mbuy\u001b[39m(cost: \u001b[39mint\u001b[39m):\n\u001b[1;32m      7\u001b[0m     \u001b[39mif\u001b[39;00m account_charge \u001b[39m<\u001b[39m cost:\n\u001b[0;32m----> 8\u001b[0m         \u001b[39mraise\u001b[39;00m NotEnoughCharge(\u001b[39mf\u001b[39m\u001b[39m\"\u001b[39m\u001b[39mYour acount charge \u001b[39m\u001b[39m{\u001b[39;00maccount_charge\u001b[39m}\u001b[39;00m\u001b[39m is not enough to buy \u001b[39m\u001b[39m{\u001b[39;00mcost\u001b[39m}\u001b[39;00m\u001b[39m amount!\u001b[39m\u001b[39m\"\u001b[39m)\n\u001b[1;32m      9\u001b[0m     \u001b[39melse\u001b[39;00m:\n\u001b[1;32m     10\u001b[0m         remaining \u001b[39m=\u001b[39m account_charge \u001b[39m-\u001b[39m cost\n",
      "\u001b[0;31mNotEnoughCharge\u001b[0m: Your acount charge 1000 is not enough to buy 1500 amount!"
     ]
    }
   ],
   "source": [
    "class NotEnoughCharge(Exception):\n",
    "    pass\n",
    "\n",
    "account_charge = 1000\n",
    "\n",
    "def buy(cost: int):\n",
    "    if account_charge < cost:\n",
    "        raise NotEnoughCharge(f\"Your acount charge {account_charge} is not enough to buy {cost} amount!\")\n",
    "    else:\n",
    "        remaining = account_charge - cost\n",
    "        return remaining\n",
    "    \n",
    "buy(1500)"
   ]
  },
  {
   "attachments": {},
   "cell_type": "markdown",
   "metadata": {},
   "source": [
    "---\n",
    "## Custom Exception with a \\_\\_init__:"
   ]
  },
  {
   "cell_type": "code",
   "execution_count": 10,
   "metadata": {},
   "outputs": [
    {
     "ename": "NotEnoughCharge",
     "evalue": "Your acount charge 1000 is not enough to buy 1500 amount!",
     "output_type": "error",
     "traceback": [
      "\u001b[0;31m---------------------------------------------------------------------------\u001b[0m",
      "\u001b[0;31mNotEnoughCharge\u001b[0m                           Traceback (most recent call last)",
      "Cell \u001b[0;32mIn[10], line 15\u001b[0m\n\u001b[1;32m     12\u001b[0m         remaining \u001b[39m=\u001b[39m account_charge \u001b[39m-\u001b[39m cost\n\u001b[1;32m     13\u001b[0m         \u001b[39mreturn\u001b[39;00m remaining\n\u001b[0;32m---> 15\u001b[0m buy(\u001b[39m1500\u001b[39;49m)\n",
      "Cell \u001b[0;32mIn[10], line 10\u001b[0m, in \u001b[0;36mbuy\u001b[0;34m(cost)\u001b[0m\n\u001b[1;32m      8\u001b[0m \u001b[39mdef\u001b[39;00m \u001b[39mbuy\u001b[39m(cost: \u001b[39mint\u001b[39m):\n\u001b[1;32m      9\u001b[0m     \u001b[39mif\u001b[39;00m account_charge \u001b[39m<\u001b[39m cost:\n\u001b[0;32m---> 10\u001b[0m         \u001b[39mraise\u001b[39;00m NotEnoughCharge(account_charge, cost)\n\u001b[1;32m     11\u001b[0m     \u001b[39melse\u001b[39;00m:\n\u001b[1;32m     12\u001b[0m         remaining \u001b[39m=\u001b[39m account_charge \u001b[39m-\u001b[39m cost\n",
      "\u001b[0;31mNotEnoughCharge\u001b[0m: Your acount charge 1000 is not enough to buy 1500 amount!"
     ]
    }
   ],
   "source": [
    "class NotEnoughCharge(Exception):\n",
    "    def __init__(self, account_charge, cost) -> None:\n",
    "        msg = f\"Your acount charge {account_charge} is not enough to buy {cost} amount!\"\n",
    "        super().__init__(msg)    \n",
    "\n",
    "account_charge = 1000\n",
    "\n",
    "def buy(cost: int):\n",
    "    if account_charge < cost:\n",
    "        raise NotEnoughCharge(account_charge, cost)\n",
    "    else:\n",
    "        remaining = account_charge - cost\n",
    "        return remaining\n",
    "    \n",
    "buy(1500)"
   ]
  },
  {
   "attachments": {},
   "cell_type": "markdown",
   "metadata": {},
   "source": [
    "---\n",
    "## Custom Exception with a \\_\\_init__ and \\_\\_str__:"
   ]
  },
  {
   "cell_type": "code",
   "execution_count": 12,
   "metadata": {},
   "outputs": [
    {
     "ename": "NotEnoughCharge",
     "evalue": "Your acount charge 1000 is not enough to buy 1500 amount!",
     "output_type": "error",
     "traceback": [
      "\u001b[0;31m---------------------------------------------------------------------------\u001b[0m",
      "\u001b[0;31mNotEnoughCharge\u001b[0m                           Traceback (most recent call last)",
      "Cell \u001b[0;32mIn[12], line 18\u001b[0m\n\u001b[1;32m     15\u001b[0m         remaining \u001b[39m=\u001b[39m account_charge \u001b[39m-\u001b[39m cost\n\u001b[1;32m     16\u001b[0m         \u001b[39mreturn\u001b[39;00m remaining\n\u001b[0;32m---> 18\u001b[0m buy(\u001b[39m1500\u001b[39;49m)\n",
      "Cell \u001b[0;32mIn[12], line 13\u001b[0m, in \u001b[0;36mbuy\u001b[0;34m(cost)\u001b[0m\n\u001b[1;32m     11\u001b[0m \u001b[39mdef\u001b[39;00m \u001b[39mbuy\u001b[39m(cost: \u001b[39mint\u001b[39m):\n\u001b[1;32m     12\u001b[0m     \u001b[39mif\u001b[39;00m account_charge \u001b[39m<\u001b[39m cost:\n\u001b[0;32m---> 13\u001b[0m         \u001b[39mraise\u001b[39;00m NotEnoughCharge(account_charge, cost)\n\u001b[1;32m     14\u001b[0m     \u001b[39melse\u001b[39;00m:\n\u001b[1;32m     15\u001b[0m         remaining \u001b[39m=\u001b[39m account_charge \u001b[39m-\u001b[39m cost\n",
      "\u001b[0;31mNotEnoughCharge\u001b[0m: Your acount charge 1000 is not enough to buy 1500 amount!"
     ]
    }
   ],
   "source": [
    "class NotEnoughCharge(Exception):\n",
    "    def __init__(self, account_charge, cost) -> None:\n",
    "        self.account_charge = account_charge\n",
    "        self.cost = cost\n",
    "\n",
    "    def __str__(self):\n",
    "        return f\"Your acount charge {self.account_charge} is not enough to buy {self.cost} amount!\" \n",
    "\n",
    "account_charge = 1000\n",
    "\n",
    "def buy(cost: int):\n",
    "    if account_charge < cost:\n",
    "        raise NotEnoughCharge(account_charge, cost)\n",
    "    else:\n",
    "        remaining = account_charge - cost\n",
    "        return remaining\n",
    "    \n",
    "buy(1500)"
   ]
  }
 ],
 "metadata": {
  "kernelspec": {
   "display_name": "tamrin",
   "language": "python",
   "name": "python3"
  },
  "language_info": {
   "codemirror_mode": {
    "name": "ipython",
    "version": 3
   },
   "file_extension": ".py",
   "mimetype": "text/x-python",
   "name": "python",
   "nbconvert_exporter": "python",
   "pygments_lexer": "ipython3",
   "version": "3.9.16"
  },
  "orig_nbformat": 4
 },
 "nbformat": 4,
 "nbformat_minor": 2
}
