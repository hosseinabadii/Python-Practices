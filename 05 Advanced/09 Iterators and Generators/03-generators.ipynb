{
 "cells": [
  {
   "attachments": {},
   "cell_type": "markdown",
   "id": "3cfdf3c8",
   "metadata": {},
   "source": [
    "## Custom generator using `yield` statement"
   ]
  },
  {
   "cell_type": "code",
   "execution_count": 12,
   "id": "4527c635-62f1-435c-aed1-431b57ff16e6",
   "metadata": {},
   "outputs": [],
   "source": [
    "mylist = [10, 20, 30]\n",
    "def my_gen(mylist):\n",
    "    for item in mylist:\n",
    "        yield item **2\n"
   ]
  },
  {
   "cell_type": "code",
   "execution_count": 26,
   "id": "62594353-c1e1-450f-b6bc-7884bb5b4baf",
   "metadata": {},
   "outputs": [
    {
     "name": "stdout",
     "output_type": "stream",
     "text": [
      "<generator object my_gen at 0x7f6219f154a0>\n",
      "100, 400, 900, "
     ]
    }
   ],
   "source": [
    "gen = my_gen(mylist)\n",
    "print(gen)\n",
    "for _ in range(3):\n",
    "    print(next(gen), end=\", \")"
   ]
  },
  {
   "cell_type": "code",
   "execution_count": 14,
   "id": "81d6dd9a-7526-46d1-b80d-5344b4271b43",
   "metadata": {},
   "outputs": [],
   "source": [
    "def infinite_sequence():\n",
    "    num = 0\n",
    "    while True:\n",
    "        num +=1\n",
    "        yield num"
   ]
  },
  {
   "cell_type": "code",
   "execution_count": 29,
   "id": "3520ff0d-dabe-4aa5-9171-af690f76c755",
   "metadata": {},
   "outputs": [
    {
     "name": "stdout",
     "output_type": "stream",
     "text": [
      "<generator object infinite_sequence at 0x7f6219f15c80>\n",
      "1, 2, 3, 4, 5, 6, 7, 8, 9, 10, 11, 12, 13, 14, 15, 16, 17, 18, 19, 20, "
     ]
    }
   ],
   "source": [
    "gen = infinite_sequence()\n",
    "print(gen)\n",
    "for _ in range(20):  # never raise StopIteration\n",
    "    print(next(gen), end=\", \")"
   ]
  },
  {
   "attachments": {},
   "cell_type": "markdown",
   "metadata": {},
   "source": [
    "---\n",
    "## Using multiple `yield` statement"
   ]
  },
  {
   "cell_type": "code",
   "execution_count": 43,
   "id": "17df1fdb",
   "metadata": {},
   "outputs": [],
   "source": [
    "def multi_yield(x):\n",
    "    yield x * 2\n",
    "    yield x * 3\n",
    "    yield x * 4\n",
    "    yield x * 5"
   ]
  },
  {
   "cell_type": "code",
   "execution_count": 42,
   "id": "e0e648af",
   "metadata": {},
   "outputs": [
    {
     "name": "stdout",
     "output_type": "stream",
     "text": [
      "<generator object multi_yield at 0x7f62193d6820>\n",
      "200, 300, 400, 500, "
     ]
    },
    {
     "ename": "StopIteration",
     "evalue": "",
     "output_type": "error",
     "traceback": [
      "\u001b[0;31m---------------------------------------------------------------------------\u001b[0m",
      "\u001b[0;31mStopIteration\u001b[0m                             Traceback (most recent call last)",
      "Cell \u001b[0;32mIn[42], line 4\u001b[0m\n\u001b[1;32m      2\u001b[0m \u001b[39mprint\u001b[39m(gen)\n\u001b[1;32m      3\u001b[0m \u001b[39mfor\u001b[39;00m _ \u001b[39min\u001b[39;00m \u001b[39mrange\u001b[39m(\u001b[39m5\u001b[39m):\n\u001b[0;32m----> 4\u001b[0m     \u001b[39mprint\u001b[39m(\u001b[39mnext\u001b[39;49m(gen), end\u001b[39m=\u001b[39m\u001b[39m\"\u001b[39m\u001b[39m, \u001b[39m\u001b[39m\"\u001b[39m)\n",
      "\u001b[0;31mStopIteration\u001b[0m: "
     ]
    }
   ],
   "source": [
    "gen = multi_yield(100)\n",
    "print(gen)\n",
    "for _ in range(5):\n",
    "    print(next(gen), end=\", \")"
   ]
  },
  {
   "attachments": {},
   "cell_type": "markdown",
   "id": "7962c063",
   "metadata": {},
   "source": [
    "---\n",
    "## Using generator expressions"
   ]
  },
  {
   "cell_type": "code",
   "execution_count": 44,
   "id": "1dd52394",
   "metadata": {},
   "outputs": [
    {
     "name": "stdout",
     "output_type": "stream",
     "text": [
      "<generator object <genexpr> at 0x7f62193d6350>\n",
      "0, 1, 4, 9, 16, 25, 36, 49, 64, 81, "
     ]
    }
   ],
   "source": [
    "gen = (num ** 2 for num in range(10))\n",
    "print(gen)\n",
    "for _ in range(10):\n",
    "    print(next(gen), end=\", \")"
   ]
  }
 ],
 "metadata": {
  "kernelspec": {
   "display_name": "Python 3 (ipykernel)",
   "language": "python",
   "name": "python3"
  },
  "language_info": {
   "codemirror_mode": {
    "name": "ipython",
    "version": 3
   },
   "file_extension": ".py",
   "mimetype": "text/x-python",
   "name": "python",
   "nbconvert_exporter": "python",
   "pygments_lexer": "ipython3",
   "version": "3.9.16"
  }
 },
 "nbformat": 4,
 "nbformat_minor": 5
}
