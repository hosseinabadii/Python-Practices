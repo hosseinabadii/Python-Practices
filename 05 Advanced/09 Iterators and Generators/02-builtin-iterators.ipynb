{
 "cells": [
  {
   "attachments": {},
   "cell_type": "markdown",
   "id": "fc772295",
   "metadata": {},
   "source": [
    "# Built-in functions that return iterator:\n",
    "- `zip()`\n",
    "- `map()`\n",
    "- `filter()`\n",
    "- `reversed()`\n",
    "- `enumerate()`"
   ]
  },
  {
   "attachments": {},
   "cell_type": "markdown",
   "id": "f02c7dd9",
   "metadata": {},
   "source": [
    "---\n",
    "## `zip()`"
   ]
  },
  {
   "cell_type": "code",
   "execution_count": 44,
   "id": "cf6f5750-9b7b-40ea-92b5-01f7522e4fa9",
   "metadata": {},
   "outputs": [
    {
     "name": "stdout",
     "output_type": "stream",
     "text": [
      "<zip object at 0x7f82950bf780>\n",
      "('a', 1)\n",
      "('b', 2)\n",
      "('c', 3)\n"
     ]
    }
   ],
   "source": [
    "zip_gen = zip(['a', 'b', 'c'],[1, 2, 3])\n",
    "print(zip_gen)\n",
    "for _ in range(3):\n",
    "    print(next(zip_gen))"
   ]
  },
  {
   "attachments": {},
   "cell_type": "markdown",
   "id": "e208d06e",
   "metadata": {},
   "source": [
    "---\n",
    "## `map()`"
   ]
  },
  {
   "cell_type": "code",
   "execution_count": 42,
   "id": "422d4533-539d-4bb5-b203-063f3a2588d0",
   "metadata": {},
   "outputs": [
    {
     "name": "stdout",
     "output_type": "stream",
     "text": [
      "<map object at 0x7f82a44bd130>\n",
      "100, 400, 900, "
     ]
    }
   ],
   "source": [
    "map_gen = map(lambda a: a*a, [10, 20, 30])\n",
    "print(map_gen)\n",
    "for _ in range(3):\n",
    "    print(next(map_gen), end=\", \")"
   ]
  },
  {
   "attachments": {},
   "cell_type": "markdown",
   "id": "0af4f159",
   "metadata": {},
   "source": [
    "---\n",
    "## `filter()`"
   ]
  },
  {
   "cell_type": "code",
   "execution_count": 3,
   "id": "14d443a6-2e09-4d99-89c0-ce43c7958fda",
   "metadata": {},
   "outputs": [
    {
     "name": "stdout",
     "output_type": "stream",
     "text": [
      "<filter object at 0x7f0b75eb2100>\n",
      "30, 60, "
     ]
    }
   ],
   "source": [
    "iterable = (10, 20, 30, 40, 50, 60)\n",
    "filter_gen = filter(lambda item: item % 3 == 0, iterable)\n",
    "print(filter_gen)\n",
    "for _ in range(2):\n",
    "    print(next(filter_gen), end=\", \")"
   ]
  },
  {
   "cell_type": "markdown",
   "id": "0eee2e5e",
   "metadata": {},
   "source": [
    "---\n",
    "## `reversed()`"
   ]
  },
  {
   "cell_type": "code",
   "execution_count": 4,
   "id": "e0978470",
   "metadata": {},
   "outputs": [
    {
     "name": "stdout",
     "output_type": "stream",
     "text": [
      "<reversed object at 0x7f0b75e3d6d0>\n",
      "60, 50, 40, 30, 20, 10, "
     ]
    }
   ],
   "source": [
    "iterable = (10, 20, 30, 40, 50, 60)\n",
    "reversed_gen = reversed(iterable)\n",
    "print(reversed_gen)\n",
    "for _ in range(6):\n",
    "    print(next(reversed_gen), end=\", \")"
   ]
  },
  {
   "attachments": {},
   "cell_type": "markdown",
   "id": "b99c07b0",
   "metadata": {},
   "source": [
    "---\n",
    "## `enumerate()`"
   ]
  },
  {
   "cell_type": "code",
   "execution_count": 8,
   "id": "25d6e1af",
   "metadata": {},
   "outputs": [
    {
     "name": "stdout",
     "output_type": "stream",
     "text": [
      "<enumerate object at 0x7f0b75ff3140>\n",
      "(100, 10), (101, 20), (102, 30), (103, 40), (104, 50), (105, 60), "
     ]
    }
   ],
   "source": [
    "iterable = (10, 20, 30, 40, 50, 60)\n",
    "enumerate_gen = enumerate(iterable, start=100)\n",
    "print(enumerate_gen)\n",
    "for _ in range(6):\n",
    "    print(next(enumerate_gen), end=\", \")"
   ]
  },
  {
   "attachments": {},
   "cell_type": "markdown",
   "id": "925850da",
   "metadata": {},
   "source": [
    "---\n",
    "## `range()` \n",
    "It returns an iterable not an iterator."
   ]
  },
  {
   "cell_type": "code",
   "execution_count": null,
   "id": "ad50c18f",
   "metadata": {},
   "outputs": [
    {
     "name": "stdout",
     "output_type": "stream",
     "text": [
      "range(0, 3)\n"
     ]
    },
    {
     "ename": "TypeError",
     "evalue": "'range' object is not an iterator",
     "output_type": "error",
     "traceback": [
      "\u001b[0;31m---------------------------------------------------------------------------\u001b[0m\n",
      "\u001b[0;31mTypeError\u001b[0m                                 Traceback (most recent call last)\n",
      "Cell \u001b[0;32mIn[14], line 3\u001b[0m\n",
      "\u001b[1;32m      1\u001b[0m range_gen \u001b[39m=\u001b[39m \u001b[39mrange\u001b[39m(\u001b[39m3\u001b[39m)\n",
      "\u001b[1;32m      2\u001b[0m \u001b[39mprint\u001b[39m(range_gen)\n",
      "\u001b[0;32m----> 3\u001b[0m \u001b[39mprint\u001b[39m(\u001b[39mnext\u001b[39;49m(range_gen))\n",
      "\n",
      "\u001b[0;31mTypeError\u001b[0m: 'range' object is not an iterator"
     ]
    }
   ],
   "source": [
    "range_gen = range(3)\n",
    "print(range_gen)\n",
    "print(next(range_gen))"
   ]
  },
  {
   "cell_type": "code",
   "execution_count": null,
   "id": "337ca6e9",
   "metadata": {},
   "outputs": [
    {
     "name": "stdout",
     "output_type": "stream",
     "text": [
      "range object  : range(0, 3)\n",
      "range iterator: <range_iterator object at 0x7f82a4519810>\n",
      "0, 1, 2, "
     ]
    }
   ],
   "source": [
    "range_object = range(3)\n",
    "print(f\"range object  : {range_object}\")\n",
    "range_gen = iter(range_object)\n",
    "print(f\"range iterator: {range_gen}\")\n",
    "for _ in range(3):\n",
    "    print(next(range_gen), end=\", \")"
   ]
  }
 ],
 "metadata": {
  "kernelspec": {
   "display_name": "Python 3 (ipykernel)",
   "language": "python",
   "name": "python3"
  },
  "language_info": {
   "codemirror_mode": {
    "name": "ipython",
    "version": 3
   },
   "file_extension": ".py",
   "mimetype": "text/x-python",
   "name": "python",
   "nbconvert_exporter": "python",
   "pygments_lexer": "ipython3",
   "version": "3.9.16"
  }
 },
 "nbformat": 4,
 "nbformat_minor": 5
}
