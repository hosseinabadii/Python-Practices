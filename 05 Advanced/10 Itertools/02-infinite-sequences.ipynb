{
 "cells": [
  {
   "cell_type": "code",
   "execution_count": 2,
   "id": "c2c8b734-9b0d-4cdc-89a5-0bd17638afcd",
   "metadata": {},
   "outputs": [],
   "source": [
    "import itertools as it"
   ]
  },
  {
   "attachments": {},
   "cell_type": "markdown",
   "id": "d5759952-0727-49ad-b36b-4da44435376b",
   "metadata": {},
   "source": [
    "# Infinite Sequences\n",
    "- `it.count(start=0, step=1)`\n",
    "- `it.repeat(object [,times])`\n",
    "- `it.cycle(iterable)`\n",
    "- `it.accumulate(iterable [, func])`"
   ]
  },
  {
   "attachments": {},
   "cell_type": "markdown",
   "id": "b9aa4b8e-869f-4675-aa94-9d1b9f0d258a",
   "metadata": {},
   "source": [
    "---\n",
    "## `it.count()`"
   ]
  },
  {
   "cell_type": "code",
   "execution_count": 7,
   "id": "4df30e6a-9644-4e28-8880-6bad149160a4",
   "metadata": {},
   "outputs": [
    {
     "data": {
      "text/plain": [
       "[0, 1, 2, 3, 4]"
      ]
     },
     "execution_count": 7,
     "metadata": {},
     "output_type": "execute_result"
    }
   ],
   "source": [
    "counter = it.count()\n",
    "list(next(counter) for _ in range(5))"
   ]
  },
  {
   "cell_type": "code",
   "execution_count": 8,
   "id": "16a93e3a-acc0-40b8-b74e-3544b2a14fd0",
   "metadata": {},
   "outputs": [
    {
     "data": {
      "text/plain": [
       "[0, 2, 4, 6, 8]"
      ]
     },
     "execution_count": 8,
     "metadata": {},
     "output_type": "execute_result"
    }
   ],
   "source": [
    "evens = it.count(step=2)\n",
    "list(next(evens) for _ in range(5))"
   ]
  },
  {
   "cell_type": "code",
   "execution_count": 9,
   "id": "33218264-c47c-41f2-ba8d-aeeb49de05df",
   "metadata": {},
   "outputs": [
    {
     "data": {
      "text/plain": [
       "[1, 3, 5, 7, 9]"
      ]
     },
     "execution_count": 9,
     "metadata": {},
     "output_type": "execute_result"
    }
   ],
   "source": [
    "odds = it.count(start=1, step=2)\n",
    "list(next(odds) for _ in range(5))"
   ]
  },
  {
   "cell_type": "code",
   "execution_count": 10,
   "id": "d5f2538b-447e-4d07-9407-8d9c98f60cf1",
   "metadata": {},
   "outputs": [
    {
     "data": {
      "text/plain": [
       "[0.5, 1.25, 2.0, 2.75, 3.5]"
      ]
     },
     "execution_count": 10,
     "metadata": {},
     "output_type": "execute_result"
    }
   ],
   "source": [
    "count_with_floats = it.count(start=0.5, step=0.75)\n",
    "list(next(count_with_floats) for _ in range(5))"
   ]
  },
  {
   "cell_type": "code",
   "execution_count": 6,
   "id": "7b703f9c-9876-4254-afc7-bef09063ec6e",
   "metadata": {},
   "outputs": [
    {
     "data": {
      "text/plain": [
       "[-1, -1.5, -2.0, -2.5, -3.0]"
      ]
     },
     "execution_count": 6,
     "metadata": {},
     "output_type": "execute_result"
    }
   ],
   "source": [
    "negative_count = it.count(start=-1, step=-0.5)\n",
    "list(next(negative_count) for _ in range(5))"
   ]
  },
  {
   "cell_type": "code",
   "execution_count": 28,
   "id": "3ced5e47-1d0d-4053-9908-d3ed52088126",
   "metadata": {},
   "outputs": [
    {
     "data": {
      "text/plain": [
       "[(100, 'a'), (101, 'b'), (102, 'c')]"
      ]
     },
     "execution_count": 28,
     "metadata": {},
     "output_type": "execute_result"
    }
   ],
   "source": [
    "list(zip(it.count(start=100), ['a', 'b', 'c']))"
   ]
  },
  {
   "cell_type": "code",
   "execution_count": 29,
   "id": "f6d54fce",
   "metadata": {},
   "outputs": [
    {
     "data": {
      "text/plain": [
       "[(100, 'a'), (101, 'b'), (102, 'c')]"
      ]
     },
     "execution_count": 29,
     "metadata": {},
     "output_type": "execute_result"
    }
   ],
   "source": [
    "list(enumerate(['a', 'b', 'c'], start=100))"
   ]
  },
  {
   "attachments": {},
   "cell_type": "markdown",
   "id": "74013b64-0806-405f-aeca-1c69caf6c757",
   "metadata": {},
   "source": [
    "---\n",
    "## `it.repeat()`"
   ]
  },
  {
   "cell_type": "code",
   "execution_count": 15,
   "id": "af80bc03-8f2e-45ca-8fcd-115082a0cbb6",
   "metadata": {},
   "outputs": [
    {
     "data": {
      "text/plain": [
       "[10, 10, 10, 10, 10]"
      ]
     },
     "execution_count": 15,
     "metadata": {},
     "output_type": "execute_result"
    }
   ],
   "source": [
    "list(next(it.repeat(10)) for _ in range(5))"
   ]
  },
  {
   "cell_type": "code",
   "execution_count": 30,
   "id": "e3c91c6a-15b5-4d6f-b4e6-96c8882284d3",
   "metadata": {},
   "outputs": [
    {
     "data": {
      "text/plain": [
       "[10, 10, 10, 10, 10]"
      ]
     },
     "execution_count": 30,
     "metadata": {},
     "output_type": "execute_result"
    }
   ],
   "source": [
    "list(it.repeat(10, times=5))"
   ]
  },
  {
   "attachments": {},
   "cell_type": "markdown",
   "id": "a6588f3e-c67e-48d8-a481-fa9725c28d47",
   "metadata": {},
   "source": [
    "---\n",
    "## `it.cycle()`"
   ]
  },
  {
   "cell_type": "code",
   "execution_count": 7,
   "id": "969a298b-8746-4fd3-803e-837143465fe5",
   "metadata": {},
   "outputs": [
    {
     "data": {
      "text/plain": [
       "[10, 20, 30, 10, 20, 30, 10, 20, 30, 10]"
      ]
     },
     "execution_count": 7,
     "metadata": {},
     "output_type": "execute_result"
    }
   ],
   "source": [
    "g = it.cycle([10, 20, 30])\n",
    "list(next(g) for _ in range(10))"
   ]
  },
  {
   "attachments": {},
   "cell_type": "markdown",
   "id": "3565d002-c922-4e60-8fd2-308f007e0a7a",
   "metadata": {},
   "source": [
    "---\n",
    "## `it.accumulate()`"
   ]
  },
  {
   "cell_type": "code",
   "execution_count": 3,
   "id": "862a173c-760d-4722-be3f-8095b1339eec",
   "metadata": {},
   "outputs": [
    {
     "data": {
      "text/plain": [
       "[1, 3, 6, 10, 15]"
      ]
     },
     "execution_count": 3,
     "metadata": {},
     "output_type": "execute_result"
    }
   ],
   "source": [
    "list(it.accumulate([1, 2, 3, 4, 5]))  #default function = sum"
   ]
  },
  {
   "cell_type": "code",
   "execution_count": 10,
   "id": "05a96448-b7b6-46b6-a078-075ab2ce6e71",
   "metadata": {},
   "outputs": [
    {
     "data": {
      "text/plain": [
       "[9, 9, 9, 5, 5, 5, 2, 2]"
      ]
     },
     "execution_count": 10,
     "metadata": {},
     "output_type": "execute_result"
    }
   ],
   "source": [
    "list(it.accumulate([9, 21, 17, 5, 11, 12, 2, 6], min))"
   ]
  },
  {
   "cell_type": "code",
   "execution_count": 7,
   "id": "e518d0b8",
   "metadata": {},
   "outputs": [
    {
     "data": {
      "text/plain": [
       "[9, 21, 21, 21, 21, 21, 21, 21]"
      ]
     },
     "execution_count": 7,
     "metadata": {},
     "output_type": "execute_result"
    }
   ],
   "source": [
    "list(it.accumulate([9, 21, 17, 5, 11, 12, 2, 6], max))"
   ]
  },
  {
   "cell_type": "code",
   "execution_count": 8,
   "id": "01b134ab-860b-41de-bc5d-bc40c634fb1f",
   "metadata": {},
   "outputs": [
    {
     "data": {
      "text/plain": [
       "[1, 1.5, 2.25, 3.125, 4.0625]"
      ]
     },
     "execution_count": 8,
     "metadata": {},
     "output_type": "execute_result"
    }
   ],
   "source": [
    "list(it.accumulate([1, 2, 3, 4, 5], lambda x, y: (x + y) / 2))"
   ]
  },
  {
   "cell_type": "code",
   "execution_count": 5,
   "id": "65031af4",
   "metadata": {},
   "outputs": [
    {
     "data": {
      "text/plain": [
       "[1, -0.5, -1.75, -2.875, -3.9375]"
      ]
     },
     "execution_count": 5,
     "metadata": {},
     "output_type": "execute_result"
    }
   ],
   "source": [
    "list(it.accumulate([1, 2, 3, 4, 5], lambda x, y: (x - y) / 2))"
   ]
  },
  {
   "attachments": {},
   "cell_type": "markdown",
   "id": "83e34e0d-55c1-43a4-8f06-6d09af00c5d8",
   "metadata": {},
   "source": [
    "---\n",
    "## First Order Recurrence Relation:"
   ]
  },
  {
   "cell_type": "code",
   "execution_count": 13,
   "id": "56be4d8d-c0fb-429d-a6f3-adbb0d757378",
   "metadata": {},
   "outputs": [],
   "source": [
    "def first_order(p, q, initial_val):\n",
    "    \"\"\"Return sequence defined by s(n) = p * s(n-1) + q.\"\"\"\n",
    "    return it.accumulate(it.repeat(initial_val), lambda s, _: p*s + q)\n",
    "# it.count()\n",
    "# it.repeat()\n",
    "# it.cycle()"
   ]
  },
  {
   "cell_type": "code",
   "execution_count": 18,
   "id": "b8f786ab-7e3e-41d3-86c4-2e61e3c6532d",
   "metadata": {},
   "outputs": [
    {
     "data": {
      "text/plain": [
       "[1, 3, 5, 7, 9, 11, 13, 15, 17, 19]"
      ]
     },
     "execution_count": 18,
     "metadata": {},
     "output_type": "execute_result"
    }
   ],
   "source": [
    "odds = first_order(p=1, q=2, initial_val=1)\n",
    "[next(odds) for _ in range(10)]"
   ]
  },
  {
   "cell_type": "code",
   "execution_count": 20,
   "id": "dcd79e7c-c0d7-4542-bea6-d196236d4a77",
   "metadata": {},
   "outputs": [
    {
     "data": {
      "text/plain": [
       "[0, 2, 4, 6, 8, 10, 12, 14, 16, 18]"
      ]
     },
     "execution_count": 20,
     "metadata": {},
     "output_type": "execute_result"
    }
   ],
   "source": [
    "evens = first_order(p=1, q=2, initial_val=0)\n",
    "[next(evens) for _ in range(10)]"
   ]
  },
  {
   "cell_type": "code",
   "execution_count": 26,
   "id": "5b25f50e-8779-4c0d-9f26-ed7a6622784b",
   "metadata": {},
   "outputs": [
    {
     "data": {
      "text/plain": [
       "[0, 5, 10, 15, 20, 25, 30, 35, 40, 45]"
      ]
     },
     "execution_count": 26,
     "metadata": {},
     "output_type": "execute_result"
    }
   ],
   "source": [
    "multiple5 = first_order(p=1, q=5, initial_val=0)\n",
    "[next(multiple5) for _ in range(10)]"
   ]
  },
  {
   "cell_type": "code",
   "execution_count": 27,
   "id": "3346c511-7c7c-457b-a596-dc4fb5588498",
   "metadata": {},
   "outputs": [
    {
     "data": {
      "text/plain": [
       "[10, 10, 10, 10, 10, 10, 10, 10, 10, 10]"
      ]
     },
     "execution_count": 27,
     "metadata": {},
     "output_type": "execute_result"
    }
   ],
   "source": [
    "repeat10 = first_order(p=1, q=0, initial_val=10)\n",
    "[next(repeat10) for _ in range(10)]"
   ]
  },
  {
   "attachments": {},
   "cell_type": "markdown",
   "id": "1c012568-1683-471e-8116-54058571b291",
   "metadata": {},
   "source": [
    "---\n",
    "## Second Order Recurrence Relation:"
   ]
  },
  {
   "cell_type": "code",
   "execution_count": 30,
   "id": "4be8937b-02bd-4c8f-8c4c-3fd7fe5045d5",
   "metadata": {},
   "outputs": [],
   "source": [
    "def second_order(p, q, r, initial_values):\n",
    "    \"\"\"Return sequence defined by s(n) = p * s(n-1) + q * s(n-2) + r.\"\"\"\n",
    "    intermediate = it.accumulate(\n",
    "        it.repeat(initial_values),\n",
    "        lambda s, _: (s[1], p*s[1] + q*s[0] + r)\n",
    "    )\n",
    "    return map(lambda x: x[0], intermediate)"
   ]
  },
  {
   "cell_type": "code",
   "execution_count": 31,
   "id": "4fe015a5-e1fa-4c95-86b0-a63463de217d",
   "metadata": {},
   "outputs": [
    {
     "data": {
      "text/plain": [
       "[0, 1, 1, 2, 3, 5, 8, 13]"
      ]
     },
     "execution_count": 31,
     "metadata": {},
     "output_type": "execute_result"
    }
   ],
   "source": [
    "fibs = second_order(p=1, q=1, r=0, initial_values=(0, 1))\n",
    "list(next(fibs) for _ in range(8))"
   ]
  }
 ],
 "metadata": {
  "kernelspec": {
   "display_name": "Python 3 (ipykernel)",
   "language": "python",
   "name": "python3"
  },
  "language_info": {
   "codemirror_mode": {
    "name": "ipython",
    "version": 3
   },
   "file_extension": ".py",
   "mimetype": "text/x-python",
   "name": "python",
   "nbconvert_exporter": "python",
   "pygments_lexer": "ipython3",
   "version": "3.9.16"
  }
 },
 "nbformat": 4,
 "nbformat_minor": 5
}
