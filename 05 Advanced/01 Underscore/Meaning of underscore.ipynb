{
 "cells": [
  {
   "cell_type": "markdown",
   "id": "06e3b124-dc7b-4c5b-971c-2238e102de53",
   "metadata": {},
   "source": [
    "## Meaning of Underscore"
   ]
  },
  {
   "attachments": {},
   "cell_type": "markdown",
   "id": "69f89896-6bed-4500-8922-df3d4477bd0e",
   "metadata": {},
   "source": [
    "## #1 `_var`\n",
    "This is a **convention** for internal use **(private)**. Python doesn't force anything."
   ]
  },
  {
   "cell_type": "code",
   "execution_count": 2,
   "id": "a4005903",
   "metadata": {},
   "outputs": [
    {
     "name": "stdout",
     "output_type": "stream",
     "text": [
      "123456\n"
     ]
    }
   ],
   "source": [
    "class Student:\n",
    "    def __init__(self, password):\n",
    "        self._password = password\n",
    "\n",
    "st1 = Student(\"123456\")\n",
    "print(st1._password)"
   ]
  },
  {
   "cell_type": "markdown",
   "id": "ee77775c-5100-44c9-a22a-3ad2455b3414",
   "metadata": {},
   "source": [
    "---"
   ]
  },
  {
   "attachments": {},
   "cell_type": "markdown",
   "id": "338955c6-3aa1-4a9a-bcb0-e0ce5985979f",
   "metadata": {},
   "source": [
    "## #2 `var_`\n",
    "Reserved keywords ---> raise **SyntaxError**\n",
    "\n",
    "Built-in functions ---> lose the function"
   ]
  },
  {
   "cell_type": "code",
   "execution_count": 5,
   "id": "09da6de7-05a3-47a9-9820-e9f0b4652a31",
   "metadata": {},
   "outputs": [
    {
     "ename": "SyntaxError",
     "evalue": "invalid syntax (2312810098.py, line 1)",
     "output_type": "error",
     "traceback": [
      "\u001b[0;36m  File \u001b[0;32m\"/tmp/ipykernel_8571/2312810098.py\"\u001b[0;36m, line \u001b[0;32m1\u001b[0m\n\u001b[0;31m    class = 12\u001b[0m\n\u001b[0m          ^\u001b[0m\n\u001b[0;31mSyntaxError\u001b[0m\u001b[0;31m:\u001b[0m invalid syntax\n"
     ]
    }
   ],
   "source": [
    "class = 12 "
   ]
  },
  {
   "cell_type": "code",
   "execution_count": 6,
   "id": "d8f34092-5aa4-49d3-bdae-6b0846e561a6",
   "metadata": {},
   "outputs": [
    {
     "data": {
      "text/plain": [
       "12"
      ]
     },
     "execution_count": 6,
     "metadata": {},
     "output_type": "execute_result"
    }
   ],
   "source": [
    "class_ = 12\n",
    "class_"
   ]
  },
  {
   "cell_type": "code",
   "execution_count": 5,
   "id": "82c4166c-45d9-425f-ac82-bcf71d3a7b59",
   "metadata": {},
   "outputs": [
    {
     "ename": "TypeError",
     "evalue": "'int' object is not callable",
     "output_type": "error",
     "traceback": [
      "\u001b[0;31m---------------------------------------------------------------------------\u001b[0m",
      "\u001b[0;31mTypeError\u001b[0m                                 Traceback (most recent call last)",
      "Cell \u001b[0;32mIn[5], line 2\u001b[0m\n\u001b[1;32m      1\u001b[0m \u001b[39mlen\u001b[39m \u001b[39m=\u001b[39m \u001b[39m15\u001b[39m  \u001b[39m# you lose the functionality of \"len\" function.\u001b[39;00m\n\u001b[0;32m----> 2\u001b[0m \u001b[39mlen\u001b[39;49m(\u001b[39m'\u001b[39;49m\u001b[39mHome\u001b[39;49m\u001b[39m'\u001b[39;49m)\n",
      "\u001b[0;31mTypeError\u001b[0m: 'int' object is not callable"
     ]
    }
   ],
   "source": [
    "len = 15  # you lose the functionality of \"len\" function.\n",
    "len('Home')"
   ]
  },
  {
   "cell_type": "code",
   "execution_count": 4,
   "id": "be612366-1008-49d0-babd-c8489841c422",
   "metadata": {},
   "outputs": [
    {
     "name": "stdout",
     "output_type": "stream",
     "text": [
      "15\n"
     ]
    }
   ],
   "source": [
    "del len\n",
    "len('Home')\n",
    "len_ = 15\n",
    "print(len_)"
   ]
  },
  {
   "cell_type": "markdown",
   "id": "fda05266-f49a-4e7f-9ba3-331a8da29d3d",
   "metadata": {},
   "source": [
    "---"
   ]
  },
  {
   "attachments": {},
   "cell_type": "markdown",
   "id": "240390dd-8964-449c-ab40-bbdbe14d783e",
   "metadata": {},
   "source": [
    "## #3 `__var`\n",
    "Python does **name mangling**:\n",
    "- _classname__attributename\n",
    "- _classname__methodname"
   ]
  },
  {
   "cell_type": "code",
   "execution_count": 22,
   "id": "03ea33da-cc88-423a-9f15-024542b4a189",
   "metadata": {},
   "outputs": [],
   "source": [
    "class Hello:\n",
    "    def __init__(self):\n",
    "        self.__age = 15\n",
    "\n",
    "    def get_age(self):\n",
    "        return self.__age   # it works inside the class\n",
    "        \n",
    "        \n",
    "class Say(Hello):\n",
    "    def __init__(self):\n",
    "        super().__init__()\n",
    "        self.__age = 40\n",
    "\n",
    "    def get_age_v2(self):\n",
    "        return self.__age   # it works inside the class"
   ]
  },
  {
   "cell_type": "code",
   "execution_count": 23,
   "id": "6c523964-8374-4955-bbf8-f2ef96be9013",
   "metadata": {},
   "outputs": [],
   "source": [
    "a = Hello()\n",
    "b = Say()"
   ]
  },
  {
   "cell_type": "code",
   "execution_count": 24,
   "id": "d3c24d80-204b-4862-abd0-3cb23af03806",
   "metadata": {},
   "outputs": [
    {
     "name": "stdout",
     "output_type": "stream",
     "text": [
      "15\n",
      "15\n"
     ]
    }
   ],
   "source": [
    "# print(a.__age)        # raise AttributeError\n",
    "print(a._Hello__age)    # print the value\n",
    "print(a.get_age())"
   ]
  },
  {
   "cell_type": "code",
   "execution_count": 25,
   "id": "c9ab9c86-a909-4d0e-a1cb-6809897e8e7d",
   "metadata": {},
   "outputs": [
    {
     "name": "stdout",
     "output_type": "stream",
     "text": [
      "15\n",
      "40\n"
     ]
    }
   ],
   "source": [
    "print(b._Hello__age)\n",
    "print(b._Say__age)"
   ]
  },
  {
   "cell_type": "code",
   "execution_count": 26,
   "id": "02a290f5",
   "metadata": {},
   "outputs": [
    {
     "name": "stdout",
     "output_type": "stream",
     "text": [
      "15\n",
      "40\n"
     ]
    }
   ],
   "source": [
    "print(b.get_age())\n",
    "print(b.get_age_v2())"
   ]
  },
  {
   "cell_type": "markdown",
   "id": "1edb9422-9928-4a07-9278-64454a05384b",
   "metadata": {},
   "source": [
    "---"
   ]
  },
  {
   "cell_type": "markdown",
   "id": "efff8700-46a4-4cdd-afa8-f982d5080c28",
   "metadata": {},
   "source": [
    "## #4 `__var__`"
   ]
  },
  {
   "attachments": {},
   "cell_type": "markdown",
   "id": "06e0ba5f-648c-40c7-a250-fcaad0dbf5ca",
   "metadata": {},
   "source": [
    "Built-in Python variables or methods.\n",
    "\n",
    "Don't use it in your attributes and functions."
   ]
  },
  {
   "cell_type": "markdown",
   "id": "2953e34e-1742-4f6d-8b01-ba767232c1f4",
   "metadata": {},
   "source": [
    "---"
   ]
  },
  {
   "cell_type": "markdown",
   "id": "e4710030-0ee2-4b83-8e03-296026872b24",
   "metadata": {},
   "source": [
    "## #5 `_`"
   ]
  },
  {
   "cell_type": "markdown",
   "id": "f0482c3f-732a-45a3-af78-71d2ec26248c",
   "metadata": {},
   "source": [
    "temprary variables:"
   ]
  },
  {
   "cell_type": "code",
   "execution_count": 31,
   "id": "d7926bf7-255d-4fe1-8b38-38b298710d8d",
   "metadata": {},
   "outputs": [
    {
     "name": "stdout",
     "output_type": "stream",
     "text": [
      "x=10, y=60, _=50\n",
      "x=10, y=60, _=[20, 30, 40, 50]\n"
     ]
    }
   ],
   "source": [
    "x, _,_,_,_ ,y = (10, 20, 30, 40, 50, 60)\n",
    "print(f\"x={x}, y={y}, _={_}\")\n",
    "\n",
    "x, *_ ,y = (10, 20, 30, 40, 50, 60)\n",
    "print(f\"x={x}, y={y}, _={_}\")"
   ]
  },
  {
   "cell_type": "code",
   "execution_count": 34,
   "id": "152876f4",
   "metadata": {},
   "outputs": [
    {
     "name": "stdout",
     "output_type": "stream",
     "text": [
      "name=Ali\n",
      "name=Fateme\n"
     ]
    }
   ],
   "source": [
    "people = [\n",
    "    (\"Ali\", \"Razavi\"),\n",
    "    (\"Fateme\", \"Kianfar\"),\n",
    "]\n",
    "for name, _ in people:\n",
    "    print(f\"name={name}\")"
   ]
  },
  {
   "cell_type": "markdown",
   "id": "f35e971d-5cbb-4f8c-bfa2-e97e0b41d2f3",
   "metadata": {},
   "source": [
    "seprate the number:"
   ]
  },
  {
   "cell_type": "code",
   "execution_count": 51,
   "id": "7c84e5f7-9d1d-43cc-9762-1e12784cfa91",
   "metadata": {},
   "outputs": [
    {
     "data": {
      "text/plain": [
       "6037991712583699"
      ]
     },
     "execution_count": 51,
     "metadata": {},
     "output_type": "execute_result"
    }
   ],
   "source": [
    "a = 6037_9917_1258_3699\n",
    "a"
   ]
  }
 ],
 "metadata": {
  "kernelspec": {
   "display_name": "Python 3 (ipykernel)",
   "language": "python",
   "name": "python3"
  },
  "language_info": {
   "codemirror_mode": {
    "name": "ipython",
    "version": 3
   },
   "file_extension": ".py",
   "mimetype": "text/x-python",
   "name": "python",
   "nbconvert_exporter": "python",
   "pygments_lexer": "ipython3",
   "version": "3.9.16"
  }
 },
 "nbformat": 4,
 "nbformat_minor": 5
}
