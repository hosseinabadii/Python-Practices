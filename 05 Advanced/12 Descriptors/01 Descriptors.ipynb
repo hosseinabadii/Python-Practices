{
 "cells": [
  {
   "cell_type": "markdown",
   "id": "af70c5ad-b316-44cf-b3b5-bca777aac0e4",
   "metadata": {},
   "source": [
    "# Check attribute before setting"
   ]
  },
  {
   "cell_type": "code",
   "execution_count": 19,
   "id": "3507c00a-dc88-45e3-9598-d8cf847f1bb6",
   "metadata": {},
   "outputs": [],
   "source": [
    "class descriptor:\n",
    "    def __init__(self, initial=0):\n",
    "        self._var = initial\n",
    "        \n",
    "    def __get__(self, obj, owner):\n",
    "        print('Calling get...')\n",
    "        return self._var\n",
    "    \n",
    "    def __set__(self, obj, value):\n",
    "        print('Calling set...')\n",
    "        if value < 0:\n",
    "            raise ValueError('Fuel can not be negetive')\n",
    "        self._var = value\n",
    "#----------------------------------------\n",
    "class Car:\n",
    "    fuel = descriptor(10)   # Class attribute\n",
    "\n",
    "    def __init__(self, brand, fuel):\n",
    "        self.brand = brand\n",
    "        self.fuel = fuel\n",
    "        \n",
    "    def __repr__(self):\n",
    "        return f'{self.__class__.__name__}({self.brand},{self.fuel})'"
   ]
  },
  {
   "cell_type": "code",
   "execution_count": 21,
   "id": "bd8fb10c-cf23-445b-829a-dcb6ecb2557a",
   "metadata": {},
   "outputs": [
    {
     "name": "stdout",
     "output_type": "stream",
     "text": [
      "1. Instantiate an object: Calling set...\n",
      "\n",
      "2. Print the object: Calling get...\n",
      "Car(Benz,55)\n",
      "\n",
      "3. Print the descriptor attribute: Calling get...\n",
      "55\n",
      "\n",
      "4. Set the descriptor attribute: Calling set...\n",
      "\n",
      "5. Print the descriptor attribute: Calling get...\n",
      "255\n",
      "\n",
      "6. Set the descriptor attribute to negetive value: Calling set...\n"
     ]
    },
    {
     "ename": "ValueError",
     "evalue": "Fuel can not be negetive",
     "output_type": "error",
     "traceback": [
      "\u001b[0;31m---------------------------------------------------------------------------\u001b[0m",
      "\u001b[0;31mValueError\u001b[0m                                Traceback (most recent call last)",
      "Cell \u001b[0;32mIn[21], line 17\u001b[0m\n\u001b[1;32m     14\u001b[0m \u001b[39mprint\u001b[39m(car\u001b[39m.\u001b[39mfuel)\n\u001b[1;32m     16\u001b[0m \u001b[39mprint\u001b[39m(\u001b[39m\"\u001b[39m\u001b[39m\\n\u001b[39;00m\u001b[39m6. Set the descriptor attribute to negetive value: \u001b[39m\u001b[39m\"\u001b[39m, end\u001b[39m=\u001b[39m\u001b[39m\"\u001b[39m\u001b[39m\"\u001b[39m)\n\u001b[0;32m---> 17\u001b[0m car\u001b[39m.\u001b[39mfuel \u001b[39m=\u001b[39m \u001b[39m-\u001b[39m\u001b[39m100\u001b[39m\n",
      "Cell \u001b[0;32mIn[19], line 12\u001b[0m, in \u001b[0;36mdescriptor.__set__\u001b[0;34m(self, obj, value)\u001b[0m\n\u001b[1;32m     10\u001b[0m \u001b[39mprint\u001b[39m(\u001b[39m'\u001b[39m\u001b[39mCalling set...\u001b[39m\u001b[39m'\u001b[39m)\n\u001b[1;32m     11\u001b[0m \u001b[39mif\u001b[39;00m value \u001b[39m<\u001b[39m \u001b[39m0\u001b[39m:\n\u001b[0;32m---> 12\u001b[0m     \u001b[39mraise\u001b[39;00m \u001b[39mValueError\u001b[39;00m(\u001b[39m'\u001b[39m\u001b[39mFuel can not be negetive\u001b[39m\u001b[39m'\u001b[39m)\n\u001b[1;32m     13\u001b[0m \u001b[39mself\u001b[39m\u001b[39m.\u001b[39m_var \u001b[39m=\u001b[39m value\n",
      "\u001b[0;31mValueError\u001b[0m: Fuel can not be negetive"
     ]
    }
   ],
   "source": [
    "print(\"1. Instantiate an object: \", end=\"\")\n",
    "car = Car('Benz', 55)\n",
    "\n",
    "print(\"\\n2. Print the object: \", end=\"\")\n",
    "print(car)\n",
    "\n",
    "print(\"\\n3. Print the descriptor attribute: \", end=\"\")\n",
    "print(car.fuel)\n",
    "\n",
    "print(\"\\n4. Set the descriptor attribute: \", end=\"\")\n",
    "car.fuel = 255\n",
    "\n",
    "print(\"\\n5. Print the descriptor attribute: \", end=\"\")\n",
    "print(car.fuel)\n",
    "\n",
    "print(\"\\n6. Set the descriptor attribute to negetive value: \", end=\"\")\n",
    "car.fuel = -100"
   ]
  },
  {
   "attachments": {},
   "cell_type": "markdown",
   "id": "b2e2cbdf",
   "metadata": {},
   "source": [
    "---"
   ]
  },
  {
   "cell_type": "markdown",
   "id": "9b21f601-7dab-47d2-a603-b805186635a7",
   "metadata": {},
   "source": [
    "# Change attribute dynamicly"
   ]
  },
  {
   "cell_type": "code",
   "execution_count": 29,
   "id": "ac0726f9-b0a9-4577-8725-51ab5ed7a47f",
   "metadata": {},
   "outputs": [],
   "source": [
    "from pathlib import Path\n",
    "class DirectorySizeDescriptor:\n",
    "    def __get__(self, obj, owner):\n",
    "        return len(list(Path(obj.dirname).iterdir()))\n",
    "    \n",
    "\n",
    "class WithDescriptorDirectory:\n",
    "    size = DirectorySizeDescriptor()\n",
    "    def __init__(self, dirname):\n",
    "        self.dirname = dirname\n",
    "\n",
    "\n",
    "class NoDescriptorDirectory:\n",
    "    def __init__(self, dirname):\n",
    "        self.dirname = dirname\n",
    "        self.size = len(list(Path(dirname).iterdir()))"
   ]
  },
  {
   "cell_type": "code",
   "execution_count": 30,
   "id": "780e9aad-ade1-4f10-8549-e32bdfcbc88b",
   "metadata": {},
   "outputs": [
    {
     "name": "stdout",
     "output_type": "stream",
     "text": [
      "size before changing the dirname:\n",
      "dir1.size:  5\n",
      "dir2.size:  5\n",
      "size after changing the dirname:\n",
      "dir1.size: 16\n",
      "dir2.size: 5\n"
     ]
    }
   ],
   "source": [
    "dir1 = WithDescriptorDirectory(\".\")\n",
    "dir2 = NoDescriptorDirectory(\".\")\n",
    "print(\"size before changing the dirname:\")\n",
    "print(\"dir1.size: \", dir1.size)\n",
    "print(\"dir2.size: \", dir2.size)\n",
    "\n",
    "dir1.dirname = \"..\"\n",
    "dir2.dirname = \"..\"\n",
    "\n",
    "print(\"size after changing the dirname:\")\n",
    "print(\"dir1.size:\", dir1.size)\n",
    "print(\"dir2.size:\", dir2.size)"
   ]
  },
  {
   "cell_type": "markdown",
   "id": "f603157e-cad1-4774-831c-d7f85307faee",
   "metadata": {},
   "source": [
    "# Logging and set_name()"
   ]
  },
  {
   "cell_type": "code",
   "execution_count": 1,
   "id": "9f3d4061-053d-4afa-9cec-af6f417538c9",
   "metadata": {},
   "outputs": [
    {
     "name": "stdout",
     "output_type": "stream",
     "text": [
      "Setting public and private name to 'name' and '_name' in the __dict__ of object: {'public_name': 'name', 'private_name': '_name'}\n",
      "Now the attributes are stored in variables!\n",
      "Setting public and private name to 'age' and '_age' in the __dict__ of object: {'public_name': 'age', 'private_name': '_age'}\n",
      "Now the attributes are stored in variables!\n"
     ]
    }
   ],
   "source": [
    "import logging\n",
    "logging.basicConfig(filename=\"data/access.log\", filemode=\"w\", level=logging.INFO)\n",
    "\n",
    "class LoggedAccessDescriptor:\n",
    "    def __set_name__(self, owner, name):\n",
    "        self.public_name = name\n",
    "        self.private_name = '_' + name\n",
    "        print(\n",
    "            f\"Setting public and private name to {self.public_name!r} and {self.private_name!r} in the __dict__ of object: {self.__dict__}\"\n",
    "        )\n",
    "        print(\"Now the attributes are stored in variables!\")\n",
    "\n",
    "    def __get__(self, obj, owner):\n",
    "        value = getattr(obj, self.private_name)\n",
    "        logging.info(f\"Accessing '{self.public_name}' giving {value}\")\n",
    "        print(f\"Accessing '{self.public_name}' giving {value}\")\n",
    "        return value\n",
    "\n",
    "    def __set__(self, obj, value):\n",
    "        logging.info(f\"Updating '{self.public_name}' to {value}\")\n",
    "        print(f\"Updating '{self.public_name}' to {value}\")\n",
    "        setattr(obj, self.private_name, value)\n",
    "\n",
    "\n",
    "class Person:\n",
    "    name = LoggedAccessDescriptor()      # First descriptor instance  (class attribute)\n",
    "    age = LoggedAccessDescriptor()       # Second descriptor instance (class attribute)\n",
    "\n",
    "    def __init__(self, name, age):\n",
    "        self.name = name                 # Calls the first descriptor\n",
    "        self.age = age                   # Calls the second descriptor\n",
    "\n",
    "    def birthday(self):\n",
    "        self.age += 1"
   ]
  },
  {
   "cell_type": "code",
   "execution_count": 10,
   "id": "ab948fe8-f6a0-4331-81b6-649c2388abb9",
   "metadata": {},
   "outputs": [
    {
     "name": "stdout",
     "output_type": "stream",
     "text": [
      "Create an object:\n",
      "Updating 'name' to Ali\n",
      "Updating 'age' to 28\n",
      "\n",
      "Get the attribute:\n",
      "Accessing 'name' giving Ali\n",
      "Ali\n",
      "\n",
      "Use a method that uses __get__ and __set__:\n",
      "Accessing 'age' giving 28\n",
      "Updating 'age' to 29\n",
      "\n",
      "Checking the __dict__ of the object:\n",
      "{'_name': 'Ali', '_age': 29}\n",
      "\n",
      "Checking the __dict__ of the Class:\n",
      "{'__module__': '__main__', 'name': <__main__.LoggedAccessDescriptor object at 0x7ff324150820>, 'age': <__main__.LoggedAccessDescriptor object at 0x7ff324157d30>, '__init__': <function Person.__init__ at 0x7ff315fd9ee0>, 'birthday': <function Person.birthday at 0x7ff315ff6040>, '__dict__': <attribute '__dict__' of 'Person' objects>, '__weakref__': <attribute '__weakref__' of 'Person' objects>, '__doc__': None}\n"
     ]
    }
   ],
   "source": [
    "print(\"Create an object:\")\n",
    "p = Person('Ali', 28)\n",
    "print(\"\\nGet the attribute:\")\n",
    "print(p.name)\n",
    "print(\"\\nUse a method that uses __get__ and __set__:\")\n",
    "p.birthday()\n",
    "print(\"\\nChecking the __dict__ of the object:\")\n",
    "print(p.__dict__)\n",
    "print(\"\\nChecking the __dict__ of the Class:\")\n",
    "print(Person.__dict__)"
   ]
  },
  {
   "cell_type": "markdown",
   "id": "6a77dea5",
   "metadata": {},
   "source": [
    "---"
   ]
  },
  {
   "attachments": {},
   "cell_type": "markdown",
   "id": "4c196501-2cbb-447e-9632-271379bb6127",
   "metadata": {},
   "source": [
    "## `getattr()` and `setattr()`\n",
    "This functions are useful when the attribute name of the object is a **variable**.\n",
    "\n",
    "`getattr(object, attribute_name)` -> return value of the attribute of that object\n",
    "\n",
    "`setattr(object, attribute_name, value)` -> set the value for the attribute of that object "
   ]
  },
  {
   "cell_type": "code",
   "execution_count": 34,
   "id": "b2f21b75-218f-4e89-adce-f6039e197f27",
   "metadata": {},
   "outputs": [],
   "source": [
    "class Student:\n",
    "    def __init__(self, st_name):\n",
    "        self.st_name = st_name"
   ]
  },
  {
   "cell_type": "code",
   "execution_count": 37,
   "id": "87f25ac0-df8a-4802-99a7-282bd08aad3f",
   "metadata": {},
   "outputs": [
    {
     "name": "stdout",
     "output_type": "stream",
     "text": [
      "Print st_name attribute before changing:\n",
      "Ali\n",
      "Print st_name attribute after changing:\n",
      "Khosro\n",
      "Check the __dict__ for ensurence:\n",
      "{'st_name': 'Khosro'}\n"
     ]
    }
   ],
   "source": [
    "s = Student('Ali')\n",
    "print(\"Print st_name attribute before changing:\")\n",
    "print(s.st_name)\n",
    "attr_name = 'st_name'\n",
    "setattr(s, attr_name, 'Khosro')\n",
    "print(\"Print st_name attribute after changing:\")\n",
    "print(getattr(s, attr_name))\n",
    "print(\"Check the __dict__ for ensurence:\")\n",
    "print(s.__dict__)"
   ]
  }
 ],
 "metadata": {
  "kernelspec": {
   "display_name": "Python 3 (ipykernel)",
   "language": "python",
   "name": "python3"
  },
  "language_info": {
   "codemirror_mode": {
    "name": "ipython",
    "version": 3
   },
   "file_extension": ".py",
   "mimetype": "text/x-python",
   "name": "python",
   "nbconvert_exporter": "python",
   "pygments_lexer": "ipython3",
   "version": "3.9.16"
  }
 },
 "nbformat": 4,
 "nbformat_minor": 5
}
