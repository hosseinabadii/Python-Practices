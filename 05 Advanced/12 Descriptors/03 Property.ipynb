{
 "cells": [
  {
   "cell_type": "markdown",
   "id": "a1e97211-286b-41ff-98cd-7081b8bf1c14",
   "metadata": {},
   "source": [
    "## `property()`"
   ]
  },
  {
   "cell_type": "markdown",
   "id": "1431c926-54e5-4115-89a4-177f2b4bea55",
   "metadata": {},
   "source": [
    "`properties` allow you to create methods that behave like attributes.\n",
    "\n",
    "If you ever need to change the underlying implementation, then you can turn the attribute into a property at any time without much pain."
   ]
  },
  {
   "cell_type": "code",
   "execution_count": null,
   "id": "50df7a06-098b-41ce-88f8-c8fdcd70b192",
   "metadata": {},
   "outputs": [],
   "source": [
    "property(fget=None, fset=None, fdel=None, doc=None)"
   ]
  },
  {
   "cell_type": "markdown",
   "id": "e97f741c-03ba-450b-a9ad-90be32781d9d",
   "metadata": {},
   "source": [
    "<div class=\"alert alert-success\" role=\"alert\">\n",
    "    Properties are <strong>class attributes</strong> that manage <strong>instance attributes</strong>.\n",
    "</div>"
   ]
  },
  {
   "attachments": {},
   "cell_type": "markdown",
   "id": "8c47632c-e4a8-4ea9-be63-2378f987b27c",
   "metadata": {},
   "source": [
    "Here’s a recap of some important points to remember when you’re creating properties with the decorator approach:\n",
    "\n",
    "- The `@property` decorator must decorate the **getter method**.\n",
    "- The docstring must go in the **getter method**.\n",
    "- The **setter and deleter** methods must be decorated with the name of the getter method plus `.setter` and `.deleter`, respectively."
   ]
  },
  {
   "cell_type": "markdown",
   "id": "8679e471-806b-4284-8598-6a0fdae1eb4a",
   "metadata": {},
   "source": [
    "---"
   ]
  },
  {
   "cell_type": "markdown",
   "id": "c464e274-27fd-4ce9-833a-f139ac583704",
   "metadata": {},
   "source": [
    "## `property()` as a function"
   ]
  },
  {
   "cell_type": "code",
   "execution_count": 2,
   "id": "f2d579a9-54d4-4fc1-bdde-2b347b8195fc",
   "metadata": {},
   "outputs": [],
   "source": [
    "class Car:\n",
    "    def __init__(self, speed):\n",
    "        self.speed = speed\n",
    "        \n",
    "    def get_speed(self):\n",
    "        print('Calling get...')\n",
    "        return self._speed\n",
    "    \n",
    "    def set_speed(self, value):\n",
    "        print('Calling set...')\n",
    "        if value < 0:\n",
    "            raise ValueError('speed must be greater than 0')\n",
    "        self._speed = value\n",
    "        \n",
    "    def del_speed(self):\n",
    "        del self._speed\n",
    "        \n",
    "    speed = property(get_speed, set_speed, del_speed)\n",
    "        "
   ]
  },
  {
   "cell_type": "code",
   "execution_count": 3,
   "id": "1ece38a3-84a0-450b-a6e7-ec913afacd04",
   "metadata": {},
   "outputs": [
    {
     "name": "stdout",
     "output_type": "stream",
     "text": [
      "Creating an object:\n",
      "\n",
      "Get the value of c.speed:\n",
      "Calling get...\n",
      "10\n",
      "\n",
      "Get the value of c._speed:\n",
      "10\n",
      "\n",
      "Is _speed an instance attibute: True\n",
      "Is _speed an class attibute   : False\n",
      "\n",
      "Is  speed an instance attibute: False\n",
      "Is  speed an class attibute   : True\n"
     ]
    }
   ],
   "source": [
    "print(\"Creating an object:\")\n",
    "c = Car(10)\n",
    "print(\"\\nGet the value of c.speed:\")\n",
    "print(c.speed)\n",
    "print(\"\\nGet the value of c._speed:\")\n",
    "print(c._speed)\n",
    "print(\"\\nIs _speed an instance attibute:\", \"_speed\" in c.__dict__)\n",
    "print(\"Is _speed an class attibute   :\", \"_speed\" in Car.__dict__)\n",
    "print(\"\\nIs  speed an instance attibute:\", \"speed\" in c.__dict__)\n",
    "print(\"Is  speed an class attibute   :\", \"speed\" in Car.__dict__)"
   ]
  },
  {
   "cell_type": "markdown",
   "id": "94354019-d6c5-4ea6-8c4b-11daecd1d995",
   "metadata": {},
   "source": [
    "---"
   ]
  },
  {
   "cell_type": "markdown",
   "id": "368a072c-8334-492d-8fcb-cee60ff328db",
   "metadata": {},
   "source": [
    "## `property()` as a decorator"
   ]
  },
  {
   "cell_type": "code",
   "execution_count": 5,
   "id": "7cf76dab-026d-4528-a419-ffe011f81174",
   "metadata": {},
   "outputs": [],
   "source": [
    "class Car:\n",
    "    def __init__(self, speed):\n",
    "        self.speed = speed\n",
    "    \n",
    "    @property\n",
    "    def speed(self):\n",
    "        print('Calling get...')\n",
    "        return self._speed\n",
    "    \n",
    "    @speed.setter\n",
    "    def speed(self, value):\n",
    "        print('Calling set...')\n",
    "        if value < 0:\n",
    "            raise ValueError('speed must be greater than 0')\n",
    "        self._speed = value\n",
    "        \n",
    "    @speed.deleter\n",
    "    def speed(self):\n",
    "        print('Calling del...')\n",
    "        del self._speed"
   ]
  },
  {
   "cell_type": "code",
   "execution_count": 8,
   "id": "fb4a529e-74fc-4da2-9e96-7f7d6672cd0e",
   "metadata": {},
   "outputs": [
    {
     "name": "stdout",
     "output_type": "stream",
     "text": [
      "Creating an object:\n",
      "Calling set...\n",
      "\n",
      "Get the value of c.speed:\n",
      "Calling get...\n",
      "10\n",
      "\n",
      "Get the value of c._speed:\n",
      "10\n",
      "\n",
      "Is _speed an instance attibute: True\n",
      "Is _speed an class attibute   : False\n",
      "\n",
      "Is  speed an instance attibute: False\n",
      "Is  speed an class attibute   : True\n"
     ]
    }
   ],
   "source": [
    "print(\"Creating an object:\")\n",
    "c = Car(10)\n",
    "print(\"\\nGet the value of c.speed:\")\n",
    "print(c.speed)\n",
    "print(\"\\nGet the value of c._speed:\")\n",
    "print(c._speed)\n",
    "print(\"\\nIs _speed an instance attibute:\", \"_speed\" in c.__dict__)\n",
    "print(\"Is _speed an class attibute   :\", \"_speed\" in Car.__dict__)\n",
    "print(\"\\nIs  speed an instance attibute:\", \"speed\" in c.__dict__)\n",
    "print(\"Is  speed an class attibute   :\", \"speed\" in Car.__dict__)"
   ]
  },
  {
   "cell_type": "markdown",
   "id": "507f6f3a-2873-4749-a77a-0e42d102e42e",
   "metadata": {},
   "source": [
    "---"
   ]
  },
  {
   "cell_type": "markdown",
   "id": "badee07c-e5b5-41c4-81ba-f98096ed161c",
   "metadata": {},
   "source": [
    "## Read-Only Attributes"
   ]
  },
  {
   "cell_type": "code",
   "execution_count": 10,
   "id": "012fa72b-b0b1-44e6-8e92-74fc3a612722",
   "metadata": {},
   "outputs": [],
   "source": [
    "class WriteSpeedError(Exception):\n",
    "    pass\n",
    "\n",
    "class Car:\n",
    "    def __init__(self, speed):\n",
    "        print('Calling init...')\n",
    "        self._speed = speed     # Because speed is raise error when setting value, we use _speed here.\n",
    "    \n",
    "    @property\n",
    "    def speed(self):\n",
    "        print('Calling get...')\n",
    "        return self._speed\n",
    "    \n",
    "    @speed.setter\n",
    "    def speed(self, value):\n",
    "        print('Calling set...')\n",
    "        raise WriteSpeedError('speed attribute is read-only')"
   ]
  },
  {
   "cell_type": "code",
   "execution_count": 12,
   "id": "448a9cd1-ed31-4396-82fe-3933902807fc",
   "metadata": {},
   "outputs": [
    {
     "name": "stdout",
     "output_type": "stream",
     "text": [
      "Creating an object:\n",
      "Calling init...\n",
      "\n",
      "Get the value of c.speed:\n",
      "Calling get...\n",
      "50\n",
      "\n",
      "Set the value of c.speed:\n",
      "Calling set...\n"
     ]
    },
    {
     "ename": "WriteSpeedError",
     "evalue": "speed attribute is read-only",
     "output_type": "error",
     "traceback": [
      "\u001b[0;31m---------------------------------------------------------------------------\u001b[0m",
      "\u001b[0;31mWriteSpeedError\u001b[0m                           Traceback (most recent call last)",
      "Cell \u001b[0;32mIn[12], line 6\u001b[0m\n\u001b[1;32m      4\u001b[0m \u001b[39mprint\u001b[39m(c\u001b[39m.\u001b[39mspeed)\n\u001b[1;32m      5\u001b[0m \u001b[39mprint\u001b[39m(\u001b[39m\"\u001b[39m\u001b[39m\\n\u001b[39;00m\u001b[39mSet the value of c.speed:\u001b[39m\u001b[39m\"\u001b[39m)\n\u001b[0;32m----> 6\u001b[0m c\u001b[39m.\u001b[39mspeed \u001b[39m=\u001b[39m \u001b[39m100\u001b[39m\n",
      "Cell \u001b[0;32mIn[10], line 17\u001b[0m, in \u001b[0;36mCar.speed\u001b[0;34m(self, value)\u001b[0m\n\u001b[1;32m     14\u001b[0m \u001b[39m@speed\u001b[39m\u001b[39m.\u001b[39msetter\n\u001b[1;32m     15\u001b[0m \u001b[39mdef\u001b[39;00m \u001b[39mspeed\u001b[39m(\u001b[39mself\u001b[39m, value):\n\u001b[1;32m     16\u001b[0m     \u001b[39mprint\u001b[39m(\u001b[39m'\u001b[39m\u001b[39mCalling set...\u001b[39m\u001b[39m'\u001b[39m)\n\u001b[0;32m---> 17\u001b[0m     \u001b[39mraise\u001b[39;00m WriteSpeedError(\u001b[39m'\u001b[39m\u001b[39mspeed attribute is read-only\u001b[39m\u001b[39m'\u001b[39m)\n",
      "\u001b[0;31mWriteSpeedError\u001b[0m: speed attribute is read-only"
     ]
    }
   ],
   "source": [
    "print(\"Creating an object:\")\n",
    "c = Car(50)\n",
    "print(\"\\nGet the value of c.speed:\")\n",
    "print(c.speed)\n",
    "print(\"\\nSet the value of c.speed:\")\n",
    "c.speed = 100"
   ]
  },
  {
   "cell_type": "markdown",
   "id": "50bf1e19-9b13-40be-a099-84cdeb4f7634",
   "metadata": {},
   "source": [
    "---"
   ]
  },
  {
   "cell_type": "markdown",
   "id": "f2aab84b-dc35-4135-b7fe-014d3a2a5bcf",
   "metadata": {},
   "source": [
    "## Write-Only Attributes"
   ]
  },
  {
   "cell_type": "code",
   "execution_count": 21,
   "id": "a6d1dc7d-2e77-48eb-a13f-d8324c4777eb",
   "metadata": {},
   "outputs": [],
   "source": [
    "import hashlib\n",
    "import os\n",
    "\n",
    "class User:\n",
    "    def __init__(self, username, password):\n",
    "        self.username = username\n",
    "        self.password = password\n",
    "\n",
    "    @property\n",
    "    def password(self):\n",
    "        raise AttributeError(\"Password is write-only\")\n",
    "\n",
    "    @password.setter\n",
    "    def password(self, plaintext):\n",
    "        salt = os.urandom(32)\n",
    "        self._hashed_password = hashlib.pbkdf2_hmac(\n",
    "            \"sha256\", plaintext.encode(\"utf-8\"), salt, 100_000\n",
    "        )"
   ]
  },
  {
   "cell_type": "code",
   "execution_count": 23,
   "id": "3b08beba-1bbb-4b59-8209-8628a4fe8d7a",
   "metadata": {},
   "outputs": [
    {
     "name": "stdout",
     "output_type": "stream",
     "text": [
      "khosro\n"
     ]
    },
    {
     "ename": "AttributeError",
     "evalue": "Password is write-only",
     "output_type": "error",
     "traceback": [
      "\u001b[0;31m---------------------------------------------------------------------------\u001b[0m",
      "\u001b[0;31mAttributeError\u001b[0m                            Traceback (most recent call last)",
      "Cell \u001b[0;32mIn[23], line 3\u001b[0m\n\u001b[1;32m      1\u001b[0m user \u001b[39m=\u001b[39m User(\u001b[39m'\u001b[39m\u001b[39mkhosro\u001b[39m\u001b[39m'\u001b[39m, \u001b[39m'\u001b[39m\u001b[39m123456\u001b[39m\u001b[39m'\u001b[39m)\n\u001b[1;32m      2\u001b[0m \u001b[39mprint\u001b[39m(user\u001b[39m.\u001b[39musername)\n\u001b[0;32m----> 3\u001b[0m \u001b[39mprint\u001b[39m(user\u001b[39m.\u001b[39;49mpassword)\n",
      "Cell \u001b[0;32mIn[21], line 11\u001b[0m, in \u001b[0;36mUser.password\u001b[0;34m(self)\u001b[0m\n\u001b[1;32m      9\u001b[0m \u001b[39m@property\u001b[39m\n\u001b[1;32m     10\u001b[0m \u001b[39mdef\u001b[39;00m \u001b[39mpassword\u001b[39m(\u001b[39mself\u001b[39m):\n\u001b[0;32m---> 11\u001b[0m     \u001b[39mraise\u001b[39;00m \u001b[39mAttributeError\u001b[39;00m(\u001b[39m\"\u001b[39m\u001b[39mPassword is write-only\u001b[39m\u001b[39m\"\u001b[39m)\n",
      "\u001b[0;31mAttributeError\u001b[0m: Password is write-only"
     ]
    }
   ],
   "source": [
    "user = User('khosro', '123456')\n",
    "print(user.username)\n",
    "print(user.password)"
   ]
  },
  {
   "cell_type": "code",
   "execution_count": 24,
   "id": "ddf84371-f495-4150-9d01-b7a0ebb9184b",
   "metadata": {},
   "outputs": [],
   "source": [
    "pass1 = user._hashed_password"
   ]
  },
  {
   "cell_type": "code",
   "execution_count": 25,
   "id": "6101ada8-7519-430f-8ebc-c8b218c9b145",
   "metadata": {},
   "outputs": [
    {
     "data": {
      "text/plain": [
       "False"
      ]
     },
     "execution_count": 25,
     "metadata": {},
     "output_type": "execute_result"
    }
   ],
   "source": [
    "user.password = 'salam'\n",
    "pass1 == user._hashed_password"
   ]
  },
  {
   "cell_type": "markdown",
   "id": "57db5c62-a6ca-417a-853b-a14ddf207847",
   "metadata": {},
   "source": [
    "---"
   ]
  },
  {
   "attachments": {},
   "cell_type": "markdown",
   "id": "e3b1f704-9633-43f9-9c95-7e468091ee33",
   "metadata": {},
   "source": [
    "## Dynamic vs Static Attribute"
   ]
  },
  {
   "cell_type": "markdown",
   "id": "1f1faad2-6e7b-4f49-a5ac-2d3358230c59",
   "metadata": {},
   "source": [
    "### Static attribute"
   ]
  },
  {
   "cell_type": "code",
   "execution_count": 26,
   "id": "b1287265-0e94-421d-a625-35db09c61f72",
   "metadata": {},
   "outputs": [
    {
     "name": "stdout",
     "output_type": "stream",
     "text": [
      "r = 10, d = 20\n",
      "r = 50, d = 20\n"
     ]
    }
   ],
   "source": [
    "class Circle1:\n",
    "    def __init__(self, r):\n",
    "        self.r = r\n",
    "        self.d = r * 2\n",
    "#---------------------\n",
    "c1 = Circle1(10)\n",
    "print(f'r = {c1.r}, d = {c1.d}')\n",
    "c1.r = 50\n",
    "print(f'r = {c1.r}, d = {c1.d}')"
   ]
  },
  {
   "cell_type": "markdown",
   "id": "78cf5e7b-666c-4697-bb6c-1d1e5af278be",
   "metadata": {},
   "source": [
    "### Dynamic attribute"
   ]
  },
  {
   "cell_type": "code",
   "execution_count": 28,
   "id": "0aea7566-15b9-45fc-b47b-3881001a29d0",
   "metadata": {},
   "outputs": [
    {
     "name": "stdout",
     "output_type": "stream",
     "text": [
      "r = 10, d = 20\n",
      "r = 50, d = 100\n"
     ]
    },
    {
     "ename": "AttributeError",
     "evalue": "can't set attribute",
     "output_type": "error",
     "traceback": [
      "\u001b[0;31m---------------------------------------------------------------------------\u001b[0m",
      "\u001b[0;31mAttributeError\u001b[0m                            Traceback (most recent call last)",
      "Cell \u001b[0;32mIn[28], line 13\u001b[0m\n\u001b[1;32m     11\u001b[0m c2\u001b[39m.\u001b[39mr \u001b[39m=\u001b[39m \u001b[39m50\u001b[39m\n\u001b[1;32m     12\u001b[0m \u001b[39mprint\u001b[39m(\u001b[39mf\u001b[39m\u001b[39m'\u001b[39m\u001b[39mr = \u001b[39m\u001b[39m{\u001b[39;00mc2\u001b[39m.\u001b[39mr\u001b[39m}\u001b[39;00m\u001b[39m, d = \u001b[39m\u001b[39m{\u001b[39;00mc2\u001b[39m.\u001b[39md\u001b[39m}\u001b[39;00m\u001b[39m'\u001b[39m)\n\u001b[0;32m---> 13\u001b[0m c2\u001b[39m.\u001b[39md \u001b[39m=\u001b[39m \u001b[39m80\u001b[39m\n",
      "\u001b[0;31mAttributeError\u001b[0m: can't set attribute"
     ]
    }
   ],
   "source": [
    "class Circle2:\n",
    "    def __init__(self, r):\n",
    "        self.r = r\n",
    "        \n",
    "    @property\n",
    "    def d(self):\n",
    "        return self.r * 2\n",
    "#---------------------\n",
    "c2 = Circle2(10)\n",
    "print(f'r = {c2.r}, d = {c2.d}')\n",
    "c2.r = 50\n",
    "print(f'r = {c2.r}, d = {c2.d}')\n",
    "c2.d = 80"
   ]
  },
  {
   "cell_type": "markdown",
   "id": "5763983f-5642-4534-a663-6db1615f22df",
   "metadata": {},
   "source": [
    "---"
   ]
  },
  {
   "cell_type": "markdown",
   "id": "6184380e-15ff-4fc5-8a99-0e3e06f4f5b3",
   "metadata": {},
   "source": [
    "## Providing Computed Attributes (Cache)"
   ]
  },
  {
   "cell_type": "code",
   "execution_count": 10,
   "id": "46d0cc17-342a-4265-8d35-2e3e0b94b691",
   "metadata": {},
   "outputs": [
    {
     "name": "stdout",
     "output_type": "stream",
     "text": [
      "300\n",
      "300\n"
     ]
    }
   ],
   "source": [
    "class Rectangle: # Don't update area\n",
    "    def __init__(self, width, length):\n",
    "        self.width = width\n",
    "        self.length = length\n",
    "        self.area = self.width * self.length\n",
    "#---------------------------------------\n",
    "r = Rectangle(10, 30)\n",
    "print(r.area)\n",
    "r.width = 45\n",
    "print(r.area)    "
   ]
  },
  {
   "cell_type": "code",
   "execution_count": 31,
   "id": "a9390af9-7f5d-4ad9-bcd6-f51f826944f5",
   "metadata": {},
   "outputs": [
    {
     "name": "stdout",
     "output_type": "stream",
     "text": [
      "300\n",
      "300\n",
      "300\n",
      "1200\n",
      "1200\n",
      "1200\n",
      "32000\n",
      "32000\n",
      "32000\n"
     ]
    }
   ],
   "source": [
    "# Update area when width and length attribute changes.\n",
    "\n",
    "from time import sleep\n",
    "class Rectangle3:\n",
    "    def __init__(self, width, length):\n",
    "        self.width = width\n",
    "        self.length = length\n",
    "    \n",
    "    @property\n",
    "    def width(self):\n",
    "        return self._width\n",
    "    \n",
    "    @width.setter\n",
    "    def width(self, value):\n",
    "        self._area = None\n",
    "        self._width = value\n",
    "\n",
    "    @property\n",
    "    def length(self):\n",
    "        return self._length\n",
    "    \n",
    "    @length.setter\n",
    "    def length(self, value):\n",
    "        self._area = None\n",
    "        self._length = value\n",
    "        \n",
    "    @property\n",
    "    def area(self):\n",
    "        if self._area is None:\n",
    "            sleep(1)\n",
    "            self._area = self.width * self.length\n",
    "        return self._area\n",
    "#---------------------------------------\n",
    "r3 = Rectangle3(10, 30)\n",
    "print(r3.area)\n",
    "print(r3.area)\n",
    "print(r3.area)\n",
    "r3.width = 40\n",
    "print(r3.area)\n",
    "print(r3.area)   \n",
    "print(r3.area)   \n",
    "r3.length = 800\n",
    "print(r3.area)\n",
    "print(r3.area)   \n",
    "print(r3.area)  "
   ]
  },
  {
   "cell_type": "markdown",
   "id": "1ee2574e-914e-4acc-b092-4e736cbd6e57",
   "metadata": {},
   "source": [
    "---"
   ]
  },
  {
   "cell_type": "markdown",
   "id": "d8aadfd7-8ad1-478c-902b-7855b3e4cdeb",
   "metadata": {
    "tags": []
   },
   "source": [
    "## Property and Inheritance"
   ]
  },
  {
   "cell_type": "markdown",
   "id": "4dbfa074-5388-4a35-9940-dfdc40fd4b66",
   "metadata": {},
   "source": [
    "The idea is that if you ever need to override a property in a subclass, then you should provide all the functionality you need in the new version of the property at hand."
   ]
  },
  {
   "cell_type": "code",
   "execution_count": 40,
   "id": "54953282-f773-47fc-893d-53d636c1df44",
   "metadata": {},
   "outputs": [],
   "source": [
    "class Person:\n",
    "    def __init__(self, name):\n",
    "        self._name = name\n",
    "\n",
    "    @property\n",
    "    def name(self):\n",
    "        return self._name\n",
    "\n",
    "    @name.setter\n",
    "    def name(self, value):\n",
    "        self._name = value\n",
    "#-----------------------------------\n",
    "class Employee(Person):\n",
    "    pass\n",
    "    @property\n",
    "    def name(self):\n",
    "        return super().name.upper()\n",
    "    \n",
    "    ## Notice that you must write setter if you need,\n",
    "    ## Because you have lost the functionality of setter."
   ]
  },
  {
   "cell_type": "code",
   "execution_count": 45,
   "id": "910b40c1-a8a6-40af-a383-2e14c97883b9",
   "metadata": {},
   "outputs": [
    {
     "name": "stdout",
     "output_type": "stream",
     "text": [
      "John\n",
      "John Doe\n",
      "JOHN\n"
     ]
    },
    {
     "ename": "AttributeError",
     "evalue": "can't set attribute",
     "output_type": "error",
     "traceback": [
      "\u001b[0;31m---------------------------------------------------------------------------\u001b[0m",
      "\u001b[0;31mAttributeError\u001b[0m                            Traceback (most recent call last)",
      "Cell \u001b[0;32mIn[45], line 7\u001b[0m\n\u001b[1;32m      5\u001b[0m employee \u001b[39m=\u001b[39m Employee(\u001b[39m\"\u001b[39m\u001b[39mJohn\u001b[39m\u001b[39m\"\u001b[39m)\n\u001b[1;32m      6\u001b[0m \u001b[39mprint\u001b[39m(employee\u001b[39m.\u001b[39mname)\n\u001b[0;32m----> 7\u001b[0m employee\u001b[39m.\u001b[39mname \u001b[39m=\u001b[39m \u001b[39m\"\u001b[39m\u001b[39mnew name\u001b[39m\u001b[39m\"\u001b[39m\n",
      "\u001b[0;31mAttributeError\u001b[0m: can't set attribute"
     ]
    }
   ],
   "source": [
    "person = Person(\"John\")\n",
    "print(person.name)\n",
    "person.name = \"John Doe\"\n",
    "print(person.name)\n",
    "employee = Employee(\"John\")\n",
    "print(employee.name)\n",
    "employee.name = \"new name\""
   ]
  }
 ],
 "metadata": {
  "kernelspec": {
   "display_name": "Python 3 (ipykernel)",
   "language": "python",
   "name": "python3"
  },
  "language_info": {
   "codemirror_mode": {
    "name": "ipython",
    "version": 3
   },
   "file_extension": ".py",
   "mimetype": "text/x-python",
   "name": "python",
   "nbconvert_exporter": "python",
   "pygments_lexer": "ipython3",
   "version": "3.9.16"
  }
 },
 "nbformat": 4,
 "nbformat_minor": 5
}
