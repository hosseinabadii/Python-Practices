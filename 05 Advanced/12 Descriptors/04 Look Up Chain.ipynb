{
 "cells": [
  {
   "cell_type": "markdown",
   "id": "05ad3cd3-9bbd-421a-af9c-ab62cf5059ba",
   "metadata": {},
   "source": [
    "# Look Up Chain"
   ]
  },
  {
   "cell_type": "markdown",
   "id": "eb8cbda7-5151-4787-9316-7b575ed26372",
   "metadata": {},
   "source": [
    "1. `__get__`  of **data descriptor**\n",
    "\n",
    "2. `__dict__` of object\n",
    "\n",
    "3. `__get__`  of **non-data descriptor**\n",
    "\n",
    "4. `__dict__` of object type (Class)\n",
    "\n",
    "5. `__dict__` of object parent type (Parent Class)\n",
    "\n",
    "6. If that fails, then the previous step is repeated for all the parent’s types in the method resolution order of your object.\n",
    "\n",
    "7. If everything else has failed `AttributeError` exception."
   ]
  }
 ],
 "metadata": {
  "kernelspec": {
   "display_name": "Python 3 (ipykernel)",
   "language": "python",
   "name": "python3"
  },
  "language_info": {
   "codemirror_mode": {
    "name": "ipython",
    "version": 3
   },
   "file_extension": ".py",
   "mimetype": "text/x-python",
   "name": "python",
   "nbconvert_exporter": "python",
   "pygments_lexer": "ipython3",
   "version": "3.9.7"
  }
 },
 "nbformat": 4,
 "nbformat_minor": 5
}
